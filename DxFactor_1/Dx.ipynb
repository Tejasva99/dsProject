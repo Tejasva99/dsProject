{
 "cells": [
  {
   "cell_type": "code",
   "execution_count": 88,
   "metadata": {
    "pycharm": {
     "name": "#%%\n"
    }
   },
   "outputs": [],
   "source": [
    "import numpy as np\n",
    "import pandas as pd\n",
    "import matplotlib.pyplot as plt\n",
    "import seaborn as sns"
   ]
  },
  {
   "cell_type": "code",
   "execution_count": 89,
   "metadata": {
    "pycharm": {
     "name": "#%%\n"
    }
   },
   "outputs": [
    {
     "data": {
      "text/plain": "      A   B     C       D     E     F     G    H           I    J      K  L\n0  13.0  14  14.0   15.00  29.0 -89.0  85.0  NaN           1   10  20.00  0\n1  14.0  19  14.0   11.00  53.0   9.0  93.0  NaN           9  NaN  17.00  1\n2  14.0  10  13.0  103.33   9.0   9.0  74.0  NaN     Current   PA  38.00  0\n3  59.0  12  59.0   13.33  12.0   9.0  25.0   80  30 Days PD   46  28.05  0\n4  59.0  17  59.0     NaN   9.0   9.0  67.0  NaN           0  NaN  30.00  0",
      "text/html": "<div>\n<style scoped>\n    .dataframe tbody tr th:only-of-type {\n        vertical-align: middle;\n    }\n\n    .dataframe tbody tr th {\n        vertical-align: top;\n    }\n\n    .dataframe thead th {\n        text-align: right;\n    }\n</style>\n<table border=\"1\" class=\"dataframe\">\n  <thead>\n    <tr style=\"text-align: right;\">\n      <th></th>\n      <th>A</th>\n      <th>B</th>\n      <th>C</th>\n      <th>D</th>\n      <th>E</th>\n      <th>F</th>\n      <th>G</th>\n      <th>H</th>\n      <th>I</th>\n      <th>J</th>\n      <th>K</th>\n      <th>L</th>\n    </tr>\n  </thead>\n  <tbody>\n    <tr>\n      <th>0</th>\n      <td>13.0</td>\n      <td>14</td>\n      <td>14.0</td>\n      <td>15.00</td>\n      <td>29.0</td>\n      <td>-89.0</td>\n      <td>85.0</td>\n      <td>NaN</td>\n      <td>1</td>\n      <td>10</td>\n      <td>20.00</td>\n      <td>0</td>\n    </tr>\n    <tr>\n      <th>1</th>\n      <td>14.0</td>\n      <td>19</td>\n      <td>14.0</td>\n      <td>11.00</td>\n      <td>53.0</td>\n      <td>9.0</td>\n      <td>93.0</td>\n      <td>NaN</td>\n      <td>9</td>\n      <td>NaN</td>\n      <td>17.00</td>\n      <td>1</td>\n    </tr>\n    <tr>\n      <th>2</th>\n      <td>14.0</td>\n      <td>10</td>\n      <td>13.0</td>\n      <td>103.33</td>\n      <td>9.0</td>\n      <td>9.0</td>\n      <td>74.0</td>\n      <td>NaN</td>\n      <td>Current</td>\n      <td>PA</td>\n      <td>38.00</td>\n      <td>0</td>\n    </tr>\n    <tr>\n      <th>3</th>\n      <td>59.0</td>\n      <td>12</td>\n      <td>59.0</td>\n      <td>13.33</td>\n      <td>12.0</td>\n      <td>9.0</td>\n      <td>25.0</td>\n      <td>80</td>\n      <td>30 Days PD</td>\n      <td>46</td>\n      <td>28.05</td>\n      <td>0</td>\n    </tr>\n    <tr>\n      <th>4</th>\n      <td>59.0</td>\n      <td>17</td>\n      <td>59.0</td>\n      <td>NaN</td>\n      <td>9.0</td>\n      <td>9.0</td>\n      <td>67.0</td>\n      <td>NaN</td>\n      <td>0</td>\n      <td>NaN</td>\n      <td>30.00</td>\n      <td>0</td>\n    </tr>\n  </tbody>\n</table>\n</div>"
     },
     "execution_count": 89,
     "metadata": {},
     "output_type": "execute_result"
    }
   ],
   "source": [
    "data = pd.read_csv('Bank_data.csv')\n",
    "data.head()"
   ]
  },
  {
   "cell_type": "code",
   "execution_count": 90,
   "metadata": {
    "pycharm": {
     "name": "#%%\n"
    }
   },
   "outputs": [
    {
     "data": {
      "text/plain": "(2500, 12)"
     },
     "execution_count": 90,
     "metadata": {},
     "output_type": "execute_result"
    }
   ],
   "source": [
    "data.shape"
   ]
  },
  {
   "cell_type": "code",
   "execution_count": 91,
   "metadata": {
    "pycharm": {
     "name": "#%%\n"
    }
   },
   "outputs": [],
   "source": [
    "data = data.drop('H', axis = 1)\n",
    "data = data.drop('I', axis = 1)\n",
    "data = data.drop('J', axis = 1)"
   ]
  },
  {
   "cell_type": "code",
   "execution_count": 92,
   "metadata": {
    "pycharm": {
     "name": "#%%\n"
    }
   },
   "outputs": [
    {
     "name": "stdout",
     "output_type": "stream",
     "text": [
      "<class 'pandas.core.frame.DataFrame'>\n",
      "RangeIndex: 2500 entries, 0 to 2499\n",
      "Data columns (total 9 columns):\n",
      " #   Column  Non-Null Count  Dtype  \n",
      "---  ------  --------------  -----  \n",
      " 0   A       2496 non-null   float64\n",
      " 1   B       2500 non-null   int64  \n",
      " 2   C       2496 non-null   float64\n",
      " 3   D       2386 non-null   float64\n",
      " 4   E       2289 non-null   float64\n",
      " 5   F       2497 non-null   float64\n",
      " 6   G       2497 non-null   float64\n",
      " 7   K       2498 non-null   float64\n",
      " 8   L       2500 non-null   int64  \n",
      "dtypes: float64(7), int64(2)\n",
      "memory usage: 175.9 KB\n"
     ]
    }
   ],
   "source": [
    "data.info()"
   ]
  },
  {
   "cell_type": "code",
   "execution_count": 93,
   "metadata": {
    "pycharm": {
     "name": "#%%\n"
    }
   },
   "outputs": [
    {
     "data": {
      "text/plain": "    count       mean        std   min    25%   50%   75%     max\nA  2496.0  27.227564  20.143978   9.0  14.00  14.0  59.0   59.00\nB  2500.0  14.315200   2.651539  10.0  13.00  14.0  16.0   19.00\nC  2496.0  26.760016  20.203804   9.0  14.00  14.0  59.0   59.00\nD  2386.0  38.678005  32.459272   9.0  16.67  31.0  48.0  486.00\nE  2289.0  46.589777  38.866938   9.0   9.00  35.0  85.0  109.00\nF  2497.0   7.629555  35.660011 -90.0   9.00   9.0   9.0  109.00\nG  2497.0  49.672807  27.786025   9.0  25.00  48.0  72.0  109.00\nK  2498.0  23.531165   7.867665  13.1  17.00  20.0  30.0   86.12\nL  2500.0   0.171600   0.377108   0.0   0.00   0.0   0.0    1.00",
      "text/html": "<div>\n<style scoped>\n    .dataframe tbody tr th:only-of-type {\n        vertical-align: middle;\n    }\n\n    .dataframe tbody tr th {\n        vertical-align: top;\n    }\n\n    .dataframe thead th {\n        text-align: right;\n    }\n</style>\n<table border=\"1\" class=\"dataframe\">\n  <thead>\n    <tr style=\"text-align: right;\">\n      <th></th>\n      <th>count</th>\n      <th>mean</th>\n      <th>std</th>\n      <th>min</th>\n      <th>25%</th>\n      <th>50%</th>\n      <th>75%</th>\n      <th>max</th>\n    </tr>\n  </thead>\n  <tbody>\n    <tr>\n      <th>A</th>\n      <td>2496.0</td>\n      <td>27.227564</td>\n      <td>20.143978</td>\n      <td>9.0</td>\n      <td>14.00</td>\n      <td>14.0</td>\n      <td>59.0</td>\n      <td>59.00</td>\n    </tr>\n    <tr>\n      <th>B</th>\n      <td>2500.0</td>\n      <td>14.315200</td>\n      <td>2.651539</td>\n      <td>10.0</td>\n      <td>13.00</td>\n      <td>14.0</td>\n      <td>16.0</td>\n      <td>19.00</td>\n    </tr>\n    <tr>\n      <th>C</th>\n      <td>2496.0</td>\n      <td>26.760016</td>\n      <td>20.203804</td>\n      <td>9.0</td>\n      <td>14.00</td>\n      <td>14.0</td>\n      <td>59.0</td>\n      <td>59.00</td>\n    </tr>\n    <tr>\n      <th>D</th>\n      <td>2386.0</td>\n      <td>38.678005</td>\n      <td>32.459272</td>\n      <td>9.0</td>\n      <td>16.67</td>\n      <td>31.0</td>\n      <td>48.0</td>\n      <td>486.00</td>\n    </tr>\n    <tr>\n      <th>E</th>\n      <td>2289.0</td>\n      <td>46.589777</td>\n      <td>38.866938</td>\n      <td>9.0</td>\n      <td>9.00</td>\n      <td>35.0</td>\n      <td>85.0</td>\n      <td>109.00</td>\n    </tr>\n    <tr>\n      <th>F</th>\n      <td>2497.0</td>\n      <td>7.629555</td>\n      <td>35.660011</td>\n      <td>-90.0</td>\n      <td>9.00</td>\n      <td>9.0</td>\n      <td>9.0</td>\n      <td>109.00</td>\n    </tr>\n    <tr>\n      <th>G</th>\n      <td>2497.0</td>\n      <td>49.672807</td>\n      <td>27.786025</td>\n      <td>9.0</td>\n      <td>25.00</td>\n      <td>48.0</td>\n      <td>72.0</td>\n      <td>109.00</td>\n    </tr>\n    <tr>\n      <th>K</th>\n      <td>2498.0</td>\n      <td>23.531165</td>\n      <td>7.867665</td>\n      <td>13.1</td>\n      <td>17.00</td>\n      <td>20.0</td>\n      <td>30.0</td>\n      <td>86.12</td>\n    </tr>\n    <tr>\n      <th>L</th>\n      <td>2500.0</td>\n      <td>0.171600</td>\n      <td>0.377108</td>\n      <td>0.0</td>\n      <td>0.00</td>\n      <td>0.0</td>\n      <td>0.0</td>\n      <td>1.00</td>\n    </tr>\n  </tbody>\n</table>\n</div>"
     },
     "execution_count": 93,
     "metadata": {},
     "output_type": "execute_result"
    }
   ],
   "source": [
    "data.describe().T"
   ]
  },
  {
   "cell_type": "code",
   "execution_count": 94,
   "metadata": {
    "pycharm": {
     "name": "#%%\n"
    }
   },
   "outputs": [
    {
     "name": "stdout",
     "output_type": "stream",
     "text": [
      "A      4\n",
      "B      0\n",
      "C      4\n",
      "D    114\n",
      "E    211\n",
      "F      3\n",
      "G      3\n",
      "K      2\n",
      "L      0\n",
      "dtype: int64\n"
     ]
    }
   ],
   "source": [
    "print(data.isnull().sum())"
   ]
  },
  {
   "cell_type": "code",
   "execution_count": 95,
   "metadata": {
    "pycharm": {
     "name": "#%%\n"
    }
   },
   "outputs": [
    {
     "data": {
      "text/plain": "<Figure size 1080x504 with 1 Axes>",
      "image/png": "[encoded data removed]"
     },
     "metadata": {},
     "output_type": "display_data"
    }
   ],
   "source": [
    "plt.figure(figsize=(15,7))\n",
    "chart=sns.boxplot(data=data)\n",
    "chart.set_xticklabels(chart.get_xticklabels(),rotation=35)\n",
    "plt.title(\"Info\")\n",
    "plt.ylabel(\"Values\",size=30)\n",
    "plt.xlabel(\"Columns\",size=20);"
   ]
  },
  {
   "cell_type": "code",
   "execution_count": 96,
   "metadata": {
    "pycharm": {
     "name": "#%%\n"
    }
   },
   "outputs": [],
   "source": [
    "import numpy as np\n",
    "outliers = []\n",
    "def detect_outliers_zscore(data):\n",
    "    thres = 3\n",
    "    mean = np.mean(data)\n",
    "    std = np.std(data)\n",
    "    # print(mean, std)\n",
    "    for i in data:\n",
    "        z_score = (i-mean)/std\n",
    "        if (np.abs(z_score) > thres):\n",
    "            outliers.append(i)\n",
    "    return outliers# Driver code\n",
    "sample_outliers_D = detect_outliers_zscore(data[\"D\"])\n",
    "sample_outliers_F = detect_outliers_zscore(data[\"F\"])\n",
    "sample_outliers_K = detect_outliers_zscore(data[\"K\"])"
   ]
  },
  {
   "cell_type": "code",
   "execution_count": 97,
   "metadata": {
    "pycharm": {
     "name": "#%%\n"
    }
   },
   "outputs": [],
   "source": [
    "median = np.median(data[\"D\"])\n",
    "for i in sample_outliers_D:\n",
    "    data[\"D\"] = np.where(data[\"D\"]==i, median, data[\"D\"])\n",
    "\n",
    "median = np.median(data[\"F\"])\n",
    "for i in sample_outliers_F:\n",
    "    data[\"F\"] = np.where(data[\"F\"]==i, median, data[\"F\"])\n",
    "\n",
    "median = np.median(data[\"K\"])\n",
    "for i in sample_outliers_K:\n",
    "    data[\"K\"] = np.where(data[\"K\"]==i, median, data[\"K\"])"
   ]
  },
  {
   "cell_type": "code",
   "execution_count": 98,
   "metadata": {
    "pycharm": {
     "name": "#%%\n"
    }
   },
   "outputs": [
    {
     "data": {
      "text/plain": "<Figure size 1080x504 with 1 Axes>",
      "image/png": "[encoded data removed]"
     },
     "metadata": {},
     "output_type": "display_data"
    }
   ],
   "source": [
    "plt.figure(figsize=(15,7))\n",
    "chart=sns.boxplot(data=data)\n",
    "chart.set_xticklabels(chart.get_xticklabels(),rotation=35)\n",
    "plt.title(\"Info\")\n",
    "plt.ylabel(\"Values\",size=30)\n",
    "plt.xlabel(\"Columns\",size=20);"
   ]
  },
  {
   "cell_type": "code",
   "execution_count": 99,
   "metadata": {
    "pycharm": {
     "name": "#%%\n"
    }
   },
   "outputs": [
    {
     "name": "stdout",
     "output_type": "stream",
     "text": [
      "A      4\n",
      "B      0\n",
      "C      4\n",
      "D    155\n",
      "E    211\n",
      "F      3\n",
      "G      3\n",
      "K      9\n",
      "L      0\n",
      "dtype: int64\n"
     ]
    }
   ],
   "source": [
    "print(data.isnull().sum())"
   ]
  },
  {
   "cell_type": "markdown",
   "metadata": {
    "pycharm": {
     "name": "#%% md\n"
    }
   },
   "source": [
    "Filling Null Values\n"
   ]
  },
  {
   "cell_type": "code",
   "execution_count": 126,
   "metadata": {
    "pycharm": {
     "name": "#%%\n"
    }
   },
   "outputs": [],
   "source": [
    "data[\"A\"].fillna(data[\"A\"].mode(),inplace=True)\n",
    "data[\"C\"].fillna(data[\"C\"].mode(),inplace=True)\n",
    "data[\"D\"].fillna(data[\"D\"].mode(),inplace=True)\n",
    "data[\"E\"].fillna(data[\"E\"].mode(),inplace=True)\n",
    "data[\"F\"].fillna(data[\"F\"].mode(),inplace=True)\n",
    "data[\"G\"].fillna(data[\"G\"].mode(),inplace=True)\n",
    "data[\"K\"].fillna(data[\"K\"].mode(),inplace=True)"
   ]
  },
  {
   "cell_type": "code",
   "execution_count": 127,
   "metadata": {
    "pycharm": {
     "name": "#%%\n"
    }
   },
   "outputs": [
    {
     "name": "stdout",
     "output_type": "stream",
     "text": [
      "A    0\n",
      "B    0\n",
      "C    0\n",
      "D    0\n",
      "E    0\n",
      "F    0\n",
      "G    0\n",
      "K    0\n",
      "L    0\n",
      "dtype: int64\n"
     ]
    }
   ],
   "source": [
    "print(data.isnull().sum())"
   ]
  },
  {
   "cell_type": "code",
   "execution_count": 128,
   "metadata": {
    "pycharm": {
     "name": "#%%\n"
    }
   },
   "outputs": [
    {
     "data": {
      "text/plain": "<Figure size 1080x504 with 2 Axes>",
      "image/png": "[encoded data removed]"
     },
     "metadata": {},
     "output_type": "display_data"
    }
   ],
   "source": [
    "plt.figure(figsize=(15, 7))\n",
    "sns.heatmap(data.corr(), annot=True, cmap=\"Wistia\")\n",
    "plt.title(\"Data Correlation\", size=15)\n",
    "plt.show()"
   ]
  },
  {
   "cell_type": "markdown",
   "metadata": {
    "pycharm": {
     "name": "#%% md\n"
    }
   },
   "source": [
    "C & A shows 94% Correlation"
   ]
  },
  {
   "cell_type": "code",
   "execution_count": 129,
   "metadata": {
    "pycharm": {
     "name": "#%%\n"
    }
   },
   "outputs": [
    {
     "name": "stderr",
     "output_type": "stream",
     "text": [
      "C:\\Users\\tenu0.LABRINTH\\anaconda3\\lib\\site-packages\\seaborn\\distributions.py:2619: FutureWarning: `distplot` is a deprecated function and will be removed in a future version. Please adapt your code to use either `displot` (a figure-level function with similar flexibility) or `histplot` (an axes-level function for histograms).\n",
      "  warnings.warn(msg, FutureWarning)\n"
     ]
    },
    {
     "data": {
      "text/plain": "<AxesSubplot:xlabel='L', ylabel='Density'>"
     },
     "execution_count": 129,
     "metadata": {},
     "output_type": "execute_result"
    },
    {
     "data": {
      "text/plain": "<Figure size 432x288 with 1 Axes>",
      "image/png": "[encoded data removed]"
     },
     "metadata": {},
     "output_type": "display_data"
    }
   ],
   "source": [
    "sns.distplot(data['L'])"
   ]
  },
  {
   "cell_type": "markdown",
   "metadata": {
    "pycharm": {
     "name": "#%% md\n"
    }
   },
   "source": [
    "Pre-Processing"
   ]
  },
  {
   "cell_type": "code",
   "execution_count": 130,
   "metadata": {
    "pycharm": {
     "name": "#%%\n"
    }
   },
   "outputs": [],
   "source": [
    "from sklearn.preprocessing import StandardScaler\n",
    "from sklearn.model_selection import train_test_split\n",
    "scalar = StandardScaler()"
   ]
  },
  {
   "cell_type": "code",
   "execution_count": 131,
   "metadata": {
    "pycharm": {
     "name": "#%%\n"
    }
   },
   "outputs": [],
   "source": [
    "X=data.iloc[:,:-1]\n",
    "y=data.iloc[:,-1]"
   ]
  },
  {
   "cell_type": "code",
   "execution_count": 132,
   "outputs": [],
   "source": [
    "data[\"D\"]=round(data[\"D\"],1)\n",
    "data[\"E\"]=round(data[\"E\"],1)\n",
    "data[\"K\"]=round(data[\"K\"],1)"
   ],
   "metadata": {
    "collapsed": false,
    "pycharm": {
     "name": "#%%\n"
    }
   }
  },
  {
   "cell_type": "code",
   "execution_count": 132,
   "outputs": [],
   "source": [],
   "metadata": {
    "collapsed": false,
    "pycharm": {
     "name": "#%%\n"
    }
   }
  },
  {
   "cell_type": "code",
   "execution_count": 133,
   "metadata": {
    "pycharm": {
     "name": "#%%\n"
    }
   },
   "outputs": [],
   "source": [
    "X = scalar.fit_transform(X)"
   ]
  },
  {
   "cell_type": "code",
   "execution_count": 134,
   "metadata": {
    "pycharm": {
     "name": "#%%\n"
    }
   },
   "outputs": [],
   "source": [
    "X_train, X_test, y_train, y_test = train_test_split(X, y, test_size = 0.33, random_state=42)"
   ]
  },
  {
   "cell_type": "markdown",
   "source": [
    "Model"
   ],
   "metadata": {
    "collapsed": false,
    "pycharm": {
     "name": "#%% md\n"
    }
   }
  },
  {
   "cell_type": "code",
   "execution_count": 135,
   "outputs": [],
   "source": [
    "from sklearn.linear_model import LogisticRegression\n",
    "lr =  LogisticRegression()\n",
    "lr.fit(X_train, y_train)\n",
    "y_pred = lr.predict(X_test)"
   ],
   "metadata": {
    "collapsed": false,
    "pycharm": {
     "name": "#%%\n"
    }
   }
  },
  {
   "cell_type": "code",
   "execution_count": 136,
   "outputs": [
    {
     "name": "stdout",
     "output_type": "stream",
     "text": [
      "              precision    recall  f1-score   support\n",
      "\n",
      "           0       0.83      1.00      0.91       682\n",
      "           1       0.00      0.00      0.00       143\n",
      "\n",
      "    accuracy                           0.83       825\n",
      "   macro avg       0.41      0.50      0.45       825\n",
      "weighted avg       0.68      0.83      0.75       825\n",
      "\n"
     ]
    },
    {
     "name": "stderr",
     "output_type": "stream",
     "text": [
      "C:\\Users\\tenu0.LABRINTH\\anaconda3\\lib\\site-packages\\sklearn\\metrics\\_classification.py:1327: UndefinedMetricWarning: Precision and F-score are ill-defined and being set to 0.0 in labels with no predicted samples. Use `zero_division` parameter to control this behavior.\n",
      "  _warn_prf(average, modifier, msg_start, len(result))\n",
      "C:\\Users\\tenu0.LABRINTH\\anaconda3\\lib\\site-packages\\sklearn\\metrics\\_classification.py:1327: UndefinedMetricWarning: Precision and F-score are ill-defined and being set to 0.0 in labels with no predicted samples. Use `zero_division` parameter to control this behavior.\n",
      "  _warn_prf(average, modifier, msg_start, len(result))\n",
      "C:\\Users\\tenu0.LABRINTH\\anaconda3\\lib\\site-packages\\sklearn\\metrics\\_classification.py:1327: UndefinedMetricWarning: Precision and F-score are ill-defined and being set to 0.0 in labels with no predicted samples. Use `zero_division` parameter to control this behavior.\n",
      "  _warn_prf(average, modifier, msg_start, len(result))\n"
     ]
    }
   ],
   "source": [
    "from sklearn.metrics import classification_report,confusion_matrix\n",
    "print(classification_report(y_test,y_pred))"
   ],
   "metadata": {
    "collapsed": false,
    "pycharm": {
     "name": "#%%\n"
    }
   }
  },
  {
   "cell_type": "code",
   "execution_count": 186,
   "outputs": [
    {
     "data": {
      "text/plain": "array([[-0.72282061,  0.02999654, -0.21703904,  0.04907017, -0.0125698 ,\n         0.10166673,  0.19757975, -0.13007736]])"
     },
     "execution_count": 186,
     "metadata": {},
     "output_type": "execute_result"
    }
   ],
   "source": [
    "lr.coef_"
   ],
   "metadata": {
    "collapsed": false,
    "pycharm": {
     "name": "#%%\n"
    }
   }
  },
  {
   "cell_type": "code",
   "execution_count": 137,
   "outputs": [
    {
     "data": {
      "text/plain": "array([[682,   0],\n       [143,   0]], dtype=int64)"
     },
     "execution_count": 137,
     "metadata": {},
     "output_type": "execute_result"
    }
   ],
   "source": [
    "confusion_matrix(y_test,y_pred)"
   ],
   "metadata": {
    "collapsed": false,
    "pycharm": {
     "name": "#%%\n"
    }
   }
  },
  {
   "cell_type": "code",
   "execution_count": 138,
   "outputs": [
    {
     "data": {
      "text/plain": "Text(0.5, 1.0, 'Confusion matrix')"
     },
     "execution_count": 138,
     "metadata": {},
     "output_type": "execute_result"
    },
    {
     "data": {
      "text/plain": "<Figure size 432x288 with 2 Axes>",
      "image/png": "[encoded data removed]"
     },
     "metadata": {},
     "output_type": "display_data"
    }
   ],
   "source": [
    "conf=confusion_matrix(y_test,y_pred)\n",
    "conf=sns.heatmap(conf,annot=True,fmt='.4g')\n",
    "conf.set_xlabel(\"Predicted values\")\n",
    "conf.set_ylabel(\"Actual values\")\n",
    "conf.set_title(\"Confusion matrix\")"
   ],
   "metadata": {
    "collapsed": false,
    "pycharm": {
     "name": "#%%\n"
    }
   }
  },
  {
   "cell_type": "code",
   "execution_count": 158,
   "outputs": [],
   "source": [
    "from sklearn.svm import SVC\n",
    "from sklearn.ensemble import RandomForestClassifier\n",
    "from xgboost import XGBClassifier\n",
    "from sklearn.tree import DecisionTreeClassifier"
   ],
   "metadata": {
    "collapsed": false,
    "pycharm": {
     "name": "#%%\n"
    }
   }
  },
  {
   "cell_type": "code",
   "execution_count": 159,
   "outputs": [],
   "source": [
    "from sklearn.model_selection import KFold\n",
    "kf = KFold(n_splits=3)"
   ],
   "metadata": {
    "collapsed": false,
    "pycharm": {
     "name": "#%%\n"
    }
   }
  },
  {
   "cell_type": "code",
   "execution_count": 160,
   "outputs": [],
   "source": [
    "def get_score(model, X_train, X_test, y_train, y_test):\n",
    "    model.fit(X_train, y_train)\n",
    "    return model.score(X_test, y_test)"
   ],
   "metadata": {
    "collapsed": false,
    "pycharm": {
     "name": "#%%\n"
    }
   }
  },
  {
   "cell_type": "code",
   "execution_count": 161,
   "outputs": [],
   "source": [
    "scores_log = []\n",
    "scores_svm = []\n",
    "scores_rf = []\n",
    "scores_xgb = []\n",
    "scores_dec = []"
   ],
   "metadata": {
    "collapsed": false,
    "pycharm": {
     "name": "#%%\n"
    }
   }
  },
  {
   "cell_type": "code",
   "execution_count": 162,
   "outputs": [],
   "source": [
    "for train_index, test_index in kf.split(X, y):\n",
    "    X_train, X_test, y_train, y_test = X[train_index], X[test_index], y[train_index], y[test_index]\n",
    "    scores_log.append(get_score(LogisticRegression(),X_train, X_test, y_train, y_test ))\n",
    "    scores_svm.append(get_score(SVC(),X_train, X_test, y_train, y_test ))\n",
    "    scores_rf.append(get_score(RandomForestClassifier(),X_train, X_test, y_train, y_test ))\n",
    "    scores_xgb.append(get_score(XGBClassifier(),X_train, X_test, y_train, y_test ))\n",
    "    scores_dec.append(get_score(DecisionTreeClassifier(),X_train, X_test, y_train, y_test ))"
   ],
   "metadata": {
    "collapsed": false,
    "pycharm": {
     "name": "#%%\n"
    }
   }
  },
  {
   "cell_type": "code",
   "execution_count": 163,
   "outputs": [
    {
     "name": "stdout",
     "output_type": "stream",
     "text": [
      "Logistic Regression Scores:\n",
      " [0.8333333333333334, 0.8427370948379351, 0.8091236494597839]\n",
      "SVM Scores:\n",
      " [0.8333333333333334, 0.8427370948379351, 0.8091236494597839]\n",
      "Random Forest Scores:\n",
      " [0.8177458033573142, 0.82953181272509, 0.8055222088835534]\n",
      "XG Boost Scores:\n",
      " [0.7913669064748201, 0.82953181272509, 0.7827130852340937]\n",
      "Decision tree Scores:\n",
      " [0.7182254196642686, 0.7478991596638656, 0.7334933973589436]\n"
     ]
    }
   ],
   "source": [
    "print(\"Logistic Regression Scores:\\n\", scores_log)\n",
    "print(\"SVM Scores:\\n\", scores_svm)\n",
    "print(\"Random Forest Scores:\\n\", scores_rf)\n",
    "print(\"XG Boost Scores:\\n\", scores_xgb)\n",
    "print(\"Decision tree Scores:\\n\", scores_dec)"
   ],
   "metadata": {
    "collapsed": false,
    "pycharm": {
     "name": "#%%\n"
    }
   }
  },
  {
   "cell_type": "code",
   "execution_count": 176,
   "outputs": [],
   "source": [
    "from sklearn.model_selection import GridSearchCV"
   ],
   "metadata": {
    "collapsed": false,
    "pycharm": {
     "name": "#%%\n"
    }
   }
  },
  {
   "cell_type": "code",
   "execution_count": 177,
   "outputs": [],
   "source": [
    "from sklearn import decomposition,datasets\n",
    "from sklearn.pipeline import Pipeline\n",
    "\n",
    "pca = decomposition.PCA()\n",
    "logistic_Reg = LogisticRegression()"
   ],
   "metadata": {
    "collapsed": false,
    "pycharm": {
     "name": "#%%\n"
    }
   }
  },
  {
   "cell_type": "code",
   "execution_count": 178,
   "outputs": [],
   "source": [
    "\n",
    "\n",
    "pipe = Pipeline(steps=[('pca', pca),\n",
    "                       ('logistic_Reg', logistic_Reg)])"
   ],
   "metadata": {
    "collapsed": false,
    "pycharm": {
     "name": "#%%\n"
    }
   }
  },
  {
   "cell_type": "code",
   "execution_count": 179,
   "outputs": [],
   "source": [
    "n_components = list(range(1,X.shape[1]+1,1))"
   ],
   "metadata": {
    "collapsed": false,
    "pycharm": {
     "name": "#%%\n"
    }
   }
  },
  {
   "cell_type": "code",
   "execution_count": 180,
   "outputs": [],
   "source": [
    "C = np.logspace(-4, 4, 50)\n",
    "penalty = ['l1', 'l2']"
   ],
   "metadata": {
    "collapsed": false,
    "pycharm": {
     "name": "#%%\n"
    }
   }
  },
  {
   "cell_type": "code",
   "execution_count": 181,
   "outputs": [],
   "source": [
    "parameters = dict(pca__n_components=n_components,\n",
    "                  logistic_Reg__C=C,\n",
    "                  logistic_Reg__penalty=penalty)"
   ],
   "metadata": {
    "collapsed": false,
    "pycharm": {
     "name": "#%%\n"
    }
   }
  },
  {
   "cell_type": "code",
   "execution_count": 185,
   "outputs": [
    {
     "name": "stderr",
     "output_type": "stream",
     "text": [
      "C:\\Users\\tenu0.LABRINTH\\anaconda3\\lib\\site-packages\\sklearn\\model_selection\\_validation.py:378: FitFailedWarning: \n",
      "2000 fits failed out of a total of 4000.\n",
      "The score on these train-test partitions for these parameters will be set to nan.\n",
      "If these failures are not expected, you can try to debug them by setting error_score='raise'.\n",
      "\n",
      "Below are more details about the failures:\n",
      "--------------------------------------------------------------------------------\n",
      "2000 fits failed with the following error:\n",
      "Traceback (most recent call last):\n",
      "  File \"C:\\Users\\tenu0.LABRINTH\\anaconda3\\lib\\site-packages\\sklearn\\model_selection\\_validation.py\", line 686, in _fit_and_score\n",
      "    estimator.fit(X_train, y_train, **fit_params)\n",
      "  File \"C:\\Users\\tenu0.LABRINTH\\anaconda3\\lib\\site-packages\\sklearn\\pipeline.py\", line 382, in fit\n",
      "    self._final_estimator.fit(Xt, y, **fit_params_last_step)\n",
      "  File \"C:\\Users\\tenu0.LABRINTH\\anaconda3\\lib\\site-packages\\sklearn\\linear_model\\_logistic.py\", line 1091, in fit\n",
      "    solver = _check_solver(self.solver, self.penalty, self.dual)\n",
      "  File \"C:\\Users\\tenu0.LABRINTH\\anaconda3\\lib\\site-packages\\sklearn\\linear_model\\_logistic.py\", line 61, in _check_solver\n",
      "    raise ValueError(\n",
      "ValueError: Solver lbfgs supports only 'l2' or 'none' penalties, got l1 penalty.\n",
      "\n",
      "  warnings.warn(some_fits_failed_message, FitFailedWarning)\n",
      "C:\\Users\\tenu0.LABRINTH\\anaconda3\\lib\\site-packages\\sklearn\\model_selection\\_search.py:953: UserWarning: One or more of the test scores are non-finite: [   nan    nan    nan    nan    nan    nan    nan    nan 0.8284 0.8284\n",
      " 0.8284 0.8284 0.8284 0.8284 0.8284 0.8284    nan    nan    nan    nan\n",
      "    nan    nan    nan    nan 0.8284 0.8284 0.8284 0.8284 0.8284 0.8284\n",
      " 0.8284 0.8284    nan    nan    nan    nan    nan    nan    nan    nan\n",
      " 0.8284 0.8284 0.8284 0.8284 0.8284 0.8284 0.8284 0.8284    nan    nan\n",
      "    nan    nan    nan    nan    nan    nan 0.8284 0.8284 0.8284 0.8284\n",
      " 0.8284 0.8284 0.8284 0.8284    nan    nan    nan    nan    nan    nan\n",
      "    nan    nan 0.8284 0.8284 0.8284 0.8284 0.8284 0.8284 0.8284 0.8284\n",
      "    nan    nan    nan    nan    nan    nan    nan    nan 0.8284 0.8284\n",
      " 0.8284 0.8284 0.8284 0.8284 0.8284 0.8284    nan    nan    nan    nan\n",
      "    nan    nan    nan    nan 0.8284 0.8284 0.8284 0.8284 0.8284 0.8284\n",
      " 0.8284 0.8284    nan    nan    nan    nan    nan    nan    nan    nan\n",
      " 0.8284 0.8284 0.8284 0.8284 0.8284 0.8284 0.8284 0.8284    nan    nan\n",
      "    nan    nan    nan    nan    nan    nan 0.8284 0.8284 0.8284 0.8284\n",
      " 0.8284 0.8284 0.8284 0.8284    nan    nan    nan    nan    nan    nan\n",
      "    nan    nan 0.8284 0.8284 0.8284 0.8284 0.8284 0.8284 0.8284 0.8284\n",
      "    nan    nan    nan    nan    nan    nan    nan    nan 0.8284 0.8284\n",
      " 0.8284 0.8284 0.8284 0.8284 0.8284 0.8284    nan    nan    nan    nan\n",
      "    nan    nan    nan    nan 0.8284 0.8284 0.8284 0.8284 0.8284 0.8284\n",
      " 0.8284 0.8284    nan    nan    nan    nan    nan    nan    nan    nan\n",
      " 0.8284 0.8284 0.8284 0.8284 0.8284 0.8284 0.8284 0.8284    nan    nan\n",
      "    nan    nan    nan    nan    nan    nan 0.8284 0.8284 0.8284 0.8284\n",
      " 0.8284 0.8284 0.8284 0.8284    nan    nan    nan    nan    nan    nan\n",
      "    nan    nan 0.8284 0.8284 0.8284 0.8284 0.8284 0.8284 0.8284 0.8284\n",
      "    nan    nan    nan    nan    nan    nan    nan    nan 0.8284 0.8284\n",
      " 0.8284 0.8284 0.8284 0.8284 0.8284 0.8284    nan    nan    nan    nan\n",
      "    nan    nan    nan    nan 0.8284 0.8284 0.8284 0.8284 0.8284 0.8284\n",
      " 0.8284 0.8284    nan    nan    nan    nan    nan    nan    nan    nan\n",
      " 0.8284 0.8284 0.8284 0.8284 0.8284 0.8284 0.8284 0.8284    nan    nan\n",
      "    nan    nan    nan    nan    nan    nan 0.8284 0.8284 0.8284 0.8284\n",
      " 0.8284 0.8284 0.8284 0.8284    nan    nan    nan    nan    nan    nan\n",
      "    nan    nan 0.8284 0.8284 0.8284 0.8284 0.8284 0.8284 0.8284 0.8284\n",
      "    nan    nan    nan    nan    nan    nan    nan    nan 0.8284 0.8284\n",
      " 0.8284 0.8284 0.8284 0.8284 0.8284 0.8284    nan    nan    nan    nan\n",
      "    nan    nan    nan    nan 0.8284 0.8284 0.8284 0.8284 0.8284 0.8284\n",
      " 0.8284 0.8284    nan    nan    nan    nan    nan    nan    nan    nan\n",
      " 0.8284 0.8284 0.8284 0.8284 0.8284 0.8284 0.8284 0.8284    nan    nan\n",
      "    nan    nan    nan    nan    nan    nan 0.8284 0.8284 0.8284 0.8284\n",
      " 0.8284 0.8284 0.8284 0.8284    nan    nan    nan    nan    nan    nan\n",
      "    nan    nan 0.8284 0.8284 0.8284 0.8284 0.8284 0.8284 0.8284 0.8284\n",
      "    nan    nan    nan    nan    nan    nan    nan    nan 0.8284 0.8284\n",
      " 0.8284 0.8284 0.8284 0.8284 0.8284 0.8284    nan    nan    nan    nan\n",
      "    nan    nan    nan    nan 0.8284 0.8284 0.8284 0.8284 0.8284 0.8284\n",
      " 0.8284 0.8284    nan    nan    nan    nan    nan    nan    nan    nan\n",
      " 0.8284 0.8284 0.8284 0.8284 0.8284 0.8284 0.8284 0.8284    nan    nan\n",
      "    nan    nan    nan    nan    nan    nan 0.8284 0.8284 0.8284 0.8284\n",
      " 0.8284 0.8284 0.8284 0.8284    nan    nan    nan    nan    nan    nan\n",
      "    nan    nan 0.8284 0.8284 0.8284 0.8284 0.8284 0.8284 0.8284 0.8284\n",
      "    nan    nan    nan    nan    nan    nan    nan    nan 0.8284 0.8284\n",
      " 0.8284 0.8284 0.8284 0.8284 0.8284 0.8284    nan    nan    nan    nan\n",
      "    nan    nan    nan    nan 0.8284 0.8284 0.8284 0.8284 0.8284 0.8284\n",
      " 0.8284 0.8284    nan    nan    nan    nan    nan    nan    nan    nan\n",
      " 0.8284 0.8284 0.8284 0.8284 0.8284 0.8284 0.8284 0.8284    nan    nan\n",
      "    nan    nan    nan    nan    nan    nan 0.8284 0.8284 0.8284 0.8284\n",
      " 0.8284 0.8284 0.8284 0.8284    nan    nan    nan    nan    nan    nan\n",
      "    nan    nan 0.8284 0.8284 0.8284 0.8284 0.8284 0.8284 0.8284 0.8284\n",
      "    nan    nan    nan    nan    nan    nan    nan    nan 0.8284 0.8284\n",
      " 0.8284 0.8284 0.8284 0.8284 0.8284 0.8284    nan    nan    nan    nan\n",
      "    nan    nan    nan    nan 0.8284 0.8284 0.8284 0.8284 0.8284 0.8284\n",
      " 0.8284 0.8284    nan    nan    nan    nan    nan    nan    nan    nan\n",
      " 0.8284 0.8284 0.8284 0.8284 0.8284 0.8284 0.8284 0.8284    nan    nan\n",
      "    nan    nan    nan    nan    nan    nan 0.8284 0.8284 0.8284 0.8284\n",
      " 0.8284 0.8284 0.8284 0.8284    nan    nan    nan    nan    nan    nan\n",
      "    nan    nan 0.8284 0.8284 0.8284 0.8284 0.8284 0.8284 0.8284 0.8284\n",
      "    nan    nan    nan    nan    nan    nan    nan    nan 0.8284 0.8284\n",
      " 0.8284 0.8284 0.8284 0.8284 0.8284 0.8284    nan    nan    nan    nan\n",
      "    nan    nan    nan    nan 0.8284 0.8284 0.8284 0.8284 0.8284 0.8284\n",
      " 0.8284 0.8284    nan    nan    nan    nan    nan    nan    nan    nan\n",
      " 0.8284 0.8284 0.8284 0.8284 0.8284 0.8284 0.8284 0.8284    nan    nan\n",
      "    nan    nan    nan    nan    nan    nan 0.8284 0.8284 0.8284 0.8284\n",
      " 0.8284 0.8284 0.8284 0.8284    nan    nan    nan    nan    nan    nan\n",
      "    nan    nan 0.8284 0.8284 0.8284 0.8284 0.8284 0.8284 0.8284 0.8284\n",
      "    nan    nan    nan    nan    nan    nan    nan    nan 0.8284 0.8284\n",
      " 0.8284 0.8284 0.8284 0.8284 0.8284 0.8284    nan    nan    nan    nan\n",
      "    nan    nan    nan    nan 0.8284 0.8284 0.8284 0.8284 0.8284 0.8284\n",
      " 0.8284 0.8284    nan    nan    nan    nan    nan    nan    nan    nan\n",
      " 0.8284 0.8284 0.8284 0.8284 0.8284 0.8284 0.8284 0.8284    nan    nan\n",
      "    nan    nan    nan    nan    nan    nan 0.8284 0.8284 0.8284 0.8284\n",
      " 0.8284 0.8284 0.8284 0.8284    nan    nan    nan    nan    nan    nan\n",
      "    nan    nan 0.8284 0.8284 0.8284 0.8284 0.8284 0.8284 0.8284 0.8284]\n",
      "  warnings.warn(\n"
     ]
    },
    {
     "ename": "AttributeError",
     "evalue": "'GridSearchCV' object has no attribute 'coef_'",
     "output_type": "error",
     "traceback": [
      "\u001B[1;31m---------------------------------------------------------------------------\u001B[0m",
      "\u001B[1;31mAttributeError\u001B[0m                            Traceback (most recent call last)",
      "Input \u001B[1;32mIn [185]\u001B[0m, in \u001B[0;36m<cell line: 3>\u001B[1;34m()\u001B[0m\n\u001B[0;32m      1\u001B[0m clf_GS \u001B[38;5;241m=\u001B[39m GridSearchCV(pipe, parameters)\n\u001B[0;32m      2\u001B[0m clf_GS\u001B[38;5;241m.\u001B[39mfit(X, y)\n\u001B[1;32m----> 3\u001B[0m \u001B[43mclf_GS\u001B[49m\u001B[38;5;241;43m.\u001B[39;49m\u001B[43mcoef_\u001B[49m\n",
      "\u001B[1;31mAttributeError\u001B[0m: 'GridSearchCV' object has no attribute 'coef_'"
     ]
    }
   ],
   "source": [
    "clf_GS = GridSearchCV(pipe, parameters)\n",
    "clf_GS.fit(X, y)"
   ],
   "metadata": {
    "collapsed": false,
    "pycharm": {
     "name": "#%%\n"
    }
   }
  },
  {
   "cell_type": "code",
   "execution_count": 183,
   "outputs": [
    {
     "data": {
      "text/plain": "     mean_fit_time  std_fit_time  mean_score_time  std_score_time  \\\n0         0.020001      0.034964           0.0000        0.000000   \n1         0.002592      0.000498           0.0000        0.000000   \n2         0.002802      0.000981           0.0000        0.000000   \n3         0.003001      0.000002           0.0000        0.000000   \n4         0.002402      0.000490           0.0000        0.000000   \n..             ...           ...              ...             ...   \n795       0.005199      0.000749           0.0006        0.000490   \n796       0.005998      0.001269           0.0002        0.000400   \n797       0.005399      0.000489           0.0004        0.000491   \n798       0.004600      0.001357           0.0008        0.000400   \n799       0.005601      0.001358           0.0006        0.000490   \n\n    param_logistic_Reg__C param_logistic_Reg__penalty param_pca__n_components  \\\n0                  0.0001                          l1                       1   \n1                  0.0001                          l1                       2   \n2                  0.0001                          l1                       3   \n3                  0.0001                          l1                       4   \n4                  0.0001                          l1                       5   \n..                    ...                         ...                     ...   \n795               10000.0                          l2                       4   \n796               10000.0                          l2                       5   \n797               10000.0                          l2                       6   \n798               10000.0                          l2                       7   \n799               10000.0                          l2                       8   \n\n                                                params  split0_test_score  \\\n0    {'logistic_Reg__C': 0.0001, 'logistic_Reg__pen...                NaN   \n1    {'logistic_Reg__C': 0.0001, 'logistic_Reg__pen...                NaN   \n2    {'logistic_Reg__C': 0.0001, 'logistic_Reg__pen...                NaN   \n3    {'logistic_Reg__C': 0.0001, 'logistic_Reg__pen...                NaN   \n4    {'logistic_Reg__C': 0.0001, 'logistic_Reg__pen...                NaN   \n..                                                 ...                ...   \n795  {'logistic_Reg__C': 10000.0, 'logistic_Reg__pe...               0.83   \n796  {'logistic_Reg__C': 10000.0, 'logistic_Reg__pe...               0.83   \n797  {'logistic_Reg__C': 10000.0, 'logistic_Reg__pe...               0.83   \n798  {'logistic_Reg__C': 10000.0, 'logistic_Reg__pe...               0.83   \n799  {'logistic_Reg__C': 10000.0, 'logistic_Reg__pe...               0.83   \n\n     split1_test_score  split2_test_score  split3_test_score  \\\n0                  NaN                NaN                NaN   \n1                  NaN                NaN                NaN   \n2                  NaN                NaN                NaN   \n3                  NaN                NaN                NaN   \n4                  NaN                NaN                NaN   \n..                 ...                ...                ...   \n795              0.828              0.828              0.828   \n796              0.828              0.828              0.828   \n797              0.828              0.828              0.828   \n798              0.828              0.828              0.828   \n799              0.828              0.828              0.828   \n\n     split4_test_score  mean_test_score  std_test_score  rank_test_score  \n0                  NaN              NaN             NaN              800  \n1                  NaN              NaN             NaN              462  \n2                  NaN              NaN             NaN              463  \n3                  NaN              NaN             NaN              464  \n4                  NaN              NaN             NaN              466  \n..                 ...              ...             ...              ...  \n795              0.828           0.8284          0.0008                1  \n796              0.828           0.8284          0.0008                1  \n797              0.828           0.8284          0.0008                1  \n798              0.828           0.8284          0.0008                1  \n799              0.828           0.8284          0.0008                1  \n\n[800 rows x 16 columns]",
      "text/html": "<div>\n<style scoped>\n    .dataframe tbody tr th:only-of-type {\n        vertical-align: middle;\n    }\n\n    .dataframe tbody tr th {\n        vertical-align: top;\n    }\n\n    .dataframe thead th {\n        text-align: right;\n    }\n</style>\n<table border=\"1\" class=\"dataframe\">\n  <thead>\n    <tr style=\"text-align: right;\">\n      <th></th>\n      <th>mean_fit_time</th>\n      <th>std_fit_time</th>\n      <th>mean_score_time</th>\n      <th>std_score_time</th>\n      <th>param_logistic_Reg__C</th>\n      <th>param_logistic_Reg__penalty</th>\n      <th>param_pca__n_components</th>\n      <th>params</th>\n      <th>split0_test_score</th>\n      <th>split1_test_score</th>\n      <th>split2_test_score</th>\n      <th>split3_test_score</th>\n      <th>split4_test_score</th>\n      <th>mean_test_score</th>\n      <th>std_test_score</th>\n      <th>rank_test_score</th>\n    </tr>\n  </thead>\n  <tbody>\n    <tr>\n      <th>0</th>\n      <td>0.020001</td>\n      <td>0.034964</td>\n      <td>0.0000</td>\n      <td>0.000000</td>\n      <td>0.0001</td>\n      <td>l1</td>\n      <td>1</td>\n      <td>{'logistic_Reg__C': 0.0001, 'logistic_Reg__pen...</td>\n      <td>NaN</td>\n      <td>NaN</td>\n      <td>NaN</td>\n      <td>NaN</td>\n      <td>NaN</td>\n      <td>NaN</td>\n      <td>NaN</td>\n      <td>800</td>\n    </tr>\n    <tr>\n      <th>1</th>\n      <td>0.002592</td>\n      <td>0.000498</td>\n      <td>0.0000</td>\n      <td>0.000000</td>\n      <td>0.0001</td>\n      <td>l1</td>\n      <td>2</td>\n      <td>{'logistic_Reg__C': 0.0001, 'logistic_Reg__pen...</td>\n      <td>NaN</td>\n      <td>NaN</td>\n      <td>NaN</td>\n      <td>NaN</td>\n      <td>NaN</td>\n      <td>NaN</td>\n      <td>NaN</td>\n      <td>462</td>\n    </tr>\n    <tr>\n      <th>2</th>\n      <td>0.002802</td>\n      <td>0.000981</td>\n      <td>0.0000</td>\n      <td>0.000000</td>\n      <td>0.0001</td>\n      <td>l1</td>\n      <td>3</td>\n      <td>{'logistic_Reg__C': 0.0001, 'logistic_Reg__pen...</td>\n      <td>NaN</td>\n      <td>NaN</td>\n      <td>NaN</td>\n      <td>NaN</td>\n      <td>NaN</td>\n      <td>NaN</td>\n      <td>NaN</td>\n      <td>463</td>\n    </tr>\n    <tr>\n      <th>3</th>\n      <td>0.003001</td>\n      <td>0.000002</td>\n      <td>0.0000</td>\n      <td>0.000000</td>\n      <td>0.0001</td>\n      <td>l1</td>\n      <td>4</td>\n      <td>{'logistic_Reg__C': 0.0001, 'logistic_Reg__pen...</td>\n      <td>NaN</td>\n      <td>NaN</td>\n      <td>NaN</td>\n      <td>NaN</td>\n      <td>NaN</td>\n      <td>NaN</td>\n      <td>NaN</td>\n      <td>464</td>\n    </tr>\n    <tr>\n      <th>4</th>\n      <td>0.002402</td>\n      <td>0.000490</td>\n      <td>0.0000</td>\n      <td>0.000000</td>\n      <td>0.0001</td>\n      <td>l1</td>\n      <td>5</td>\n      <td>{'logistic_Reg__C': 0.0001, 'logistic_Reg__pen...</td>\n      <td>NaN</td>\n      <td>NaN</td>\n      <td>NaN</td>\n      <td>NaN</td>\n      <td>NaN</td>\n      <td>NaN</td>\n      <td>NaN</td>\n      <td>466</td>\n    </tr>\n    <tr>\n      <th>...</th>\n      <td>...</td>\n      <td>...</td>\n      <td>...</td>\n      <td>...</td>\n      <td>...</td>\n      <td>...</td>\n      <td>...</td>\n      <td>...</td>\n      <td>...</td>\n      <td>...</td>\n      <td>...</td>\n      <td>...</td>\n      <td>...</td>\n      <td>...</td>\n      <td>...</td>\n      <td>...</td>\n    </tr>\n    <tr>\n      <th>795</th>\n      <td>0.005199</td>\n      <td>0.000749</td>\n      <td>0.0006</td>\n      <td>0.000490</td>\n      <td>10000.0</td>\n      <td>l2</td>\n      <td>4</td>\n      <td>{'logistic_Reg__C': 10000.0, 'logistic_Reg__pe...</td>\n      <td>0.83</td>\n      <td>0.828</td>\n      <td>0.828</td>\n      <td>0.828</td>\n      <td>0.828</td>\n      <td>0.8284</td>\n      <td>0.0008</td>\n      <td>1</td>\n    </tr>\n    <tr>\n      <th>796</th>\n      <td>0.005998</td>\n      <td>0.001269</td>\n      <td>0.0002</td>\n      <td>0.000400</td>\n      <td>10000.0</td>\n      <td>l2</td>\n      <td>5</td>\n      <td>{'logistic_Reg__C': 10000.0, 'logistic_Reg__pe...</td>\n      <td>0.83</td>\n      <td>0.828</td>\n      <td>0.828</td>\n      <td>0.828</td>\n      <td>0.828</td>\n      <td>0.8284</td>\n      <td>0.0008</td>\n      <td>1</td>\n    </tr>\n    <tr>\n      <th>797</th>\n      <td>0.005399</td>\n      <td>0.000489</td>\n      <td>0.0004</td>\n      <td>0.000491</td>\n      <td>10000.0</td>\n      <td>l2</td>\n      <td>6</td>\n      <td>{'logistic_Reg__C': 10000.0, 'logistic_Reg__pe...</td>\n      <td>0.83</td>\n      <td>0.828</td>\n      <td>0.828</td>\n      <td>0.828</td>\n      <td>0.828</td>\n      <td>0.8284</td>\n      <td>0.0008</td>\n      <td>1</td>\n    </tr>\n    <tr>\n      <th>798</th>\n      <td>0.004600</td>\n      <td>0.001357</td>\n      <td>0.0008</td>\n      <td>0.000400</td>\n      <td>10000.0</td>\n      <td>l2</td>\n      <td>7</td>\n      <td>{'logistic_Reg__C': 10000.0, 'logistic_Reg__pe...</td>\n      <td>0.83</td>\n      <td>0.828</td>\n      <td>0.828</td>\n      <td>0.828</td>\n      <td>0.828</td>\n      <td>0.8284</td>\n      <td>0.0008</td>\n      <td>1</td>\n    </tr>\n    <tr>\n      <th>799</th>\n      <td>0.005601</td>\n      <td>0.001358</td>\n      <td>0.0006</td>\n      <td>0.000490</td>\n      <td>10000.0</td>\n      <td>l2</td>\n      <td>8</td>\n      <td>{'logistic_Reg__C': 10000.0, 'logistic_Reg__pe...</td>\n      <td>0.83</td>\n      <td>0.828</td>\n      <td>0.828</td>\n      <td>0.828</td>\n      <td>0.828</td>\n      <td>0.8284</td>\n      <td>0.0008</td>\n      <td>1</td>\n    </tr>\n  </tbody>\n</table>\n<p>800 rows × 16 columns</p>\n</div>"
     },
     "execution_count": 183,
     "metadata": {},
     "output_type": "execute_result"
    }
   ],
   "source": [
    "df = pd.DataFrame(clf_GS.cv_results_)\n",
    "df"
   ],
   "metadata": {
    "collapsed": false,
    "pycharm": {
     "name": "#%%\n"
    }
   }
  },
  {
   "cell_type": "code",
   "execution_count": 184,
   "outputs": [
    {
     "data": {
      "text/plain": "0.8283999999999999"
     },
     "execution_count": 184,
     "metadata": {},
     "output_type": "execute_result"
    }
   ],
   "source": [
    "clf_GS.best_score_"
   ],
   "metadata": {
    "collapsed": false,
    "pycharm": {
     "name": "#%%\n"
    }
   }
  }
 ],
 "metadata": {
  "kernelspec": {
   "display_name": "Python 3 (ipykernel)",
   "language": "python",
   "name": "python3"
  },
  "language_info": {
   "codemirror_mode": {
    "name": "ipython",
    "version": 3
   },
   "file_extension": ".py",
   "mimetype": "text/x-python",
   "name": "python",
   "nbconvert_exporter": "python",
   "pygments_lexer": "ipython3",
   "version": "3.9.12"
  }
 },
 "nbformat": 4,
 "nbformat_minor": 1
}