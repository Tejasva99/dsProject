{
 "cells": [
  {
   "cell_type": "code",
   "execution_count": 1,
   "metadata": {
    "pycharm": {
     "name": "#%%\n"
    }
   },
   "outputs": [],
   "source": [
    "import warnings\n",
    "warnings.filterwarnings(\"ignore\")"
   ]
  },
  {
   "cell_type": "code",
   "execution_count": 2,
   "metadata": {
    "pycharm": {
     "name": "#%%\n"
    }
   },
   "outputs": [],
   "source": [
    "import numpy as np\n",
    "import pandas as pd\n",
    "import matplotlib.pyplot as plt\n",
    "import seaborn as sns\n",
    "from tensorflow import keras\n",
    "from keras.callbacks import EarlyStopping"
   ]
  },
  {
   "cell_type": "code",
   "execution_count": 3,
   "metadata": {
    "pycharm": {
     "name": "#%%\n"
    }
   },
   "outputs": [],
   "source": [
    "from sklearn.model_selection import train_test_split\n",
    "from sklearn.compose import ColumnTransformer\n",
    "from sklearn.impute import SimpleImputer\n",
    "from sklearn.pipeline import Pipeline,make_pipeline\n",
    "from sklearn.feature_selection import SelectKBest, chi2\n",
    "from sklearn.tree import DecisionTreeClassifier\n",
    "from scipy.stats import skew"
   ]
  },
  {
   "cell_type": "code",
   "execution_count": 4,
   "metadata": {
    "pycharm": {
     "name": "#%%\n"
    }
   },
   "outputs": [
    {
     "data": {
      "text/html": [
       "<div>\n",
       "<style scoped>\n",
       "    .dataframe tbody tr th:only-of-type {\n",
       "        vertical-align: middle;\n",
       "    }\n",
       "\n",
       "    .dataframe tbody tr th {\n",
       "        vertical-align: top;\n",
       "    }\n",
       "\n",
       "    .dataframe thead th {\n",
       "        text-align: right;\n",
       "    }\n",
       "</style>\n",
       "<table border=\"1\" class=\"dataframe\">\n",
       "  <thead>\n",
       "    <tr style=\"text-align: right;\">\n",
       "      <th></th>\n",
       "      <th>CREDIT_SCORE</th>\n",
       "      <th>FIRST_PAYMENT_DATE</th>\n",
       "      <th>FIRST_TIME_HOMEBUYER_FLAG</th>\n",
       "      <th>MATURITY_DATE</th>\n",
       "      <th>METROPOLITAN_STATISTICAL_AREA</th>\n",
       "      <th>MORTGAGE_INSURANCE_PERCENTAGE</th>\n",
       "      <th>NUMBER_OF_UNITS</th>\n",
       "      <th>OCCUPANCY_STATUS</th>\n",
       "      <th>ORIGINAL_COMBINED_LOAN_TO_VALUE</th>\n",
       "      <th>ORIGINAL_DEBT_TO_INCOME_RATIO</th>\n",
       "      <th>...</th>\n",
       "      <th>PROPERTY_TYPE</th>\n",
       "      <th>POSTAL_CODE</th>\n",
       "      <th>LOAN_SEQUENCE_NUMBER</th>\n",
       "      <th>LOAN_PURPOSE</th>\n",
       "      <th>ORIGINAL_LOAN_TERM</th>\n",
       "      <th>NUMBER_OF_BORROWERS</th>\n",
       "      <th>SELLER_NAME</th>\n",
       "      <th>SERVICER_NAME</th>\n",
       "      <th>PREPAID</th>\n",
       "      <th>DELINQUENT</th>\n",
       "    </tr>\n",
       "  </thead>\n",
       "  <tbody>\n",
       "    <tr>\n",
       "      <th>0</th>\n",
       "      <td>669.0</td>\n",
       "      <td>200206</td>\n",
       "      <td>N</td>\n",
       "      <td>202901</td>\n",
       "      <td>NaN</td>\n",
       "      <td>0.0</td>\n",
       "      <td>1.0</td>\n",
       "      <td>O</td>\n",
       "      <td>80.0</td>\n",
       "      <td>33.0</td>\n",
       "      <td>...</td>\n",
       "      <td>SF</td>\n",
       "      <td>26100.0</td>\n",
       "      <td>F199Q1000004</td>\n",
       "      <td>P</td>\n",
       "      <td>320</td>\n",
       "      <td>2.0</td>\n",
       "      <td>Other sellers</td>\n",
       "      <td>Other servicers</td>\n",
       "      <td>True</td>\n",
       "      <td>False</td>\n",
       "    </tr>\n",
       "    <tr>\n",
       "      <th>1</th>\n",
       "      <td>732.0</td>\n",
       "      <td>199904</td>\n",
       "      <td>N</td>\n",
       "      <td>202903</td>\n",
       "      <td>17140.0</td>\n",
       "      <td>0.0</td>\n",
       "      <td>1.0</td>\n",
       "      <td>O</td>\n",
       "      <td>25.0</td>\n",
       "      <td>10.0</td>\n",
       "      <td>...</td>\n",
       "      <td>SF</td>\n",
       "      <td>45200.0</td>\n",
       "      <td>F199Q1000005</td>\n",
       "      <td>N</td>\n",
       "      <td>360</td>\n",
       "      <td>1.0</td>\n",
       "      <td>Other sellers</td>\n",
       "      <td>Other servicers</td>\n",
       "      <td>True</td>\n",
       "      <td>False</td>\n",
       "    </tr>\n",
       "    <tr>\n",
       "      <th>2</th>\n",
       "      <td>679.0</td>\n",
       "      <td>200208</td>\n",
       "      <td>N</td>\n",
       "      <td>202902</td>\n",
       "      <td>15940.0</td>\n",
       "      <td>30.0</td>\n",
       "      <td>1.0</td>\n",
       "      <td>O</td>\n",
       "      <td>91.0</td>\n",
       "      <td>48.0</td>\n",
       "      <td>...</td>\n",
       "      <td>SF</td>\n",
       "      <td>44700.0</td>\n",
       "      <td>F199Q1000007</td>\n",
       "      <td>P</td>\n",
       "      <td>319</td>\n",
       "      <td>1.0</td>\n",
       "      <td>Other sellers</td>\n",
       "      <td>Other servicers</td>\n",
       "      <td>True</td>\n",
       "      <td>False</td>\n",
       "    </tr>\n",
       "    <tr>\n",
       "      <th>3</th>\n",
       "      <td>721.0</td>\n",
       "      <td>200209</td>\n",
       "      <td>N</td>\n",
       "      <td>202902</td>\n",
       "      <td>38060.0</td>\n",
       "      <td>0.0</td>\n",
       "      <td>1.0</td>\n",
       "      <td>O</td>\n",
       "      <td>39.0</td>\n",
       "      <td>13.0</td>\n",
       "      <td>...</td>\n",
       "      <td>SF</td>\n",
       "      <td>85200.0</td>\n",
       "      <td>F199Q1000013</td>\n",
       "      <td>N</td>\n",
       "      <td>318</td>\n",
       "      <td>2.0</td>\n",
       "      <td>Other sellers</td>\n",
       "      <td>Other servicers</td>\n",
       "      <td>True</td>\n",
       "      <td>False</td>\n",
       "    </tr>\n",
       "    <tr>\n",
       "      <th>4</th>\n",
       "      <td>618.0</td>\n",
       "      <td>200210</td>\n",
       "      <td>N</td>\n",
       "      <td>202902</td>\n",
       "      <td>10420.0</td>\n",
       "      <td>25.0</td>\n",
       "      <td>1.0</td>\n",
       "      <td>O</td>\n",
       "      <td>85.0</td>\n",
       "      <td>24.0</td>\n",
       "      <td>...</td>\n",
       "      <td>SF</td>\n",
       "      <td>44200.0</td>\n",
       "      <td>F199Q1000015</td>\n",
       "      <td>N</td>\n",
       "      <td>317</td>\n",
       "      <td>2.0</td>\n",
       "      <td>Other sellers</td>\n",
       "      <td>Other servicers</td>\n",
       "      <td>True</td>\n",
       "      <td>False</td>\n",
       "    </tr>\n",
       "  </tbody>\n",
       "</table>\n",
       "<p>5 rows × 27 columns</p>\n",
       "</div>"
      ],
      "text/plain": [
       "   CREDIT_SCORE  FIRST_PAYMENT_DATE FIRST_TIME_HOMEBUYER_FLAG  MATURITY_DATE  \\\n",
       "0         669.0              200206                         N         202901   \n",
       "1         732.0              199904                         N         202903   \n",
       "2         679.0              200208                         N         202902   \n",
       "3         721.0              200209                         N         202902   \n",
       "4         618.0              200210                         N         202902   \n",
       "\n",
       "   METROPOLITAN_STATISTICAL_AREA  MORTGAGE_INSURANCE_PERCENTAGE  \\\n",
       "0                            NaN                            0.0   \n",
       "1                        17140.0                            0.0   \n",
       "2                        15940.0                           30.0   \n",
       "3                        38060.0                            0.0   \n",
       "4                        10420.0                           25.0   \n",
       "\n",
       "   NUMBER_OF_UNITS OCCUPANCY_STATUS  ORIGINAL_COMBINED_LOAN_TO_VALUE  \\\n",
       "0              1.0                O                             80.0   \n",
       "1              1.0                O                             25.0   \n",
       "2              1.0                O                             91.0   \n",
       "3              1.0                O                             39.0   \n",
       "4              1.0                O                             85.0   \n",
       "\n",
       "   ORIGINAL_DEBT_TO_INCOME_RATIO  ...  PROPERTY_TYPE  POSTAL_CODE  \\\n",
       "0                           33.0  ...             SF      26100.0   \n",
       "1                           10.0  ...             SF      45200.0   \n",
       "2                           48.0  ...             SF      44700.0   \n",
       "3                           13.0  ...             SF      85200.0   \n",
       "4                           24.0  ...             SF      44200.0   \n",
       "\n",
       "   LOAN_SEQUENCE_NUMBER LOAN_PURPOSE ORIGINAL_LOAN_TERM NUMBER_OF_BORROWERS  \\\n",
       "0          F199Q1000004            P                320                 2.0   \n",
       "1          F199Q1000005            N                360                 1.0   \n",
       "2          F199Q1000007            P                319                 1.0   \n",
       "3          F199Q1000013            N                318                 2.0   \n",
       "4          F199Q1000015            N                317                 2.0   \n",
       "\n",
       "     SELLER_NAME    SERVICER_NAME  PREPAID DELINQUENT  \n",
       "0  Other sellers  Other servicers     True      False  \n",
       "1  Other sellers  Other servicers     True      False  \n",
       "2  Other sellers  Other servicers     True      False  \n",
       "3  Other sellers  Other servicers     True      False  \n",
       "4  Other sellers  Other servicers     True      False  \n",
       "\n",
       "[5 rows x 27 columns]"
      ]
     },
     "execution_count": 4,
     "metadata": {},
     "output_type": "execute_result"
    }
   ],
   "source": [
    "df = pd.read_csv('loan_level_500k.csv')\n",
    "df.head()"
   ]
  },
  {
   "cell_type": "code",
   "execution_count": 5,
   "metadata": {
    "pycharm": {
     "name": "#%%\n"
    }
   },
   "outputs": [],
   "source": [
    "df.drop('LOAN_SEQUENCE_NUMBER', inplace=True, axis =1)"
   ]
  },
  {
   "cell_type": "code",
   "execution_count": 6,
   "metadata": {
    "pycharm": {
     "name": "#%%\n"
    }
   },
   "outputs": [
    {
     "data": {
      "text/plain": [
       "(500137, 26)"
      ]
     },
     "execution_count": 6,
     "metadata": {},
     "output_type": "execute_result"
    }
   ],
   "source": [
    "df.shape"
   ]
  },
  {
   "cell_type": "code",
   "execution_count": 7,
   "metadata": {
    "pycharm": {
     "name": "#%%\n"
    }
   },
   "outputs": [
    {
     "name": "stdout",
     "output_type": "stream",
     "text": [
      "<class 'pandas.core.frame.DataFrame'>\n",
      "RangeIndex: 500137 entries, 0 to 500136\n",
      "Data columns (total 26 columns):\n",
      " #   Column                            Non-Null Count   Dtype  \n",
      "---  ------                            --------------   -----  \n",
      " 0   CREDIT_SCORE                      497426 non-null  float64\n",
      " 1   FIRST_PAYMENT_DATE                500137 non-null  int64  \n",
      " 2   FIRST_TIME_HOMEBUYER_FLAG         369578 non-null  object \n",
      " 3   MATURITY_DATE                     500137 non-null  int64  \n",
      " 4   METROPOLITAN_STATISTICAL_AREA     429988 non-null  float64\n",
      " 5   MORTGAGE_INSURANCE_PERCENTAGE     449089 non-null  float64\n",
      " 6   NUMBER_OF_UNITS                   500134 non-null  float64\n",
      " 7   OCCUPANCY_STATUS                  500137 non-null  object \n",
      " 8   ORIGINAL_COMBINED_LOAN_TO_VALUE   500124 non-null  float64\n",
      " 9   ORIGINAL_DEBT_TO_INCOME_RATIO     485208 non-null  float64\n",
      " 10  ORIGINAL_UPB                      500137 non-null  int64  \n",
      " 11  ORIGINAL_LOAN_TO_VALUE            500128 non-null  float64\n",
      " 12  ORIGINAL_INTEREST_RATE            500137 non-null  float64\n",
      " 13  CHANNEL                           500137 non-null  object \n",
      " 14  PREPAYMENT_PENALTY_MORTGAGE_FLAG  494959 non-null  object \n",
      " 15  PRODUCT_TYPE                      500137 non-null  object \n",
      " 16  PROPERTY_STATE                    500137 non-null  object \n",
      " 17  PROPERTY_TYPE                     500042 non-null  object \n",
      " 18  POSTAL_CODE                       500106 non-null  float64\n",
      " 19  LOAN_PURPOSE                      500137 non-null  object \n",
      " 20  ORIGINAL_LOAN_TERM                500137 non-null  int64  \n",
      " 21  NUMBER_OF_BORROWERS               499890 non-null  float64\n",
      " 22  SELLER_NAME                       500137 non-null  object \n",
      " 23  SERVICER_NAME                     500137 non-null  object \n",
      " 24  PREPAID                           500137 non-null  bool   \n",
      " 25  DELINQUENT                        500137 non-null  bool   \n",
      "dtypes: bool(2), float64(10), int64(4), object(10)\n",
      "memory usage: 92.5+ MB\n"
     ]
    }
   ],
   "source": [
    "df.info()"
   ]
  },
  {
   "cell_type": "code",
   "execution_count": 8,
   "metadata": {
    "pycharm": {
     "name": "#%%\n"
    }
   },
   "outputs": [
    {
     "data": {
      "text/html": [
       "<div>\n",
       "<style scoped>\n",
       "    .dataframe tbody tr th:only-of-type {\n",
       "        vertical-align: middle;\n",
       "    }\n",
       "\n",
       "    .dataframe tbody tr th {\n",
       "        vertical-align: top;\n",
       "    }\n",
       "\n",
       "    .dataframe thead th {\n",
       "        text-align: right;\n",
       "    }\n",
       "</style>\n",
       "<table border=\"1\" class=\"dataframe\">\n",
       "  <thead>\n",
       "    <tr style=\"text-align: right;\">\n",
       "      <th></th>\n",
       "      <th>count</th>\n",
       "      <th>mean</th>\n",
       "      <th>std</th>\n",
       "      <th>min</th>\n",
       "      <th>25%</th>\n",
       "      <th>50%</th>\n",
       "      <th>75%</th>\n",
       "      <th>max</th>\n",
       "    </tr>\n",
       "  </thead>\n",
       "  <tbody>\n",
       "    <tr>\n",
       "      <th>CREDIT_SCORE</th>\n",
       "      <td>497426.0</td>\n",
       "      <td>712.536212</td>\n",
       "      <td>54.791262</td>\n",
       "      <td>300.000</td>\n",
       "      <td>676.000</td>\n",
       "      <td>719.0</td>\n",
       "      <td>756.000</td>\n",
       "      <td>839.0</td>\n",
       "    </tr>\n",
       "    <tr>\n",
       "      <th>FIRST_PAYMENT_DATE</th>\n",
       "      <td>500137.0</td>\n",
       "      <td>200025.430952</td>\n",
       "      <td>109.815541</td>\n",
       "      <td>199901.000</td>\n",
       "      <td>199904.000</td>\n",
       "      <td>200005.0</td>\n",
       "      <td>200105.000</td>\n",
       "      <td>201103.0</td>\n",
       "    </tr>\n",
       "    <tr>\n",
       "      <th>MATURITY_DATE</th>\n",
       "      <td>500137.0</td>\n",
       "      <td>203023.195872</td>\n",
       "      <td>110.384189</td>\n",
       "      <td>202402.000</td>\n",
       "      <td>202903.000</td>\n",
       "      <td>203004.0</td>\n",
       "      <td>203104.000</td>\n",
       "      <td>204101.0</td>\n",
       "    </tr>\n",
       "    <tr>\n",
       "      <th>METROPOLITAN_STATISTICAL_AREA</th>\n",
       "      <td>429988.0</td>\n",
       "      <td>30777.824739</td>\n",
       "      <td>11333.401144</td>\n",
       "      <td>10180.000</td>\n",
       "      <td>19740.000</td>\n",
       "      <td>33340.0</td>\n",
       "      <td>40420.000</td>\n",
       "      <td>49740.0</td>\n",
       "    </tr>\n",
       "    <tr>\n",
       "      <th>MORTGAGE_INSURANCE_PERCENTAGE</th>\n",
       "      <td>449089.0</td>\n",
       "      <td>7.744532</td>\n",
       "      <td>12.046546</td>\n",
       "      <td>0.000</td>\n",
       "      <td>0.000</td>\n",
       "      <td>0.0</td>\n",
       "      <td>18.000</td>\n",
       "      <td>55.0</td>\n",
       "    </tr>\n",
       "    <tr>\n",
       "      <th>NUMBER_OF_UNITS</th>\n",
       "      <td>500134.0</td>\n",
       "      <td>1.028890</td>\n",
       "      <td>0.218391</td>\n",
       "      <td>1.000</td>\n",
       "      <td>1.000</td>\n",
       "      <td>1.0</td>\n",
       "      <td>1.000</td>\n",
       "      <td>4.0</td>\n",
       "    </tr>\n",
       "    <tr>\n",
       "      <th>ORIGINAL_COMBINED_LOAN_TO_VALUE</th>\n",
       "      <td>500124.0</td>\n",
       "      <td>76.053571</td>\n",
       "      <td>15.139986</td>\n",
       "      <td>6.000</td>\n",
       "      <td>70.000</td>\n",
       "      <td>80.0</td>\n",
       "      <td>88.000</td>\n",
       "      <td>180.0</td>\n",
       "    </tr>\n",
       "    <tr>\n",
       "      <th>ORIGINAL_DEBT_TO_INCOME_RATIO</th>\n",
       "      <td>485208.0</td>\n",
       "      <td>32.917541</td>\n",
       "      <td>11.111800</td>\n",
       "      <td>1.000</td>\n",
       "      <td>25.000</td>\n",
       "      <td>33.0</td>\n",
       "      <td>41.000</td>\n",
       "      <td>65.0</td>\n",
       "    </tr>\n",
       "    <tr>\n",
       "      <th>ORIGINAL_UPB</th>\n",
       "      <td>500137.0</td>\n",
       "      <td>136493.484785</td>\n",
       "      <td>60968.743066</td>\n",
       "      <td>8000.000</td>\n",
       "      <td>89000.000</td>\n",
       "      <td>126000.0</td>\n",
       "      <td>176000.000</td>\n",
       "      <td>578000.0</td>\n",
       "    </tr>\n",
       "    <tr>\n",
       "      <th>ORIGINAL_LOAN_TO_VALUE</th>\n",
       "      <td>500128.0</td>\n",
       "      <td>75.710714</td>\n",
       "      <td>14.937717</td>\n",
       "      <td>6.000</td>\n",
       "      <td>70.000</td>\n",
       "      <td>80.0</td>\n",
       "      <td>85.000</td>\n",
       "      <td>100.0</td>\n",
       "    </tr>\n",
       "    <tr>\n",
       "      <th>ORIGINAL_INTEREST_RATE</th>\n",
       "      <td>500137.0</td>\n",
       "      <td>7.182687</td>\n",
       "      <td>0.579941</td>\n",
       "      <td>4.625</td>\n",
       "      <td>6.875</td>\n",
       "      <td>7.0</td>\n",
       "      <td>7.375</td>\n",
       "      <td>11.5</td>\n",
       "    </tr>\n",
       "    <tr>\n",
       "      <th>POSTAL_CODE</th>\n",
       "      <td>500106.0</td>\n",
       "      <td>55490.857138</td>\n",
       "      <td>29505.382259</td>\n",
       "      <td>600.000</td>\n",
       "      <td>30500.000</td>\n",
       "      <td>54200.0</td>\n",
       "      <td>85000.000</td>\n",
       "      <td>99900.0</td>\n",
       "    </tr>\n",
       "    <tr>\n",
       "      <th>ORIGINAL_LOAN_TERM</th>\n",
       "      <td>500137.0</td>\n",
       "      <td>359.855470</td>\n",
       "      <td>1.908251</td>\n",
       "      <td>301.000</td>\n",
       "      <td>360.000</td>\n",
       "      <td>360.0</td>\n",
       "      <td>360.000</td>\n",
       "      <td>362.0</td>\n",
       "    </tr>\n",
       "    <tr>\n",
       "      <th>NUMBER_OF_BORROWERS</th>\n",
       "      <td>499890.0</td>\n",
       "      <td>1.630295</td>\n",
       "      <td>0.482725</td>\n",
       "      <td>1.000</td>\n",
       "      <td>1.000</td>\n",
       "      <td>2.0</td>\n",
       "      <td>2.000</td>\n",
       "      <td>2.0</td>\n",
       "    </tr>\n",
       "  </tbody>\n",
       "</table>\n",
       "</div>"
      ],
      "text/plain": [
       "                                    count           mean           std  \\\n",
       "CREDIT_SCORE                     497426.0     712.536212     54.791262   \n",
       "FIRST_PAYMENT_DATE               500137.0  200025.430952    109.815541   \n",
       "MATURITY_DATE                    500137.0  203023.195872    110.384189   \n",
       "METROPOLITAN_STATISTICAL_AREA    429988.0   30777.824739  11333.401144   \n",
       "MORTGAGE_INSURANCE_PERCENTAGE    449089.0       7.744532     12.046546   \n",
       "NUMBER_OF_UNITS                  500134.0       1.028890      0.218391   \n",
       "ORIGINAL_COMBINED_LOAN_TO_VALUE  500124.0      76.053571     15.139986   \n",
       "ORIGINAL_DEBT_TO_INCOME_RATIO    485208.0      32.917541     11.111800   \n",
       "ORIGINAL_UPB                     500137.0  136493.484785  60968.743066   \n",
       "ORIGINAL_LOAN_TO_VALUE           500128.0      75.710714     14.937717   \n",
       "ORIGINAL_INTEREST_RATE           500137.0       7.182687      0.579941   \n",
       "POSTAL_CODE                      500106.0   55490.857138  29505.382259   \n",
       "ORIGINAL_LOAN_TERM               500137.0     359.855470      1.908251   \n",
       "NUMBER_OF_BORROWERS              499890.0       1.630295      0.482725   \n",
       "\n",
       "                                        min         25%       50%         75%  \\\n",
       "CREDIT_SCORE                        300.000     676.000     719.0     756.000   \n",
       "FIRST_PAYMENT_DATE               199901.000  199904.000  200005.0  200105.000   \n",
       "MATURITY_DATE                    202402.000  202903.000  203004.0  203104.000   \n",
       "METROPOLITAN_STATISTICAL_AREA     10180.000   19740.000   33340.0   40420.000   \n",
       "MORTGAGE_INSURANCE_PERCENTAGE         0.000       0.000       0.0      18.000   \n",
       "NUMBER_OF_UNITS                       1.000       1.000       1.0       1.000   \n",
       "ORIGINAL_COMBINED_LOAN_TO_VALUE       6.000      70.000      80.0      88.000   \n",
       "ORIGINAL_DEBT_TO_INCOME_RATIO         1.000      25.000      33.0      41.000   \n",
       "ORIGINAL_UPB                       8000.000   89000.000  126000.0  176000.000   \n",
       "ORIGINAL_LOAN_TO_VALUE                6.000      70.000      80.0      85.000   \n",
       "ORIGINAL_INTEREST_RATE                4.625       6.875       7.0       7.375   \n",
       "POSTAL_CODE                         600.000   30500.000   54200.0   85000.000   \n",
       "ORIGINAL_LOAN_TERM                  301.000     360.000     360.0     360.000   \n",
       "NUMBER_OF_BORROWERS                   1.000       1.000       2.0       2.000   \n",
       "\n",
       "                                      max  \n",
       "CREDIT_SCORE                        839.0  \n",
       "FIRST_PAYMENT_DATE               201103.0  \n",
       "MATURITY_DATE                    204101.0  \n",
       "METROPOLITAN_STATISTICAL_AREA     49740.0  \n",
       "MORTGAGE_INSURANCE_PERCENTAGE        55.0  \n",
       "NUMBER_OF_UNITS                       4.0  \n",
       "ORIGINAL_COMBINED_LOAN_TO_VALUE     180.0  \n",
       "ORIGINAL_DEBT_TO_INCOME_RATIO        65.0  \n",
       "ORIGINAL_UPB                     578000.0  \n",
       "ORIGINAL_LOAN_TO_VALUE              100.0  \n",
       "ORIGINAL_INTEREST_RATE               11.5  \n",
       "POSTAL_CODE                       99900.0  \n",
       "ORIGINAL_LOAN_TERM                  362.0  \n",
       "NUMBER_OF_BORROWERS                   2.0  "
      ]
     },
     "execution_count": 8,
     "metadata": {},
     "output_type": "execute_result"
    }
   ],
   "source": [
    "df.describe().T"
   ]
  },
  {
   "cell_type": "markdown",
   "metadata": {
    "pycharm": {
     "name": "#%% md\n"
    }
   },
   "source": [
    "Dropping irrelevant columns (Not Available during prediction)"
   ]
  },
  {
   "cell_type": "code",
   "execution_count": 9,
   "metadata": {
    "pycharm": {
     "name": "#%%\n"
    }
   },
   "outputs": [],
   "source": [
    "df.drop([\"FIRST_PAYMENT_DATE\", \"MATURITY_DATE\", \"MORTGAGE_INSURANCE_PERCENTAGE\", \"ORIGINAL_UPB\", \"ORIGINAL_INTEREST_RATE\", \"PREPAYMENT_PENALTY_MORTGAGE_FLAG\"], inplace=True, axis=1)"
   ]
  },
  {
   "cell_type": "code",
   "execution_count": 10,
   "metadata": {
    "pycharm": {
     "name": "#%%\n"
    }
   },
   "outputs": [
    {
     "name": "stdout",
     "output_type": "stream",
     "text": [
      "PRODUCT_TYPE                            0\n",
      "SERVICER_NAME                           0\n",
      "SELLER_NAME                             0\n",
      "ORIGINAL_LOAN_TERM                      0\n",
      "LOAN_PURPOSE                            0\n",
      "PROPERTY_STATE                          0\n",
      "PREPAID                                 0\n",
      "CHANNEL                                 0\n",
      "DELINQUENT                              0\n",
      "OCCUPANCY_STATUS                        0\n",
      "NUMBER_OF_UNITS                         3\n",
      "ORIGINAL_LOAN_TO_VALUE                  9\n",
      "ORIGINAL_COMBINED_LOAN_TO_VALUE        13\n",
      "POSTAL_CODE                            31\n",
      "PROPERTY_TYPE                          95\n",
      "NUMBER_OF_BORROWERS                   247\n",
      "CREDIT_SCORE                         2711\n",
      "ORIGINAL_DEBT_TO_INCOME_RATIO       14929\n",
      "METROPOLITAN_STATISTICAL_AREA       70149\n",
      "FIRST_TIME_HOMEBUYER_FLAG          130559\n",
      "dtype: int64\n"
     ]
    }
   ],
   "source": [
    "print(df.isnull().sum().sort_values())"
   ]
  },
  {
   "cell_type": "code",
   "execution_count": 11,
   "metadata": {
    "pycharm": {
     "name": "#%%\n"
    }
   },
   "outputs": [],
   "source": [
    "def missing_percentage(df):\n",
    "    missing = pd.DataFrame(columns=['Category', 'Percentage'])\n",
    "    for col in df.columns:\n",
    "        if df[col].isna().values.any():\n",
    "            percentage = 100*df[col].isna().sum()/df.shape[0]\n",
    "            missing = missing.append({'Category':col, 'Percentage':percentage}, ignore_index = True)\n",
    "    return missing"
   ]
  },
  {
   "cell_type": "code",
   "execution_count": 12,
   "metadata": {
    "pycharm": {
     "name": "#%%\n"
    }
   },
   "outputs": [
    {
     "data": {
      "text/html": [
       "<div>\n",
       "<style scoped>\n",
       "    .dataframe tbody tr th:only-of-type {\n",
       "        vertical-align: middle;\n",
       "    }\n",
       "\n",
       "    .dataframe tbody tr th {\n",
       "        vertical-align: top;\n",
       "    }\n",
       "\n",
       "    .dataframe thead th {\n",
       "        text-align: right;\n",
       "    }\n",
       "</style>\n",
       "<table border=\"1\" class=\"dataframe\">\n",
       "  <thead>\n",
       "    <tr style=\"text-align: right;\">\n",
       "      <th></th>\n",
       "      <th>Category</th>\n",
       "      <th>Percentage</th>\n",
       "    </tr>\n",
       "  </thead>\n",
       "  <tbody>\n",
       "    <tr>\n",
       "      <th>1</th>\n",
       "      <td>FIRST_TIME_HOMEBUYER_FLAG</td>\n",
       "      <td>26.104647</td>\n",
       "    </tr>\n",
       "    <tr>\n",
       "      <th>2</th>\n",
       "      <td>METROPOLITAN_STATISTICAL_AREA</td>\n",
       "      <td>14.025957</td>\n",
       "    </tr>\n",
       "    <tr>\n",
       "      <th>5</th>\n",
       "      <td>ORIGINAL_DEBT_TO_INCOME_RATIO</td>\n",
       "      <td>2.984982</td>\n",
       "    </tr>\n",
       "    <tr>\n",
       "      <th>0</th>\n",
       "      <td>CREDIT_SCORE</td>\n",
       "      <td>0.542051</td>\n",
       "    </tr>\n",
       "    <tr>\n",
       "      <th>9</th>\n",
       "      <td>NUMBER_OF_BORROWERS</td>\n",
       "      <td>0.049386</td>\n",
       "    </tr>\n",
       "    <tr>\n",
       "      <th>7</th>\n",
       "      <td>PROPERTY_TYPE</td>\n",
       "      <td>0.018995</td>\n",
       "    </tr>\n",
       "    <tr>\n",
       "      <th>8</th>\n",
       "      <td>POSTAL_CODE</td>\n",
       "      <td>0.006198</td>\n",
       "    </tr>\n",
       "    <tr>\n",
       "      <th>4</th>\n",
       "      <td>ORIGINAL_COMBINED_LOAN_TO_VALUE</td>\n",
       "      <td>0.002599</td>\n",
       "    </tr>\n",
       "    <tr>\n",
       "      <th>6</th>\n",
       "      <td>ORIGINAL_LOAN_TO_VALUE</td>\n",
       "      <td>0.0018</td>\n",
       "    </tr>\n",
       "    <tr>\n",
       "      <th>3</th>\n",
       "      <td>NUMBER_OF_UNITS</td>\n",
       "      <td>0.0006</td>\n",
       "    </tr>\n",
       "  </tbody>\n",
       "</table>\n",
       "</div>"
      ],
      "text/plain": [
       "                          Category Percentage\n",
       "1        FIRST_TIME_HOMEBUYER_FLAG  26.104647\n",
       "2    METROPOLITAN_STATISTICAL_AREA  14.025957\n",
       "5    ORIGINAL_DEBT_TO_INCOME_RATIO   2.984982\n",
       "0                     CREDIT_SCORE   0.542051\n",
       "9              NUMBER_OF_BORROWERS   0.049386\n",
       "7                    PROPERTY_TYPE   0.018995\n",
       "8                      POSTAL_CODE   0.006198\n",
       "4  ORIGINAL_COMBINED_LOAN_TO_VALUE   0.002599\n",
       "6           ORIGINAL_LOAN_TO_VALUE     0.0018\n",
       "3                  NUMBER_OF_UNITS     0.0006"
      ]
     },
     "execution_count": 12,
     "metadata": {},
     "output_type": "execute_result"
    }
   ],
   "source": [
    "missingdata = missing_percentage(df)\n",
    "missingdata.sort_values('Percentage', ascending=False)"
   ]
  },
  {
   "cell_type": "code",
   "execution_count": 13,
   "metadata": {
    "pycharm": {
     "name": "#%%\n"
    }
   },
   "outputs": [],
   "source": [
    "# plt.figure(figsize=(20,20))\n",
    "# sns.heatmap(df.isnull(), cmap='viridis')"
   ]
  },
  {
   "cell_type": "code",
   "execution_count": 14,
   "metadata": {
    "pycharm": {
     "name": "#%%\n"
    }
   },
   "outputs": [
    {
     "data": {
      "text/plain": [
       "N    320418\n",
       "Y     49160\n",
       "Name: FIRST_TIME_HOMEBUYER_FLAG, dtype: int64"
      ]
     },
     "execution_count": 14,
     "metadata": {},
     "output_type": "execute_result"
    }
   ],
   "source": [
    "df.FIRST_TIME_HOMEBUYER_FLAG.value_counts()"
   ]
  },
  {
   "cell_type": "code",
   "execution_count": 15,
   "metadata": {
    "pycharm": {
     "name": "#%%\n"
    }
   },
   "outputs": [],
   "source": [
    "# plt.figure(figsize=(70,100))\n",
    "#\n",
    "# for i,col in enumerate(df):\n",
    "#     plt.subplot(10,3,i+1)\n",
    "#     sns.countplot(data=df, x=col, hue='DELINQUENT')"
   ]
  },
  {
   "cell_type": "code",
   "execution_count": 16,
   "metadata": {
    "pycharm": {
     "name": "#%%\n"
    }
   },
   "outputs": [],
   "source": [
    "# plt.figure(figsize=(15,10))\n",
    "# sns.heatmap(df.corr(), annot = True)"
   ]
  },
  {
   "cell_type": "code",
   "execution_count": 17,
   "metadata": {
    "pycharm": {
     "name": "#%%\n"
    }
   },
   "outputs": [],
   "source": [
    "from sklearn.preprocessing import LabelEncoder\n",
    "\n",
    "label_encoder = LabelEncoder()\n",
    "df['DELINQUENT']= label_encoder.fit_transform(df['DELINQUENT'])\n",
    "df['PREPAID']= label_encoder.fit_transform(df['PREPAID'])\n",
    "df['POSTAL_CODE'] = label_encoder.fit_transform(df['POSTAL_CODE'])\n",
    "df['FIRST_TIME_HOMEBUYER_FLAG'] = label_encoder.fit_transform(df['FIRST_TIME_HOMEBUYER_FLAG'])"
   ]
  },
  {
   "cell_type": "code",
   "execution_count": 18,
   "metadata": {
    "pycharm": {
     "name": "#%%\n"
    }
   },
   "outputs": [],
   "source": [
    "from category_encoders import TargetEncoder"
   ]
  },
  {
   "cell_type": "code",
   "execution_count": 19,
   "metadata": {
    "pycharm": {
     "name": "#%%\n"
    }
   },
   "outputs": [],
   "source": [
    "mylist = ['OCCUPANCY_STATUS', 'CHANNEL', 'PRODUCT_TYPE', 'PROPERTY_STATE',\n",
    "          'PROPERTY_TYPE', 'LOAN_PURPOSE', 'SELLER_NAME', 'SERVICER_NAME']"
   ]
  },
  {
   "cell_type": "code",
   "execution_count": 20,
   "metadata": {
    "pycharm": {
     "name": "#%%\n"
    }
   },
   "outputs": [],
   "source": [
    "te = TargetEncoder()\n",
    "def trgenc(df, col):\n",
    "    df_fit = te.fit_transform(df[col], df['DELINQUENT'])\n",
    "    return df_fit.join(df.drop(columns=col, axis=1))\n",
    "\n",
    "for i in range(0,8):\n",
    "    df = trgenc(df, mylist[i])\n"
   ]
  },
  {
   "cell_type": "code",
   "execution_count": 21,
   "metadata": {
    "pycharm": {
     "name": "#%%\n"
    }
   },
   "outputs": [
    {
     "data": {
      "text/plain": [
       "Index(['SERVICER_NAME', 'SELLER_NAME', 'LOAN_PURPOSE', 'PROPERTY_TYPE',\n",
       "       'PROPERTY_STATE', 'PRODUCT_TYPE', 'CHANNEL', 'OCCUPANCY_STATUS',\n",
       "       'CREDIT_SCORE', 'FIRST_TIME_HOMEBUYER_FLAG',\n",
       "       'METROPOLITAN_STATISTICAL_AREA', 'NUMBER_OF_UNITS',\n",
       "       'ORIGINAL_COMBINED_LOAN_TO_VALUE', 'ORIGINAL_DEBT_TO_INCOME_RATIO',\n",
       "       'ORIGINAL_LOAN_TO_VALUE', 'POSTAL_CODE', 'ORIGINAL_LOAN_TERM',\n",
       "       'NUMBER_OF_BORROWERS', 'PREPAID', 'DELINQUENT'],\n",
       "      dtype='object')"
      ]
     },
     "execution_count": 21,
     "metadata": {},
     "output_type": "execute_result"
    }
   ],
   "source": [
    "col = df.columns\n",
    "col"
   ]
  },
  {
   "cell_type": "code",
   "execution_count": 22,
   "metadata": {
    "pycharm": {
     "name": "#%%\n"
    }
   },
   "outputs": [],
   "source": [
    "SI = SimpleImputer(strategy='most_frequent')\n",
    "df = SI.fit_transform(df)\n",
    "df = pd.DataFrame(df, columns=col)"
   ]
  },
  {
   "cell_type": "code",
   "execution_count": 23,
   "metadata": {
    "pycharm": {
     "name": "#%%\n"
    }
   },
   "outputs": [
    {
     "data": {
      "text/plain": [
       "SERVICER_NAME                      0\n",
       "SELLER_NAME                        0\n",
       "LOAN_PURPOSE                       0\n",
       "PROPERTY_TYPE                      0\n",
       "PROPERTY_STATE                     0\n",
       "PRODUCT_TYPE                       0\n",
       "CHANNEL                            0\n",
       "OCCUPANCY_STATUS                   0\n",
       "CREDIT_SCORE                       0\n",
       "FIRST_TIME_HOMEBUYER_FLAG          0\n",
       "METROPOLITAN_STATISTICAL_AREA      0\n",
       "NUMBER_OF_UNITS                    0\n",
       "ORIGINAL_COMBINED_LOAN_TO_VALUE    0\n",
       "ORIGINAL_DEBT_TO_INCOME_RATIO      0\n",
       "ORIGINAL_LOAN_TO_VALUE             0\n",
       "POSTAL_CODE                        0\n",
       "ORIGINAL_LOAN_TERM                 0\n",
       "NUMBER_OF_BORROWERS                0\n",
       "PREPAID                            0\n",
       "DELINQUENT                         0\n",
       "dtype: int64"
      ]
     },
     "execution_count": 23,
     "metadata": {},
     "output_type": "execute_result"
    }
   ],
   "source": [
    "df.isnull().sum()"
   ]
  },
  {
   "cell_type": "code",
   "execution_count": 24,
   "metadata": {
    "pycharm": {
     "name": "#%%\n"
    }
   },
   "outputs": [],
   "source": [
    "X = df.iloc[:,:-1]\n",
    "y = df['DELINQUENT']"
   ]
  },
  {
   "cell_type": "code",
   "execution_count": 25,
   "metadata": {
    "pycharm": {
     "name": "#%%\n"
    }
   },
   "outputs": [
    {
     "data": {
      "text/html": [
       "<div>\n",
       "<style scoped>\n",
       "    .dataframe tbody tr th:only-of-type {\n",
       "        vertical-align: middle;\n",
       "    }\n",
       "\n",
       "    .dataframe tbody tr th {\n",
       "        vertical-align: top;\n",
       "    }\n",
       "\n",
       "    .dataframe thead th {\n",
       "        text-align: right;\n",
       "    }\n",
       "</style>\n",
       "<table border=\"1\" class=\"dataframe\">\n",
       "  <thead>\n",
       "    <tr style=\"text-align: right;\">\n",
       "      <th></th>\n",
       "      <th>0.0</th>\n",
       "      <th>1.0</th>\n",
       "    </tr>\n",
       "  </thead>\n",
       "  <tbody>\n",
       "    <tr>\n",
       "      <th>DELINQUENT</th>\n",
       "      <td>482146</td>\n",
       "      <td>17991</td>\n",
       "    </tr>\n",
       "  </tbody>\n",
       "</table>\n",
       "</div>"
      ],
      "text/plain": [
       "               0.0    1.0\n",
       "DELINQUENT  482146  17991"
      ]
     },
     "execution_count": 25,
     "metadata": {},
     "output_type": "execute_result"
    }
   ],
   "source": [
    "y.value_counts().to_frame().T"
   ]
  },
  {
   "cell_type": "code",
   "execution_count": 26,
   "metadata": {
    "pycharm": {
     "name": "#%%\n"
    }
   },
   "outputs": [],
   "source": [
    "X_train, X_test, y_train, y_test = train_test_split(X, y, test_size=0.3, random_state=0)"
   ]
  },
  {
   "cell_type": "code",
   "execution_count": 27,
   "metadata": {
    "pycharm": {
     "name": "#%%\n"
    }
   },
   "outputs": [],
   "source": [
    "from imblearn.over_sampling import SMOTE\n",
    "X_resampled, y_resampled = SMOTE().fit_resample(X_train, y_train)"
   ]
  },
  {
   "cell_type": "code",
   "execution_count": 28,
   "metadata": {
    "pycharm": {
     "name": "#%%\n"
    }
   },
   "outputs": [
    {
     "data": {
      "text/html": [
       "<div>\n",
       "<style scoped>\n",
       "    .dataframe tbody tr th:only-of-type {\n",
       "        vertical-align: middle;\n",
       "    }\n",
       "\n",
       "    .dataframe tbody tr th {\n",
       "        vertical-align: top;\n",
       "    }\n",
       "\n",
       "    .dataframe thead th {\n",
       "        text-align: right;\n",
       "    }\n",
       "</style>\n",
       "<table border=\"1\" class=\"dataframe\">\n",
       "  <thead>\n",
       "    <tr style=\"text-align: right;\">\n",
       "      <th></th>\n",
       "      <th>0.0</th>\n",
       "      <th>1.0</th>\n",
       "    </tr>\n",
       "  </thead>\n",
       "  <tbody>\n",
       "    <tr>\n",
       "      <th>DELINQUENT</th>\n",
       "      <td>337470</td>\n",
       "      <td>337470</td>\n",
       "    </tr>\n",
       "  </tbody>\n",
       "</table>\n",
       "</div>"
      ],
      "text/plain": [
       "               0.0     1.0\n",
       "DELINQUENT  337470  337470"
      ]
     },
     "execution_count": 28,
     "metadata": {},
     "output_type": "execute_result"
    }
   ],
   "source": [
    "y_resampled.value_counts().to_frame().T"
   ]
  },
  {
   "cell_type": "code",
   "execution_count": 29,
   "metadata": {
    "pycharm": {
     "name": "#%%\n"
    }
   },
   "outputs": [
    {
     "data": {
      "text/html": [
       "<style>#sk-container-id-1 {color: black;background-color: white;}#sk-container-id-1 pre{padding: 0;}#sk-container-id-1 div.sk-toggleable {background-color: white;}#sk-container-id-1 label.sk-toggleable__label {cursor: pointer;display: block;width: 100%;margin-bottom: 0;padding: 0.3em;box-sizing: border-box;text-align: center;}#sk-container-id-1 label.sk-toggleable__label-arrow:before {content: \"▸\";float: left;margin-right: 0.25em;color: #696969;}#sk-container-id-1 label.sk-toggleable__label-arrow:hover:before {color: black;}#sk-container-id-1 div.sk-estimator:hover label.sk-toggleable__label-arrow:before {color: black;}#sk-container-id-1 div.sk-toggleable__content {max-height: 0;max-width: 0;overflow: hidden;text-align: left;background-color: #f0f8ff;}#sk-container-id-1 div.sk-toggleable__content pre {margin: 0.2em;color: black;border-radius: 0.25em;background-color: #f0f8ff;}#sk-container-id-1 input.sk-toggleable__control:checked~div.sk-toggleable__content {max-height: 200px;max-width: 100%;overflow: auto;}#sk-container-id-1 input.sk-toggleable__control:checked~label.sk-toggleable__label-arrow:before {content: \"▾\";}#sk-container-id-1 div.sk-estimator input.sk-toggleable__control:checked~label.sk-toggleable__label {background-color: #d4ebff;}#sk-container-id-1 div.sk-label input.sk-toggleable__control:checked~label.sk-toggleable__label {background-color: #d4ebff;}#sk-container-id-1 input.sk-hidden--visually {border: 0;clip: rect(1px 1px 1px 1px);clip: rect(1px, 1px, 1px, 1px);height: 1px;margin: -1px;overflow: hidden;padding: 0;position: absolute;width: 1px;}#sk-container-id-1 div.sk-estimator {font-family: monospace;background-color: #f0f8ff;border: 1px dotted black;border-radius: 0.25em;box-sizing: border-box;margin-bottom: 0.5em;}#sk-container-id-1 div.sk-estimator:hover {background-color: #d4ebff;}#sk-container-id-1 div.sk-parallel-item::after {content: \"\";width: 100%;border-bottom: 1px solid gray;flex-grow: 1;}#sk-container-id-1 div.sk-label:hover label.sk-toggleable__label {background-color: #d4ebff;}#sk-container-id-1 div.sk-serial::before {content: \"\";position: absolute;border-left: 1px solid gray;box-sizing: border-box;top: 0;bottom: 0;left: 50%;z-index: 0;}#sk-container-id-1 div.sk-serial {display: flex;flex-direction: column;align-items: center;background-color: white;padding-right: 0.2em;padding-left: 0.2em;position: relative;}#sk-container-id-1 div.sk-item {position: relative;z-index: 1;}#sk-container-id-1 div.sk-parallel {display: flex;align-items: stretch;justify-content: center;background-color: white;position: relative;}#sk-container-id-1 div.sk-item::before, #sk-container-id-1 div.sk-parallel-item::before {content: \"\";position: absolute;border-left: 1px solid gray;box-sizing: border-box;top: 0;bottom: 0;left: 50%;z-index: -1;}#sk-container-id-1 div.sk-parallel-item {display: flex;flex-direction: column;z-index: 1;position: relative;background-color: white;}#sk-container-id-1 div.sk-parallel-item:first-child::after {align-self: flex-end;width: 50%;}#sk-container-id-1 div.sk-parallel-item:last-child::after {align-self: flex-start;width: 50%;}#sk-container-id-1 div.sk-parallel-item:only-child::after {width: 0;}#sk-container-id-1 div.sk-dashed-wrapped {border: 1px dashed gray;margin: 0 0.4em 0.5em 0.4em;box-sizing: border-box;padding-bottom: 0.4em;background-color: white;}#sk-container-id-1 div.sk-label label {font-family: monospace;font-weight: bold;display: inline-block;line-height: 1.2em;}#sk-container-id-1 div.sk-label-container {text-align: center;}#sk-container-id-1 div.sk-container {/* jupyter's `normalize.less` sets `[hidden] { display: none; }` but bootstrap.min.css set `[hidden] { display: none !important; }` so we also need the `!important` here to be able to override the default hidden behavior on the sphinx rendered scikit-learn.org. See: https://github.com/scikit-learn/scikit-learn/issues/21755 */display: inline-block !important;position: relative;}#sk-container-id-1 div.sk-text-repr-fallback {display: none;}</style><div id=\"sk-container-id-1\" class=\"sk-top-container\"><div class=\"sk-text-repr-fallback\"><pre>VarianceThreshold(threshold=0)</pre><b>In a Jupyter environment, please rerun this cell to show the HTML representation or trust the notebook. <br />On GitHub, the HTML representation is unable to render, please try loading this page with nbviewer.org.</b></div><div class=\"sk-container\" hidden><div class=\"sk-item\"><div class=\"sk-estimator sk-toggleable\"><input class=\"sk-toggleable__control sk-hidden--visually\" id=\"sk-estimator-id-1\" type=\"checkbox\" checked><label for=\"sk-estimator-id-1\" class=\"sk-toggleable__label sk-toggleable__label-arrow\">VarianceThreshold</label><div class=\"sk-toggleable__content\"><pre>VarianceThreshold(threshold=0)</pre></div></div></div></div></div>"
      ],
      "text/plain": [
       "VarianceThreshold(threshold=0)"
      ]
     },
     "execution_count": 29,
     "metadata": {},
     "output_type": "execute_result"
    }
   ],
   "source": [
    "from sklearn.feature_selection import VarianceThreshold\n",
    "\n",
    "var_thres = VarianceThreshold(threshold=0)\n",
    "var_thres.fit(X_resampled)"
   ]
  },
  {
   "cell_type": "code",
   "execution_count": 30,
   "metadata": {
    "pycharm": {
     "name": "#%%\n"
    }
   },
   "outputs": [
    {
     "data": {
      "text/plain": [
       "18"
      ]
     },
     "execution_count": 30,
     "metadata": {},
     "output_type": "execute_result"
    }
   ],
   "source": [
    "sum(var_thres.get_support())"
   ]
  },
  {
   "cell_type": "code",
   "execution_count": 31,
   "metadata": {
    "pycharm": {
     "name": "#%%\n"
    }
   },
   "outputs": [],
   "source": [
    "constant_col = [column for column in X_train.columns\n",
    "                if column not in X_train.columns[var_thres.get_support()]]"
   ]
  },
  {
   "cell_type": "code",
   "execution_count": 32,
   "metadata": {
    "pycharm": {
     "name": "#%%\n"
    }
   },
   "outputs": [],
   "source": [
    "X_train.drop(constant_col, axis=1, inplace=True)"
   ]
  },
  {
   "cell_type": "code",
   "execution_count": 33,
   "metadata": {
    "pycharm": {
     "name": "#%%\n"
    }
   },
   "outputs": [],
   "source": [
    "from sklearn.preprocessing import MinMaxScaler\n",
    "scaler  = MinMaxScaler()\n",
    "X_resampled = scaler.fit_transform(X_resampled)"
   ]
  },
  {
   "cell_type": "code",
   "execution_count": 34,
   "metadata": {
    "pycharm": {
     "name": "#%%\n"
    }
   },
   "outputs": [],
   "source": [
    "# model = keras.Sequential(\n",
    "#     [\n",
    "#\n",
    "#     ]\n",
    "# )\n",
    "#\n",
    "# initial_weights = model.get_weights()"
   ]
  },
  {
   "cell_type": "code",
   "execution_count": 35,
   "metadata": {
    "pycharm": {
     "name": "#%%\n"
    }
   },
   "outputs": [],
   "source": [
    "# model.summary()"
   ]
  },
  {
   "cell_type": "code",
   "execution_count": 36,
   "metadata": {
    "pycharm": {
     "name": "#%%\n"
    }
   },
   "outputs": [],
   "source": [
    "# learning_rate = 0.001\n",
    "# model.compile(optimizer=keras.optimizers.Adam(learning_rate=learning_rate),\n",
    "#               loss = \"binary_crossentropy\",\n",
    "#               metrics=keras.metrics.AUC()\n",
    "#               )"
   ]
  },
  {
   "cell_type": "code",
   "execution_count": 37,
   "metadata": {
    "pycharm": {
     "name": "#%%\n"
    }
   },
   "outputs": [],
   "source": [
    "# history = model.fit(X_resampled, y_resampled,\n",
    "#                     epochs=20,\n",
    "#                     batch_size=1000,\n",
    "#                     verbose=0)"
   ]
  },
  {
   "cell_type": "code",
   "execution_count": 38,
   "metadata": {
    "pycharm": {
     "name": "#%%\n"
    }
   },
   "outputs": [],
   "source": [
    "# logs = pd.DataFrame(history.history)\n",
    "#\n",
    "# plt.figure(figsize=(14,4))\n",
    "# plt.subplot(1,2,1)\n",
    "# plt.plot(logs.loc[5:,\"loss\"], lw=2, label='Training loss')\n",
    "# plt.xlabel(\"Epoch\")\n",
    "# plt.ylabel(\"Loss\")\n",
    "# plt.subplot(1,2,2)\n",
    "# plt.plot(logs.loc[5:,\"auc\"], lw=2, label='Training Roc AUC score')\n",
    "# plt.xlabel(\"Epoch\")\n",
    "# plt.ylabel(\"Loss\")\n",
    "# plt.show()"
   ]
  },
  {
   "cell_type": "code",
   "execution_count": 39,
   "metadata": {
    "pycharm": {
     "is_executing": true,
     "name": "#%%\n"
    }
   },
   "outputs": [],
   "source": [
    "from sklearn.svm import SVC\n",
    "from sklearn.ensemble import RandomForestClassifier\n",
    "from xgboost import XGBClassifier"
   ]
  },
  {
   "cell_type": "code",
   "execution_count": 40,
   "metadata": {
    "pycharm": {
     "is_executing": true,
     "name": "#%%\n"
    }
   },
   "outputs": [],
   "source": [
    "def get_score(model, X_train, X_test, y_train, y_test):\n",
    "    model.fit(X_train, y_train)\n",
    "    return model.score(X_test, y_test)"
   ]
  },
  {
   "cell_type": "code",
   "execution_count": 42,
   "metadata": {
    "pycharm": {
     "is_executing": true,
     "name": "#%%\n"
    }
   },
   "outputs": [
    {
     "data": {
      "text/plain": [
       "(DecisionTreeClassifier(),\n",
       " array([[0.94853517, 0.18217662, 0.        , ..., 0.96721311, 0.        ,\n",
       "         0.        ],\n",
       "        [0.05576487, 0.18217662, 0.79885321, ..., 0.96721311, 1.        ,\n",
       "         1.        ],\n",
       "        [0.20822432, 0.31673739, 0.79885321, ..., 0.96721311, 1.        ,\n",
       "         1.        ],\n",
       "        ...,\n",
       "        [0.41295701, 0.26058122, 0.        , ..., 0.96721311, 0.        ,\n",
       "         0.        ],\n",
       "        [0.53029879, 0.2611337 , 0.79935461, ..., 0.96721311, 1.        ,\n",
       "         0.20064539],\n",
       "        [0.41496257, 0.29849819, 0.09758785, ..., 0.96721311, 0.        ,\n",
       "         0.12215992]]),\n",
       "         SERVICER_NAME  SELLER_NAME  LOAN_PURPOSE  PROPERTY_TYPE  \\\n",
       " 449016       0.043020     0.060503      0.032525       0.038516   \n",
       " 205439       0.029206     0.025874      0.032525       0.021925   \n",
       " 246451       0.030501     0.034089      0.039414       0.038516   \n",
       " 374550       0.081589     0.034089      0.032525       0.038516   \n",
       " 220131       0.011764     0.027771      0.032525       0.038516   \n",
       " ...               ...          ...           ...            ...   \n",
       " 212280       0.011764     0.027771      0.032525       0.038516   \n",
       " 96572        0.104028     0.034089      0.032525       0.038516   \n",
       " 114844       0.014626     0.032651      0.039414       0.038516   \n",
       " 352614       0.011764     0.027271      0.032525       0.038516   \n",
       " 83664        0.049702     0.034089      0.032525       0.038516   \n",
       " \n",
       "         PROPERTY_STATE  PRODUCT_TYPE   CHANNEL  OCCUPANCY_STATUS  \\\n",
       " 449016        0.012582      0.035972  0.041081          0.035948   \n",
       " 205439        0.019220      0.035972  0.041081          0.035948   \n",
       " 246451        0.056566      0.035972  0.029420          0.035948   \n",
       " 374550        0.063904      0.035972  0.041081          0.035948   \n",
       " 220131        0.042363      0.035972  0.029420          0.035948   \n",
       " ...                ...           ...       ...               ...   \n",
       " 212280        0.042363      0.035972  0.041081          0.035948   \n",
       " 96572         0.042097      0.035972  0.029420          0.035948   \n",
       " 114844        0.046298      0.035972  0.041081          0.035948   \n",
       " 352614        0.059733      0.035972  0.029420          0.035948   \n",
       " 83664         0.067031      0.035972  0.029420          0.035948   \n",
       " \n",
       "         CREDIT_SCORE  FIRST_TIME_HOMEBUYER_FLAG  \\\n",
       " 449016         716.0                        0.0   \n",
       " 205439         628.0                        1.0   \n",
       " 246451         674.0                        2.0   \n",
       " 374550         730.0                        0.0   \n",
       " 220131         666.0                        0.0   \n",
       " ...              ...                        ...   \n",
       " 212280         783.0                        0.0   \n",
       " 96572          736.0                        0.0   \n",
       " 114844         746.0                        2.0   \n",
       " 352614         741.0                        0.0   \n",
       " 83664          686.0                        0.0   \n",
       " \n",
       "         METROPOLITAN_STATISTICAL_AREA  NUMBER_OF_UNITS  \\\n",
       " 449016                        31084.0              1.0   \n",
       " 205439                        16974.0              1.0   \n",
       " 246451                        39580.0              1.0   \n",
       " 374550                        23460.0              1.0   \n",
       " 220131                        27780.0              1.0   \n",
       " ...                               ...              ...   \n",
       " 212280                        37964.0              1.0   \n",
       " 96572                         48620.0              1.0   \n",
       " 114844                        29620.0              1.0   \n",
       " 352614                        16974.0              1.0   \n",
       " 83664                         17460.0              1.0   \n",
       " \n",
       "         ORIGINAL_COMBINED_LOAN_TO_VALUE  ORIGINAL_DEBT_TO_INCOME_RATIO  \\\n",
       " 449016                             90.0                           41.0   \n",
       " 205439                             95.0                           37.0   \n",
       " 246451                             71.0                           49.0   \n",
       " 374550                             95.0                           44.0   \n",
       " 220131                             77.0                           20.0   \n",
       " ...                                 ...                            ...   \n",
       " 212280                             80.0                           20.0   \n",
       " 96572                              90.0                           54.0   \n",
       " 114844                             75.0                           30.0   \n",
       " 352614                             79.0                           32.0   \n",
       " 83664                              95.0                           37.0   \n",
       " \n",
       "         ORIGINAL_LOAN_TO_VALUE  POSTAL_CODE  ORIGINAL_LOAN_TERM  \\\n",
       " 449016                    80.0        813.0               360.0   \n",
       " 205439                    95.0        200.0               360.0   \n",
       " 246451                    71.0        251.0               360.0   \n",
       " 374550                    95.0        328.0               360.0   \n",
       " 220131                    77.0        141.0               360.0   \n",
       " ...                        ...          ...                 ...   \n",
       " 212280                    80.0        172.0               360.0   \n",
       " 96572                     90.0        615.0               360.0   \n",
       " 114844                    75.0        451.0               360.0   \n",
       " 352614                    79.0        290.0               360.0   \n",
       " 83664                     95.0        404.0               360.0   \n",
       " \n",
       "         NUMBER_OF_BORROWERS  PREPAID  \n",
       " 449016                  2.0      1.0  \n",
       " 205439                  2.0      1.0  \n",
       " 246451                  1.0      1.0  \n",
       " 374550                  1.0      1.0  \n",
       " 220131                  2.0      1.0  \n",
       " ...                     ...      ...  \n",
       " 212280                  1.0      1.0  \n",
       " 96572                   1.0      0.0  \n",
       " 114844                  1.0      1.0  \n",
       " 352614                  1.0      1.0  \n",
       " 83664                   2.0      1.0  \n",
       " \n",
       " [150042 rows x 19 columns],\n",
       " 0         0.0\n",
       " 1         0.0\n",
       " 2         0.0\n",
       " 3         0.0\n",
       " 4         0.0\n",
       "          ... \n",
       " 674935    1.0\n",
       " 674936    1.0\n",
       " 674937    1.0\n",
       " 674938    1.0\n",
       " 674939    1.0\n",
       " Name: DELINQUENT, Length: 674940, dtype: float64,\n",
       " 449016    0.0\n",
       " 205439    0.0\n",
       " 246451    0.0\n",
       " 374550    0.0\n",
       " 220131    0.0\n",
       "          ... \n",
       " 212280    0.0\n",
       " 96572     0.0\n",
       " 114844    0.0\n",
       " 352614    0.0\n",
       " 83664     0.0\n",
       " Name: DELINQUENT, Length: 150042, dtype: float64)"
      ]
     },
     "execution_count": 42,
     "metadata": {},
     "output_type": "execute_result"
    }
   ],
   "source": [
    "des = DecisionTreeClassifier()\n",
    "des.fit(X_resampled, y_resampled)\n"
   ]
  },
  {
   "cell_type": "code",
   "execution_count": null,
   "metadata": {},
   "outputs": [],
   "source": []
  }
 ],
 "metadata": {
  "kernelspec": {
   "display_name": "Python 3 (ipykernel)",
   "language": "python",
   "name": "python3"
  },
  "language_info": {
   "codemirror_mode": {
    "name": "ipython",
    "version": 3
   },
   "file_extension": ".py",
   "mimetype": "text/x-python",
   "name": "python",
   "nbconvert_exporter": "python",
   "pygments_lexer": "ipython3",
   "version": "3.9.12"
  }
 },
 "nbformat": 4,
 "nbformat_minor": 1
}
