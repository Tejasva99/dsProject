{
 "cells": [
  {
   "cell_type": "code",
   "execution_count": 43,
   "metadata": {
    "pycharm": {
     "name": "#%%\n"
    }
   },
   "outputs": [],
   "source": [
    "import warnings\n",
    "warnings.filterwarnings(\"ignore\")"
   ]
  },
  {
   "cell_type": "code",
   "execution_count": 44,
   "metadata": {
    "pycharm": {
     "name": "#%%\n"
    }
   },
   "outputs": [],
   "source": [
    "import numpy as np\n",
    "import pandas as pd\n",
    "import matplotlib.pyplot as plt\n",
    "from catboost import CatBoostClassifier\n",
    "import seaborn as sns\n",
    "from sklearn.preprocessing import StandardScaler\n",
    "from verstack import NaNImputer\n",
    "from sklearn.preprocessing import LabelEncoder\n",
    "from sklearn.preprocessing import OrdinalEncoder\n",
    "from imblearn.over_sampling import RandomOverSampler"
   ]
  },
  {
   "cell_type": "code",
   "execution_count": 45,
   "metadata": {
    "pycharm": {
     "name": "#%%\n"
    }
   },
   "outputs": [],
   "source": [
    "from sklearn.model_selection import train_test_split\n",
    "from sklearn.compose import ColumnTransformer\n",
    "from sklearn.pipeline import Pipeline,make_pipeline\n",
    "from sklearn.tree import DecisionTreeClassifier\n",
    "from scipy.stats import skew"
   ]
  },
  {
   "cell_type": "code",
   "execution_count": 46,
   "metadata": {
    "pycharm": {
     "name": "#%%\n"
    }
   },
   "outputs": [
    {
     "data": {
      "text/plain": "   CREDIT_SCORE  FIRST_PAYMENT_DATE FIRST_TIME_HOMEBUYER_FLAG  MATURITY_DATE  \\\n0         669.0              200206                         N         202901   \n1         732.0              199904                         N         202903   \n2         679.0              200208                         N         202902   \n3         721.0              200209                         N         202902   \n4         618.0              200210                         N         202902   \n\n   METROPOLITAN_STATISTICAL_AREA  MORTGAGE_INSURANCE_PERCENTAGE  \\\n0                            NaN                            0.0   \n1                        17140.0                            0.0   \n2                        15940.0                           30.0   \n3                        38060.0                            0.0   \n4                        10420.0                           25.0   \n\n   NUMBER_OF_UNITS OCCUPANCY_STATUS  ORIGINAL_COMBINED_LOAN_TO_VALUE  \\\n0              1.0                O                             80.0   \n1              1.0                O                             25.0   \n2              1.0                O                             91.0   \n3              1.0                O                             39.0   \n4              1.0                O                             85.0   \n\n   ORIGINAL_DEBT_TO_INCOME_RATIO  ...  PROPERTY_TYPE  POSTAL_CODE  \\\n0                           33.0  ...             SF      26100.0   \n1                           10.0  ...             SF      45200.0   \n2                           48.0  ...             SF      44700.0   \n3                           13.0  ...             SF      85200.0   \n4                           24.0  ...             SF      44200.0   \n\n   LOAN_SEQUENCE_NUMBER LOAN_PURPOSE ORIGINAL_LOAN_TERM NUMBER_OF_BORROWERS  \\\n0          F199Q1000004            P                320                 2.0   \n1          F199Q1000005            N                360                 1.0   \n2          F199Q1000007            P                319                 1.0   \n3          F199Q1000013            N                318                 2.0   \n4          F199Q1000015            N                317                 2.0   \n\n     SELLER_NAME    SERVICER_NAME  PREPAID DELINQUENT  \n0  Other sellers  Other servicers     True      False  \n1  Other sellers  Other servicers     True      False  \n2  Other sellers  Other servicers     True      False  \n3  Other sellers  Other servicers     True      False  \n4  Other sellers  Other servicers     True      False  \n\n[5 rows x 27 columns]",
      "text/html": "<div>\n<style scoped>\n    .dataframe tbody tr th:only-of-type {\n        vertical-align: middle;\n    }\n\n    .dataframe tbody tr th {\n        vertical-align: top;\n    }\n\n    .dataframe thead th {\n        text-align: right;\n    }\n</style>\n<table border=\"1\" class=\"dataframe\">\n  <thead>\n    <tr style=\"text-align: right;\">\n      <th></th>\n      <th>CREDIT_SCORE</th>\n      <th>FIRST_PAYMENT_DATE</th>\n      <th>FIRST_TIME_HOMEBUYER_FLAG</th>\n      <th>MATURITY_DATE</th>\n      <th>METROPOLITAN_STATISTICAL_AREA</th>\n      <th>MORTGAGE_INSURANCE_PERCENTAGE</th>\n      <th>NUMBER_OF_UNITS</th>\n      <th>OCCUPANCY_STATUS</th>\n      <th>ORIGINAL_COMBINED_LOAN_TO_VALUE</th>\n      <th>ORIGINAL_DEBT_TO_INCOME_RATIO</th>\n      <th>...</th>\n      <th>PROPERTY_TYPE</th>\n      <th>POSTAL_CODE</th>\n      <th>LOAN_SEQUENCE_NUMBER</th>\n      <th>LOAN_PURPOSE</th>\n      <th>ORIGINAL_LOAN_TERM</th>\n      <th>NUMBER_OF_BORROWERS</th>\n      <th>SELLER_NAME</th>\n      <th>SERVICER_NAME</th>\n      <th>PREPAID</th>\n      <th>DELINQUENT</th>\n    </tr>\n  </thead>\n  <tbody>\n    <tr>\n      <th>0</th>\n      <td>669.0</td>\n      <td>200206</td>\n      <td>N</td>\n      <td>202901</td>\n      <td>NaN</td>\n      <td>0.0</td>\n      <td>1.0</td>\n      <td>O</td>\n      <td>80.0</td>\n      <td>33.0</td>\n      <td>...</td>\n      <td>SF</td>\n      <td>26100.0</td>\n      <td>F199Q1000004</td>\n      <td>P</td>\n      <td>320</td>\n      <td>2.0</td>\n      <td>Other sellers</td>\n      <td>Other servicers</td>\n      <td>True</td>\n      <td>False</td>\n    </tr>\n    <tr>\n      <th>1</th>\n      <td>732.0</td>\n      <td>199904</td>\n      <td>N</td>\n      <td>202903</td>\n      <td>17140.0</td>\n      <td>0.0</td>\n      <td>1.0</td>\n      <td>O</td>\n      <td>25.0</td>\n      <td>10.0</td>\n      <td>...</td>\n      <td>SF</td>\n      <td>45200.0</td>\n      <td>F199Q1000005</td>\n      <td>N</td>\n      <td>360</td>\n      <td>1.0</td>\n      <td>Other sellers</td>\n      <td>Other servicers</td>\n      <td>True</td>\n      <td>False</td>\n    </tr>\n    <tr>\n      <th>2</th>\n      <td>679.0</td>\n      <td>200208</td>\n      <td>N</td>\n      <td>202902</td>\n      <td>15940.0</td>\n      <td>30.0</td>\n      <td>1.0</td>\n      <td>O</td>\n      <td>91.0</td>\n      <td>48.0</td>\n      <td>...</td>\n      <td>SF</td>\n      <td>44700.0</td>\n      <td>F199Q1000007</td>\n      <td>P</td>\n      <td>319</td>\n      <td>1.0</td>\n      <td>Other sellers</td>\n      <td>Other servicers</td>\n      <td>True</td>\n      <td>False</td>\n    </tr>\n    <tr>\n      <th>3</th>\n      <td>721.0</td>\n      <td>200209</td>\n      <td>N</td>\n      <td>202902</td>\n      <td>38060.0</td>\n      <td>0.0</td>\n      <td>1.0</td>\n      <td>O</td>\n      <td>39.0</td>\n      <td>13.0</td>\n      <td>...</td>\n      <td>SF</td>\n      <td>85200.0</td>\n      <td>F199Q1000013</td>\n      <td>N</td>\n      <td>318</td>\n      <td>2.0</td>\n      <td>Other sellers</td>\n      <td>Other servicers</td>\n      <td>True</td>\n      <td>False</td>\n    </tr>\n    <tr>\n      <th>4</th>\n      <td>618.0</td>\n      <td>200210</td>\n      <td>N</td>\n      <td>202902</td>\n      <td>10420.0</td>\n      <td>25.0</td>\n      <td>1.0</td>\n      <td>O</td>\n      <td>85.0</td>\n      <td>24.0</td>\n      <td>...</td>\n      <td>SF</td>\n      <td>44200.0</td>\n      <td>F199Q1000015</td>\n      <td>N</td>\n      <td>317</td>\n      <td>2.0</td>\n      <td>Other sellers</td>\n      <td>Other servicers</td>\n      <td>True</td>\n      <td>False</td>\n    </tr>\n  </tbody>\n</table>\n<p>5 rows × 27 columns</p>\n</div>"
     },
     "execution_count": 46,
     "metadata": {},
     "output_type": "execute_result"
    }
   ],
   "source": [
    "df = pd.read_csv('loan_level_500k.csv')\n",
    "df.head()"
   ]
  },
  {
   "cell_type": "code",
   "execution_count": 47,
   "metadata": {
    "pycharm": {
     "name": "#%%\n"
    }
   },
   "outputs": [],
   "source": [
    "df.drop('LOAN_SEQUENCE_NUMBER', inplace=True, axis =1)"
   ]
  },
  {
   "cell_type": "code",
   "execution_count": 48,
   "metadata": {
    "pycharm": {
     "name": "#%%\n"
    }
   },
   "outputs": [
    {
     "data": {
      "text/plain": "(500137, 26)"
     },
     "execution_count": 48,
     "metadata": {},
     "output_type": "execute_result"
    }
   ],
   "source": [
    "df.shape"
   ]
  },
  {
   "cell_type": "code",
   "execution_count": 49,
   "metadata": {
    "pycharm": {
     "name": "#%%\n"
    }
   },
   "outputs": [
    {
     "name": "stdout",
     "output_type": "stream",
     "text": [
      "<class 'pandas.core.frame.DataFrame'>\n",
      "RangeIndex: 500137 entries, 0 to 500136\n",
      "Data columns (total 26 columns):\n",
      " #   Column                            Non-Null Count   Dtype  \n",
      "---  ------                            --------------   -----  \n",
      " 0   CREDIT_SCORE                      497426 non-null  float64\n",
      " 1   FIRST_PAYMENT_DATE                500137 non-null  int64  \n",
      " 2   FIRST_TIME_HOMEBUYER_FLAG         369578 non-null  object \n",
      " 3   MATURITY_DATE                     500137 non-null  int64  \n",
      " 4   METROPOLITAN_STATISTICAL_AREA     429988 non-null  float64\n",
      " 5   MORTGAGE_INSURANCE_PERCENTAGE     449089 non-null  float64\n",
      " 6   NUMBER_OF_UNITS                   500134 non-null  float64\n",
      " 7   OCCUPANCY_STATUS                  500137 non-null  object \n",
      " 8   ORIGINAL_COMBINED_LOAN_TO_VALUE   500124 non-null  float64\n",
      " 9   ORIGINAL_DEBT_TO_INCOME_RATIO     485208 non-null  float64\n",
      " 10  ORIGINAL_UPB                      500137 non-null  int64  \n",
      " 11  ORIGINAL_LOAN_TO_VALUE            500128 non-null  float64\n",
      " 12  ORIGINAL_INTEREST_RATE            500137 non-null  float64\n",
      " 13  CHANNEL                           500137 non-null  object \n",
      " 14  PREPAYMENT_PENALTY_MORTGAGE_FLAG  494959 non-null  object \n",
      " 15  PRODUCT_TYPE                      500137 non-null  object \n",
      " 16  PROPERTY_STATE                    500137 non-null  object \n",
      " 17  PROPERTY_TYPE                     500042 non-null  object \n",
      " 18  POSTAL_CODE                       500106 non-null  float64\n",
      " 19  LOAN_PURPOSE                      500137 non-null  object \n",
      " 20  ORIGINAL_LOAN_TERM                500137 non-null  int64  \n",
      " 21  NUMBER_OF_BORROWERS               499890 non-null  float64\n",
      " 22  SELLER_NAME                       500137 non-null  object \n",
      " 23  SERVICER_NAME                     500137 non-null  object \n",
      " 24  PREPAID                           500137 non-null  bool   \n",
      " 25  DELINQUENT                        500137 non-null  bool   \n",
      "dtypes: bool(2), float64(10), int64(4), object(10)\n",
      "memory usage: 92.5+ MB\n"
     ]
    }
   ],
   "source": [
    "df.info()"
   ]
  },
  {
   "cell_type": "code",
   "execution_count": 50,
   "metadata": {
    "pycharm": {
     "name": "#%%\n"
    }
   },
   "outputs": [
    {
     "data": {
      "text/plain": "                                    count           mean           std  \\\nCREDIT_SCORE                     497426.0     712.536212     54.791262   \nFIRST_PAYMENT_DATE               500137.0  200025.430952    109.815541   \nMATURITY_DATE                    500137.0  203023.195872    110.384189   \nMETROPOLITAN_STATISTICAL_AREA    429988.0   30777.824739  11333.401144   \nMORTGAGE_INSURANCE_PERCENTAGE    449089.0       7.744532     12.046546   \nNUMBER_OF_UNITS                  500134.0       1.028890      0.218391   \nORIGINAL_COMBINED_LOAN_TO_VALUE  500124.0      76.053571     15.139986   \nORIGINAL_DEBT_TO_INCOME_RATIO    485208.0      32.917541     11.111800   \nORIGINAL_UPB                     500137.0  136493.484785  60968.743066   \nORIGINAL_LOAN_TO_VALUE           500128.0      75.710714     14.937717   \nORIGINAL_INTEREST_RATE           500137.0       7.182687      0.579941   \nPOSTAL_CODE                      500106.0   55490.857138  29505.382259   \nORIGINAL_LOAN_TERM               500137.0     359.855470      1.908251   \nNUMBER_OF_BORROWERS              499890.0       1.630295      0.482725   \n\n                                        min         25%       50%         75%  \\\nCREDIT_SCORE                        300.000     676.000     719.0     756.000   \nFIRST_PAYMENT_DATE               199901.000  199904.000  200005.0  200105.000   \nMATURITY_DATE                    202402.000  202903.000  203004.0  203104.000   \nMETROPOLITAN_STATISTICAL_AREA     10180.000   19740.000   33340.0   40420.000   \nMORTGAGE_INSURANCE_PERCENTAGE         0.000       0.000       0.0      18.000   \nNUMBER_OF_UNITS                       1.000       1.000       1.0       1.000   \nORIGINAL_COMBINED_LOAN_TO_VALUE       6.000      70.000      80.0      88.000   \nORIGINAL_DEBT_TO_INCOME_RATIO         1.000      25.000      33.0      41.000   \nORIGINAL_UPB                       8000.000   89000.000  126000.0  176000.000   \nORIGINAL_LOAN_TO_VALUE                6.000      70.000      80.0      85.000   \nORIGINAL_INTEREST_RATE                4.625       6.875       7.0       7.375   \nPOSTAL_CODE                         600.000   30500.000   54200.0   85000.000   \nORIGINAL_LOAN_TERM                  301.000     360.000     360.0     360.000   \nNUMBER_OF_BORROWERS                   1.000       1.000       2.0       2.000   \n\n                                      max  \nCREDIT_SCORE                        839.0  \nFIRST_PAYMENT_DATE               201103.0  \nMATURITY_DATE                    204101.0  \nMETROPOLITAN_STATISTICAL_AREA     49740.0  \nMORTGAGE_INSURANCE_PERCENTAGE        55.0  \nNUMBER_OF_UNITS                       4.0  \nORIGINAL_COMBINED_LOAN_TO_VALUE     180.0  \nORIGINAL_DEBT_TO_INCOME_RATIO        65.0  \nORIGINAL_UPB                     578000.0  \nORIGINAL_LOAN_TO_VALUE              100.0  \nORIGINAL_INTEREST_RATE               11.5  \nPOSTAL_CODE                       99900.0  \nORIGINAL_LOAN_TERM                  362.0  \nNUMBER_OF_BORROWERS                   2.0  ",
      "text/html": "<div>\n<style scoped>\n    .dataframe tbody tr th:only-of-type {\n        vertical-align: middle;\n    }\n\n    .dataframe tbody tr th {\n        vertical-align: top;\n    }\n\n    .dataframe thead th {\n        text-align: right;\n    }\n</style>\n<table border=\"1\" class=\"dataframe\">\n  <thead>\n    <tr style=\"text-align: right;\">\n      <th></th>\n      <th>count</th>\n      <th>mean</th>\n      <th>std</th>\n      <th>min</th>\n      <th>25%</th>\n      <th>50%</th>\n      <th>75%</th>\n      <th>max</th>\n    </tr>\n  </thead>\n  <tbody>\n    <tr>\n      <th>CREDIT_SCORE</th>\n      <td>497426.0</td>\n      <td>712.536212</td>\n      <td>54.791262</td>\n      <td>300.000</td>\n      <td>676.000</td>\n      <td>719.0</td>\n      <td>756.000</td>\n      <td>839.0</td>\n    </tr>\n    <tr>\n      <th>FIRST_PAYMENT_DATE</th>\n      <td>500137.0</td>\n      <td>200025.430952</td>\n      <td>109.815541</td>\n      <td>199901.000</td>\n      <td>199904.000</td>\n      <td>200005.0</td>\n      <td>200105.000</td>\n      <td>201103.0</td>\n    </tr>\n    <tr>\n      <th>MATURITY_DATE</th>\n      <td>500137.0</td>\n      <td>203023.195872</td>\n      <td>110.384189</td>\n      <td>202402.000</td>\n      <td>202903.000</td>\n      <td>203004.0</td>\n      <td>203104.000</td>\n      <td>204101.0</td>\n    </tr>\n    <tr>\n      <th>METROPOLITAN_STATISTICAL_AREA</th>\n      <td>429988.0</td>\n      <td>30777.824739</td>\n      <td>11333.401144</td>\n      <td>10180.000</td>\n      <td>19740.000</td>\n      <td>33340.0</td>\n      <td>40420.000</td>\n      <td>49740.0</td>\n    </tr>\n    <tr>\n      <th>MORTGAGE_INSURANCE_PERCENTAGE</th>\n      <td>449089.0</td>\n      <td>7.744532</td>\n      <td>12.046546</td>\n      <td>0.000</td>\n      <td>0.000</td>\n      <td>0.0</td>\n      <td>18.000</td>\n      <td>55.0</td>\n    </tr>\n    <tr>\n      <th>NUMBER_OF_UNITS</th>\n      <td>500134.0</td>\n      <td>1.028890</td>\n      <td>0.218391</td>\n      <td>1.000</td>\n      <td>1.000</td>\n      <td>1.0</td>\n      <td>1.000</td>\n      <td>4.0</td>\n    </tr>\n    <tr>\n      <th>ORIGINAL_COMBINED_LOAN_TO_VALUE</th>\n      <td>500124.0</td>\n      <td>76.053571</td>\n      <td>15.139986</td>\n      <td>6.000</td>\n      <td>70.000</td>\n      <td>80.0</td>\n      <td>88.000</td>\n      <td>180.0</td>\n    </tr>\n    <tr>\n      <th>ORIGINAL_DEBT_TO_INCOME_RATIO</th>\n      <td>485208.0</td>\n      <td>32.917541</td>\n      <td>11.111800</td>\n      <td>1.000</td>\n      <td>25.000</td>\n      <td>33.0</td>\n      <td>41.000</td>\n      <td>65.0</td>\n    </tr>\n    <tr>\n      <th>ORIGINAL_UPB</th>\n      <td>500137.0</td>\n      <td>136493.484785</td>\n      <td>60968.743066</td>\n      <td>8000.000</td>\n      <td>89000.000</td>\n      <td>126000.0</td>\n      <td>176000.000</td>\n      <td>578000.0</td>\n    </tr>\n    <tr>\n      <th>ORIGINAL_LOAN_TO_VALUE</th>\n      <td>500128.0</td>\n      <td>75.710714</td>\n      <td>14.937717</td>\n      <td>6.000</td>\n      <td>70.000</td>\n      <td>80.0</td>\n      <td>85.000</td>\n      <td>100.0</td>\n    </tr>\n    <tr>\n      <th>ORIGINAL_INTEREST_RATE</th>\n      <td>500137.0</td>\n      <td>7.182687</td>\n      <td>0.579941</td>\n      <td>4.625</td>\n      <td>6.875</td>\n      <td>7.0</td>\n      <td>7.375</td>\n      <td>11.5</td>\n    </tr>\n    <tr>\n      <th>POSTAL_CODE</th>\n      <td>500106.0</td>\n      <td>55490.857138</td>\n      <td>29505.382259</td>\n      <td>600.000</td>\n      <td>30500.000</td>\n      <td>54200.0</td>\n      <td>85000.000</td>\n      <td>99900.0</td>\n    </tr>\n    <tr>\n      <th>ORIGINAL_LOAN_TERM</th>\n      <td>500137.0</td>\n      <td>359.855470</td>\n      <td>1.908251</td>\n      <td>301.000</td>\n      <td>360.000</td>\n      <td>360.0</td>\n      <td>360.000</td>\n      <td>362.0</td>\n    </tr>\n    <tr>\n      <th>NUMBER_OF_BORROWERS</th>\n      <td>499890.0</td>\n      <td>1.630295</td>\n      <td>0.482725</td>\n      <td>1.000</td>\n      <td>1.000</td>\n      <td>2.0</td>\n      <td>2.000</td>\n      <td>2.0</td>\n    </tr>\n  </tbody>\n</table>\n</div>"
     },
     "execution_count": 50,
     "metadata": {},
     "output_type": "execute_result"
    }
   ],
   "source": [
    "df.describe().T"
   ]
  },
  {
   "cell_type": "markdown",
   "metadata": {
    "pycharm": {
     "name": "#%% md\n"
    }
   },
   "source": [
    "Dropping irrelevant columns (Not Available during prediction)"
   ]
  },
  {
   "cell_type": "code",
   "execution_count": 51,
   "metadata": {
    "pycharm": {
     "name": "#%%\n"
    }
   },
   "outputs": [],
   "source": [
    "df.drop([\"FIRST_PAYMENT_DATE\", \"MATURITY_DATE\", \"MORTGAGE_INSURANCE_PERCENTAGE\", \"ORIGINAL_UPB\", \"ORIGINAL_INTEREST_RATE\", \"PREPAYMENT_PENALTY_MORTGAGE_FLAG\"], inplace=True, axis=1)"
   ]
  },
  {
   "cell_type": "code",
   "execution_count": 52,
   "metadata": {
    "pycharm": {
     "name": "#%%\n"
    }
   },
   "outputs": [
    {
     "name": "stdout",
     "output_type": "stream",
     "text": [
      "PRODUCT_TYPE                            0\n",
      "SERVICER_NAME                           0\n",
      "SELLER_NAME                             0\n",
      "ORIGINAL_LOAN_TERM                      0\n",
      "LOAN_PURPOSE                            0\n",
      "PROPERTY_STATE                          0\n",
      "PREPAID                                 0\n",
      "CHANNEL                                 0\n",
      "DELINQUENT                              0\n",
      "OCCUPANCY_STATUS                        0\n",
      "NUMBER_OF_UNITS                         3\n",
      "ORIGINAL_LOAN_TO_VALUE                  9\n",
      "ORIGINAL_COMBINED_LOAN_TO_VALUE        13\n",
      "POSTAL_CODE                            31\n",
      "PROPERTY_TYPE                          95\n",
      "NUMBER_OF_BORROWERS                   247\n",
      "CREDIT_SCORE                         2711\n",
      "ORIGINAL_DEBT_TO_INCOME_RATIO       14929\n",
      "METROPOLITAN_STATISTICAL_AREA       70149\n",
      "FIRST_TIME_HOMEBUYER_FLAG          130559\n",
      "dtype: int64\n"
     ]
    }
   ],
   "source": [
    "print(df.isnull().sum().sort_values())"
   ]
  },
  {
   "cell_type": "code",
   "execution_count": 53,
   "metadata": {
    "pycharm": {
     "name": "#%%\n"
    }
   },
   "outputs": [],
   "source": [
    "def missing_percentage(df):\n",
    "    missing = pd.DataFrame(columns=['Category', 'Percentage'])\n",
    "    for col in df.columns:\n",
    "        if df[col].isna().values.any():\n",
    "            percentage = 100*df[col].isna().sum()/df.shape[0]\n",
    "            missing = missing.append({'Category':col, 'Percentage':percentage}, ignore_index = True)\n",
    "    return missing"
   ]
  },
  {
   "cell_type": "code",
   "execution_count": 54,
   "metadata": {
    "pycharm": {
     "name": "#%%\n"
    }
   },
   "outputs": [
    {
     "data": {
      "text/plain": "                          Category Percentage\n1        FIRST_TIME_HOMEBUYER_FLAG  26.104647\n2    METROPOLITAN_STATISTICAL_AREA  14.025957\n5    ORIGINAL_DEBT_TO_INCOME_RATIO   2.984982\n0                     CREDIT_SCORE   0.542051\n9              NUMBER_OF_BORROWERS   0.049386\n7                    PROPERTY_TYPE   0.018995\n8                      POSTAL_CODE   0.006198\n4  ORIGINAL_COMBINED_LOAN_TO_VALUE   0.002599\n6           ORIGINAL_LOAN_TO_VALUE     0.0018\n3                  NUMBER_OF_UNITS     0.0006",
      "text/html": "<div>\n<style scoped>\n    .dataframe tbody tr th:only-of-type {\n        vertical-align: middle;\n    }\n\n    .dataframe tbody tr th {\n        vertical-align: top;\n    }\n\n    .dataframe thead th {\n        text-align: right;\n    }\n</style>\n<table border=\"1\" class=\"dataframe\">\n  <thead>\n    <tr style=\"text-align: right;\">\n      <th></th>\n      <th>Category</th>\n      <th>Percentage</th>\n    </tr>\n  </thead>\n  <tbody>\n    <tr>\n      <th>1</th>\n      <td>FIRST_TIME_HOMEBUYER_FLAG</td>\n      <td>26.104647</td>\n    </tr>\n    <tr>\n      <th>2</th>\n      <td>METROPOLITAN_STATISTICAL_AREA</td>\n      <td>14.025957</td>\n    </tr>\n    <tr>\n      <th>5</th>\n      <td>ORIGINAL_DEBT_TO_INCOME_RATIO</td>\n      <td>2.984982</td>\n    </tr>\n    <tr>\n      <th>0</th>\n      <td>CREDIT_SCORE</td>\n      <td>0.542051</td>\n    </tr>\n    <tr>\n      <th>9</th>\n      <td>NUMBER_OF_BORROWERS</td>\n      <td>0.049386</td>\n    </tr>\n    <tr>\n      <th>7</th>\n      <td>PROPERTY_TYPE</td>\n      <td>0.018995</td>\n    </tr>\n    <tr>\n      <th>8</th>\n      <td>POSTAL_CODE</td>\n      <td>0.006198</td>\n    </tr>\n    <tr>\n      <th>4</th>\n      <td>ORIGINAL_COMBINED_LOAN_TO_VALUE</td>\n      <td>0.002599</td>\n    </tr>\n    <tr>\n      <th>6</th>\n      <td>ORIGINAL_LOAN_TO_VALUE</td>\n      <td>0.0018</td>\n    </tr>\n    <tr>\n      <th>3</th>\n      <td>NUMBER_OF_UNITS</td>\n      <td>0.0006</td>\n    </tr>\n  </tbody>\n</table>\n</div>"
     },
     "execution_count": 54,
     "metadata": {},
     "output_type": "execute_result"
    }
   ],
   "source": [
    "missingdata = missing_percentage(df)\n",
    "missingdata.sort_values('Percentage', ascending=False)"
   ]
  },
  {
   "cell_type": "code",
   "execution_count": 55,
   "metadata": {
    "pycharm": {
     "name": "#%%\n"
    }
   },
   "outputs": [
    {
     "data": {
      "text/plain": "N    320418\nY     49160\nName: FIRST_TIME_HOMEBUYER_FLAG, dtype: int64"
     },
     "execution_count": 55,
     "metadata": {},
     "output_type": "execute_result"
    }
   ],
   "source": [
    "df.FIRST_TIME_HOMEBUYER_FLAG.value_counts()"
   ]
  },
  {
   "cell_type": "code",
   "execution_count": 56,
   "outputs": [],
   "source": [
    "def Label_ENC():\n",
    "    label_encoder = LabelEncoder()\n",
    "    df['DELINQUENT']= label_encoder.fit_transform(df['DELINQUENT'])\n",
    "    df['PREPAID']= label_encoder.fit_transform(df['PREPAID'])\n",
    "    df['POSTAL_CODE'] = label_encoder.fit_transform(df['POSTAL_CODE'])\n",
    "    df['FIRST_TIME_HOMEBUYER_FLAG'] = label_encoder.fit_transform(df['FIRST_TIME_HOMEBUYER_FLAG'])"
   ],
   "metadata": {
    "collapsed": false,
    "pycharm": {
     "name": "#%%\n"
    }
   }
  },
  {
   "cell_type": "code",
   "execution_count": 57,
   "metadata": {
    "pycharm": {
     "name": "#%%\n"
    }
   },
   "outputs": [],
   "source": [
    "mylist = ['OCCUPANCY_STATUS', 'CHANNEL', 'PRODUCT_TYPE', 'PROPERTY_STATE',\n",
    "          'PROPERTY_TYPE', 'LOAN_PURPOSE', 'SELLER_NAME', 'SERVICER_NAME']"
   ]
  },
  {
   "cell_type": "code",
   "execution_count": 58,
   "metadata": {
    "pycharm": {
     "name": "#%%\n"
    }
   },
   "outputs": [
    {
     "data": {
      "text/plain": "Index(['CREDIT_SCORE', 'FIRST_TIME_HOMEBUYER_FLAG',\n       'METROPOLITAN_STATISTICAL_AREA', 'NUMBER_OF_UNITS', 'OCCUPANCY_STATUS',\n       'ORIGINAL_COMBINED_LOAN_TO_VALUE', 'ORIGINAL_DEBT_TO_INCOME_RATIO',\n       'ORIGINAL_LOAN_TO_VALUE', 'CHANNEL', 'PRODUCT_TYPE', 'PROPERTY_STATE',\n       'PROPERTY_TYPE', 'POSTAL_CODE', 'LOAN_PURPOSE', 'ORIGINAL_LOAN_TERM',\n       'NUMBER_OF_BORROWERS', 'SELLER_NAME', 'SERVICER_NAME', 'PREPAID',\n       'DELINQUENT'],\n      dtype='object')"
     },
     "execution_count": 58,
     "metadata": {},
     "output_type": "execute_result"
    }
   ],
   "source": [
    "col = df.columns\n",
    "col"
   ]
  },
  {
   "cell_type": "code",
   "execution_count": 59,
   "outputs": [],
   "source": [
    "def Ordinal_ENC():\n",
    "    from sklearn.preprocessing import OrdinalEncoder\n",
    "    mylist = ['OCCUPANCY_STATUS', 'CHANNEL', 'PRODUCT_TYPE', 'PROPERTY_STATE',\n",
    "              'PROPERTY_TYPE', 'LOAN_PURPOSE', 'SELLER_NAME', 'SERVICER_NAME']\n",
    "    enc = OrdinalEncoder()\n",
    "    df_fit = enc.fit_transform(df[mylist])\n",
    "\n",
    "    df_fit = pd.DataFrame(df_fit, columns=mylist)\n",
    "    df_out = df_fit.join(df.drop(columns=mylist, axis=1))\n",
    "    return df_out"
   ],
   "metadata": {
    "collapsed": false,
    "pycharm": {
     "name": "#%%\n"
    }
   }
  },
  {
   "cell_type": "code",
   "execution_count": 60,
   "outputs": [],
   "source": [
    "df_out = Ordinal_ENC()"
   ],
   "metadata": {
    "collapsed": false,
    "pycharm": {
     "name": "#%%\n"
    }
   }
  },
  {
   "cell_type": "code",
   "execution_count": 61,
   "outputs": [],
   "source": [
    "def Verstack_IMP(df_out):\n",
    "    imputer = NaNImputer()\n",
    "    df_imp = imputer.impute(df_out)\n",
    "    df_imp.dropna(inplace=True)\n",
    "    return df_imp"
   ],
   "metadata": {
    "collapsed": false,
    "pycharm": {
     "name": "#%%\n"
    }
   }
  },
  {
   "cell_type": "code",
   "execution_count": 62,
   "outputs": [
    {
     "name": "stdout",
     "output_type": "stream",
     "text": [
      "NaNImputer(conservative = False, n_feats = 10,            \n",
      "           fix_string_nans = True, verbose = True,                \n",
      "           multiprocessing_load = 3, fill_nans_in_pure_text = True,                    \n",
      "           drop_empty_cols = True, drop_nan_cols_with_constant = True                        \n",
      "           feature_selection = correlation)\n",
      "\n",
      "Dataset dimensions:\n",
      " - rows:         500137\n",
      " - columns:      20\n",
      " - mb in memory: 69.64\n",
      " - NaN cols num: 10\n",
      "--------------------------\n",
      "\n",
      "Deploy multiprocessing with 12 parallel proceses\n",
      "\n",
      "\n",
      "NaNs imputation time: 0.87 minutes\n",
      "--------------------------------------------------\n"
     ]
    }
   ],
   "source": [
    "df_imp = Verstack_IMP(df_out)"
   ],
   "metadata": {
    "collapsed": false,
    "pycharm": {
     "name": "#%%\n"
    }
   }
  },
  {
   "cell_type": "code",
   "execution_count": 76,
   "outputs": [],
   "source": [
    "df_imp.drop('FIRST_TIME_HOMEBUYER_FLAG',axis = 1,  inplace=True)"
   ],
   "metadata": {
    "collapsed": false,
    "pycharm": {
     "name": "#%%\n"
    }
   }
  },
  {
   "cell_type": "markdown",
   "source": [
    "Pyod - Outlier Detection"
   ],
   "metadata": {
    "collapsed": false,
    "pycharm": {
     "name": "#%% md\n"
    }
   }
  },
  {
   "cell_type": "code",
   "execution_count": 77,
   "outputs": [],
   "source": [
    "# from pyod.models.abod import ABOD\n",
    "# from pyod.models.cblof import CBLOF\n",
    "# from pyod.models.feature_bagging import FeatureBagging\n",
    "# from pyod.models.hbos import HBOS\n",
    "# from pyod.models.iforest import IForest\n",
    "# from pyod.models.knn import KNN\n",
    "# from pyod.models.lof import LOF"
   ],
   "metadata": {
    "collapsed": false,
    "pycharm": {
     "name": "#%%\n"
    }
   }
  },
  {
   "cell_type": "code",
   "execution_count": 78,
   "outputs": [],
   "source": [
    "# df.plot.scatter('DELINQUENT', 'CREDIT_SCORE')"
   ],
   "metadata": {
    "collapsed": false,
    "pycharm": {
     "name": "#%%\n"
    }
   }
  },
  {
   "cell_type": "markdown",
   "source": [
    "Seperate Data"
   ],
   "metadata": {
    "collapsed": false,
    "pycharm": {
     "name": "#%% md\n"
    }
   }
  },
  {
   "cell_type": "code",
   "execution_count": 79,
   "metadata": {
    "pycharm": {
     "name": "#%%\n"
    }
   },
   "outputs": [],
   "source": [
    "X = df_imp.drop('DELINQUENT', axis =1)\n",
    "y = df_imp['DELINQUENT']"
   ]
  },
  {
   "cell_type": "code",
   "execution_count": 80,
   "metadata": {
    "pycharm": {
     "name": "#%%\n"
    }
   },
   "outputs": [
    {
     "data": {
      "text/plain": "             False   True\nDELINQUENT  400619  13899",
      "text/html": "<div>\n<style scoped>\n    .dataframe tbody tr th:only-of-type {\n        vertical-align: middle;\n    }\n\n    .dataframe tbody tr th {\n        vertical-align: top;\n    }\n\n    .dataframe thead th {\n        text-align: right;\n    }\n</style>\n<table border=\"1\" class=\"dataframe\">\n  <thead>\n    <tr style=\"text-align: right;\">\n      <th></th>\n      <th>False</th>\n      <th>True</th>\n    </tr>\n  </thead>\n  <tbody>\n    <tr>\n      <th>DELINQUENT</th>\n      <td>400619</td>\n      <td>13899</td>\n    </tr>\n  </tbody>\n</table>\n</div>"
     },
     "execution_count": 80,
     "metadata": {},
     "output_type": "execute_result"
    }
   ],
   "source": [
    "y.value_counts().to_frame().T"
   ]
  },
  {
   "cell_type": "markdown",
   "source": [
    "Feature Selection - PCA"
   ],
   "metadata": {
    "collapsed": false,
    "pycharm": {
     "name": "#%% md\n"
    }
   }
  },
  {
   "cell_type": "code",
   "execution_count": 81,
   "outputs": [],
   "source": [
    "# from sklearn.decomposition import PCA\n",
    "# pca = PCA(n_components = 15)\n",
    "# X = pca.fit_transform(X)"
   ],
   "metadata": {
    "collapsed": false,
    "pycharm": {
     "name": "#%%\n"
    }
   }
  },
  {
   "cell_type": "markdown",
   "source": [
    "Scaling"
   ],
   "metadata": {
    "collapsed": false,
    "pycharm": {
     "name": "#%% md\n"
    }
   }
  },
  {
   "cell_type": "code",
   "execution_count": 82,
   "outputs": [],
   "source": [
    "def Standard_SCA(X):\n",
    "    scaler = StandardScaler()\n",
    "    X_scaled = scaler.fit_transform(X)\n",
    "    return X_scaled"
   ],
   "metadata": {
    "collapsed": false,
    "pycharm": {
     "name": "#%%\n"
    }
   }
  },
  {
   "cell_type": "code",
   "execution_count": 83,
   "outputs": [],
   "source": [
    "X_scaled = Standard_SCA(X)"
   ],
   "metadata": {
    "collapsed": false,
    "pycharm": {
     "name": "#%%\n"
    }
   }
  },
  {
   "cell_type": "markdown",
   "source": [
    "Train test Split"
   ],
   "metadata": {
    "collapsed": false,
    "pycharm": {
     "name": "#%% md\n"
    }
   }
  },
  {
   "cell_type": "code",
   "execution_count": 88,
   "metadata": {
    "pycharm": {
     "name": "#%%\n"
    }
   },
   "outputs": [],
   "source": [
    "X_train, X_test, y_train, y_test = train_test_split(X_scaled, y, test_size=0.4, random_state=42)"
   ]
  },
  {
   "cell_type": "code",
   "execution_count": 89,
   "outputs": [
    {
     "data": {
      "text/plain": "False    240264\nTrue       8446\nName: DELINQUENT, dtype: int64"
     },
     "execution_count": 89,
     "metadata": {},
     "output_type": "execute_result"
    }
   ],
   "source": [
    "y_train.value_counts()"
   ],
   "metadata": {
    "collapsed": false,
    "pycharm": {
     "name": "#%%\n"
    }
   }
  },
  {
   "cell_type": "markdown",
   "source": [],
   "metadata": {
    "collapsed": false,
    "pycharm": {
     "name": "#%% md\n"
    }
   }
  },
  {
   "cell_type": "markdown",
   "source": [
    "Over-sample approach"
   ],
   "metadata": {
    "collapsed": false,
    "pycharm": {
     "name": "#%% md\n"
    }
   }
  },
  {
   "cell_type": "code",
   "execution_count": 93,
   "outputs": [],
   "source": [
    "def ROS(X_train, y_train):\n",
    "    sam = RandomOverSampler(sampling_strategy='minority')\n",
    "    X_resampled, y_resampled = sam.fit_resample(X_train, y_train)\n",
    "    return X_resampled, y_resampled"
   ],
   "metadata": {
    "collapsed": false,
    "pycharm": {
     "name": "#%%\n"
    }
   }
  },
  {
   "cell_type": "code",
   "execution_count": 94,
   "outputs": [],
   "source": [
    "X_resampled, y_resampled = ROS(X_train, y_train)"
   ],
   "metadata": {
    "collapsed": false,
    "pycharm": {
     "name": "#%%\n"
    }
   }
  },
  {
   "cell_type": "markdown",
   "source": [
    "ML - Model (Xgboost)"
   ],
   "metadata": {
    "collapsed": false,
    "pycharm": {
     "name": "#%% md\n"
    }
   }
  },
  {
   "cell_type": "code",
   "execution_count": 95,
   "metadata": {
    "pycharm": {
     "name": "#%%\n"
    }
   },
   "outputs": [],
   "source": [
    "import xgboost as xgb\n",
    "from xgboost import XGBClassifier\n",
    "data_dmatrix = xgb.DMatrix(data=X,label=y)\n",
    "\n",
    "xgb_model = XGBClassifier()"
   ]
  },
  {
   "cell_type": "code",
   "execution_count": 96,
   "metadata": {
    "pycharm": {
     "name": "#%%\n"
    }
   },
   "outputs": [
    {
     "data": {
      "text/plain": "XGBClassifier(base_score=0.5, booster='gbtree', callbacks=None,\n              colsample_bylevel=1, colsample_bynode=1, colsample_bytree=1,\n              early_stopping_rounds=None, enable_categorical=False,\n              eval_metric=None, gamma=0, gpu_id=-1, grow_policy='depthwise',\n              importance_type=None, interaction_constraints='',\n              learning_rate=0.300000012, max_bin=256, max_cat_to_onehot=4,\n              max_delta_step=0, max_depth=6, max_leaves=0, min_child_weight=1,\n              missing=nan, monotone_constraints='()', n_estimators=100,\n              n_jobs=0, num_parallel_tree=1, predictor='auto', random_state=0,\n              reg_alpha=0, reg_lambda=1, ...)",
      "text/html": "<style>#sk-container-id-1 {color: black;background-color: white;}#sk-container-id-1 pre{padding: 0;}#sk-container-id-1 div.sk-toggleable {background-color: white;}#sk-container-id-1 label.sk-toggleable__label {cursor: pointer;display: block;width: 100%;margin-bottom: 0;padding: 0.3em;box-sizing: border-box;text-align: center;}#sk-container-id-1 label.sk-toggleable__label-arrow:before {content: \"▸\";float: left;margin-right: 0.25em;color: #696969;}#sk-container-id-1 label.sk-toggleable__label-arrow:hover:before {color: black;}#sk-container-id-1 div.sk-estimator:hover label.sk-toggleable__label-arrow:before {color: black;}#sk-container-id-1 div.sk-toggleable__content {max-height: 0;max-width: 0;overflow: hidden;text-align: left;background-color: #f0f8ff;}#sk-container-id-1 div.sk-toggleable__content pre {margin: 0.2em;color: black;border-radius: 0.25em;background-color: #f0f8ff;}#sk-container-id-1 input.sk-toggleable__control:checked~div.sk-toggleable__content {max-height: 200px;max-width: 100%;overflow: auto;}#sk-container-id-1 input.sk-toggleable__control:checked~label.sk-toggleable__label-arrow:before {content: \"▾\";}#sk-container-id-1 div.sk-estimator input.sk-toggleable__control:checked~label.sk-toggleable__label {background-color: #d4ebff;}#sk-container-id-1 div.sk-label input.sk-toggleable__control:checked~label.sk-toggleable__label {background-color: #d4ebff;}#sk-container-id-1 input.sk-hidden--visually {border: 0;clip: rect(1px 1px 1px 1px);clip: rect(1px, 1px, 1px, 1px);height: 1px;margin: -1px;overflow: hidden;padding: 0;position: absolute;width: 1px;}#sk-container-id-1 div.sk-estimator {font-family: monospace;background-color: #f0f8ff;border: 1px dotted black;border-radius: 0.25em;box-sizing: border-box;margin-bottom: 0.5em;}#sk-container-id-1 div.sk-estimator:hover {background-color: #d4ebff;}#sk-container-id-1 div.sk-parallel-item::after {content: \"\";width: 100%;border-bottom: 1px solid gray;flex-grow: 1;}#sk-container-id-1 div.sk-label:hover label.sk-toggleable__label {background-color: #d4ebff;}#sk-container-id-1 div.sk-serial::before {content: \"\";position: absolute;border-left: 1px solid gray;box-sizing: border-box;top: 0;bottom: 0;left: 50%;z-index: 0;}#sk-container-id-1 div.sk-serial {display: flex;flex-direction: column;align-items: center;background-color: white;padding-right: 0.2em;padding-left: 0.2em;position: relative;}#sk-container-id-1 div.sk-item {position: relative;z-index: 1;}#sk-container-id-1 div.sk-parallel {display: flex;align-items: stretch;justify-content: center;background-color: white;position: relative;}#sk-container-id-1 div.sk-item::before, #sk-container-id-1 div.sk-parallel-item::before {content: \"\";position: absolute;border-left: 1px solid gray;box-sizing: border-box;top: 0;bottom: 0;left: 50%;z-index: -1;}#sk-container-id-1 div.sk-parallel-item {display: flex;flex-direction: column;z-index: 1;position: relative;background-color: white;}#sk-container-id-1 div.sk-parallel-item:first-child::after {align-self: flex-end;width: 50%;}#sk-container-id-1 div.sk-parallel-item:last-child::after {align-self: flex-start;width: 50%;}#sk-container-id-1 div.sk-parallel-item:only-child::after {width: 0;}#sk-container-id-1 div.sk-dashed-wrapped {border: 1px dashed gray;margin: 0 0.4em 0.5em 0.4em;box-sizing: border-box;padding-bottom: 0.4em;background-color: white;}#sk-container-id-1 div.sk-label label {font-family: monospace;font-weight: bold;display: inline-block;line-height: 1.2em;}#sk-container-id-1 div.sk-label-container {text-align: center;}#sk-container-id-1 div.sk-container {/* jupyter's `normalize.less` sets `[hidden] { display: none; }` but bootstrap.min.css set `[hidden] { display: none !important; }` so we also need the `!important` here to be able to override the default hidden behavior on the sphinx rendered scikit-learn.org. See: https://github.com/scikit-learn/scikit-learn/issues/21755 */display: inline-block !important;position: relative;}#sk-container-id-1 div.sk-text-repr-fallback {display: none;}</style><div id=\"sk-container-id-1\" class=\"sk-top-container\"><div class=\"sk-text-repr-fallback\"><pre>XGBClassifier(base_score=0.5, booster=&#x27;gbtree&#x27;, callbacks=None,\n              colsample_bylevel=1, colsample_bynode=1, colsample_bytree=1,\n              early_stopping_rounds=None, enable_categorical=False,\n              eval_metric=None, gamma=0, gpu_id=-1, grow_policy=&#x27;depthwise&#x27;,\n              importance_type=None, interaction_constraints=&#x27;&#x27;,\n              learning_rate=0.300000012, max_bin=256, max_cat_to_onehot=4,\n              max_delta_step=0, max_depth=6, max_leaves=0, min_child_weight=1,\n              missing=nan, monotone_constraints=&#x27;()&#x27;, n_estimators=100,\n              n_jobs=0, num_parallel_tree=1, predictor=&#x27;auto&#x27;, random_state=0,\n              reg_alpha=0, reg_lambda=1, ...)</pre><b>In a Jupyter environment, please rerun this cell to show the HTML representation or trust the notebook. <br />On GitHub, the HTML representation is unable to render, please try loading this page with nbviewer.org.</b></div><div class=\"sk-container\" hidden><div class=\"sk-item\"><div class=\"sk-estimator sk-toggleable\"><input class=\"sk-toggleable__control sk-hidden--visually\" id=\"sk-estimator-id-1\" type=\"checkbox\" checked><label for=\"sk-estimator-id-1\" class=\"sk-toggleable__label sk-toggleable__label-arrow\">XGBClassifier</label><div class=\"sk-toggleable__content\"><pre>XGBClassifier(base_score=0.5, booster=&#x27;gbtree&#x27;, callbacks=None,\n              colsample_bylevel=1, colsample_bynode=1, colsample_bytree=1,\n              early_stopping_rounds=None, enable_categorical=False,\n              eval_metric=None, gamma=0, gpu_id=-1, grow_policy=&#x27;depthwise&#x27;,\n              importance_type=None, interaction_constraints=&#x27;&#x27;,\n              learning_rate=0.300000012, max_bin=256, max_cat_to_onehot=4,\n              max_delta_step=0, max_depth=6, max_leaves=0, min_child_weight=1,\n              missing=nan, monotone_constraints=&#x27;()&#x27;, n_estimators=100,\n              n_jobs=0, num_parallel_tree=1, predictor=&#x27;auto&#x27;, random_state=0,\n              reg_alpha=0, reg_lambda=1, ...)</pre></div></div></div></div></div>"
     },
     "execution_count": 96,
     "metadata": {},
     "output_type": "execute_result"
    }
   ],
   "source": [
    "xgb_model.fit(X_resampled, y_resampled)"
   ]
  },
  {
   "cell_type": "code",
   "execution_count": 97,
   "metadata": {
    "pycharm": {
     "name": "#%%\n"
    }
   },
   "outputs": [],
   "source": [
    "y_pred = xgb_model.predict(X_test)"
   ]
  },
  {
   "cell_type": "code",
   "execution_count": 98,
   "metadata": {
    "pycharm": {
     "name": "#%%\n"
    }
   },
   "outputs": [
    {
     "name": "stdout",
     "output_type": "stream",
     "text": [
      "              precision    recall  f1-score   support\n",
      "\n",
      "           0       0.90      0.99      0.94    145873\n",
      "           1       0.75      0.21      0.32     19935\n",
      "\n",
      "    accuracy                           0.90    165808\n",
      "   macro avg       0.83      0.60      0.63    165808\n",
      "weighted avg       0.88      0.90      0.87    165808\n",
      "\n"
     ]
    }
   ],
   "source": [
    "from sklearn.metrics import classification_report,confusion_matrix\n",
    "print(classification_report(y_pred, y_test))"
   ]
  },
  {
   "cell_type": "code",
   "execution_count": null,
   "metadata": {
    "pycharm": {
     "name": "#%%\n"
    }
   },
   "outputs": [],
   "source": [
    "from xgboost import cv\n",
    "\n",
    "params = {\"objective\":\"binary:logistic\",'colsample_bytree': 0.3,'learning_rate': 0.1,\n",
    "          'max_depth': 5, 'alpha': 10}\n",
    "\n",
    "xgb_cv = cv(dtrain=data_dmatrix, params=params, nfold=3,\n",
    "            num_boost_round=50, early_stopping_rounds=10, metrics=\"auc\", as_pandas=True, seed=123)"
   ]
  },
  {
   "cell_type": "code",
   "execution_count": null,
   "outputs": [],
   "source": [
    "xgb_cv"
   ],
   "metadata": {
    "collapsed": false,
    "pycharm": {
     "name": "#%%\n"
    }
   }
  },
  {
   "cell_type": "code",
   "execution_count": null,
   "metadata": {
    "pycharm": {
     "name": "#%%\n"
    }
   },
   "outputs": [],
   "source": [
    "xgb.plot_importance(xgb_model)\n",
    "plt.figure(figsize = (16, 12))\n",
    "plt.show()"
   ]
  },
  {
   "cell_type": "markdown",
   "source": [
    "HyperParameters"
   ],
   "metadata": {
    "collapsed": false,
    "pycharm": {
     "name": "#%% md\n"
    }
   }
  },
  {
   "cell_type": "code",
   "execution_count": null,
   "outputs": [],
   "source": [
    "# param_grid = dict(scale_pos_weight = [1],\n",
    "#                   objective=['bunary:logistic'],\n",
    "#                   max_depth = [4,6,8],\n",
    "#                   alpha=[10],\n",
    "#                   learning_rate = [0.3,0.01],\n",
    "#                   n_estimTORS=[100])"
   ],
   "metadata": {
    "collapsed": false,
    "pycharm": {
     "name": "#%%\n"
    }
   }
  },
  {
   "cell_type": "code",
   "execution_count": null,
   "outputs": [],
   "source": [
    "# from sklearn.model_selection import RepeatedStratifiedKFold, GridSearchCV"
   ],
   "metadata": {
    "collapsed": false,
    "pycharm": {
     "name": "#%%\n"
    }
   }
  },
  {
   "cell_type": "code",
   "execution_count": null,
   "outputs": [],
   "source": [
    "# CV = RepeatedStratifiedKFold(n_splits=10, n_repeats=3, random_state=1)\n",
    "# grid = GridSearchCV(estimator=xgb_model, param_grid=param_grid, n_jobs=-1, cv=CV, scoring='f1', error_score='raise')"
   ],
   "metadata": {
    "collapsed": false,
    "pycharm": {
     "name": "#%%\n"
    }
   }
  },
  {
   "cell_type": "code",
   "execution_count": null,
   "outputs": [],
   "source": [
    "# grid_result = grid.fit(X_resampled, y_resampled)"
   ],
   "metadata": {
    "collapsed": false,
    "pycharm": {
     "name": "#%%\n"
    }
   }
  },
  {
   "cell_type": "markdown",
   "source": [
    "ML - Model (Catboost)"
   ],
   "metadata": {
    "collapsed": false,
    "pycharm": {
     "name": "#%% md\n"
    }
   }
  },
  {
   "cell_type": "code",
   "execution_count": null,
   "outputs": [],
   "source": [
    "catb = CatBoostClassifier()"
   ],
   "metadata": {
    "collapsed": false,
    "pycharm": {
     "name": "#%%\n"
    }
   }
  },
  {
   "cell_type": "code",
   "execution_count": null,
   "outputs": [],
   "source": [
    "catb.fit(X_resampled, y_resampled)"
   ],
   "metadata": {
    "collapsed": false,
    "pycharm": {
     "name": "#%%\n"
    }
   }
  },
  {
   "cell_type": "code",
   "execution_count": null,
   "outputs": [],
   "source": [
    "y_cat_pred = catb.predict(X_test)"
   ],
   "metadata": {
    "collapsed": false,
    "pycharm": {
     "name": "#%%\n"
    }
   }
  },
  {
   "cell_type": "code",
   "execution_count": null,
   "outputs": [],
   "source": [
    "print(classification_report(y_cat_pred, y_test))"
   ],
   "metadata": {
    "collapsed": false,
    "pycharm": {
     "name": "#%%\n"
    }
   }
  },
  {
   "cell_type": "markdown",
   "metadata": {
    "pycharm": {
     "name": "#%% md\n"
    }
   },
   "source": [
    "DL MODEL - SEQUENTIAL"
   ]
  },
  {
   "cell_type": "code",
   "execution_count": null,
   "metadata": {
    "pycharm": {
     "name": "#%%\n"
    }
   },
   "outputs": [],
   "source": [
    "import tensorflow as tf\n",
    "from keras import Sequential"
   ]
  },
  {
   "cell_type": "code",
   "execution_count": null,
   "outputs": [],
   "source": [
    "def ANN(X_train, y_train, X_test, y_test):\n",
    "    model = Sequential([\n",
    "        tf.keras.layers.Dense(26, activation='relu'),\n",
    "        tf.keras.layers.Dense(15, activation='relu'),\n",
    "        tf.keras.layers.Dense(1, activation='sigmoid')\n",
    "    ])\n",
    "    model.compile(optimizer='adam', loss='binary_crossentropy', metrics=['accuracy'])\n",
    "    model.build(input_shape=X_train.shape)\n",
    "    history = model.fit(X_train, y_train, epochs=25, batch_size=300, validation_split=0.2)\n",
    "\n",
    "    print(model.evaluate(X_test, y_test))\n",
    "\n",
    "    y_preds = model.predict(X_test)\n",
    "    y_preds = np.round(y_preds)\n",
    "\n",
    "    print(\"Classification Report: \\n\", classification_report(y_test, y_preds))\n",
    "    return history, y_preds"
   ],
   "metadata": {
    "collapsed": false,
    "pycharm": {
     "name": "#%%\n"
    }
   }
  },
  {
   "cell_type": "code",
   "execution_count": null,
   "outputs": [],
   "source": [
    "history, y_pred = ANN(X_resampled, y_resampled , X_test, y_test)"
   ],
   "metadata": {
    "collapsed": false,
    "pycharm": {
     "name": "#%%\n"
    }
   }
  },
  {
   "cell_type": "code",
   "execution_count": null,
   "outputs": [],
   "source": [
    "print(history.history.keys())"
   ],
   "metadata": {
    "collapsed": false,
    "pycharm": {
     "name": "#%%\n"
    }
   }
  },
  {
   "cell_type": "code",
   "execution_count": null,
   "outputs": [],
   "source": [
    "plt.plot(history.history['accuracy'])\n",
    "plt.plot(history.history['val_accuracy'])\n",
    "plt.title('model accuracy')\n",
    "plt.ylabel('accuracy')\n",
    "plt.xlabel('epoch')\n",
    "plt.legend(['train', 'test'], loc='upper left')\n",
    "plt.show()"
   ],
   "metadata": {
    "collapsed": false,
    "pycharm": {
     "name": "#%%\n"
    }
   }
  },
  {
   "cell_type": "code",
   "execution_count": null,
   "outputs": [],
   "source": [
    "plt.plot(history.history['loss'])\n",
    "plt.plot(history.history['val_loss'])\n",
    "plt.title('model loss')\n",
    "plt.ylabel('loss')\n",
    "plt.xlabel('epoch')\n",
    "plt.legend(['train', 'test'], loc='upper left')\n",
    "plt.show()"
   ],
   "metadata": {
    "collapsed": false,
    "pycharm": {
     "name": "#%%\n"
    }
   }
  },
  {
   "cell_type": "markdown",
   "source": [
    "Imblearn Under Sampling"
   ],
   "metadata": {
    "collapsed": false,
    "pycharm": {
     "name": "#%% md\n"
    }
   }
  },
  {
   "cell_type": "code",
   "execution_count": 99,
   "outputs": [],
   "source": [
    "from imblearn.under_sampling import RandomUnderSampler\n",
    "from collections import Counter\n",
    "from sklearn.datasets import make_classification"
   ],
   "metadata": {
    "collapsed": false,
    "pycharm": {
     "name": "#%%\n"
    }
   }
  },
  {
   "cell_type": "code",
   "execution_count": 100,
   "outputs": [
    {
     "data": {
      "text/plain": "(414518,)"
     },
     "execution_count": 100,
     "metadata": {},
     "output_type": "execute_result"
    }
   ],
   "source": [
    "y.shape"
   ],
   "metadata": {
    "collapsed": false,
    "pycharm": {
     "name": "#%%\n"
    }
   }
  },
  {
   "cell_type": "code",
   "execution_count": 101,
   "outputs": [],
   "source": [
    "X,y = make_classification(n_samples=414537,weights=[0.97], flip_y=0)"
   ],
   "metadata": {
    "collapsed": false,
    "pycharm": {
     "name": "#%%\n"
    }
   }
  },
  {
   "cell_type": "code",
   "execution_count": 102,
   "outputs": [
    {
     "name": "stdout",
     "output_type": "stream",
     "text": [
      "Counter({0: 402101, 1: 12436})\n"
     ]
    }
   ],
   "source": [
    "print(Counter(y))"
   ],
   "metadata": {
    "collapsed": false,
    "pycharm": {
     "name": "#%%\n"
    }
   }
  },
  {
   "cell_type": "code",
   "execution_count": 103,
   "outputs": [],
   "source": [
    "undersample = RandomUnderSampler(sampling_strategy='majority')"
   ],
   "metadata": {
    "collapsed": false,
    "pycharm": {
     "name": "#%%\n"
    }
   }
  },
  {
   "cell_type": "code",
   "execution_count": 104,
   "outputs": [],
   "source": [
    "X_over, y_over = undersample.fit_resample(X,y)"
   ],
   "metadata": {
    "collapsed": false,
    "pycharm": {
     "name": "#%%\n"
    }
   }
  },
  {
   "cell_type": "code",
   "execution_count": 105,
   "outputs": [
    {
     "name": "stdout",
     "output_type": "stream",
     "text": [
      "Counter({0: 12436, 1: 12436})\n"
     ]
    }
   ],
   "source": [
    "print(Counter(y_over))"
   ],
   "metadata": {
    "collapsed": false,
    "pycharm": {
     "name": "#%%\n"
    }
   }
  },
  {
   "cell_type": "markdown",
   "source": [
    "Under Sample"
   ],
   "metadata": {
    "collapsed": false,
    "pycharm": {
     "name": "#%% md\n"
    }
   }
  },
  {
   "cell_type": "code",
   "execution_count": 106,
   "outputs": [],
   "source": [
    "count_class_0, count_class_1 = df_out.DELINQUENT.value_counts()\n",
    "\n",
    "df_class_0 = df_out[df_out['DELINQUENT'] == 0]\n",
    "df_class_1 = df_out[df_out['DELINQUENT'] == 1]"
   ],
   "metadata": {
    "collapsed": false,
    "pycharm": {
     "name": "#%%\n"
    }
   }
  },
  {
   "cell_type": "code",
   "execution_count": 107,
   "outputs": [
    {
     "data": {
      "text/plain": "(400619, 19)"
     },
     "execution_count": 107,
     "metadata": {},
     "output_type": "execute_result"
    }
   ],
   "source": [
    "df_class_0.shape"
   ],
   "metadata": {
    "collapsed": false,
    "pycharm": {
     "name": "#%%\n"
    }
   }
  },
  {
   "cell_type": "code",
   "execution_count": 108,
   "outputs": [
    {
     "data": {
      "text/plain": "(13899, 19)"
     },
     "execution_count": 108,
     "metadata": {},
     "output_type": "execute_result"
    }
   ],
   "source": [
    "df_class_1.shape"
   ],
   "metadata": {
    "collapsed": false,
    "pycharm": {
     "name": "#%%\n"
    }
   }
  },
  {
   "cell_type": "code",
   "execution_count": 109,
   "outputs": [
    {
     "data": {
      "text/plain": "(400619, 13899)"
     },
     "execution_count": 109,
     "metadata": {},
     "output_type": "execute_result"
    }
   ],
   "source": [
    "count_class_0, count_class_1"
   ],
   "metadata": {
    "collapsed": false,
    "pycharm": {
     "name": "#%%\n"
    }
   }
  },
  {
   "cell_type": "code",
   "execution_count": 110,
   "outputs": [
    {
     "data": {
      "text/plain": "28.82495143535506"
     },
     "execution_count": 110,
     "metadata": {},
     "output_type": "execute_result"
    }
   ],
   "source": [
    "400638/13899"
   ],
   "metadata": {
    "collapsed": false,
    "pycharm": {
     "name": "#%%\n"
    }
   }
  },
  {
   "cell_type": "code",
   "execution_count": 111,
   "outputs": [
    {
     "data": {
      "text/plain": "13815.103448275862"
     },
     "execution_count": 111,
     "metadata": {},
     "output_type": "execute_result"
    }
   ],
   "source": [
    "400638/29"
   ],
   "metadata": {
    "collapsed": false,
    "pycharm": {
     "name": "#%%\n"
    }
   }
  },
  {
   "cell_type": "code",
   "execution_count": 112,
   "outputs": [
    {
     "data": {
      "text/plain": "(27798, 19)"
     },
     "execution_count": 112,
     "metadata": {},
     "output_type": "execute_result"
    }
   ],
   "source": [
    "df_class_0_under = df_class_0.sample(count_class_1)\n",
    "\n",
    "df_test_under = pd.concat([df_class_0_under, df_class_1], axis = 0)\n",
    "df_test_under.shape"
   ],
   "metadata": {
    "collapsed": false,
    "pycharm": {
     "name": "#%%\n"
    }
   }
  },
  {
   "cell_type": "code",
   "execution_count": 113,
   "outputs": [
    {
     "name": "stdout",
     "output_type": "stream",
     "text": [
      "Random under-sampling\n",
      "False    13899\n",
      "True     13899\n",
      "Name: DELINQUENT, dtype: int64\n"
     ]
    }
   ],
   "source": [
    "print(\"Random under-sampling\")\n",
    "print(df_test_under.DELINQUENT.value_counts())"
   ],
   "metadata": {
    "collapsed": false,
    "pycharm": {
     "name": "#%%\n"
    }
   }
  },
  {
   "cell_type": "code",
   "execution_count": 114,
   "outputs": [],
   "source": [
    "df_test_under.DELINQUENT = df_test_under.DELINQUENT.astype(np.int64)"
   ],
   "metadata": {
    "collapsed": false,
    "pycharm": {
     "name": "#%%\n"
    }
   }
  },
  {
   "cell_type": "code",
   "execution_count": 115,
   "outputs": [],
   "source": [
    "X1 = df_test_under.drop('DELINQUENT', axis = 1)\n",
    "y1 = df_test_under['DELINQUENT']"
   ],
   "metadata": {
    "collapsed": false,
    "pycharm": {
     "name": "#%%\n"
    }
   }
  },
  {
   "cell_type": "code",
   "execution_count": 116,
   "outputs": [],
   "source": [
    "X_train1, X_test1, y_train1, y_test1 = train_test_split(X1, y1, test_size=0.2, random_state=15, stratify=y1)"
   ],
   "metadata": {
    "collapsed": false,
    "pycharm": {
     "name": "#%%\n"
    }
   }
  },
  {
   "cell_type": "code",
   "execution_count": 117,
   "outputs": [
    {
     "data": {
      "text/plain": "((22238, 18), (5560, 18), (22238,), (5560,))"
     },
     "execution_count": 117,
     "metadata": {},
     "output_type": "execute_result"
    }
   ],
   "source": [
    "X_train1.shape, X_test1.shape, y_train1.shape, y_test1.shape"
   ],
   "metadata": {
    "collapsed": false,
    "pycharm": {
     "name": "#%%\n"
    }
   }
  },
  {
   "cell_type": "markdown",
   "source": [
    "XG Boost on Undersample Data"
   ],
   "metadata": {
    "collapsed": false,
    "pycharm": {
     "name": "#%% md\n"
    }
   }
  },
  {
   "cell_type": "code",
   "execution_count": 118,
   "outputs": [],
   "source": [
    "import xgboost as xgb\n",
    "from xgboost import XGBClassifier\n",
    "data_dmatrix = xgb.DMatrix(data=X,label=y)\n",
    "\n",
    "xgb_model = XGBClassifier()"
   ],
   "metadata": {
    "collapsed": false,
    "pycharm": {
     "name": "#%%\n"
    }
   }
  },
  {
   "cell_type": "code",
   "execution_count": 119,
   "outputs": [
    {
     "data": {
      "text/plain": "XGBClassifier(base_score=0.5, booster='gbtree', callbacks=None,\n              colsample_bylevel=1, colsample_bynode=1, colsample_bytree=1,\n              early_stopping_rounds=None, enable_categorical=False,\n              eval_metric=None, gamma=0, gpu_id=-1, grow_policy='depthwise',\n              importance_type=None, interaction_constraints='',\n              learning_rate=0.300000012, max_bin=256, max_cat_to_onehot=4,\n              max_delta_step=0, max_depth=6, max_leaves=0, min_child_weight=1,\n              missing=nan, monotone_constraints='()', n_estimators=100,\n              n_jobs=0, num_parallel_tree=1, predictor='auto', random_state=0,\n              reg_alpha=0, reg_lambda=1, ...)",
      "text/html": "<style>#sk-container-id-2 {color: black;background-color: white;}#sk-container-id-2 pre{padding: 0;}#sk-container-id-2 div.sk-toggleable {background-color: white;}#sk-container-id-2 label.sk-toggleable__label {cursor: pointer;display: block;width: 100%;margin-bottom: 0;padding: 0.3em;box-sizing: border-box;text-align: center;}#sk-container-id-2 label.sk-toggleable__label-arrow:before {content: \"▸\";float: left;margin-right: 0.25em;color: #696969;}#sk-container-id-2 label.sk-toggleable__label-arrow:hover:before {color: black;}#sk-container-id-2 div.sk-estimator:hover label.sk-toggleable__label-arrow:before {color: black;}#sk-container-id-2 div.sk-toggleable__content {max-height: 0;max-width: 0;overflow: hidden;text-align: left;background-color: #f0f8ff;}#sk-container-id-2 div.sk-toggleable__content pre {margin: 0.2em;color: black;border-radius: 0.25em;background-color: #f0f8ff;}#sk-container-id-2 input.sk-toggleable__control:checked~div.sk-toggleable__content {max-height: 200px;max-width: 100%;overflow: auto;}#sk-container-id-2 input.sk-toggleable__control:checked~label.sk-toggleable__label-arrow:before {content: \"▾\";}#sk-container-id-2 div.sk-estimator input.sk-toggleable__control:checked~label.sk-toggleable__label {background-color: #d4ebff;}#sk-container-id-2 div.sk-label input.sk-toggleable__control:checked~label.sk-toggleable__label {background-color: #d4ebff;}#sk-container-id-2 input.sk-hidden--visually {border: 0;clip: rect(1px 1px 1px 1px);clip: rect(1px, 1px, 1px, 1px);height: 1px;margin: -1px;overflow: hidden;padding: 0;position: absolute;width: 1px;}#sk-container-id-2 div.sk-estimator {font-family: monospace;background-color: #f0f8ff;border: 1px dotted black;border-radius: 0.25em;box-sizing: border-box;margin-bottom: 0.5em;}#sk-container-id-2 div.sk-estimator:hover {background-color: #d4ebff;}#sk-container-id-2 div.sk-parallel-item::after {content: \"\";width: 100%;border-bottom: 1px solid gray;flex-grow: 1;}#sk-container-id-2 div.sk-label:hover label.sk-toggleable__label {background-color: #d4ebff;}#sk-container-id-2 div.sk-serial::before {content: \"\";position: absolute;border-left: 1px solid gray;box-sizing: border-box;top: 0;bottom: 0;left: 50%;z-index: 0;}#sk-container-id-2 div.sk-serial {display: flex;flex-direction: column;align-items: center;background-color: white;padding-right: 0.2em;padding-left: 0.2em;position: relative;}#sk-container-id-2 div.sk-item {position: relative;z-index: 1;}#sk-container-id-2 div.sk-parallel {display: flex;align-items: stretch;justify-content: center;background-color: white;position: relative;}#sk-container-id-2 div.sk-item::before, #sk-container-id-2 div.sk-parallel-item::before {content: \"\";position: absolute;border-left: 1px solid gray;box-sizing: border-box;top: 0;bottom: 0;left: 50%;z-index: -1;}#sk-container-id-2 div.sk-parallel-item {display: flex;flex-direction: column;z-index: 1;position: relative;background-color: white;}#sk-container-id-2 div.sk-parallel-item:first-child::after {align-self: flex-end;width: 50%;}#sk-container-id-2 div.sk-parallel-item:last-child::after {align-self: flex-start;width: 50%;}#sk-container-id-2 div.sk-parallel-item:only-child::after {width: 0;}#sk-container-id-2 div.sk-dashed-wrapped {border: 1px dashed gray;margin: 0 0.4em 0.5em 0.4em;box-sizing: border-box;padding-bottom: 0.4em;background-color: white;}#sk-container-id-2 div.sk-label label {font-family: monospace;font-weight: bold;display: inline-block;line-height: 1.2em;}#sk-container-id-2 div.sk-label-container {text-align: center;}#sk-container-id-2 div.sk-container {/* jupyter's `normalize.less` sets `[hidden] { display: none; }` but bootstrap.min.css set `[hidden] { display: none !important; }` so we also need the `!important` here to be able to override the default hidden behavior on the sphinx rendered scikit-learn.org. See: https://github.com/scikit-learn/scikit-learn/issues/21755 */display: inline-block !important;position: relative;}#sk-container-id-2 div.sk-text-repr-fallback {display: none;}</style><div id=\"sk-container-id-2\" class=\"sk-top-container\"><div class=\"sk-text-repr-fallback\"><pre>XGBClassifier(base_score=0.5, booster=&#x27;gbtree&#x27;, callbacks=None,\n              colsample_bylevel=1, colsample_bynode=1, colsample_bytree=1,\n              early_stopping_rounds=None, enable_categorical=False,\n              eval_metric=None, gamma=0, gpu_id=-1, grow_policy=&#x27;depthwise&#x27;,\n              importance_type=None, interaction_constraints=&#x27;&#x27;,\n              learning_rate=0.300000012, max_bin=256, max_cat_to_onehot=4,\n              max_delta_step=0, max_depth=6, max_leaves=0, min_child_weight=1,\n              missing=nan, monotone_constraints=&#x27;()&#x27;, n_estimators=100,\n              n_jobs=0, num_parallel_tree=1, predictor=&#x27;auto&#x27;, random_state=0,\n              reg_alpha=0, reg_lambda=1, ...)</pre><b>In a Jupyter environment, please rerun this cell to show the HTML representation or trust the notebook. <br />On GitHub, the HTML representation is unable to render, please try loading this page with nbviewer.org.</b></div><div class=\"sk-container\" hidden><div class=\"sk-item\"><div class=\"sk-estimator sk-toggleable\"><input class=\"sk-toggleable__control sk-hidden--visually\" id=\"sk-estimator-id-2\" type=\"checkbox\" checked><label for=\"sk-estimator-id-2\" class=\"sk-toggleable__label sk-toggleable__label-arrow\">XGBClassifier</label><div class=\"sk-toggleable__content\"><pre>XGBClassifier(base_score=0.5, booster=&#x27;gbtree&#x27;, callbacks=None,\n              colsample_bylevel=1, colsample_bynode=1, colsample_bytree=1,\n              early_stopping_rounds=None, enable_categorical=False,\n              eval_metric=None, gamma=0, gpu_id=-1, grow_policy=&#x27;depthwise&#x27;,\n              importance_type=None, interaction_constraints=&#x27;&#x27;,\n              learning_rate=0.300000012, max_bin=256, max_cat_to_onehot=4,\n              max_delta_step=0, max_depth=6, max_leaves=0, min_child_weight=1,\n              missing=nan, monotone_constraints=&#x27;()&#x27;, n_estimators=100,\n              n_jobs=0, num_parallel_tree=1, predictor=&#x27;auto&#x27;, random_state=0,\n              reg_alpha=0, reg_lambda=1, ...)</pre></div></div></div></div></div>"
     },
     "execution_count": 119,
     "metadata": {},
     "output_type": "execute_result"
    }
   ],
   "source": [
    "xgb_model.fit(X_train1, y_train1)"
   ],
   "metadata": {
    "collapsed": false,
    "pycharm": {
     "name": "#%%\n"
    }
   }
  },
  {
   "cell_type": "code",
   "execution_count": 124,
   "outputs": [],
   "source": [
    "y_pred_xg = xgb_model.predict(X_test1)"
   ],
   "metadata": {
    "collapsed": false,
    "pycharm": {
     "name": "#%%\n"
    }
   }
  },
  {
   "cell_type": "code",
   "execution_count": 125,
   "outputs": [],
   "source": [
    "y_pred_xg1 = xgb_model.predict(X_test1)"
   ],
   "metadata": {
    "collapsed": false,
    "pycharm": {
     "name": "#%%\n"
    }
   }
  },
  {
   "cell_type": "code",
   "execution_count": 126,
   "outputs": [
    {
     "name": "stdout",
     "output_type": "stream",
     "text": [
      "              precision    recall  f1-score   support\n",
      "\n",
      "           0       0.86      0.81      0.83      2932\n",
      "           1       0.80      0.85      0.82      2628\n",
      "\n",
      "    accuracy                           0.83      5560\n",
      "   macro avg       0.83      0.83      0.83      5560\n",
      "weighted avg       0.83      0.83      0.83      5560\n",
      "\n"
     ]
    }
   ],
   "source": [
    "from sklearn.metrics import classification_report,confusion_matrix\n",
    "print(classification_report(y_pred_xg, y_test1))"
   ],
   "metadata": {
    "collapsed": false,
    "pycharm": {
     "name": "#%%\n"
    }
   }
  },
  {
   "cell_type": "code",
   "execution_count": 127,
   "outputs": [
    {
     "ename": "ValueError",
     "evalue": "Found input variables with inconsistent numbers of samples: [5560, 165808]",
     "output_type": "error",
     "traceback": [
      "\u001B[1;31m---------------------------------------------------------------------------\u001B[0m",
      "\u001B[1;31mValueError\u001B[0m                                Traceback (most recent call last)",
      "Input \u001B[1;32mIn [127]\u001B[0m, in \u001B[0;36m<cell line: 1>\u001B[1;34m()\u001B[0m\n\u001B[1;32m----> 1\u001B[0m \u001B[38;5;28mprint\u001B[39m(\u001B[43mclassification_report\u001B[49m\u001B[43m(\u001B[49m\u001B[43my_pred_xg1\u001B[49m\u001B[43m,\u001B[49m\u001B[43m \u001B[49m\u001B[43my_test\u001B[49m\u001B[43m)\u001B[49m)\n",
      "File \u001B[1;32m~\\anaconda3\\lib\\site-packages\\sklearn\\metrics\\_classification.py:2132\u001B[0m, in \u001B[0;36mclassification_report\u001B[1;34m(y_true, y_pred, labels, target_names, sample_weight, digits, output_dict, zero_division)\u001B[0m\n\u001B[0;32m   2017\u001B[0m \u001B[38;5;28;01mdef\u001B[39;00m \u001B[38;5;21mclassification_report\u001B[39m(\n\u001B[0;32m   2018\u001B[0m     y_true,\n\u001B[0;32m   2019\u001B[0m     y_pred,\n\u001B[1;32m   (...)\u001B[0m\n\u001B[0;32m   2026\u001B[0m     zero_division\u001B[38;5;241m=\u001B[39m\u001B[38;5;124m\"\u001B[39m\u001B[38;5;124mwarn\u001B[39m\u001B[38;5;124m\"\u001B[39m,\n\u001B[0;32m   2027\u001B[0m ):\n\u001B[0;32m   2028\u001B[0m     \u001B[38;5;124;03m\"\"\"Build a text report showing the main classification metrics.\u001B[39;00m\n\u001B[0;32m   2029\u001B[0m \n\u001B[0;32m   2030\u001B[0m \u001B[38;5;124;03m    Read more in the :ref:`User Guide <classification_report>`.\u001B[39;00m\n\u001B[1;32m   (...)\u001B[0m\n\u001B[0;32m   2129\u001B[0m \u001B[38;5;124;03m    <BLANKLINE>\u001B[39;00m\n\u001B[0;32m   2130\u001B[0m \u001B[38;5;124;03m    \"\"\"\u001B[39;00m\n\u001B[1;32m-> 2132\u001B[0m     y_type, y_true, y_pred \u001B[38;5;241m=\u001B[39m \u001B[43m_check_targets\u001B[49m\u001B[43m(\u001B[49m\u001B[43my_true\u001B[49m\u001B[43m,\u001B[49m\u001B[43m \u001B[49m\u001B[43my_pred\u001B[49m\u001B[43m)\u001B[49m\n\u001B[0;32m   2134\u001B[0m     \u001B[38;5;28;01mif\u001B[39;00m labels \u001B[38;5;129;01mis\u001B[39;00m \u001B[38;5;28;01mNone\u001B[39;00m:\n\u001B[0;32m   2135\u001B[0m         labels \u001B[38;5;241m=\u001B[39m unique_labels(y_true, y_pred)\n",
      "File \u001B[1;32m~\\anaconda3\\lib\\site-packages\\sklearn\\metrics\\_classification.py:84\u001B[0m, in \u001B[0;36m_check_targets\u001B[1;34m(y_true, y_pred)\u001B[0m\n\u001B[0;32m     57\u001B[0m \u001B[38;5;28;01mdef\u001B[39;00m \u001B[38;5;21m_check_targets\u001B[39m(y_true, y_pred):\n\u001B[0;32m     58\u001B[0m     \u001B[38;5;124;03m\"\"\"Check that y_true and y_pred belong to the same classification task.\u001B[39;00m\n\u001B[0;32m     59\u001B[0m \n\u001B[0;32m     60\u001B[0m \u001B[38;5;124;03m    This converts multiclass or binary types to a common shape, and raises a\u001B[39;00m\n\u001B[1;32m   (...)\u001B[0m\n\u001B[0;32m     82\u001B[0m \u001B[38;5;124;03m    y_pred : array or indicator matrix\u001B[39;00m\n\u001B[0;32m     83\u001B[0m \u001B[38;5;124;03m    \"\"\"\u001B[39;00m\n\u001B[1;32m---> 84\u001B[0m     \u001B[43mcheck_consistent_length\u001B[49m\u001B[43m(\u001B[49m\u001B[43my_true\u001B[49m\u001B[43m,\u001B[49m\u001B[43m \u001B[49m\u001B[43my_pred\u001B[49m\u001B[43m)\u001B[49m\n\u001B[0;32m     85\u001B[0m     type_true \u001B[38;5;241m=\u001B[39m type_of_target(y_true, input_name\u001B[38;5;241m=\u001B[39m\u001B[38;5;124m\"\u001B[39m\u001B[38;5;124my_true\u001B[39m\u001B[38;5;124m\"\u001B[39m)\n\u001B[0;32m     86\u001B[0m     type_pred \u001B[38;5;241m=\u001B[39m type_of_target(y_pred, input_name\u001B[38;5;241m=\u001B[39m\u001B[38;5;124m\"\u001B[39m\u001B[38;5;124my_pred\u001B[39m\u001B[38;5;124m\"\u001B[39m)\n",
      "File \u001B[1;32m~\\anaconda3\\lib\\site-packages\\sklearn\\utils\\validation.py:387\u001B[0m, in \u001B[0;36mcheck_consistent_length\u001B[1;34m(*arrays)\u001B[0m\n\u001B[0;32m    385\u001B[0m uniques \u001B[38;5;241m=\u001B[39m np\u001B[38;5;241m.\u001B[39munique(lengths)\n\u001B[0;32m    386\u001B[0m \u001B[38;5;28;01mif\u001B[39;00m \u001B[38;5;28mlen\u001B[39m(uniques) \u001B[38;5;241m>\u001B[39m \u001B[38;5;241m1\u001B[39m:\n\u001B[1;32m--> 387\u001B[0m     \u001B[38;5;28;01mraise\u001B[39;00m \u001B[38;5;167;01mValueError\u001B[39;00m(\n\u001B[0;32m    388\u001B[0m         \u001B[38;5;124m\"\u001B[39m\u001B[38;5;124mFound input variables with inconsistent numbers of samples: \u001B[39m\u001B[38;5;132;01m%r\u001B[39;00m\u001B[38;5;124m\"\u001B[39m\n\u001B[0;32m    389\u001B[0m         \u001B[38;5;241m%\u001B[39m [\u001B[38;5;28mint\u001B[39m(l) \u001B[38;5;28;01mfor\u001B[39;00m l \u001B[38;5;129;01min\u001B[39;00m lengths]\n\u001B[0;32m    390\u001B[0m     )\n",
      "\u001B[1;31mValueError\u001B[0m: Found input variables with inconsistent numbers of samples: [5560, 165808]"
     ]
    }
   ],
   "source": [
    "print(classification_report(y_pred_xg1, y_test))"
   ],
   "metadata": {
    "collapsed": false,
    "pycharm": {
     "name": "#%%\n"
    }
   }
  },
  {
   "cell_type": "code",
   "execution_count": null,
   "outputs": [],
   "source": [
    "from xgboost import cv\n",
    "\n",
    "params = {\"objective\":\"binary:logistic\",'colsample_bytree': 0.3,'learning_rate': 0.1,\n",
    "          'max_depth': 5, 'alpha': 10}\n",
    "\n",
    "xgb_cv = cv(dtrain=data_dmatrix, params=params, nfold=3,\n",
    "            num_boost_round=50, early_stopping_rounds=10, metrics=\"auc\", as_pandas=True, seed=123)"
   ],
   "metadata": {
    "collapsed": false,
    "pycharm": {
     "name": "#%%\n"
    }
   }
  },
  {
   "cell_type": "code",
   "execution_count": null,
   "outputs": [],
   "source": [
    "xgb_cv"
   ],
   "metadata": {
    "collapsed": false,
    "pycharm": {
     "name": "#%%\n"
    }
   }
  },
  {
   "cell_type": "markdown",
   "source": [
    "Different Classifier try and Error"
   ],
   "metadata": {
    "collapsed": false,
    "pycharm": {
     "name": "#%% md\n"
    }
   }
  },
  {
   "cell_type": "code",
   "execution_count": 128,
   "outputs": [],
   "source": [
    "from sklearn.metrics import classification_report,confusion_matrix\n",
    "from sklearn.linear_model import LogisticRegression\n",
    "from sklearn.ensemble import RandomForestClassifier\n",
    "from sklearn.naive_bayes import GaussianNB\n",
    "from sklearn.neighbors import KNeighborsClassifier"
   ],
   "metadata": {
    "collapsed": false,
    "pycharm": {
     "name": "#%%\n"
    }
   }
  },
  {
   "cell_type": "code",
   "execution_count": 129,
   "outputs": [],
   "source": [
    "from sklearn.model_selection import KFold\n",
    "kf = KFold(n_splits=3)"
   ],
   "metadata": {
    "collapsed": false,
    "pycharm": {
     "name": "#%%\n"
    }
   }
  },
  {
   "cell_type": "code",
   "execution_count": 130,
   "outputs": [],
   "source": [
    "def get_score(model, X_train, X_test, y_train, y_test):\n",
    "    model.fit(X_train, y_train)\n",
    "    y_pred = model.predict(X_test)\n",
    "    print(classification_report(y_pred, y_test))\n",
    "\n",
    "    return model.score(X_test, y_test)"
   ],
   "metadata": {
    "collapsed": false,
    "pycharm": {
     "name": "#%%\n"
    }
   }
  },
  {
   "cell_type": "code",
   "execution_count": 131,
   "outputs": [],
   "source": [
    "scores_log = []\n",
    "scores_svm = []\n",
    "scores_rf = []\n",
    "scores_nb = []\n",
    "scores_desc = []\n",
    "scores_knn = []"
   ],
   "metadata": {
    "collapsed": false,
    "pycharm": {
     "name": "#%%\n"
    }
   }
  },
  {
   "cell_type": "code",
   "execution_count": 133,
   "outputs": [
    {
     "name": "stdout",
     "output_type": "stream",
     "text": [
      "Logistic Regression Scores:\n",
      " []\n",
      "              precision    recall  f1-score   support\n",
      "\n",
      "       False       0.88      0.99      0.93    141869\n",
      "        True       0.76      0.17      0.28     23939\n",
      "\n",
      "    accuracy                           0.87    165808\n",
      "   macro avg       0.82      0.58      0.61    165808\n",
      "weighted avg       0.86      0.87      0.84    165808\n",
      "\n",
      "[0.87299768406832]\n"
     ]
    }
   ],
   "source": [
    "print(\"Logistic Regression Scores:\\n\", scores_log)\n",
    "scores_log.append(get_score(LogisticRegression(class_weight='balanced'),X_resampled, X_test, y_resampled, y_test ))\n",
    "print(scores_log)"
   ],
   "metadata": {
    "collapsed": false,
    "pycharm": {
     "name": "#%%\n"
    }
   }
  },
  {
   "cell_type": "code",
   "execution_count": 134,
   "outputs": [
    {
     "name": "stdout",
     "output_type": "stream",
     "text": [
      "Random Forest Scores:\n",
      " []\n",
      "              precision    recall  f1-score   support\n",
      "\n",
      "       False       0.99      0.98      0.99    161870\n",
      "        True       0.50      0.70      0.58      3938\n",
      "\n",
      "    accuracy                           0.98    165808\n",
      "   macro avg       0.75      0.84      0.79    165808\n",
      "weighted avg       0.98      0.98      0.98    165808\n",
      "\n",
      "[0.9764366013702596]\n"
     ]
    }
   ],
   "source": [
    "print(\"Random Forest Scores:\\n\", scores_rf)\n",
    "scores_rf.append(get_score(RandomForestClassifier(class_weight='balanced'),X_resampled, X_test, y_resampled, y_test ))\n",
    "print(scores_rf)"
   ],
   "metadata": {
    "collapsed": false,
    "pycharm": {
     "name": "#%%\n"
    }
   }
  },
  {
   "cell_type": "code",
   "execution_count": 135,
   "outputs": [],
   "source": [
    "def model(X_train, y_train, X_test, y_test):\n",
    "    imp_model = RandomForestClassifier(class_weight='balanced')\n",
    "    imp_model.fit(X_train, y_train)\n",
    "    y_pred = imp_model.predict(X_test)\n",
    "    return imp_model"
   ],
   "metadata": {
    "collapsed": false,
    "pycharm": {
     "name": "#%%\n"
    }
   }
  },
  {
   "cell_type": "code",
   "execution_count": 136,
   "outputs": [],
   "source": [
    "model_rf = model(X_resampled, y_resampled, X_test, y_test)"
   ],
   "metadata": {
    "collapsed": false,
    "pycharm": {
     "name": "#%%\n"
    }
   }
  },
  {
   "cell_type": "code",
   "execution_count": null,
   "outputs": [],
   "source": [
    "print(\"Naive Bayes Scores:\\n\", scores_nb)\n",
    "scores_nb.append(get_score(GaussianNB(), X_resampled, X_test, y_resampled, y_test))\n",
    "print(scores_nb)"
   ],
   "metadata": {
    "collapsed": false,
    "pycharm": {
     "name": "#%%\n"
    }
   }
  },
  {
   "cell_type": "code",
   "execution_count": null,
   "outputs": [],
   "source": [
    "print(\"Decision Tree Scores:\\n\", scores_nb)\n",
    "scores_desc.append(get_score(DecisionTreeClassifier(class_weight='balanced'),X_resampled, X_test, y_resampled, y_test))\n",
    "print(scores_desc)"
   ],
   "metadata": {
    "collapsed": false,
    "pycharm": {
     "name": "#%%\n"
    }
   }
  },
  {
   "cell_type": "code",
   "execution_count": null,
   "outputs": [],
   "source": [
    "print(\"Knn  Scores:\\n\", scores_nb)\n",
    "scores_knn.append(get_score(KNeighborsClassifier(), X_resampled, X_test, y_resampled, y_test))\n",
    "print(scores_knn)"
   ],
   "metadata": {
    "collapsed": false,
    "pycharm": {
     "name": "#%%\n"
    }
   }
  },
  {
   "cell_type": "markdown",
   "source": [
    "Random Forest Grid Search"
   ],
   "metadata": {
    "collapsed": false,
    "pycharm": {
     "name": "#%% md\n"
    }
   }
  },
  {
   "cell_type": "code",
   "execution_count": null,
   "outputs": [],
   "source": [
    "# rfc=RandomForestClassifier(random_state=42)"
   ],
   "metadata": {
    "collapsed": false,
    "pycharm": {
     "name": "#%%\n"
    }
   }
  },
  {
   "cell_type": "code",
   "execution_count": null,
   "outputs": [],
   "source": [
    "# param_grid = {\n",
    "#     'n_estimators':[200,500],\n",
    "#     'max_features':['auto', 'sqrt', 'log2'],\n",
    "#     'max_depth':[4,5,6,7,8],\n",
    "#     'criterion':['gini', 'entropy']\n",
    "# }"
   ],
   "metadata": {
    "collapsed": false,
    "pycharm": {
     "name": "#%%\n"
    }
   }
  },
  {
   "cell_type": "code",
   "execution_count": null,
   "outputs": [],
   "source": [
    "# from sklearn.model_selection import GridSearchCV\n",
    "#\n",
    "# CV_rfc = GridSearchCV(estimator=rfc, param_grid=param_grid, cv= 5)\n",
    "# CV_rfc.fit(X_resampled, y_resampled)"
   ],
   "metadata": {
    "collapsed": false,
    "pycharm": {
     "name": "#%%\n"
    }
   }
  },
  {
   "cell_type": "code",
   "execution_count": null,
   "outputs": [],
   "source": [
    "# CV_rfc.best_params_"
   ],
   "metadata": {
    "collapsed": false,
    "pycharm": {
     "name": "#%%\n"
    }
   }
  },
  {
   "cell_type": "code",
   "execution_count": null,
   "outputs": [],
   "source": [
    "# rfc1 = RandomForestClassifier(random_state=42, max_features='auto', n_estimators=200, max_depth=8, criterion='gini')"
   ],
   "metadata": {
    "collapsed": false,
    "pycharm": {
     "name": "#%%\n"
    }
   }
  },
  {
   "cell_type": "code",
   "execution_count": null,
   "outputs": [],
   "source": [
    "# rfc1.fit(X_resampled, y_resampled)"
   ],
   "metadata": {
    "collapsed": false,
    "pycharm": {
     "name": "#%%\n"
    }
   }
  },
  {
   "cell_type": "code",
   "execution_count": null,
   "outputs": [],
   "source": [
    "# y_pred_rf=rfc1.predict(X_test_s)"
   ],
   "metadata": {
    "collapsed": false,
    "pycharm": {
     "name": "#%%\n"
    }
   }
  },
  {
   "cell_type": "code",
   "execution_count": null,
   "outputs": [],
   "source": [
    "# print(classification_report(y_pred_rf, y_test))"
   ],
   "metadata": {
    "collapsed": false,
    "pycharm": {
     "name": "#%%\n"
    }
   }
  },
  {
   "cell_type": "markdown",
   "source": [
    "Pipeline"
   ],
   "metadata": {
    "collapsed": false,
    "pycharm": {
     "name": "#%% md\n"
    }
   }
  },
  {
   "cell_type": "code",
   "execution_count": 139,
   "outputs": [
    {
     "name": "stdout",
     "output_type": "stream",
     "text": [
      "NaNImputer(conservative = False, n_feats = 10,            \n",
      "           fix_string_nans = True, verbose = True,                \n",
      "           multiprocessing_load = 3, fill_nans_in_pure_text = True,                    \n",
      "           drop_empty_cols = True, drop_nan_cols_with_constant = True                        \n",
      "           feature_selection = correlation)\n",
      "\n",
      "No missing data to impute\n"
     ]
    }
   ],
   "source": [
    "pipeline =Pipeline([\n",
    "    ('Label Encoder', Label_ENC()),\n",
    "    ('Ordinal Encoder', Ordinal_ENC()),\n",
    "    ('Verstack Imputer', Verstack_IMP(df_out)),\n",
    "    ('Scaler', Standard_SCA(X)),\n",
    "    ('Random Over Sample', ROS(X_train, y_train)),\n",
    "    ('Model', model(X_train, y_train, X_test, y_test))\n",
    "])"
   ],
   "metadata": {
    "collapsed": false,
    "pycharm": {
     "name": "#%%\n"
    }
   }
  },
  {
   "cell_type": "code",
   "execution_count": 144,
   "outputs": [
    {
     "ename": "ValueError",
     "evalue": "The truth value of a DataFrame is ambiguous. Use a.empty, a.bool(), a.item(), a.any() or a.all().",
     "output_type": "error",
     "traceback": [
      "\u001B[1;31m---------------------------------------------------------------------------\u001B[0m",
      "\u001B[1;31mValueError\u001B[0m                                Traceback (most recent call last)",
      "Input \u001B[1;32mIn [144]\u001B[0m, in \u001B[0;36m<cell line: 1>\u001B[1;34m()\u001B[0m\n\u001B[1;32m----> 1\u001B[0m pipe \u001B[38;5;241m=\u001B[39m \u001B[43mpipeline\u001B[49m\u001B[38;5;241;43m.\u001B[39;49m\u001B[43mfit\u001B[49m\u001B[43m(\u001B[49m\u001B[43mX_resampled\u001B[49m\u001B[43m,\u001B[49m\u001B[43m \u001B[49m\u001B[43my_resampled\u001B[49m\u001B[43m)\u001B[49m\n",
      "File \u001B[1;32m~\\anaconda3\\lib\\site-packages\\sklearn\\pipeline.py:378\u001B[0m, in \u001B[0;36mPipeline.fit\u001B[1;34m(self, X, y, **fit_params)\u001B[0m\n\u001B[0;32m    352\u001B[0m \u001B[38;5;124;03m\"\"\"Fit the model.\u001B[39;00m\n\u001B[0;32m    353\u001B[0m \n\u001B[0;32m    354\u001B[0m \u001B[38;5;124;03mFit all the transformers one after the other and transform the\u001B[39;00m\n\u001B[1;32m   (...)\u001B[0m\n\u001B[0;32m    375\u001B[0m \u001B[38;5;124;03m    Pipeline with fitted steps.\u001B[39;00m\n\u001B[0;32m    376\u001B[0m \u001B[38;5;124;03m\"\"\"\u001B[39;00m\n\u001B[0;32m    377\u001B[0m fit_params_steps \u001B[38;5;241m=\u001B[39m \u001B[38;5;28mself\u001B[39m\u001B[38;5;241m.\u001B[39m_check_fit_params(\u001B[38;5;241m*\u001B[39m\u001B[38;5;241m*\u001B[39mfit_params)\n\u001B[1;32m--> 378\u001B[0m Xt \u001B[38;5;241m=\u001B[39m \u001B[38;5;28mself\u001B[39m\u001B[38;5;241m.\u001B[39m_fit(X, y, \u001B[38;5;241m*\u001B[39m\u001B[38;5;241m*\u001B[39mfit_params_steps)\n\u001B[0;32m    379\u001B[0m \u001B[38;5;28;01mwith\u001B[39;00m _print_elapsed_time(\u001B[38;5;124m\"\u001B[39m\u001B[38;5;124mPipeline\u001B[39m\u001B[38;5;124m\"\u001B[39m, \u001B[38;5;28mself\u001B[39m\u001B[38;5;241m.\u001B[39m_log_message(\u001B[38;5;28mlen\u001B[39m(\u001B[38;5;28mself\u001B[39m\u001B[38;5;241m.\u001B[39msteps) \u001B[38;5;241m-\u001B[39m \u001B[38;5;241m1\u001B[39m)):\n\u001B[0;32m    380\u001B[0m     \u001B[38;5;28;01mif\u001B[39;00m \u001B[38;5;28mself\u001B[39m\u001B[38;5;241m.\u001B[39m_final_estimator \u001B[38;5;241m!=\u001B[39m \u001B[38;5;124m\"\u001B[39m\u001B[38;5;124mpassthrough\u001B[39m\u001B[38;5;124m\"\u001B[39m:\n",
      "File \u001B[1;32m~\\anaconda3\\lib\\site-packages\\sklearn\\pipeline.py:316\u001B[0m, in \u001B[0;36mPipeline._fit\u001B[1;34m(self, X, y, **fit_params_steps)\u001B[0m\n\u001B[0;32m    313\u001B[0m \u001B[38;5;28;01mdef\u001B[39;00m \u001B[38;5;21m_fit\u001B[39m(\u001B[38;5;28mself\u001B[39m, X, y\u001B[38;5;241m=\u001B[39m\u001B[38;5;28;01mNone\u001B[39;00m, \u001B[38;5;241m*\u001B[39m\u001B[38;5;241m*\u001B[39mfit_params_steps):\n\u001B[0;32m    314\u001B[0m     \u001B[38;5;66;03m# shallow copy of steps - this should really be steps_\u001B[39;00m\n\u001B[0;32m    315\u001B[0m     \u001B[38;5;28mself\u001B[39m\u001B[38;5;241m.\u001B[39msteps \u001B[38;5;241m=\u001B[39m \u001B[38;5;28mlist\u001B[39m(\u001B[38;5;28mself\u001B[39m\u001B[38;5;241m.\u001B[39msteps)\n\u001B[1;32m--> 316\u001B[0m     \u001B[38;5;28;43mself\u001B[39;49m\u001B[38;5;241;43m.\u001B[39;49m\u001B[43m_validate_steps\u001B[49m\u001B[43m(\u001B[49m\u001B[43m)\u001B[49m\n\u001B[0;32m    317\u001B[0m     \u001B[38;5;66;03m# Setup the memory\u001B[39;00m\n\u001B[0;32m    318\u001B[0m     memory \u001B[38;5;241m=\u001B[39m check_memory(\u001B[38;5;28mself\u001B[39m\u001B[38;5;241m.\u001B[39mmemory)\n",
      "File \u001B[1;32m~\\anaconda3\\lib\\site-packages\\sklearn\\pipeline.py:202\u001B[0m, in \u001B[0;36mPipeline._validate_steps\u001B[1;34m(self)\u001B[0m\n\u001B[0;32m    199\u001B[0m estimator \u001B[38;5;241m=\u001B[39m estimators[\u001B[38;5;241m-\u001B[39m\u001B[38;5;241m1\u001B[39m]\n\u001B[0;32m    201\u001B[0m \u001B[38;5;28;01mfor\u001B[39;00m t \u001B[38;5;129;01min\u001B[39;00m transformers:\n\u001B[1;32m--> 202\u001B[0m     \u001B[38;5;28;01mif\u001B[39;00m t \u001B[38;5;129;01mis\u001B[39;00m \u001B[38;5;28;01mNone\u001B[39;00m \u001B[38;5;129;01mor\u001B[39;00m \u001B[43mt\u001B[49m\u001B[43m \u001B[49m\u001B[38;5;241;43m==\u001B[39;49m\u001B[43m \u001B[49m\u001B[38;5;124;43m\"\u001B[39;49m\u001B[38;5;124;43mpassthrough\u001B[39;49m\u001B[38;5;124;43m\"\u001B[39;49m:\n\u001B[0;32m    203\u001B[0m         \u001B[38;5;28;01mcontinue\u001B[39;00m\n\u001B[0;32m    204\u001B[0m     \u001B[38;5;28;01mif\u001B[39;00m \u001B[38;5;129;01mnot\u001B[39;00m (\u001B[38;5;28mhasattr\u001B[39m(t, \u001B[38;5;124m\"\u001B[39m\u001B[38;5;124mfit\u001B[39m\u001B[38;5;124m\"\u001B[39m) \u001B[38;5;129;01mor\u001B[39;00m \u001B[38;5;28mhasattr\u001B[39m(t, \u001B[38;5;124m\"\u001B[39m\u001B[38;5;124mfit_transform\u001B[39m\u001B[38;5;124m\"\u001B[39m)) \u001B[38;5;129;01mor\u001B[39;00m \u001B[38;5;129;01mnot\u001B[39;00m \u001B[38;5;28mhasattr\u001B[39m(\n\u001B[0;32m    205\u001B[0m         t, \u001B[38;5;124m\"\u001B[39m\u001B[38;5;124mtransform\u001B[39m\u001B[38;5;124m\"\u001B[39m\n\u001B[0;32m    206\u001B[0m     ):\n",
      "File \u001B[1;32m~\\anaconda3\\lib\\site-packages\\pandas\\core\\generic.py:1527\u001B[0m, in \u001B[0;36mNDFrame.__nonzero__\u001B[1;34m(self)\u001B[0m\n\u001B[0;32m   1525\u001B[0m \u001B[38;5;129m@final\u001B[39m\n\u001B[0;32m   1526\u001B[0m \u001B[38;5;28;01mdef\u001B[39;00m \u001B[38;5;21m__nonzero__\u001B[39m(\u001B[38;5;28mself\u001B[39m):\n\u001B[1;32m-> 1527\u001B[0m     \u001B[38;5;28;01mraise\u001B[39;00m \u001B[38;5;167;01mValueError\u001B[39;00m(\n\u001B[0;32m   1528\u001B[0m         \u001B[38;5;124mf\u001B[39m\u001B[38;5;124m\"\u001B[39m\u001B[38;5;124mThe truth value of a \u001B[39m\u001B[38;5;132;01m{\u001B[39;00m\u001B[38;5;28mtype\u001B[39m(\u001B[38;5;28mself\u001B[39m)\u001B[38;5;241m.\u001B[39m\u001B[38;5;18m__name__\u001B[39m\u001B[38;5;132;01m}\u001B[39;00m\u001B[38;5;124m is ambiguous. \u001B[39m\u001B[38;5;124m\"\u001B[39m\n\u001B[0;32m   1529\u001B[0m         \u001B[38;5;124m\"\u001B[39m\u001B[38;5;124mUse a.empty, a.bool(), a.item(), a.any() or a.all().\u001B[39m\u001B[38;5;124m\"\u001B[39m\n\u001B[0;32m   1530\u001B[0m     )\n",
      "\u001B[1;31mValueError\u001B[0m: The truth value of a DataFrame is ambiguous. Use a.empty, a.bool(), a.item(), a.any() or a.all()."
     ]
    }
   ],
   "source": [
    "pipe = pipeline.fit(X_resampled, y_resampled)"
   ],
   "metadata": {
    "collapsed": false,
    "pycharm": {
     "name": "#%%\n"
    }
   }
  },
  {
   "cell_type": "code",
   "execution_count": null,
   "outputs": [],
   "source": [],
   "metadata": {
    "collapsed": false,
    "pycharm": {
     "name": "#%%\n"
    }
   }
  }
 ],
 "metadata": {
  "kernelspec": {
   "display_name": "Python 3 (ipykernel)",
   "language": "python",
   "name": "python3"
  },
  "language_info": {
   "codemirror_mode": {
    "name": "ipython",
    "version": 3
   },
   "file_extension": ".py",
   "mimetype": "text/x-python",
   "name": "python",
   "nbconvert_exporter": "python",
   "pygments_lexer": "ipython3",
   "version": "3.9.12"
  }
 },
 "nbformat": 4,
 "nbformat_minor": 1
}