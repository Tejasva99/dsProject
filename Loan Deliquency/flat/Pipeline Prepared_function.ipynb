{
 "cells": [
  {
   "cell_type": "code",
   "execution_count": 1,
   "metadata": {
    "pycharm": {
     "name": "#%%\n"
    }
   },
   "outputs": [],
   "source": [
    "import warnings\n",
    "warnings.filterwarnings(\"ignore\")"
   ]
  },
  {
   "cell_type": "code",
   "execution_count": 2,
   "metadata": {
    "pycharm": {
     "name": "#%%\n"
    }
   },
   "outputs": [],
   "source": [
    "import pandas as pd\n",
    "from sklearn.ensemble import RandomForestClassifier\n",
    "from sklearn.preprocessing import StandardScaler\n",
    "from verstack import NaNImputer\n",
    "from sklearn.preprocessing import LabelEncoder\n",
    "from imblearn.pipeline import Pipeline as imbPipeline"
   ]
  },
  {
   "cell_type": "code",
   "execution_count": 3,
   "metadata": {
    "pycharm": {
     "name": "#%%\n"
    }
   },
   "outputs": [],
   "source": [
    "from sklearn.model_selection import train_test_split\n",
    "from imblearn.over_sampling import RandomOverSampler\n",
    "from sklearn.metrics import classification_report"
   ]
  },
  {
   "cell_type": "code",
   "execution_count": 4,
   "outputs": [],
   "source": [
    "class Pipeline_class():\n",
    "\n",
    "    def Load(self):\n",
    "        df = pd.read_csv('loan_level_500k.csv')\n",
    "        return df\n",
    "\n",
    "    def dropper(self,df):\n",
    "        df.drop([\"FIRST_PAYMENT_DATE\", \"MATURITY_DATE\", \"MORTGAGE_INSURANCE_PERCENTAGE\", \"ORIGINAL_UPB\", \"ORIGINAL_INTEREST_RATE\", \"PREPAYMENT_PENALTY_MORTGAGE_FLAG\",\"NUMBER_OF_BORROWERS\",\"LOAN_SEQUENCE_NUMBER\", \"FIRST_TIME_HOMEBUYER_FLAG\"], inplace=True, axis=1)\n",
    "\n",
    "    def explainData(self,df):\n",
    "        print(\"\\n\\nShape of Data:\")\n",
    "        print(df.shape)\n",
    "        print(\"\\n\\nInformation of Data:\\n\")\n",
    "        df.info()\n",
    "        print(\"\\n\\nDescription of Data:\\n\")\n",
    "        print(df.describe().T)\n",
    "\n",
    "    def missing_percentage(self, df):\n",
    "        missing = pd.DataFrame(columns=['Category', 'Percentage'])\n",
    "        for col in df.columns:\n",
    "            if df[col].isna().values.any():\n",
    "                percentage = 100*df[col].isna().sum()/df.shape[0]\n",
    "                missing = missing.append({'Category':col, 'Percentage':percentage}, ignore_index = True)\n",
    "        return missing\n",
    "\n",
    "    def seperate_data(self, df):\n",
    "        X = df.drop('DELINQUENT', axis =1)\n",
    "        y = df['DELINQUENT']\n",
    "        y = y*1\n",
    "        return X,y\n",
    "\n",
    "    def verstack_imputer(self, X):\n",
    "        imputer = NaNImputer()\n",
    "        X = imputer.impute(X)\n",
    "        return X\n",
    "\n",
    "    def train_test_sp(self, X, y):\n",
    "        X_train, X_test, y_train, y_test = train_test_split(X, y, test_size=0.3, random_state=42)\n",
    "        return X_train, X_test, y_train, y_test\n",
    "\n",
    "    def Impute(self, X):\n",
    "        categorical = list(X.select_dtypes(include=['object','bool']).columns[:-1])\n",
    "        numerical = X.select_dtypes(include=['int64','float64']).columns[:-1]\n",
    "        for i in numerical:\n",
    "            X[i] = X[i].fillna(X[i].median())\n",
    "        for i in categorical:\n",
    "            X[i] = X[i].fillna(X[i].mode()[0])\n",
    "        return X\n",
    "\n",
    "    def feature_encoder(self, X):\n",
    "        label_encoder = LabelEncoder()\n",
    "        X['PREPAID']= label_encoder.fit_transform(X['PREPAID'])\n",
    "        X['POSTAL_CODE'] = label_encoder.fit_transform(X['POSTAL_CODE'])\n",
    "        return X\n",
    "\n",
    "    def onehot_encoder(self, X):\n",
    "        X_new = pd.get_dummies(X, ['OCCUPANCY_STATUS', 'CHANNEL', 'PRODUCT_TYPE', 'PROPERTY_STATE', 'PROPERTY_TYPE', 'LOAN_PURPOSE', 'SELLER_NAME', 'SERVICER_NAME'], drop_first=True)\n",
    "        return X_new\n",
    "\n",
    "    def scaling(self, X):\n",
    "        scaler = StandardScaler(with_mean=False)\n",
    "        X = scaler.fit_transform(X)\n",
    "        return X\n",
    "\n",
    "    def OverSample_rand(self,X,y):\n",
    "        sam = RandomOverSampler(sampling_strategy='minority')\n",
    "        X_resampled, y_resampled = sam.fit_resample(X, y)\n",
    "        return X_resampled, y_resampled\n",
    "\n",
    "    def classifier(self, X_train, y_train, X_test, y_test):\n",
    "        rfc2 = RandomForestClassifier(class_weight='balanced')\n",
    "        rfc2.fit(X_train, y_train)\n",
    "        y_pred_rfc2 = rfc2.predict(X_test)\n",
    "        print(classification_report(y_pred_rfc2, y_test))\n",
    "        return rfc2"
   ],
   "metadata": {
    "collapsed": false,
    "pycharm": {
     "name": "#%%\n"
    }
   }
  },
  {
   "cell_type": "code",
   "execution_count": 5,
   "metadata": {
    "pycharm": {
     "name": "#%%\n"
    }
   },
   "outputs": [],
   "source": [
    "p1 = Pipeline_class()\n",
    "df = p1.Load()"
   ]
  },
  {
   "cell_type": "code",
   "execution_count": 6,
   "outputs": [],
   "source": [
    "p1.dropper(df)"
   ],
   "metadata": {
    "collapsed": false,
    "pycharm": {
     "name": "#%%\n"
    }
   }
  },
  {
   "cell_type": "code",
   "execution_count": 7,
   "outputs": [
    {
     "name": "stdout",
     "output_type": "stream",
     "text": [
      "\n",
      "\n",
      "Shape of Data:\n",
      "(500137, 18)\n",
      "\n",
      "\n",
      "Information of Data:\n",
      "\n",
      "<class 'pandas.core.frame.DataFrame'>\n",
      "RangeIndex: 500137 entries, 0 to 500136\n",
      "Data columns (total 18 columns):\n",
      " #   Column                           Non-Null Count   Dtype  \n",
      "---  ------                           --------------   -----  \n",
      " 0   CREDIT_SCORE                     497426 non-null  float64\n",
      " 1   METROPOLITAN_STATISTICAL_AREA    429988 non-null  float64\n",
      " 2   NUMBER_OF_UNITS                  500134 non-null  float64\n",
      " 3   OCCUPANCY_STATUS                 500137 non-null  object \n",
      " 4   ORIGINAL_COMBINED_LOAN_TO_VALUE  500124 non-null  float64\n",
      " 5   ORIGINAL_DEBT_TO_INCOME_RATIO    485208 non-null  float64\n",
      " 6   ORIGINAL_LOAN_TO_VALUE           500128 non-null  float64\n",
      " 7   CHANNEL                          500137 non-null  object \n",
      " 8   PRODUCT_TYPE                     500137 non-null  object \n",
      " 9   PROPERTY_STATE                   500137 non-null  object \n",
      " 10  PROPERTY_TYPE                    500042 non-null  object \n",
      " 11  POSTAL_CODE                      500106 non-null  float64\n",
      " 12  LOAN_PURPOSE                     500137 non-null  object \n",
      " 13  ORIGINAL_LOAN_TERM               500137 non-null  int64  \n",
      " 14  SELLER_NAME                      500137 non-null  object \n",
      " 15  SERVICER_NAME                    500137 non-null  object \n",
      " 16  PREPAID                          500137 non-null  bool   \n",
      " 17  DELINQUENT                       500137 non-null  bool   \n",
      "dtypes: bool(2), float64(7), int64(1), object(8)\n",
      "memory usage: 62.0+ MB\n",
      "\n",
      "\n",
      "Description of Data:\n",
      "\n",
      "                                    count          mean           std  \\\n",
      "CREDIT_SCORE                     497426.0    712.536212     54.791262   \n",
      "METROPOLITAN_STATISTICAL_AREA    429988.0  30777.824739  11333.401144   \n",
      "NUMBER_OF_UNITS                  500134.0      1.028890      0.218391   \n",
      "ORIGINAL_COMBINED_LOAN_TO_VALUE  500124.0     76.053571     15.139986   \n",
      "ORIGINAL_DEBT_TO_INCOME_RATIO    485208.0     32.917541     11.111800   \n",
      "ORIGINAL_LOAN_TO_VALUE           500128.0     75.710714     14.937717   \n",
      "POSTAL_CODE                      500106.0  55490.857138  29505.382259   \n",
      "ORIGINAL_LOAN_TERM               500137.0    359.855470      1.908251   \n",
      "\n",
      "                                     min      25%      50%      75%      max  \n",
      "CREDIT_SCORE                       300.0    676.0    719.0    756.0    839.0  \n",
      "METROPOLITAN_STATISTICAL_AREA    10180.0  19740.0  33340.0  40420.0  49740.0  \n",
      "NUMBER_OF_UNITS                      1.0      1.0      1.0      1.0      4.0  \n",
      "ORIGINAL_COMBINED_LOAN_TO_VALUE      6.0     70.0     80.0     88.0    180.0  \n",
      "ORIGINAL_DEBT_TO_INCOME_RATIO        1.0     25.0     33.0     41.0     65.0  \n",
      "ORIGINAL_LOAN_TO_VALUE               6.0     70.0     80.0     85.0    100.0  \n",
      "POSTAL_CODE                        600.0  30500.0  54200.0  85000.0  99900.0  \n",
      "ORIGINAL_LOAN_TERM                 301.0    360.0    360.0    360.0    362.0  \n"
     ]
    }
   ],
   "source": [
    "p1.explainData(df)"
   ],
   "metadata": {
    "collapsed": false,
    "pycharm": {
     "name": "#%%\n"
    }
   }
  },
  {
   "cell_type": "code",
   "execution_count": 8,
   "metadata": {
    "pycharm": {
     "name": "#%%\n"
    }
   },
   "outputs": [
    {
     "name": "stdout",
     "output_type": "stream",
     "text": [
      "NaNImputer(conservative = False, n_feats = 10,            \n",
      "           fix_string_nans = True, verbose = True,                \n",
      "           multiprocessing_load = 3, fill_nans_in_pure_text = True,                    \n",
      "           drop_empty_cols = True, drop_nan_cols_with_constant = True                        \n",
      "           feature_selection = correlation)\n",
      "\n",
      "Dataset dimensions:\n",
      " - rows:         500137\n",
      " - columns:      18\n",
      " - mb in memory: 62.01\n",
      " - NaN cols num: 8\n",
      "--------------------------\n",
      "\n",
      "Deploy multiprocessing with 12 parallel proceses\n",
      "\n",
      "\n",
      "NaNs imputation time: 0.78 minutes\n",
      "--------------------------------------------------\n"
     ]
    }
   ],
   "source": [
    "df = p1.verstack_imputer(df)"
   ]
  },
  {
   "cell_type": "code",
   "execution_count": 19,
   "outputs": [],
   "source": [
    "df = p1.Impute(df)"
   ],
   "metadata": {
    "collapsed": false,
    "pycharm": {
     "name": "#%%\n"
    }
   }
  },
  {
   "cell_type": "code",
   "execution_count": 20,
   "outputs": [],
   "source": [
    "X,y = p1.seperate_data(df)"
   ],
   "metadata": {
    "collapsed": false,
    "pycharm": {
     "name": "#%%\n"
    }
   }
  },
  {
   "cell_type": "code",
   "execution_count": 21,
   "outputs": [],
   "source": [
    "X_train, X_test, y_train, y_test = p1.train_test_sp(X,y)"
   ],
   "metadata": {
    "collapsed": false,
    "pycharm": {
     "name": "#%%\n"
    }
   }
  },
  {
   "cell_type": "code",
   "execution_count": 22,
   "outputs": [],
   "source": [
    "X_train = p1.feature_encoder(X_train)\n",
    "X_test = p1.feature_encoder(X_test)"
   ],
   "metadata": {
    "collapsed": false,
    "pycharm": {
     "name": "#%%\n"
    }
   }
  },
  {
   "cell_type": "code",
   "execution_count": 23,
   "outputs": [],
   "source": [
    "X_train_new = p1.onehot_encoder(X_train)\n",
    "X_test_new = p1.onehot_encoder(X_test)"
   ],
   "metadata": {
    "collapsed": false,
    "pycharm": {
     "name": "#%%\n"
    }
   }
  },
  {
   "cell_type": "code",
   "execution_count": 24,
   "outputs": [],
   "source": [
    "X_train = p1.scaling(X_train_new)\n",
    "X_test = p1.scaling(X_test_new)"
   ],
   "metadata": {
    "collapsed": false,
    "pycharm": {
     "name": "#%%\n"
    }
   }
  },
  {
   "cell_type": "code",
   "execution_count": 25,
   "outputs": [],
   "source": [
    "X_re, y_re = p1.OverSample_rand(X_train, y_train)"
   ],
   "metadata": {
    "collapsed": false,
    "pycharm": {
     "name": "#%%\n"
    }
   }
  },
  {
   "cell_type": "code",
   "execution_count": 26,
   "outputs": [],
   "source": [
    "X_re = pd.DataFrame(X_re, columns=X_train_new.columns)"
   ],
   "metadata": {
    "collapsed": false,
    "pycharm": {
     "name": "#%%\n"
    }
   }
  },
  {
   "cell_type": "code",
   "execution_count": null,
   "outputs": [],
   "source": [
    "model = p1.classifier(X_re, y_re, X_test, y_test )"
   ],
   "metadata": {
    "collapsed": false,
    "pycharm": {
     "name": "#%%\n"
    }
   }
  }
 ],
 "metadata": {
  "kernelspec": {
   "display_name": "Python 3 (ipykernel)",
   "language": "python",
   "name": "python3"
  },
  "language_info": {
   "codemirror_mode": {
    "name": "ipython",
    "version": 3
   },
   "file_extension": ".py",
   "mimetype": "text/x-python",
   "name": "python",
   "nbconvert_exporter": "python",
   "pygments_lexer": "ipython3",
   "version": "3.9.12"
  }
 },
 "nbformat": 4,
 "nbformat_minor": 1
}