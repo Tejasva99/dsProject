{
 "cells": [
  {
   "cell_type": "code",
   "execution_count": 106,
   "metadata": {
    "pycharm": {
     "name": "#%%\n"
    }
   },
   "outputs": [],
   "source": [
    "import warnings\n",
    "warnings.filterwarnings(\"ignore\")"
   ]
  },
  {
   "cell_type": "code",
   "execution_count": 107,
   "metadata": {
    "pycharm": {
     "name": "#%%\n"
    }
   },
   "outputs": [],
   "source": [
    "import pandas as pd\n",
    "from sklearn.ensemble import RandomForestClassifier\n",
    "from sklearn.preprocessing import StandardScaler\n",
    "from verstack import NaNImputer\n",
    "from sklearn.preprocessing import LabelEncoder\n",
    "from sklearn.preprocessing import OrdinalEncoder\n",
    "from imblearn.over_sampling import RandomOverSampler"
   ]
  },
  {
   "cell_type": "code",
   "execution_count": 108,
   "metadata": {
    "pycharm": {
     "name": "#%%\n"
    }
   },
   "outputs": [],
   "source": [
    "from sklearn.model_selection import train_test_split\n",
    "from imblearn.over_sampling import RandomOverSampler,SMOTE\n",
    "from sklearn.compose import ColumnTransformer\n",
    "from sklearn.pipeline import Pipeline,make_pipeline"
   ]
  },
  {
   "cell_type": "code",
   "execution_count": 109,
   "metadata": {
    "pycharm": {
     "name": "#%%\n"
    }
   },
   "outputs": [
    {
     "data": {
      "text/plain": "   CREDIT_SCORE  FIRST_PAYMENT_DATE FIRST_TIME_HOMEBUYER_FLAG  MATURITY_DATE  \\\n0         669.0              200206                         N         202901   \n1         732.0              199904                         N         202903   \n2         679.0              200208                         N         202902   \n3         721.0              200209                         N         202902   \n4         618.0              200210                         N         202902   \n\n   METROPOLITAN_STATISTICAL_AREA  MORTGAGE_INSURANCE_PERCENTAGE  \\\n0                            NaN                            0.0   \n1                        17140.0                            0.0   \n2                        15940.0                           30.0   \n3                        38060.0                            0.0   \n4                        10420.0                           25.0   \n\n   NUMBER_OF_UNITS OCCUPANCY_STATUS  ORIGINAL_COMBINED_LOAN_TO_VALUE  \\\n0              1.0                O                             80.0   \n1              1.0                O                             25.0   \n2              1.0                O                             91.0   \n3              1.0                O                             39.0   \n4              1.0                O                             85.0   \n\n   ORIGINAL_DEBT_TO_INCOME_RATIO  ...  PROPERTY_TYPE  POSTAL_CODE  \\\n0                           33.0  ...             SF      26100.0   \n1                           10.0  ...             SF      45200.0   \n2                           48.0  ...             SF      44700.0   \n3                           13.0  ...             SF      85200.0   \n4                           24.0  ...             SF      44200.0   \n\n   LOAN_SEQUENCE_NUMBER LOAN_PURPOSE ORIGINAL_LOAN_TERM NUMBER_OF_BORROWERS  \\\n0          F199Q1000004            P                320                 2.0   \n1          F199Q1000005            N                360                 1.0   \n2          F199Q1000007            P                319                 1.0   \n3          F199Q1000013            N                318                 2.0   \n4          F199Q1000015            N                317                 2.0   \n\n     SELLER_NAME    SERVICER_NAME  PREPAID DELINQUENT  \n0  Other sellers  Other servicers     True      False  \n1  Other sellers  Other servicers     True      False  \n2  Other sellers  Other servicers     True      False  \n3  Other sellers  Other servicers     True      False  \n4  Other sellers  Other servicers     True      False  \n\n[5 rows x 27 columns]",
      "text/html": "<div>\n<style scoped>\n    .dataframe tbody tr th:only-of-type {\n        vertical-align: middle;\n    }\n\n    .dataframe tbody tr th {\n        vertical-align: top;\n    }\n\n    .dataframe thead th {\n        text-align: right;\n    }\n</style>\n<table border=\"1\" class=\"dataframe\">\n  <thead>\n    <tr style=\"text-align: right;\">\n      <th></th>\n      <th>CREDIT_SCORE</th>\n      <th>FIRST_PAYMENT_DATE</th>\n      <th>FIRST_TIME_HOMEBUYER_FLAG</th>\n      <th>MATURITY_DATE</th>\n      <th>METROPOLITAN_STATISTICAL_AREA</th>\n      <th>MORTGAGE_INSURANCE_PERCENTAGE</th>\n      <th>NUMBER_OF_UNITS</th>\n      <th>OCCUPANCY_STATUS</th>\n      <th>ORIGINAL_COMBINED_LOAN_TO_VALUE</th>\n      <th>ORIGINAL_DEBT_TO_INCOME_RATIO</th>\n      <th>...</th>\n      <th>PROPERTY_TYPE</th>\n      <th>POSTAL_CODE</th>\n      <th>LOAN_SEQUENCE_NUMBER</th>\n      <th>LOAN_PURPOSE</th>\n      <th>ORIGINAL_LOAN_TERM</th>\n      <th>NUMBER_OF_BORROWERS</th>\n      <th>SELLER_NAME</th>\n      <th>SERVICER_NAME</th>\n      <th>PREPAID</th>\n      <th>DELINQUENT</th>\n    </tr>\n  </thead>\n  <tbody>\n    <tr>\n      <th>0</th>\n      <td>669.0</td>\n      <td>200206</td>\n      <td>N</td>\n      <td>202901</td>\n      <td>NaN</td>\n      <td>0.0</td>\n      <td>1.0</td>\n      <td>O</td>\n      <td>80.0</td>\n      <td>33.0</td>\n      <td>...</td>\n      <td>SF</td>\n      <td>26100.0</td>\n      <td>F199Q1000004</td>\n      <td>P</td>\n      <td>320</td>\n      <td>2.0</td>\n      <td>Other sellers</td>\n      <td>Other servicers</td>\n      <td>True</td>\n      <td>False</td>\n    </tr>\n    <tr>\n      <th>1</th>\n      <td>732.0</td>\n      <td>199904</td>\n      <td>N</td>\n      <td>202903</td>\n      <td>17140.0</td>\n      <td>0.0</td>\n      <td>1.0</td>\n      <td>O</td>\n      <td>25.0</td>\n      <td>10.0</td>\n      <td>...</td>\n      <td>SF</td>\n      <td>45200.0</td>\n      <td>F199Q1000005</td>\n      <td>N</td>\n      <td>360</td>\n      <td>1.0</td>\n      <td>Other sellers</td>\n      <td>Other servicers</td>\n      <td>True</td>\n      <td>False</td>\n    </tr>\n    <tr>\n      <th>2</th>\n      <td>679.0</td>\n      <td>200208</td>\n      <td>N</td>\n      <td>202902</td>\n      <td>15940.0</td>\n      <td>30.0</td>\n      <td>1.0</td>\n      <td>O</td>\n      <td>91.0</td>\n      <td>48.0</td>\n      <td>...</td>\n      <td>SF</td>\n      <td>44700.0</td>\n      <td>F199Q1000007</td>\n      <td>P</td>\n      <td>319</td>\n      <td>1.0</td>\n      <td>Other sellers</td>\n      <td>Other servicers</td>\n      <td>True</td>\n      <td>False</td>\n    </tr>\n    <tr>\n      <th>3</th>\n      <td>721.0</td>\n      <td>200209</td>\n      <td>N</td>\n      <td>202902</td>\n      <td>38060.0</td>\n      <td>0.0</td>\n      <td>1.0</td>\n      <td>O</td>\n      <td>39.0</td>\n      <td>13.0</td>\n      <td>...</td>\n      <td>SF</td>\n      <td>85200.0</td>\n      <td>F199Q1000013</td>\n      <td>N</td>\n      <td>318</td>\n      <td>2.0</td>\n      <td>Other sellers</td>\n      <td>Other servicers</td>\n      <td>True</td>\n      <td>False</td>\n    </tr>\n    <tr>\n      <th>4</th>\n      <td>618.0</td>\n      <td>200210</td>\n      <td>N</td>\n      <td>202902</td>\n      <td>10420.0</td>\n      <td>25.0</td>\n      <td>1.0</td>\n      <td>O</td>\n      <td>85.0</td>\n      <td>24.0</td>\n      <td>...</td>\n      <td>SF</td>\n      <td>44200.0</td>\n      <td>F199Q1000015</td>\n      <td>N</td>\n      <td>317</td>\n      <td>2.0</td>\n      <td>Other sellers</td>\n      <td>Other servicers</td>\n      <td>True</td>\n      <td>False</td>\n    </tr>\n  </tbody>\n</table>\n<p>5 rows × 27 columns</p>\n</div>"
     },
     "execution_count": 109,
     "metadata": {},
     "output_type": "execute_result"
    }
   ],
   "source": [
    "df = pd.read_csv('loan_level_500k.csv')\n",
    "df.head()"
   ]
  },
  {
   "cell_type": "code",
   "execution_count": 110,
   "metadata": {
    "pycharm": {
     "name": "#%%\n"
    }
   },
   "outputs": [],
   "source": [
    "df.drop('LOAN_SEQUENCE_NUMBER', inplace=True, axis =1)"
   ]
  },
  {
   "cell_type": "code",
   "execution_count": 111,
   "metadata": {
    "pycharm": {
     "name": "#%%\n"
    }
   },
   "outputs": [
    {
     "data": {
      "text/plain": "(500137, 26)"
     },
     "execution_count": 111,
     "metadata": {},
     "output_type": "execute_result"
    }
   ],
   "source": [
    "df.shape"
   ]
  },
  {
   "cell_type": "code",
   "execution_count": 112,
   "metadata": {
    "pycharm": {
     "name": "#%%\n"
    }
   },
   "outputs": [
    {
     "name": "stdout",
     "output_type": "stream",
     "text": [
      "<class 'pandas.core.frame.DataFrame'>\n",
      "RangeIndex: 500137 entries, 0 to 500136\n",
      "Data columns (total 26 columns):\n",
      " #   Column                            Non-Null Count   Dtype  \n",
      "---  ------                            --------------   -----  \n",
      " 0   CREDIT_SCORE                      497426 non-null  float64\n",
      " 1   FIRST_PAYMENT_DATE                500137 non-null  int64  \n",
      " 2   FIRST_TIME_HOMEBUYER_FLAG         369578 non-null  object \n",
      " 3   MATURITY_DATE                     500137 non-null  int64  \n",
      " 4   METROPOLITAN_STATISTICAL_AREA     429988 non-null  float64\n",
      " 5   MORTGAGE_INSURANCE_PERCENTAGE     449089 non-null  float64\n",
      " 6   NUMBER_OF_UNITS                   500134 non-null  float64\n",
      " 7   OCCUPANCY_STATUS                  500137 non-null  object \n",
      " 8   ORIGINAL_COMBINED_LOAN_TO_VALUE   500124 non-null  float64\n",
      " 9   ORIGINAL_DEBT_TO_INCOME_RATIO     485208 non-null  float64\n",
      " 10  ORIGINAL_UPB                      500137 non-null  int64  \n",
      " 11  ORIGINAL_LOAN_TO_VALUE            500128 non-null  float64\n",
      " 12  ORIGINAL_INTEREST_RATE            500137 non-null  float64\n",
      " 13  CHANNEL                           500137 non-null  object \n",
      " 14  PREPAYMENT_PENALTY_MORTGAGE_FLAG  494959 non-null  object \n",
      " 15  PRODUCT_TYPE                      500137 non-null  object \n",
      " 16  PROPERTY_STATE                    500137 non-null  object \n",
      " 17  PROPERTY_TYPE                     500042 non-null  object \n",
      " 18  POSTAL_CODE                       500106 non-null  float64\n",
      " 19  LOAN_PURPOSE                      500137 non-null  object \n",
      " 20  ORIGINAL_LOAN_TERM                500137 non-null  int64  \n",
      " 21  NUMBER_OF_BORROWERS               499890 non-null  float64\n",
      " 22  SELLER_NAME                       500137 non-null  object \n",
      " 23  SERVICER_NAME                     500137 non-null  object \n",
      " 24  PREPAID                           500137 non-null  bool   \n",
      " 25  DELINQUENT                        500137 non-null  bool   \n",
      "dtypes: bool(2), float64(10), int64(4), object(10)\n",
      "memory usage: 92.5+ MB\n"
     ]
    }
   ],
   "source": [
    "df.info()"
   ]
  },
  {
   "cell_type": "code",
   "execution_count": 113,
   "metadata": {
    "pycharm": {
     "name": "#%%\n"
    }
   },
   "outputs": [
    {
     "data": {
      "text/plain": "                                    count           mean           std  \\\nCREDIT_SCORE                     497426.0     712.536212     54.791262   \nFIRST_PAYMENT_DATE               500137.0  200025.430952    109.815541   \nMATURITY_DATE                    500137.0  203023.195872    110.384189   \nMETROPOLITAN_STATISTICAL_AREA    429988.0   30777.824739  11333.401144   \nMORTGAGE_INSURANCE_PERCENTAGE    449089.0       7.744532     12.046546   \nNUMBER_OF_UNITS                  500134.0       1.028890      0.218391   \nORIGINAL_COMBINED_LOAN_TO_VALUE  500124.0      76.053571     15.139986   \nORIGINAL_DEBT_TO_INCOME_RATIO    485208.0      32.917541     11.111800   \nORIGINAL_UPB                     500137.0  136493.484785  60968.743066   \nORIGINAL_LOAN_TO_VALUE           500128.0      75.710714     14.937717   \nORIGINAL_INTEREST_RATE           500137.0       7.182687      0.579941   \nPOSTAL_CODE                      500106.0   55490.857138  29505.382259   \nORIGINAL_LOAN_TERM               500137.0     359.855470      1.908251   \nNUMBER_OF_BORROWERS              499890.0       1.630295      0.482725   \n\n                                        min         25%       50%         75%  \\\nCREDIT_SCORE                        300.000     676.000     719.0     756.000   \nFIRST_PAYMENT_DATE               199901.000  199904.000  200005.0  200105.000   \nMATURITY_DATE                    202402.000  202903.000  203004.0  203104.000   \nMETROPOLITAN_STATISTICAL_AREA     10180.000   19740.000   33340.0   40420.000   \nMORTGAGE_INSURANCE_PERCENTAGE         0.000       0.000       0.0      18.000   \nNUMBER_OF_UNITS                       1.000       1.000       1.0       1.000   \nORIGINAL_COMBINED_LOAN_TO_VALUE       6.000      70.000      80.0      88.000   \nORIGINAL_DEBT_TO_INCOME_RATIO         1.000      25.000      33.0      41.000   \nORIGINAL_UPB                       8000.000   89000.000  126000.0  176000.000   \nORIGINAL_LOAN_TO_VALUE                6.000      70.000      80.0      85.000   \nORIGINAL_INTEREST_RATE                4.625       6.875       7.0       7.375   \nPOSTAL_CODE                         600.000   30500.000   54200.0   85000.000   \nORIGINAL_LOAN_TERM                  301.000     360.000     360.0     360.000   \nNUMBER_OF_BORROWERS                   1.000       1.000       2.0       2.000   \n\n                                      max  \nCREDIT_SCORE                        839.0  \nFIRST_PAYMENT_DATE               201103.0  \nMATURITY_DATE                    204101.0  \nMETROPOLITAN_STATISTICAL_AREA     49740.0  \nMORTGAGE_INSURANCE_PERCENTAGE        55.0  \nNUMBER_OF_UNITS                       4.0  \nORIGINAL_COMBINED_LOAN_TO_VALUE     180.0  \nORIGINAL_DEBT_TO_INCOME_RATIO        65.0  \nORIGINAL_UPB                     578000.0  \nORIGINAL_LOAN_TO_VALUE              100.0  \nORIGINAL_INTEREST_RATE               11.5  \nPOSTAL_CODE                       99900.0  \nORIGINAL_LOAN_TERM                  362.0  \nNUMBER_OF_BORROWERS                   2.0  ",
      "text/html": "<div>\n<style scoped>\n    .dataframe tbody tr th:only-of-type {\n        vertical-align: middle;\n    }\n\n    .dataframe tbody tr th {\n        vertical-align: top;\n    }\n\n    .dataframe thead th {\n        text-align: right;\n    }\n</style>\n<table border=\"1\" class=\"dataframe\">\n  <thead>\n    <tr style=\"text-align: right;\">\n      <th></th>\n      <th>count</th>\n      <th>mean</th>\n      <th>std</th>\n      <th>min</th>\n      <th>25%</th>\n      <th>50%</th>\n      <th>75%</th>\n      <th>max</th>\n    </tr>\n  </thead>\n  <tbody>\n    <tr>\n      <th>CREDIT_SCORE</th>\n      <td>497426.0</td>\n      <td>712.536212</td>\n      <td>54.791262</td>\n      <td>300.000</td>\n      <td>676.000</td>\n      <td>719.0</td>\n      <td>756.000</td>\n      <td>839.0</td>\n    </tr>\n    <tr>\n      <th>FIRST_PAYMENT_DATE</th>\n      <td>500137.0</td>\n      <td>200025.430952</td>\n      <td>109.815541</td>\n      <td>199901.000</td>\n      <td>199904.000</td>\n      <td>200005.0</td>\n      <td>200105.000</td>\n      <td>201103.0</td>\n    </tr>\n    <tr>\n      <th>MATURITY_DATE</th>\n      <td>500137.0</td>\n      <td>203023.195872</td>\n      <td>110.384189</td>\n      <td>202402.000</td>\n      <td>202903.000</td>\n      <td>203004.0</td>\n      <td>203104.000</td>\n      <td>204101.0</td>\n    </tr>\n    <tr>\n      <th>METROPOLITAN_STATISTICAL_AREA</th>\n      <td>429988.0</td>\n      <td>30777.824739</td>\n      <td>11333.401144</td>\n      <td>10180.000</td>\n      <td>19740.000</td>\n      <td>33340.0</td>\n      <td>40420.000</td>\n      <td>49740.0</td>\n    </tr>\n    <tr>\n      <th>MORTGAGE_INSURANCE_PERCENTAGE</th>\n      <td>449089.0</td>\n      <td>7.744532</td>\n      <td>12.046546</td>\n      <td>0.000</td>\n      <td>0.000</td>\n      <td>0.0</td>\n      <td>18.000</td>\n      <td>55.0</td>\n    </tr>\n    <tr>\n      <th>NUMBER_OF_UNITS</th>\n      <td>500134.0</td>\n      <td>1.028890</td>\n      <td>0.218391</td>\n      <td>1.000</td>\n      <td>1.000</td>\n      <td>1.0</td>\n      <td>1.000</td>\n      <td>4.0</td>\n    </tr>\n    <tr>\n      <th>ORIGINAL_COMBINED_LOAN_TO_VALUE</th>\n      <td>500124.0</td>\n      <td>76.053571</td>\n      <td>15.139986</td>\n      <td>6.000</td>\n      <td>70.000</td>\n      <td>80.0</td>\n      <td>88.000</td>\n      <td>180.0</td>\n    </tr>\n    <tr>\n      <th>ORIGINAL_DEBT_TO_INCOME_RATIO</th>\n      <td>485208.0</td>\n      <td>32.917541</td>\n      <td>11.111800</td>\n      <td>1.000</td>\n      <td>25.000</td>\n      <td>33.0</td>\n      <td>41.000</td>\n      <td>65.0</td>\n    </tr>\n    <tr>\n      <th>ORIGINAL_UPB</th>\n      <td>500137.0</td>\n      <td>136493.484785</td>\n      <td>60968.743066</td>\n      <td>8000.000</td>\n      <td>89000.000</td>\n      <td>126000.0</td>\n      <td>176000.000</td>\n      <td>578000.0</td>\n    </tr>\n    <tr>\n      <th>ORIGINAL_LOAN_TO_VALUE</th>\n      <td>500128.0</td>\n      <td>75.710714</td>\n      <td>14.937717</td>\n      <td>6.000</td>\n      <td>70.000</td>\n      <td>80.0</td>\n      <td>85.000</td>\n      <td>100.0</td>\n    </tr>\n    <tr>\n      <th>ORIGINAL_INTEREST_RATE</th>\n      <td>500137.0</td>\n      <td>7.182687</td>\n      <td>0.579941</td>\n      <td>4.625</td>\n      <td>6.875</td>\n      <td>7.0</td>\n      <td>7.375</td>\n      <td>11.5</td>\n    </tr>\n    <tr>\n      <th>POSTAL_CODE</th>\n      <td>500106.0</td>\n      <td>55490.857138</td>\n      <td>29505.382259</td>\n      <td>600.000</td>\n      <td>30500.000</td>\n      <td>54200.0</td>\n      <td>85000.000</td>\n      <td>99900.0</td>\n    </tr>\n    <tr>\n      <th>ORIGINAL_LOAN_TERM</th>\n      <td>500137.0</td>\n      <td>359.855470</td>\n      <td>1.908251</td>\n      <td>301.000</td>\n      <td>360.000</td>\n      <td>360.0</td>\n      <td>360.000</td>\n      <td>362.0</td>\n    </tr>\n    <tr>\n      <th>NUMBER_OF_BORROWERS</th>\n      <td>499890.0</td>\n      <td>1.630295</td>\n      <td>0.482725</td>\n      <td>1.000</td>\n      <td>1.000</td>\n      <td>2.0</td>\n      <td>2.000</td>\n      <td>2.0</td>\n    </tr>\n  </tbody>\n</table>\n</div>"
     },
     "execution_count": 113,
     "metadata": {},
     "output_type": "execute_result"
    }
   ],
   "source": [
    "df.describe().T"
   ]
  },
  {
   "cell_type": "markdown",
   "metadata": {
    "pycharm": {
     "name": "#%% md\n"
    }
   },
   "source": [
    "Dropping irrelevant columns (Not Available during prediction)"
   ]
  },
  {
   "cell_type": "code",
   "execution_count": 114,
   "metadata": {
    "pycharm": {
     "name": "#%%\n"
    }
   },
   "outputs": [],
   "source": [
    "df.drop([\"FIRST_PAYMENT_DATE\", \"MATURITY_DATE\", \"MORTGAGE_INSURANCE_PERCENTAGE\", \"ORIGINAL_UPB\", \"ORIGINAL_INTEREST_RATE\", \"PREPAYMENT_PENALTY_MORTGAGE_FLAG\"], inplace=True, axis=1)"
   ]
  },
  {
   "cell_type": "code",
   "execution_count": 115,
   "metadata": {
    "pycharm": {
     "name": "#%%\n"
    }
   },
   "outputs": [
    {
     "name": "stdout",
     "output_type": "stream",
     "text": [
      "PRODUCT_TYPE                            0\n",
      "SERVICER_NAME                           0\n",
      "SELLER_NAME                             0\n",
      "ORIGINAL_LOAN_TERM                      0\n",
      "LOAN_PURPOSE                            0\n",
      "PROPERTY_STATE                          0\n",
      "PREPAID                                 0\n",
      "CHANNEL                                 0\n",
      "DELINQUENT                              0\n",
      "OCCUPANCY_STATUS                        0\n",
      "NUMBER_OF_UNITS                         3\n",
      "ORIGINAL_LOAN_TO_VALUE                  9\n",
      "ORIGINAL_COMBINED_LOAN_TO_VALUE        13\n",
      "POSTAL_CODE                            31\n",
      "PROPERTY_TYPE                          95\n",
      "NUMBER_OF_BORROWERS                   247\n",
      "CREDIT_SCORE                         2711\n",
      "ORIGINAL_DEBT_TO_INCOME_RATIO       14929\n",
      "METROPOLITAN_STATISTICAL_AREA       70149\n",
      "FIRST_TIME_HOMEBUYER_FLAG          130559\n",
      "dtype: int64\n"
     ]
    }
   ],
   "source": [
    "print(df.isnull().sum().sort_values())"
   ]
  },
  {
   "cell_type": "code",
   "execution_count": 116,
   "metadata": {
    "pycharm": {
     "name": "#%%\n"
    }
   },
   "outputs": [],
   "source": [
    "def missing_percentage(df):\n",
    "    missing = pd.DataFrame(columns=['Category', 'Percentage'])\n",
    "    for col in df.columns:\n",
    "        if df[col].isna().values.any():\n",
    "            percentage = 100*df[col].isna().sum()/df.shape[0]\n",
    "            missing = missing.append({'Category':col, 'Percentage':percentage}, ignore_index = True)\n",
    "    return missing"
   ]
  },
  {
   "cell_type": "code",
   "execution_count": 117,
   "metadata": {
    "pycharm": {
     "name": "#%%\n"
    }
   },
   "outputs": [
    {
     "data": {
      "text/plain": "                          Category Percentage\n1        FIRST_TIME_HOMEBUYER_FLAG  26.104647\n2    METROPOLITAN_STATISTICAL_AREA  14.025957\n5    ORIGINAL_DEBT_TO_INCOME_RATIO   2.984982\n0                     CREDIT_SCORE   0.542051\n9              NUMBER_OF_BORROWERS   0.049386\n7                    PROPERTY_TYPE   0.018995\n8                      POSTAL_CODE   0.006198\n4  ORIGINAL_COMBINED_LOAN_TO_VALUE   0.002599\n6           ORIGINAL_LOAN_TO_VALUE     0.0018\n3                  NUMBER_OF_UNITS     0.0006",
      "text/html": "<div>\n<style scoped>\n    .dataframe tbody tr th:only-of-type {\n        vertical-align: middle;\n    }\n\n    .dataframe tbody tr th {\n        vertical-align: top;\n    }\n\n    .dataframe thead th {\n        text-align: right;\n    }\n</style>\n<table border=\"1\" class=\"dataframe\">\n  <thead>\n    <tr style=\"text-align: right;\">\n      <th></th>\n      <th>Category</th>\n      <th>Percentage</th>\n    </tr>\n  </thead>\n  <tbody>\n    <tr>\n      <th>1</th>\n      <td>FIRST_TIME_HOMEBUYER_FLAG</td>\n      <td>26.104647</td>\n    </tr>\n    <tr>\n      <th>2</th>\n      <td>METROPOLITAN_STATISTICAL_AREA</td>\n      <td>14.025957</td>\n    </tr>\n    <tr>\n      <th>5</th>\n      <td>ORIGINAL_DEBT_TO_INCOME_RATIO</td>\n      <td>2.984982</td>\n    </tr>\n    <tr>\n      <th>0</th>\n      <td>CREDIT_SCORE</td>\n      <td>0.542051</td>\n    </tr>\n    <tr>\n      <th>9</th>\n      <td>NUMBER_OF_BORROWERS</td>\n      <td>0.049386</td>\n    </tr>\n    <tr>\n      <th>7</th>\n      <td>PROPERTY_TYPE</td>\n      <td>0.018995</td>\n    </tr>\n    <tr>\n      <th>8</th>\n      <td>POSTAL_CODE</td>\n      <td>0.006198</td>\n    </tr>\n    <tr>\n      <th>4</th>\n      <td>ORIGINAL_COMBINED_LOAN_TO_VALUE</td>\n      <td>0.002599</td>\n    </tr>\n    <tr>\n      <th>6</th>\n      <td>ORIGINAL_LOAN_TO_VALUE</td>\n      <td>0.0018</td>\n    </tr>\n    <tr>\n      <th>3</th>\n      <td>NUMBER_OF_UNITS</td>\n      <td>0.0006</td>\n    </tr>\n  </tbody>\n</table>\n</div>"
     },
     "execution_count": 117,
     "metadata": {},
     "output_type": "execute_result"
    }
   ],
   "source": [
    "missingdata = missing_percentage(df)\n",
    "missingdata.sort_values('Percentage', ascending=False)"
   ]
  },
  {
   "cell_type": "code",
   "execution_count": 118,
   "metadata": {
    "pycharm": {
     "name": "#%%\n"
    }
   },
   "outputs": [
    {
     "data": {
      "text/plain": "N    320418\nY     49160\nName: FIRST_TIME_HOMEBUYER_FLAG, dtype: int64"
     },
     "execution_count": 118,
     "metadata": {},
     "output_type": "execute_result"
    }
   ],
   "source": [
    "df.FIRST_TIME_HOMEBUYER_FLAG.value_counts()"
   ]
  },
  {
   "cell_type": "code",
   "execution_count": 119,
   "outputs": [],
   "source": [
    "df.drop('FIRST_TIME_HOMEBUYER_FLAG',axis = 1,  inplace=True)"
   ],
   "metadata": {
    "collapsed": false,
    "pycharm": {
     "name": "#%%\n"
    }
   }
  },
  {
   "cell_type": "markdown",
   "source": [
    "Seperate Data"
   ],
   "metadata": {
    "collapsed": false,
    "pycharm": {
     "name": "#%% md\n"
    }
   }
  },
  {
   "cell_type": "code",
   "execution_count": 120,
   "metadata": {
    "pycharm": {
     "name": "#%%\n"
    }
   },
   "outputs": [],
   "source": [
    "X = df.drop('DELINQUENT', axis =1)\n",
    "y = df['DELINQUENT']"
   ]
  },
  {
   "cell_type": "code",
   "execution_count": 121,
   "metadata": {
    "pycharm": {
     "name": "#%%\n"
    }
   },
   "outputs": [
    {
     "data": {
      "text/plain": "             False   True\nDELINQUENT  482146  17991",
      "text/html": "<div>\n<style scoped>\n    .dataframe tbody tr th:only-of-type {\n        vertical-align: middle;\n    }\n\n    .dataframe tbody tr th {\n        vertical-align: top;\n    }\n\n    .dataframe thead th {\n        text-align: right;\n    }\n</style>\n<table border=\"1\" class=\"dataframe\">\n  <thead>\n    <tr style=\"text-align: right;\">\n      <th></th>\n      <th>False</th>\n      <th>True</th>\n    </tr>\n  </thead>\n  <tbody>\n    <tr>\n      <th>DELINQUENT</th>\n      <td>482146</td>\n      <td>17991</td>\n    </tr>\n  </tbody>\n</table>\n</div>"
     },
     "execution_count": 121,
     "metadata": {},
     "output_type": "execute_result"
    }
   ],
   "source": [
    "y.value_counts().to_frame().T"
   ]
  },
  {
   "cell_type": "markdown",
   "source": [
    "Train test Split"
   ],
   "metadata": {
    "collapsed": false,
    "pycharm": {
     "name": "#%% md\n"
    }
   }
  },
  {
   "cell_type": "code",
   "execution_count": 122,
   "metadata": {
    "pycharm": {
     "name": "#%%\n"
    }
   },
   "outputs": [],
   "source": [
    "X_train, X_test, y_train, y_test = train_test_split(X, y, test_size=0.3, random_state=42)"
   ]
  },
  {
   "cell_type": "code",
   "execution_count": 123,
   "outputs": [
    {
     "data": {
      "text/plain": "False    337512\nTrue      12583\nName: DELINQUENT, dtype: int64"
     },
     "execution_count": 123,
     "metadata": {},
     "output_type": "execute_result"
    }
   ],
   "source": [
    "y_train.value_counts()"
   ],
   "metadata": {
    "collapsed": false,
    "pycharm": {
     "name": "#%%\n"
    }
   }
  },
  {
   "cell_type": "markdown",
   "source": [
    "Random Forest HyperParameters"
   ],
   "metadata": {
    "collapsed": false,
    "pycharm": {
     "name": "#%% md\n"
    }
   }
  },
  {
   "cell_type": "code",
   "execution_count": 124,
   "outputs": [],
   "source": [
    "# param_grid = {\n",
    "#     'n_estimators':[200,500],\n",
    "#     'max_features':['auto', 'sqrt', 'log2'],\n",
    "#     'max_depth':[4,5,6,7,8],\n",
    "#     'criterion':['gini', 'entropy']\n",
    "# }"
   ],
   "metadata": {
    "collapsed": false,
    "pycharm": {
     "name": "#%%\n"
    }
   }
  },
  {
   "cell_type": "markdown",
   "source": [
    "BaseEstimator and TransformerMixin Approach"
   ],
   "metadata": {
    "collapsed": false,
    "pycharm": {
     "name": "#%% md\n"
    }
   }
  },
  {
   "cell_type": "code",
   "execution_count": 125,
   "outputs": [],
   "source": [
    "from sklearn.base import BaseEstimator, TransformerMixin\n",
    "from imblearn.pipeline import Pipeline as imbPipeline\n",
    "\n",
    "\n",
    "class Imputer(BaseEstimator, TransformerMixin):\n",
    "\n",
    "    def fit(self,X, y=None):\n",
    "        return self\n",
    "\n",
    "    def transform(self, X):\n",
    "        imputer = NaNImputer()\n",
    "        X = imputer.impute(X)\n",
    "        return X"
   ],
   "metadata": {
    "collapsed": false,
    "pycharm": {
     "name": "#%%\n"
    }
   }
  },
  {
   "cell_type": "code",
   "execution_count": 126,
   "outputs": [],
   "source": [
    "\n",
    "class FeatureEncoder(BaseEstimator, TransformerMixin):\n",
    "\n",
    "    def fit(self,X,y=None):\n",
    "        return self\n",
    "\n",
    "    def transform(self,X):\n",
    "        label_encoder = LabelEncoder()\n",
    "        X['DELINQUENT']= label_encoder.fit_transform(df[['DELINQUENT']])\n",
    "        X['PREPAID']= label_encoder.fit_transform(df[['PREPAID']])\n",
    "        X['POSTAL_CODE'] = label_encoder.fit_transform(df[['POSTAL_CODE']])\n",
    "        return X"
   ],
   "metadata": {
    "collapsed": false,
    "pycharm": {
     "name": "#%%\n"
    }
   }
  },
  {
   "cell_type": "code",
   "execution_count": 127,
   "outputs": [],
   "source": [
    "\n",
    "class Ordinal_Encoder(BaseEstimator, TransformerMixin):\n",
    "\n",
    "    def fit(self, X, y=None):\n",
    "        return self\n",
    "\n",
    "    def transform(self,X):\n",
    "        enc = OrdinalEncoder()\n",
    "        X = enc.fit_transform(X[['OCCUPANCY_STATUS', 'CHANNEL', 'PRODUCT_TYPE', 'PROPERTY_STATE','PROPERTY_TYPE', 'LOAN_PURPOSE', 'SELLER_NAME', 'SERVICER_NAME']])\n",
    "        return X"
   ],
   "metadata": {
    "collapsed": false,
    "pycharm": {
     "name": "#%%\n"
    }
   }
  },
  {
   "cell_type": "code",
   "execution_count": 128,
   "outputs": [],
   "source": [
    "\n",
    "class Scaling(BaseEstimator, TransformerMixin):\n",
    "\n",
    "    def fit(self,X,y=None):\n",
    "        return self\n",
    "\n",
    "    def transform(self,X):\n",
    "        scaler = StandardScaler()\n",
    "        X_scaled = scaler.fit_transform(X)\n",
    "        return X_scaled"
   ],
   "metadata": {
    "collapsed": false,
    "pycharm": {
     "name": "#%%\n"
    }
   }
  },
  {
   "cell_type": "code",
   "execution_count": 129,
   "outputs": [],
   "source": [
    "class OverSample(BaseEstimator, TransformerMixin):\n",
    "\n",
    "    def __init__(self):\n",
    "        self.sample = None\n",
    "\n",
    "    def fit(self,X,y=None):\n",
    "        self.sample = SMOTE().fit(X,y)\n",
    "        return self\n",
    "\n",
    "    def fit_transform(self, X, y=None, **kwargs):\n",
    "        self.fit(X,y)\n",
    "        return self.sample(X,y)\n",
    "\n",
    "    def transform(self, X):\n",
    "        return X"
   ],
   "metadata": {
    "collapsed": false,
    "pycharm": {
     "name": "#%%\n"
    }
   }
  },
  {
   "cell_type": "code",
   "execution_count": 130,
   "outputs": [],
   "source": [
    "pipe = imbPipeline([\n",
    "    (\"Imputer\", Imputer()),\n",
    "    (\"Label Encoder\", FeatureEncoder()),\n",
    "    (\"Ordinal Encoder\", OrdinalEncoder()),\n",
    "    (\"Scaling\", Scaling()),\n",
    "    (\"Over sample\", OverSample()),\n",
    "    (\"Classifier\", RandomForestClassifier())\n",
    "])"
   ],
   "metadata": {
    "collapsed": false,
    "pycharm": {
     "name": "#%%\n"
    }
   }
  },
  {
   "cell_type": "code",
   "execution_count": null,
   "outputs": [
    {
     "name": "stdout",
     "output_type": "stream",
     "text": [
      "NaNImputer(conservative = False, n_feats = 10,            \n",
      "           fix_string_nans = True, verbose = True,                \n",
      "           multiprocessing_load = 3, fill_nans_in_pure_text = True,                    \n",
      "           drop_empty_cols = True, drop_nan_cols_with_constant = True                        \n",
      "           feature_selection = correlation)\n",
      "\n",
      "Dataset dimensions:\n",
      " - rows:         500137\n",
      " - columns:      18\n",
      " - mb in memory: 65.34\n",
      " - NaN cols num: 9\n",
      "--------------------------\n",
      "\n",
      "Deploy multiprocessing with 12 parallel proceses\n",
      "\n"
     ]
    }
   ],
   "source": [
    "pipe.fit_transform(X,y)"
   ],
   "metadata": {
    "collapsed": false,
    "pycharm": {
     "name": "#%%\n",
     "is_executing": true
    }
   }
  },
  {
   "cell_type": "markdown",
   "source": [
    "Pipeline using Column TransFormer"
   ],
   "metadata": {
    "collapsed": false,
    "pycharm": {
     "name": "#%% md\n"
    }
   }
  },
  {
   "cell_type": "code",
   "execution_count": null,
   "outputs": [],
   "source": [
    "# from sklearn.base import TransformerMixin\n",
    "#\n",
    "#\n",
    "# class MyStandardScaler(TransformerMixin):\n",
    "#     def __init__(self, *args, **kwargs):\n",
    "#         self.scaler = StandardScaler(*args,**kwargs)\n",
    "#     def fit(self,x,y=0):\n",
    "#         self.scaler.fit(x)\n",
    "#         return self\n",
    "#     def transform(self,x,y=0):\n",
    "#         return self.scaler.transform(x)\n",
    "#\n",
    "#\n",
    "#"
   ],
   "metadata": {
    "collapsed": false,
    "pycharm": {
     "name": "#%%\n",
     "is_executing": true
    }
   }
  },
  {
   "cell_type": "code",
   "execution_count": null,
   "outputs": [],
   "source": [
    "# Ordinal_features = ['OCCUPANCY_STATUS', 'CHANNEL', 'PRODUCT_TYPE', 'PROPERTY_STATE', 'PROPERTY_TYPE', 'LOAN_PURPOSE', 'SELLER_NAME', 'SERVICER_NAME']"
   ],
   "metadata": {
    "collapsed": false,
    "pycharm": {
     "name": "#%%\n",
     "is_executing": true
    }
   }
  },
  {
   "cell_type": "code",
   "execution_count": null,
   "outputs": [],
   "source": [
    "# trf1 = ColumnTransformer([\n",
    "#     ('Ordinal Encoder', OrdinalEncoder(),Ordinal_features)\n",
    "# ],remainder='passthrough')"
   ],
   "metadata": {
    "collapsed": false,
    "pycharm": {
     "name": "#%%\n",
     "is_executing": true
    }
   }
  },
  {
   "cell_type": "code",
   "execution_count": null,
   "outputs": [],
   "source": [
    "# trf2 = ColumnTransformer([\n",
    "#     ('NaN Imputer',NaNImputer()),\n",
    "#     ('Scalar', MyStandardScaler()),\n",
    "#     ('Random Over Sample', RandomOverSampler())\n",
    "# ])"
   ],
   "metadata": {
    "collapsed": false,
    "pycharm": {
     "name": "#%%\n",
     "is_executing": true
    }
   }
  },
  {
   "cell_type": "code",
   "execution_count": null,
   "outputs": [],
   "source": [
    "# trf3 = RandomForestClassifier()"
   ],
   "metadata": {
    "collapsed": false,
    "pycharm": {
     "name": "#%%\n",
     "is_executing": true
    }
   }
  },
  {
   "cell_type": "code",
   "execution_count": null,
   "outputs": [],
   "source": [
    "# pipe = make_pipeline(trf1, trf2, trf3)"
   ],
   "metadata": {
    "collapsed": false,
    "pycharm": {
     "name": "#%%\n",
     "is_executing": true
    }
   }
  },
  {
   "cell_type": "code",
   "execution_count": null,
   "outputs": [],
   "source": [
    "# pipe.fit(X_train, y_train)"
   ],
   "metadata": {
    "collapsed": false,
    "pycharm": {
     "name": "#%%\n",
     "is_executing": true
    }
   }
  },
  {
   "cell_type": "markdown",
   "source": [
    "Pipeline"
   ],
   "metadata": {
    "collapsed": false,
    "pycharm": {
     "name": "#%% md\n"
    }
   }
  },
  {
   "cell_type": "code",
   "execution_count": null,
   "outputs": [],
   "source": [
    "# Label_Enc = Pipeline(steps=[\n",
    "#     ('Label Imputer', LabelEncoder())\n",
    "# ])\n",
    "#\n",
    "# Ord_Enc = Pipeline(steps=[\n",
    "#     ('Ordinal Encoder', OrdinalEncoder())\n",
    "# ])\n",
    "# All_transformer = Pipeline(steps=[\n",
    "#     ('NaN Imputer',NaNImputer()),\n",
    "#     ('Scalar', StandardScaler()),\n",
    "#     ('Smote', RandomOverSampler())\n",
    "# ])"
   ],
   "metadata": {
    "collapsed": false,
    "pycharm": {
     "name": "#%%\n",
     "is_executing": true
    }
   }
  },
  {
   "cell_type": "code",
   "execution_count": null,
   "outputs": [],
   "source": [
    "# Label_features = ['DELINQUENT','PREPAID','POSTAL_CODE']\n",
    "# Ordinal_features = ['OCCUPANCY_STATUS', 'CHANNEL', 'PRODUCT_TYPE', 'PROPERTY_STATE', 'PROPERTY_TYPE', 'LOAN_PURPOSE', 'SELLER_NAME', 'SERVICER_NAME']\n",
    "# All_features = X.select_dtypes(include=['int64', 'float64', 'object']).columns"
   ],
   "metadata": {
    "collapsed": false,
    "pycharm": {
     "name": "#%%\n",
     "is_executing": true
    }
   }
  },
  {
   "cell_type": "code",
   "execution_count": null,
   "outputs": [],
   "source": [
    "# preprocessor = ColumnTransformer([\n",
    "#         ('Label', Label_Enc, Label_features),\n",
    "#         ('Ordinal', Ord_Enc, Ordinal_features),\n",
    "#         ('Data Processing', All_transformer, All_features)\n",
    "# ])"
   ],
   "metadata": {
    "collapsed": false,
    "pycharm": {
     "name": "#%%\n",
     "is_executing": true
    }
   }
  },
  {
   "cell_type": "code",
   "execution_count": null,
   "outputs": [],
   "source": [
    "# trf1 = RandomForestClassifier()"
   ],
   "metadata": {
    "collapsed": false,
    "pycharm": {
     "name": "#%%\n",
     "is_executing": true
    }
   }
  },
  {
   "cell_type": "code",
   "execution_count": null,
   "outputs": [],
   "source": [
    "# pipe = make_pipeline(preprocessor,trf1)"
   ],
   "metadata": {
    "collapsed": false,
    "pycharm": {
     "name": "#%%\n",
     "is_executing": true
    }
   }
  },
  {
   "cell_type": "code",
   "execution_count": null,
   "outputs": [],
   "source": [
    "# pipe.fit(X_train, y_train)"
   ],
   "metadata": {
    "collapsed": false,
    "pycharm": {
     "name": "#%%\n",
     "is_executing": true
    }
   }
  },
  {
   "cell_type": "code",
   "execution_count": null,
   "outputs": [],
   "source": [
    "# pipeline = Pipeline(steps=[\n",
    "#     ('preprocessor', preprocessor),\n",
    "#     ('Classifier', RandomForestClassifier())\n",
    "# ])"
   ],
   "metadata": {
    "collapsed": false,
    "pycharm": {
     "name": "#%%\n",
     "is_executing": true
    }
   }
  },
  {
   "cell_type": "code",
   "execution_count": null,
   "outputs": [],
   "source": [
    "# rf_model = pipeline.fit(X_train, y_train)\n",
    "# print(rf_model)"
   ],
   "metadata": {
    "collapsed": false,
    "pycharm": {
     "name": "#%%\n",
     "is_executing": true
    }
   }
  }
 ],
 "metadata": {
  "kernelspec": {
   "display_name": "Python 3 (ipykernel)",
   "language": "python",
   "name": "python3"
  },
  "language_info": {
   "codemirror_mode": {
    "name": "ipython",
    "version": 3
   },
   "file_extension": ".py",
   "mimetype": "text/x-python",
   "name": "python",
   "nbconvert_exporter": "python",
   "pygments_lexer": "ipython3",
   "version": "3.9.12"
  }
 },
 "nbformat": 4,
 "nbformat_minor": 1
}