{
 "cells": [
  {
   "cell_type": "code",
   "execution_count": 29,
   "metadata": {
    "pycharm": {
     "name": "#%%\n"
    }
   },
   "outputs": [],
   "source": [
    "import warnings\n",
    "warnings.filterwarnings(\"ignore\")"
   ]
  },
  {
   "cell_type": "code",
   "execution_count": 30,
   "metadata": {
    "pycharm": {
     "name": "#%%\n"
    }
   },
   "outputs": [],
   "source": [
    "import numpy as np\n",
    "import pandas as pd\n",
    "import matplotlib.pyplot as plt\n",
    "from verstack import NaNImputer\n",
    "from catboost import CatBoostClassifier\n",
    "import seaborn as sns\n",
    "from keras.callbacks import EarlyStopping"
   ]
  },
  {
   "cell_type": "code",
   "execution_count": 31,
   "metadata": {
    "pycharm": {
     "name": "#%%\n"
    }
   },
   "outputs": [],
   "source": [
    "from sklearn.model_selection import train_test_split\n",
    "from sklearn.compose import ColumnTransformer\n",
    "from sklearn.pipeline import Pipeline,make_pipeline\n",
    "from sklearn.tree import DecisionTreeClassifier\n",
    "from scipy.stats import skew"
   ]
  },
  {
   "cell_type": "code",
   "execution_count": 32,
   "metadata": {
    "pycharm": {
     "name": "#%%\n"
    }
   },
   "outputs": [
    {
     "data": {
      "text/plain": "   CREDIT_SCORE  FIRST_PAYMENT_DATE FIRST_TIME_HOMEBUYER_FLAG  MATURITY_DATE  \\\n0         669.0              200206                         N         202901   \n1         732.0              199904                         N         202903   \n2         679.0              200208                         N         202902   \n3         721.0              200209                         N         202902   \n4         618.0              200210                         N         202902   \n\n   METROPOLITAN_STATISTICAL_AREA  MORTGAGE_INSURANCE_PERCENTAGE  \\\n0                            NaN                            0.0   \n1                        17140.0                            0.0   \n2                        15940.0                           30.0   \n3                        38060.0                            0.0   \n4                        10420.0                           25.0   \n\n   NUMBER_OF_UNITS OCCUPANCY_STATUS  ORIGINAL_COMBINED_LOAN_TO_VALUE  \\\n0              1.0                O                             80.0   \n1              1.0                O                             25.0   \n2              1.0                O                             91.0   \n3              1.0                O                             39.0   \n4              1.0                O                             85.0   \n\n   ORIGINAL_DEBT_TO_INCOME_RATIO  ...  PROPERTY_TYPE  POSTAL_CODE  \\\n0                           33.0  ...             SF      26100.0   \n1                           10.0  ...             SF      45200.0   \n2                           48.0  ...             SF      44700.0   \n3                           13.0  ...             SF      85200.0   \n4                           24.0  ...             SF      44200.0   \n\n   LOAN_SEQUENCE_NUMBER LOAN_PURPOSE ORIGINAL_LOAN_TERM NUMBER_OF_BORROWERS  \\\n0          F199Q1000004            P                320                 2.0   \n1          F199Q1000005            N                360                 1.0   \n2          F199Q1000007            P                319                 1.0   \n3          F199Q1000013            N                318                 2.0   \n4          F199Q1000015            N                317                 2.0   \n\n     SELLER_NAME    SERVICER_NAME  PREPAID DELINQUENT  \n0  Other sellers  Other servicers     True      False  \n1  Other sellers  Other servicers     True      False  \n2  Other sellers  Other servicers     True      False  \n3  Other sellers  Other servicers     True      False  \n4  Other sellers  Other servicers     True      False  \n\n[5 rows x 27 columns]",
      "text/html": "<div>\n<style scoped>\n    .dataframe tbody tr th:only-of-type {\n        vertical-align: middle;\n    }\n\n    .dataframe tbody tr th {\n        vertical-align: top;\n    }\n\n    .dataframe thead th {\n        text-align: right;\n    }\n</style>\n<table border=\"1\" class=\"dataframe\">\n  <thead>\n    <tr style=\"text-align: right;\">\n      <th></th>\n      <th>CREDIT_SCORE</th>\n      <th>FIRST_PAYMENT_DATE</th>\n      <th>FIRST_TIME_HOMEBUYER_FLAG</th>\n      <th>MATURITY_DATE</th>\n      <th>METROPOLITAN_STATISTICAL_AREA</th>\n      <th>MORTGAGE_INSURANCE_PERCENTAGE</th>\n      <th>NUMBER_OF_UNITS</th>\n      <th>OCCUPANCY_STATUS</th>\n      <th>ORIGINAL_COMBINED_LOAN_TO_VALUE</th>\n      <th>ORIGINAL_DEBT_TO_INCOME_RATIO</th>\n      <th>...</th>\n      <th>PROPERTY_TYPE</th>\n      <th>POSTAL_CODE</th>\n      <th>LOAN_SEQUENCE_NUMBER</th>\n      <th>LOAN_PURPOSE</th>\n      <th>ORIGINAL_LOAN_TERM</th>\n      <th>NUMBER_OF_BORROWERS</th>\n      <th>SELLER_NAME</th>\n      <th>SERVICER_NAME</th>\n      <th>PREPAID</th>\n      <th>DELINQUENT</th>\n    </tr>\n  </thead>\n  <tbody>\n    <tr>\n      <th>0</th>\n      <td>669.0</td>\n      <td>200206</td>\n      <td>N</td>\n      <td>202901</td>\n      <td>NaN</td>\n      <td>0.0</td>\n      <td>1.0</td>\n      <td>O</td>\n      <td>80.0</td>\n      <td>33.0</td>\n      <td>...</td>\n      <td>SF</td>\n      <td>26100.0</td>\n      <td>F199Q1000004</td>\n      <td>P</td>\n      <td>320</td>\n      <td>2.0</td>\n      <td>Other sellers</td>\n      <td>Other servicers</td>\n      <td>True</td>\n      <td>False</td>\n    </tr>\n    <tr>\n      <th>1</th>\n      <td>732.0</td>\n      <td>199904</td>\n      <td>N</td>\n      <td>202903</td>\n      <td>17140.0</td>\n      <td>0.0</td>\n      <td>1.0</td>\n      <td>O</td>\n      <td>25.0</td>\n      <td>10.0</td>\n      <td>...</td>\n      <td>SF</td>\n      <td>45200.0</td>\n      <td>F199Q1000005</td>\n      <td>N</td>\n      <td>360</td>\n      <td>1.0</td>\n      <td>Other sellers</td>\n      <td>Other servicers</td>\n      <td>True</td>\n      <td>False</td>\n    </tr>\n    <tr>\n      <th>2</th>\n      <td>679.0</td>\n      <td>200208</td>\n      <td>N</td>\n      <td>202902</td>\n      <td>15940.0</td>\n      <td>30.0</td>\n      <td>1.0</td>\n      <td>O</td>\n      <td>91.0</td>\n      <td>48.0</td>\n      <td>...</td>\n      <td>SF</td>\n      <td>44700.0</td>\n      <td>F199Q1000007</td>\n      <td>P</td>\n      <td>319</td>\n      <td>1.0</td>\n      <td>Other sellers</td>\n      <td>Other servicers</td>\n      <td>True</td>\n      <td>False</td>\n    </tr>\n    <tr>\n      <th>3</th>\n      <td>721.0</td>\n      <td>200209</td>\n      <td>N</td>\n      <td>202902</td>\n      <td>38060.0</td>\n      <td>0.0</td>\n      <td>1.0</td>\n      <td>O</td>\n      <td>39.0</td>\n      <td>13.0</td>\n      <td>...</td>\n      <td>SF</td>\n      <td>85200.0</td>\n      <td>F199Q1000013</td>\n      <td>N</td>\n      <td>318</td>\n      <td>2.0</td>\n      <td>Other sellers</td>\n      <td>Other servicers</td>\n      <td>True</td>\n      <td>False</td>\n    </tr>\n    <tr>\n      <th>4</th>\n      <td>618.0</td>\n      <td>200210</td>\n      <td>N</td>\n      <td>202902</td>\n      <td>10420.0</td>\n      <td>25.0</td>\n      <td>1.0</td>\n      <td>O</td>\n      <td>85.0</td>\n      <td>24.0</td>\n      <td>...</td>\n      <td>SF</td>\n      <td>44200.0</td>\n      <td>F199Q1000015</td>\n      <td>N</td>\n      <td>317</td>\n      <td>2.0</td>\n      <td>Other sellers</td>\n      <td>Other servicers</td>\n      <td>True</td>\n      <td>False</td>\n    </tr>\n  </tbody>\n</table>\n<p>5 rows × 27 columns</p>\n</div>"
     },
     "execution_count": 32,
     "metadata": {},
     "output_type": "execute_result"
    }
   ],
   "source": [
    "df = pd.read_csv('loan_level_500k.csv')\n",
    "df.head()"
   ]
  },
  {
   "cell_type": "code",
   "execution_count": 33,
   "metadata": {
    "pycharm": {
     "name": "#%%\n"
    }
   },
   "outputs": [],
   "source": [
    "df.drop('LOAN_SEQUENCE_NUMBER', inplace=True, axis =1)"
   ]
  },
  {
   "cell_type": "code",
   "execution_count": 34,
   "metadata": {
    "pycharm": {
     "name": "#%%\n"
    }
   },
   "outputs": [
    {
     "data": {
      "text/plain": "(500137, 26)"
     },
     "execution_count": 34,
     "metadata": {},
     "output_type": "execute_result"
    }
   ],
   "source": [
    "df.shape"
   ]
  },
  {
   "cell_type": "code",
   "execution_count": 35,
   "metadata": {
    "pycharm": {
     "name": "#%%\n"
    }
   },
   "outputs": [
    {
     "name": "stdout",
     "output_type": "stream",
     "text": [
      "<class 'pandas.core.frame.DataFrame'>\n",
      "RangeIndex: 500137 entries, 0 to 500136\n",
      "Data columns (total 26 columns):\n",
      " #   Column                            Non-Null Count   Dtype  \n",
      "---  ------                            --------------   -----  \n",
      " 0   CREDIT_SCORE                      497426 non-null  float64\n",
      " 1   FIRST_PAYMENT_DATE                500137 non-null  int64  \n",
      " 2   FIRST_TIME_HOMEBUYER_FLAG         369578 non-null  object \n",
      " 3   MATURITY_DATE                     500137 non-null  int64  \n",
      " 4   METROPOLITAN_STATISTICAL_AREA     429988 non-null  float64\n",
      " 5   MORTGAGE_INSURANCE_PERCENTAGE     449089 non-null  float64\n",
      " 6   NUMBER_OF_UNITS                   500134 non-null  float64\n",
      " 7   OCCUPANCY_STATUS                  500137 non-null  object \n",
      " 8   ORIGINAL_COMBINED_LOAN_TO_VALUE   500124 non-null  float64\n",
      " 9   ORIGINAL_DEBT_TO_INCOME_RATIO     485208 non-null  float64\n",
      " 10  ORIGINAL_UPB                      500137 non-null  int64  \n",
      " 11  ORIGINAL_LOAN_TO_VALUE            500128 non-null  float64\n",
      " 12  ORIGINAL_INTEREST_RATE            500137 non-null  float64\n",
      " 13  CHANNEL                           500137 non-null  object \n",
      " 14  PREPAYMENT_PENALTY_MORTGAGE_FLAG  494959 non-null  object \n",
      " 15  PRODUCT_TYPE                      500137 non-null  object \n",
      " 16  PROPERTY_STATE                    500137 non-null  object \n",
      " 17  PROPERTY_TYPE                     500042 non-null  object \n",
      " 18  POSTAL_CODE                       500106 non-null  float64\n",
      " 19  LOAN_PURPOSE                      500137 non-null  object \n",
      " 20  ORIGINAL_LOAN_TERM                500137 non-null  int64  \n",
      " 21  NUMBER_OF_BORROWERS               499890 non-null  float64\n",
      " 22  SELLER_NAME                       500137 non-null  object \n",
      " 23  SERVICER_NAME                     500137 non-null  object \n",
      " 24  PREPAID                           500137 non-null  bool   \n",
      " 25  DELINQUENT                        500137 non-null  bool   \n",
      "dtypes: bool(2), float64(10), int64(4), object(10)\n",
      "memory usage: 92.5+ MB\n"
     ]
    }
   ],
   "source": [
    "df.info()"
   ]
  },
  {
   "cell_type": "code",
   "execution_count": 36,
   "metadata": {
    "pycharm": {
     "name": "#%%\n"
    }
   },
   "outputs": [
    {
     "data": {
      "text/plain": "                                    count           mean           std  \\\nCREDIT_SCORE                     497426.0     712.536212     54.791262   \nFIRST_PAYMENT_DATE               500137.0  200025.430952    109.815541   \nMATURITY_DATE                    500137.0  203023.195872    110.384189   \nMETROPOLITAN_STATISTICAL_AREA    429988.0   30777.824739  11333.401144   \nMORTGAGE_INSURANCE_PERCENTAGE    449089.0       7.744532     12.046546   \nNUMBER_OF_UNITS                  500134.0       1.028890      0.218391   \nORIGINAL_COMBINED_LOAN_TO_VALUE  500124.0      76.053571     15.139986   \nORIGINAL_DEBT_TO_INCOME_RATIO    485208.0      32.917541     11.111800   \nORIGINAL_UPB                     500137.0  136493.484785  60968.743066   \nORIGINAL_LOAN_TO_VALUE           500128.0      75.710714     14.937717   \nORIGINAL_INTEREST_RATE           500137.0       7.182687      0.579941   \nPOSTAL_CODE                      500106.0   55490.857138  29505.382259   \nORIGINAL_LOAN_TERM               500137.0     359.855470      1.908251   \nNUMBER_OF_BORROWERS              499890.0       1.630295      0.482725   \n\n                                        min         25%       50%         75%  \\\nCREDIT_SCORE                        300.000     676.000     719.0     756.000   \nFIRST_PAYMENT_DATE               199901.000  199904.000  200005.0  200105.000   \nMATURITY_DATE                    202402.000  202903.000  203004.0  203104.000   \nMETROPOLITAN_STATISTICAL_AREA     10180.000   19740.000   33340.0   40420.000   \nMORTGAGE_INSURANCE_PERCENTAGE         0.000       0.000       0.0      18.000   \nNUMBER_OF_UNITS                       1.000       1.000       1.0       1.000   \nORIGINAL_COMBINED_LOAN_TO_VALUE       6.000      70.000      80.0      88.000   \nORIGINAL_DEBT_TO_INCOME_RATIO         1.000      25.000      33.0      41.000   \nORIGINAL_UPB                       8000.000   89000.000  126000.0  176000.000   \nORIGINAL_LOAN_TO_VALUE                6.000      70.000      80.0      85.000   \nORIGINAL_INTEREST_RATE                4.625       6.875       7.0       7.375   \nPOSTAL_CODE                         600.000   30500.000   54200.0   85000.000   \nORIGINAL_LOAN_TERM                  301.000     360.000     360.0     360.000   \nNUMBER_OF_BORROWERS                   1.000       1.000       2.0       2.000   \n\n                                      max  \nCREDIT_SCORE                        839.0  \nFIRST_PAYMENT_DATE               201103.0  \nMATURITY_DATE                    204101.0  \nMETROPOLITAN_STATISTICAL_AREA     49740.0  \nMORTGAGE_INSURANCE_PERCENTAGE        55.0  \nNUMBER_OF_UNITS                       4.0  \nORIGINAL_COMBINED_LOAN_TO_VALUE     180.0  \nORIGINAL_DEBT_TO_INCOME_RATIO        65.0  \nORIGINAL_UPB                     578000.0  \nORIGINAL_LOAN_TO_VALUE              100.0  \nORIGINAL_INTEREST_RATE               11.5  \nPOSTAL_CODE                       99900.0  \nORIGINAL_LOAN_TERM                  362.0  \nNUMBER_OF_BORROWERS                   2.0  ",
      "text/html": "<div>\n<style scoped>\n    .dataframe tbody tr th:only-of-type {\n        vertical-align: middle;\n    }\n\n    .dataframe tbody tr th {\n        vertical-align: top;\n    }\n\n    .dataframe thead th {\n        text-align: right;\n    }\n</style>\n<table border=\"1\" class=\"dataframe\">\n  <thead>\n    <tr style=\"text-align: right;\">\n      <th></th>\n      <th>count</th>\n      <th>mean</th>\n      <th>std</th>\n      <th>min</th>\n      <th>25%</th>\n      <th>50%</th>\n      <th>75%</th>\n      <th>max</th>\n    </tr>\n  </thead>\n  <tbody>\n    <tr>\n      <th>CREDIT_SCORE</th>\n      <td>497426.0</td>\n      <td>712.536212</td>\n      <td>54.791262</td>\n      <td>300.000</td>\n      <td>676.000</td>\n      <td>719.0</td>\n      <td>756.000</td>\n      <td>839.0</td>\n    </tr>\n    <tr>\n      <th>FIRST_PAYMENT_DATE</th>\n      <td>500137.0</td>\n      <td>200025.430952</td>\n      <td>109.815541</td>\n      <td>199901.000</td>\n      <td>199904.000</td>\n      <td>200005.0</td>\n      <td>200105.000</td>\n      <td>201103.0</td>\n    </tr>\n    <tr>\n      <th>MATURITY_DATE</th>\n      <td>500137.0</td>\n      <td>203023.195872</td>\n      <td>110.384189</td>\n      <td>202402.000</td>\n      <td>202903.000</td>\n      <td>203004.0</td>\n      <td>203104.000</td>\n      <td>204101.0</td>\n    </tr>\n    <tr>\n      <th>METROPOLITAN_STATISTICAL_AREA</th>\n      <td>429988.0</td>\n      <td>30777.824739</td>\n      <td>11333.401144</td>\n      <td>10180.000</td>\n      <td>19740.000</td>\n      <td>33340.0</td>\n      <td>40420.000</td>\n      <td>49740.0</td>\n    </tr>\n    <tr>\n      <th>MORTGAGE_INSURANCE_PERCENTAGE</th>\n      <td>449089.0</td>\n      <td>7.744532</td>\n      <td>12.046546</td>\n      <td>0.000</td>\n      <td>0.000</td>\n      <td>0.0</td>\n      <td>18.000</td>\n      <td>55.0</td>\n    </tr>\n    <tr>\n      <th>NUMBER_OF_UNITS</th>\n      <td>500134.0</td>\n      <td>1.028890</td>\n      <td>0.218391</td>\n      <td>1.000</td>\n      <td>1.000</td>\n      <td>1.0</td>\n      <td>1.000</td>\n      <td>4.0</td>\n    </tr>\n    <tr>\n      <th>ORIGINAL_COMBINED_LOAN_TO_VALUE</th>\n      <td>500124.0</td>\n      <td>76.053571</td>\n      <td>15.139986</td>\n      <td>6.000</td>\n      <td>70.000</td>\n      <td>80.0</td>\n      <td>88.000</td>\n      <td>180.0</td>\n    </tr>\n    <tr>\n      <th>ORIGINAL_DEBT_TO_INCOME_RATIO</th>\n      <td>485208.0</td>\n      <td>32.917541</td>\n      <td>11.111800</td>\n      <td>1.000</td>\n      <td>25.000</td>\n      <td>33.0</td>\n      <td>41.000</td>\n      <td>65.0</td>\n    </tr>\n    <tr>\n      <th>ORIGINAL_UPB</th>\n      <td>500137.0</td>\n      <td>136493.484785</td>\n      <td>60968.743066</td>\n      <td>8000.000</td>\n      <td>89000.000</td>\n      <td>126000.0</td>\n      <td>176000.000</td>\n      <td>578000.0</td>\n    </tr>\n    <tr>\n      <th>ORIGINAL_LOAN_TO_VALUE</th>\n      <td>500128.0</td>\n      <td>75.710714</td>\n      <td>14.937717</td>\n      <td>6.000</td>\n      <td>70.000</td>\n      <td>80.0</td>\n      <td>85.000</td>\n      <td>100.0</td>\n    </tr>\n    <tr>\n      <th>ORIGINAL_INTEREST_RATE</th>\n      <td>500137.0</td>\n      <td>7.182687</td>\n      <td>0.579941</td>\n      <td>4.625</td>\n      <td>6.875</td>\n      <td>7.0</td>\n      <td>7.375</td>\n      <td>11.5</td>\n    </tr>\n    <tr>\n      <th>POSTAL_CODE</th>\n      <td>500106.0</td>\n      <td>55490.857138</td>\n      <td>29505.382259</td>\n      <td>600.000</td>\n      <td>30500.000</td>\n      <td>54200.0</td>\n      <td>85000.000</td>\n      <td>99900.0</td>\n    </tr>\n    <tr>\n      <th>ORIGINAL_LOAN_TERM</th>\n      <td>500137.0</td>\n      <td>359.855470</td>\n      <td>1.908251</td>\n      <td>301.000</td>\n      <td>360.000</td>\n      <td>360.0</td>\n      <td>360.000</td>\n      <td>362.0</td>\n    </tr>\n    <tr>\n      <th>NUMBER_OF_BORROWERS</th>\n      <td>499890.0</td>\n      <td>1.630295</td>\n      <td>0.482725</td>\n      <td>1.000</td>\n      <td>1.000</td>\n      <td>2.0</td>\n      <td>2.000</td>\n      <td>2.0</td>\n    </tr>\n  </tbody>\n</table>\n</div>"
     },
     "execution_count": 36,
     "metadata": {},
     "output_type": "execute_result"
    }
   ],
   "source": [
    "df.describe().T"
   ]
  },
  {
   "cell_type": "markdown",
   "metadata": {
    "pycharm": {
     "name": "#%% md\n"
    }
   },
   "source": [
    "Dropping irrelevant columns (Not Available during prediction)"
   ]
  },
  {
   "cell_type": "code",
   "execution_count": 37,
   "metadata": {
    "pycharm": {
     "name": "#%%\n"
    }
   },
   "outputs": [],
   "source": [
    "df.drop([\"FIRST_PAYMENT_DATE\", \"MATURITY_DATE\", \"MORTGAGE_INSURANCE_PERCENTAGE\", \"ORIGINAL_UPB\", \"ORIGINAL_INTEREST_RATE\", \"PREPAYMENT_PENALTY_MORTGAGE_FLAG\"], inplace=True, axis=1)"
   ]
  },
  {
   "cell_type": "code",
   "execution_count": 38,
   "metadata": {
    "pycharm": {
     "name": "#%%\n"
    }
   },
   "outputs": [
    {
     "name": "stdout",
     "output_type": "stream",
     "text": [
      "PRODUCT_TYPE                            0\n",
      "SERVICER_NAME                           0\n",
      "SELLER_NAME                             0\n",
      "ORIGINAL_LOAN_TERM                      0\n",
      "LOAN_PURPOSE                            0\n",
      "PROPERTY_STATE                          0\n",
      "PREPAID                                 0\n",
      "CHANNEL                                 0\n",
      "DELINQUENT                              0\n",
      "OCCUPANCY_STATUS                        0\n",
      "NUMBER_OF_UNITS                         3\n",
      "ORIGINAL_LOAN_TO_VALUE                  9\n",
      "ORIGINAL_COMBINED_LOAN_TO_VALUE        13\n",
      "POSTAL_CODE                            31\n",
      "PROPERTY_TYPE                          95\n",
      "NUMBER_OF_BORROWERS                   247\n",
      "CREDIT_SCORE                         2711\n",
      "ORIGINAL_DEBT_TO_INCOME_RATIO       14929\n",
      "METROPOLITAN_STATISTICAL_AREA       70149\n",
      "FIRST_TIME_HOMEBUYER_FLAG          130559\n",
      "dtype: int64\n"
     ]
    }
   ],
   "source": [
    "print(df.isnull().sum().sort_values())"
   ]
  },
  {
   "cell_type": "code",
   "execution_count": 39,
   "metadata": {
    "pycharm": {
     "name": "#%%\n"
    }
   },
   "outputs": [],
   "source": [
    "def missing_percentage(df):\n",
    "    missing = pd.DataFrame(columns=['Category', 'Percentage'])\n",
    "    for col in df.columns:\n",
    "        if df[col].isna().values.any():\n",
    "            percentage = 100*df[col].isna().sum()/df.shape[0]\n",
    "            missing = missing.append({'Category':col, 'Percentage':percentage}, ignore_index = True)\n",
    "    return missing"
   ]
  },
  {
   "cell_type": "code",
   "execution_count": 40,
   "metadata": {
    "pycharm": {
     "name": "#%%\n"
    }
   },
   "outputs": [
    {
     "data": {
      "text/plain": "                          Category Percentage\n1        FIRST_TIME_HOMEBUYER_FLAG  26.104647\n2    METROPOLITAN_STATISTICAL_AREA  14.025957\n5    ORIGINAL_DEBT_TO_INCOME_RATIO   2.984982\n0                     CREDIT_SCORE   0.542051\n9              NUMBER_OF_BORROWERS   0.049386\n7                    PROPERTY_TYPE   0.018995\n8                      POSTAL_CODE   0.006198\n4  ORIGINAL_COMBINED_LOAN_TO_VALUE   0.002599\n6           ORIGINAL_LOAN_TO_VALUE     0.0018\n3                  NUMBER_OF_UNITS     0.0006",
      "text/html": "<div>\n<style scoped>\n    .dataframe tbody tr th:only-of-type {\n        vertical-align: middle;\n    }\n\n    .dataframe tbody tr th {\n        vertical-align: top;\n    }\n\n    .dataframe thead th {\n        text-align: right;\n    }\n</style>\n<table border=\"1\" class=\"dataframe\">\n  <thead>\n    <tr style=\"text-align: right;\">\n      <th></th>\n      <th>Category</th>\n      <th>Percentage</th>\n    </tr>\n  </thead>\n  <tbody>\n    <tr>\n      <th>1</th>\n      <td>FIRST_TIME_HOMEBUYER_FLAG</td>\n      <td>26.104647</td>\n    </tr>\n    <tr>\n      <th>2</th>\n      <td>METROPOLITAN_STATISTICAL_AREA</td>\n      <td>14.025957</td>\n    </tr>\n    <tr>\n      <th>5</th>\n      <td>ORIGINAL_DEBT_TO_INCOME_RATIO</td>\n      <td>2.984982</td>\n    </tr>\n    <tr>\n      <th>0</th>\n      <td>CREDIT_SCORE</td>\n      <td>0.542051</td>\n    </tr>\n    <tr>\n      <th>9</th>\n      <td>NUMBER_OF_BORROWERS</td>\n      <td>0.049386</td>\n    </tr>\n    <tr>\n      <th>7</th>\n      <td>PROPERTY_TYPE</td>\n      <td>0.018995</td>\n    </tr>\n    <tr>\n      <th>8</th>\n      <td>POSTAL_CODE</td>\n      <td>0.006198</td>\n    </tr>\n    <tr>\n      <th>4</th>\n      <td>ORIGINAL_COMBINED_LOAN_TO_VALUE</td>\n      <td>0.002599</td>\n    </tr>\n    <tr>\n      <th>6</th>\n      <td>ORIGINAL_LOAN_TO_VALUE</td>\n      <td>0.0018</td>\n    </tr>\n    <tr>\n      <th>3</th>\n      <td>NUMBER_OF_UNITS</td>\n      <td>0.0006</td>\n    </tr>\n  </tbody>\n</table>\n</div>"
     },
     "execution_count": 40,
     "metadata": {},
     "output_type": "execute_result"
    }
   ],
   "source": [
    "missingdata = missing_percentage(df)\n",
    "missingdata.sort_values('Percentage', ascending=False)"
   ]
  },
  {
   "cell_type": "code",
   "execution_count": 41,
   "metadata": {
    "pycharm": {
     "name": "#%%\n"
    }
   },
   "outputs": [
    {
     "data": {
      "text/plain": "N    320418\nY     49160\nName: FIRST_TIME_HOMEBUYER_FLAG, dtype: int64"
     },
     "execution_count": 41,
     "metadata": {},
     "output_type": "execute_result"
    }
   ],
   "source": [
    "df.FIRST_TIME_HOMEBUYER_FLAG.value_counts()"
   ]
  },
  {
   "cell_type": "code",
   "execution_count": 42,
   "metadata": {
    "pycharm": {
     "name": "#%%\n"
    }
   },
   "outputs": [],
   "source": [
    "from sklearn.preprocessing import LabelEncoder\n",
    "\n",
    "label_encoder = LabelEncoder()\n",
    "df['DELINQUENT']= label_encoder.fit_transform(df['DELINQUENT'])\n",
    "df['PREPAID']= label_encoder.fit_transform(df['PREPAID'])\n",
    "df['POSTAL_CODE'] = label_encoder.fit_transform(df['POSTAL_CODE'])\n",
    "df['FIRST_TIME_HOMEBUYER_FLAG'] = label_encoder.fit_transform(df['FIRST_TIME_HOMEBUYER_FLAG'])"
   ]
  },
  {
   "cell_type": "code",
   "execution_count": 43,
   "metadata": {
    "pycharm": {
     "name": "#%%\n"
    }
   },
   "outputs": [],
   "source": [
    "mylist = ['OCCUPANCY_STATUS', 'CHANNEL', 'PRODUCT_TYPE', 'PROPERTY_STATE',\n",
    "          'PROPERTY_TYPE', 'LOAN_PURPOSE', 'SELLER_NAME', 'SERVICER_NAME']"
   ]
  },
  {
   "cell_type": "code",
   "execution_count": 44,
   "metadata": {
    "pycharm": {
     "name": "#%%\n"
    }
   },
   "outputs": [
    {
     "data": {
      "text/plain": "Index(['CREDIT_SCORE', 'FIRST_TIME_HOMEBUYER_FLAG',\n       'METROPOLITAN_STATISTICAL_AREA', 'NUMBER_OF_UNITS', 'OCCUPANCY_STATUS',\n       'ORIGINAL_COMBINED_LOAN_TO_VALUE', 'ORIGINAL_DEBT_TO_INCOME_RATIO',\n       'ORIGINAL_LOAN_TO_VALUE', 'CHANNEL', 'PRODUCT_TYPE', 'PROPERTY_STATE',\n       'PROPERTY_TYPE', 'POSTAL_CODE', 'LOAN_PURPOSE', 'ORIGINAL_LOAN_TERM',\n       'NUMBER_OF_BORROWERS', 'SELLER_NAME', 'SERVICER_NAME', 'PREPAID',\n       'DELINQUENT'],\n      dtype='object')"
     },
     "execution_count": 44,
     "metadata": {},
     "output_type": "execute_result"
    }
   ],
   "source": [
    "col = df.columns\n",
    "col"
   ]
  },
  {
   "cell_type": "code",
   "execution_count": 45,
   "outputs": [],
   "source": [
    "from sklearn.preprocessing import OrdinalEncoder\n",
    "\n",
    "enc = OrdinalEncoder()\n",
    "df_fit = enc.fit_transform(df[mylist])"
   ],
   "metadata": {
    "collapsed": false,
    "pycharm": {
     "name": "#%%\n"
    }
   }
  },
  {
   "cell_type": "code",
   "execution_count": 46,
   "outputs": [],
   "source": [
    "df_fit = pd.DataFrame(df_fit, columns=mylist)"
   ],
   "metadata": {
    "collapsed": false,
    "pycharm": {
     "name": "#%%\n"
    }
   }
  },
  {
   "cell_type": "code",
   "execution_count": 47,
   "outputs": [],
   "source": [
    "df_out = df_fit.join(df.drop(columns=mylist, axis=1))"
   ],
   "metadata": {
    "collapsed": false,
    "pycharm": {
     "name": "#%%\n"
    }
   }
  },
  {
   "cell_type": "code",
   "execution_count": 48,
   "outputs": [
    {
     "name": "stdout",
     "output_type": "stream",
     "text": [
      "NaNImputer(conservative = False, n_feats = 10,            \n",
      "           fix_string_nans = True, verbose = True,                \n",
      "           multiprocessing_load = 3, fill_nans_in_pure_text = True,                    \n",
      "           drop_empty_cols = True, drop_nan_cols_with_constant = True                        \n",
      "           feature_selection = correlation)\n",
      "\n",
      "Dataset dimensions:\n",
      " - rows:         500137\n",
      " - columns:      20\n",
      " - mb in memory: 74.41\n",
      " - NaN cols num: 8\n",
      "--------------------------\n",
      "\n",
      "Deploy multiprocessing with 12 parallel proceses\n",
      "\n",
      "\n",
      "NaNs imputation time: 0.75 minutes\n",
      "--------------------------------------------------\n"
     ]
    }
   ],
   "source": [
    "from verstack import NaNImputer\n",
    "imputer = NaNImputer()\n",
    "df_imp = imputer.impute(df_out)"
   ],
   "metadata": {
    "collapsed": false,
    "pycharm": {
     "name": "#%%\n"
    }
   }
  },
  {
   "cell_type": "code",
   "execution_count": 49,
   "outputs": [
    {
     "name": "stdout",
     "output_type": "stream",
     "text": [
      "OCCUPANCY_STATUS                       0\n",
      "ORIGINAL_LOAN_TERM                     0\n",
      "POSTAL_CODE                            0\n",
      "ORIGINAL_LOAN_TO_VALUE                 0\n",
      "PREPAID                                0\n",
      "SERVICER_NAME                          0\n",
      "FIRST_TIME_HOMEBUYER_FLAG              0\n",
      "LOAN_PURPOSE                           0\n",
      "PROPERTY_TYPE                          0\n",
      "PROPERTY_STATE                         0\n",
      "PRODUCT_TYPE                           0\n",
      "CHANNEL                                0\n",
      "SELLER_NAME                            0\n",
      "DELINQUENT                             0\n",
      "NUMBER_OF_UNITS                        3\n",
      "ORIGINAL_COMBINED_LOAN_TO_VALUE       13\n",
      "NUMBER_OF_BORROWERS                  247\n",
      "CREDIT_SCORE                        2711\n",
      "ORIGINAL_DEBT_TO_INCOME_RATIO      14929\n",
      "METROPOLITAN_STATISTICAL_AREA      70149\n",
      "dtype: int64\n"
     ]
    }
   ],
   "source": [
    "print(df_imp.isnull().sum().sort_values())"
   ],
   "metadata": {
    "collapsed": false,
    "pycharm": {
     "name": "#%%\n"
    }
   }
  },
  {
   "cell_type": "code",
   "execution_count": 50,
   "outputs": [
    {
     "name": "stdout",
     "output_type": "stream",
     "text": [
      "OCCUPANCY_STATUS                   0\n",
      "NUMBER_OF_BORROWERS                0\n",
      "ORIGINAL_LOAN_TERM                 0\n",
      "POSTAL_CODE                        0\n",
      "ORIGINAL_LOAN_TO_VALUE             0\n",
      "ORIGINAL_DEBT_TO_INCOME_RATIO      0\n",
      "ORIGINAL_COMBINED_LOAN_TO_VALUE    0\n",
      "NUMBER_OF_UNITS                    0\n",
      "METROPOLITAN_STATISTICAL_AREA      0\n",
      "FIRST_TIME_HOMEBUYER_FLAG          0\n",
      "CREDIT_SCORE                       0\n",
      "SERVICER_NAME                      0\n",
      "SELLER_NAME                        0\n",
      "LOAN_PURPOSE                       0\n",
      "PROPERTY_TYPE                      0\n",
      "PROPERTY_STATE                     0\n",
      "PRODUCT_TYPE                       0\n",
      "CHANNEL                            0\n",
      "PREPAID                            0\n",
      "DELINQUENT                         0\n",
      "dtype: int64\n"
     ]
    }
   ],
   "source": [
    "df_imp.dropna(inplace=True)\n",
    "print(df_imp.isnull().sum().sort_values())"
   ],
   "metadata": {
    "collapsed": false,
    "pycharm": {
     "name": "#%%\n"
    }
   }
  },
  {
   "cell_type": "markdown",
   "source": [
    "Pyod - Outlier Detection"
   ],
   "metadata": {
    "collapsed": false,
    "pycharm": {
     "name": "#%% md\n"
    }
   }
  },
  {
   "cell_type": "code",
   "execution_count": 51,
   "outputs": [],
   "source": [
    "# from numpy import percentile\n",
    "# import matplotlib.pyplot as plt\n",
    "# import matplotlib.font_manager\n",
    "#\n",
    "# # Import all models\n",
    "# from pyod.models.abod import ABOD\n",
    "# from pyod.models.cblof import CBLOF\n",
    "# from pyod.models.feature_bagging import FeatureBagging\n",
    "# from pyod.models.hbos import HBOS\n",
    "# from pyod.models.iforest import IForest\n",
    "# from pyod.models.knn import KNN\n",
    "# from pyod.models.lof import LOF\n",
    "# from pyod.models.mcd import MCD\n",
    "# from pyod.models.ocsvm import OCSVM\n",
    "# from pyod.models.pca import PCA\n",
    "# from pyod.models.lscp import LSCP\n",
    "# from pyod.models.inne import INNE\n",
    "# from pyod.models.gmm import GMM\n",
    "# from pyod.models.kde import KDE\n",
    "# from pyod.models.lmdd import LMDD"
   ],
   "metadata": {
    "collapsed": false,
    "pycharm": {
     "name": "#%%\n"
    }
   }
  },
  {
   "cell_type": "code",
   "execution_count": 52,
   "outputs": [],
   "source": [
    "# classifiers = {\n",
    "#     'Angle-based Outlier Detector (ABOD)':\n",
    "#         ABOD(),\n",
    "#     'Cluster-based Local Outlier Factor (CBLOF)':\n",
    "#         CBLOF(),\n",
    "#     'Feature Bagging':\n",
    "#         FeatureBagging(LOF(n_neighbors=35),),\n",
    "#     'Histogram-base Outlier Detection (HBOS)': HBOS(),\n",
    "#     'Isolation Forest': IForest(),\n",
    "#     'K Nearest Neighbors (KNN)': KNN(),\n",
    "#     'Average KNN': KNN(method='mean'),\n",
    "#     'Local Outlier Factor (LOF)':\n",
    "#         LOF(n_neighbors=35),\n",
    "#     'Minimum Covariance Determinant (MCD)': MCD(),\n",
    "#     'One-class SVM (OCSVM)': OCSVM(),\n",
    "#     'Principal Component Analysis (PCA)': PCA(),\n",
    "#     'Locally Selective Combination (LSCP)': LSCP(),\n",
    "#     'INNE': INNE(),\n",
    "#     'GMM': GMM(),\n",
    "#     'KDE': KDE(),\n",
    "#     'LMDD': LMDD(),\n",
    "# }"
   ],
   "metadata": {
    "collapsed": false,
    "pycharm": {
     "name": "#%%\n"
    }
   }
  },
  {
   "cell_type": "markdown",
   "source": [
    "Seperate Data"
   ],
   "metadata": {
    "collapsed": false,
    "pycharm": {
     "name": "#%% md\n"
    }
   }
  },
  {
   "cell_type": "code",
   "execution_count": 53,
   "metadata": {
    "pycharm": {
     "name": "#%%\n"
    }
   },
   "outputs": [],
   "source": [
    "X = df_imp.drop('DELINQUENT', axis =1)\n",
    "y = df_imp['DELINQUENT']"
   ]
  },
  {
   "cell_type": "code",
   "execution_count": 54,
   "outputs": [
    {
     "name": "stdout",
     "output_type": "stream",
     "text": [
      "<class 'pandas.core.frame.DataFrame'>\n",
      "Int64Index: 414532 entries, 1 to 500135\n",
      "Data columns (total 19 columns):\n",
      " #   Column                           Non-Null Count   Dtype  \n",
      "---  ------                           --------------   -----  \n",
      " 0   OCCUPANCY_STATUS                 414532 non-null  float64\n",
      " 1   CHANNEL                          414532 non-null  float64\n",
      " 2   PRODUCT_TYPE                     414532 non-null  float64\n",
      " 3   PROPERTY_STATE                   414532 non-null  float64\n",
      " 4   PROPERTY_TYPE                    414532 non-null  float64\n",
      " 5   LOAN_PURPOSE                     414532 non-null  float64\n",
      " 6   SELLER_NAME                      414532 non-null  float64\n",
      " 7   SERVICER_NAME                    414532 non-null  float64\n",
      " 8   CREDIT_SCORE                     414532 non-null  float64\n",
      " 9   FIRST_TIME_HOMEBUYER_FLAG        414532 non-null  int32  \n",
      " 10  METROPOLITAN_STATISTICAL_AREA    414532 non-null  float64\n",
      " 11  NUMBER_OF_UNITS                  414532 non-null  float64\n",
      " 12  ORIGINAL_COMBINED_LOAN_TO_VALUE  414532 non-null  float64\n",
      " 13  ORIGINAL_DEBT_TO_INCOME_RATIO    414532 non-null  float64\n",
      " 14  ORIGINAL_LOAN_TO_VALUE           414532 non-null  float64\n",
      " 15  POSTAL_CODE                      414532 non-null  int64  \n",
      " 16  ORIGINAL_LOAN_TERM               414532 non-null  int64  \n",
      " 17  NUMBER_OF_BORROWERS              414532 non-null  float64\n",
      " 18  PREPAID                          414532 non-null  int64  \n",
      "dtypes: float64(15), int32(1), int64(3)\n",
      "memory usage: 61.7 MB\n"
     ]
    }
   ],
   "source": [
    "X.info()"
   ],
   "metadata": {
    "collapsed": false,
    "pycharm": {
     "name": "#%%\n"
    }
   }
  },
  {
   "cell_type": "code",
   "execution_count": 55,
   "metadata": {
    "pycharm": {
     "name": "#%%\n"
    }
   },
   "outputs": [
    {
     "data": {
      "text/plain": "                 0      1\nDELINQUENT  400633  13899",
      "text/html": "<div>\n<style scoped>\n    .dataframe tbody tr th:only-of-type {\n        vertical-align: middle;\n    }\n\n    .dataframe tbody tr th {\n        vertical-align: top;\n    }\n\n    .dataframe thead th {\n        text-align: right;\n    }\n</style>\n<table border=\"1\" class=\"dataframe\">\n  <thead>\n    <tr style=\"text-align: right;\">\n      <th></th>\n      <th>0</th>\n      <th>1</th>\n    </tr>\n  </thead>\n  <tbody>\n    <tr>\n      <th>DELINQUENT</th>\n      <td>400633</td>\n      <td>13899</td>\n    </tr>\n  </tbody>\n</table>\n</div>"
     },
     "execution_count": 55,
     "metadata": {},
     "output_type": "execute_result"
    }
   ],
   "source": [
    "y.value_counts().to_frame().T"
   ]
  },
  {
   "cell_type": "markdown",
   "source": [
    "Feature Selection - PCA"
   ],
   "metadata": {
    "collapsed": false,
    "pycharm": {
     "name": "#%% md\n"
    }
   }
  },
  {
   "cell_type": "code",
   "execution_count": 56,
   "outputs": [],
   "source": [
    "# from sklearn.decomposition import PCA\n",
    "# pca = PCA(n_components = 15)\n",
    "# X = pca.fit_transform(X)"
   ],
   "metadata": {
    "collapsed": false,
    "pycharm": {
     "name": "#%%\n"
    }
   }
  },
  {
   "cell_type": "markdown",
   "source": [
    "Train test Split"
   ],
   "metadata": {
    "collapsed": false,
    "pycharm": {
     "name": "#%% md\n"
    }
   }
  },
  {
   "cell_type": "code",
   "execution_count": 57,
   "metadata": {
    "pycharm": {
     "name": "#%%\n"
    }
   },
   "outputs": [],
   "source": [
    "X_train, X_test, y_train, y_test = train_test_split(X, y, test_size=0.4, random_state=42)"
   ]
  },
  {
   "cell_type": "code",
   "execution_count": 58,
   "outputs": [
    {
     "data": {
      "text/plain": "0    240329\n1      8390\nName: DELINQUENT, dtype: int64"
     },
     "execution_count": 58,
     "metadata": {},
     "output_type": "execute_result"
    }
   ],
   "source": [
    "y_train.value_counts()"
   ],
   "metadata": {
    "collapsed": false,
    "pycharm": {
     "name": "#%%\n"
    }
   }
  },
  {
   "cell_type": "markdown",
   "source": [
    "Scaling"
   ],
   "metadata": {
    "collapsed": false,
    "pycharm": {
     "name": "#%% md\n"
    }
   }
  },
  {
   "cell_type": "code",
   "execution_count": 59,
   "outputs": [],
   "source": [
    "from sklearn.preprocessing import StandardScaler\n",
    "\n",
    "scaler = StandardScaler()\n",
    "X_scaled = scaler.fit_transform(X_train)\n",
    "X_test_s = scaler.fit_transform(X_test)"
   ],
   "metadata": {
    "collapsed": false,
    "pycharm": {
     "name": "#%%\n"
    }
   }
  },
  {
   "cell_type": "markdown",
   "source": [
    "Over-sample approach"
   ],
   "metadata": {
    "collapsed": false,
    "pycharm": {
     "name": "#%% md\n"
    }
   }
  },
  {
   "cell_type": "code",
   "execution_count": 60,
   "outputs": [],
   "source": [
    "from imblearn.over_sampling import RandomOverSampler\n",
    "sam = RandomOverSampler(sampling_strategy='minority')\n",
    "X_resampled, y_resampled = sam.fit_resample(X_scaled, y_train)"
   ],
   "metadata": {
    "collapsed": false,
    "pycharm": {
     "name": "#%%\n"
    }
   }
  },
  {
   "cell_type": "markdown",
   "source": [
    "ML - Model (Xgboost)"
   ],
   "metadata": {
    "collapsed": false,
    "pycharm": {
     "name": "#%% md\n"
    }
   }
  },
  {
   "cell_type": "code",
   "execution_count": 61,
   "metadata": {
    "pycharm": {
     "name": "#%%\n"
    }
   },
   "outputs": [],
   "source": [
    "import xgboost as xgb\n",
    "from xgboost import XGBClassifier\n",
    "data_dmatrix = xgb.DMatrix(data=X,label=y)\n",
    "\n",
    "xgb_model = XGBClassifier()"
   ]
  },
  {
   "cell_type": "code",
   "execution_count": 62,
   "metadata": {
    "pycharm": {
     "name": "#%%\n"
    }
   },
   "outputs": [
    {
     "data": {
      "text/plain": "XGBClassifier(base_score=0.5, booster='gbtree', callbacks=None,\n              colsample_bylevel=1, colsample_bynode=1, colsample_bytree=1,\n              early_stopping_rounds=None, enable_categorical=False,\n              eval_metric=None, gamma=0, gpu_id=-1, grow_policy='depthwise',\n              importance_type=None, interaction_constraints='',\n              learning_rate=0.300000012, max_bin=256, max_cat_to_onehot=4,\n              max_delta_step=0, max_depth=6, max_leaves=0, min_child_weight=1,\n              missing=nan, monotone_constraints='()', n_estimators=100,\n              n_jobs=0, num_parallel_tree=1, predictor='auto', random_state=0,\n              reg_alpha=0, reg_lambda=1, ...)",
      "text/html": "<style>#sk-container-id-2 {color: black;background-color: white;}#sk-container-id-2 pre{padding: 0;}#sk-container-id-2 div.sk-toggleable {background-color: white;}#sk-container-id-2 label.sk-toggleable__label {cursor: pointer;display: block;width: 100%;margin-bottom: 0;padding: 0.3em;box-sizing: border-box;text-align: center;}#sk-container-id-2 label.sk-toggleable__label-arrow:before {content: \"▸\";float: left;margin-right: 0.25em;color: #696969;}#sk-container-id-2 label.sk-toggleable__label-arrow:hover:before {color: black;}#sk-container-id-2 div.sk-estimator:hover label.sk-toggleable__label-arrow:before {color: black;}#sk-container-id-2 div.sk-toggleable__content {max-height: 0;max-width: 0;overflow: hidden;text-align: left;background-color: #f0f8ff;}#sk-container-id-2 div.sk-toggleable__content pre {margin: 0.2em;color: black;border-radius: 0.25em;background-color: #f0f8ff;}#sk-container-id-2 input.sk-toggleable__control:checked~div.sk-toggleable__content {max-height: 200px;max-width: 100%;overflow: auto;}#sk-container-id-2 input.sk-toggleable__control:checked~label.sk-toggleable__label-arrow:before {content: \"▾\";}#sk-container-id-2 div.sk-estimator input.sk-toggleable__control:checked~label.sk-toggleable__label {background-color: #d4ebff;}#sk-container-id-2 div.sk-label input.sk-toggleable__control:checked~label.sk-toggleable__label {background-color: #d4ebff;}#sk-container-id-2 input.sk-hidden--visually {border: 0;clip: rect(1px 1px 1px 1px);clip: rect(1px, 1px, 1px, 1px);height: 1px;margin: -1px;overflow: hidden;padding: 0;position: absolute;width: 1px;}#sk-container-id-2 div.sk-estimator {font-family: monospace;background-color: #f0f8ff;border: 1px dotted black;border-radius: 0.25em;box-sizing: border-box;margin-bottom: 0.5em;}#sk-container-id-2 div.sk-estimator:hover {background-color: #d4ebff;}#sk-container-id-2 div.sk-parallel-item::after {content: \"\";width: 100%;border-bottom: 1px solid gray;flex-grow: 1;}#sk-container-id-2 div.sk-label:hover label.sk-toggleable__label {background-color: #d4ebff;}#sk-container-id-2 div.sk-serial::before {content: \"\";position: absolute;border-left: 1px solid gray;box-sizing: border-box;top: 0;bottom: 0;left: 50%;z-index: 0;}#sk-container-id-2 div.sk-serial {display: flex;flex-direction: column;align-items: center;background-color: white;padding-right: 0.2em;padding-left: 0.2em;position: relative;}#sk-container-id-2 div.sk-item {position: relative;z-index: 1;}#sk-container-id-2 div.sk-parallel {display: flex;align-items: stretch;justify-content: center;background-color: white;position: relative;}#sk-container-id-2 div.sk-item::before, #sk-container-id-2 div.sk-parallel-item::before {content: \"\";position: absolute;border-left: 1px solid gray;box-sizing: border-box;top: 0;bottom: 0;left: 50%;z-index: -1;}#sk-container-id-2 div.sk-parallel-item {display: flex;flex-direction: column;z-index: 1;position: relative;background-color: white;}#sk-container-id-2 div.sk-parallel-item:first-child::after {align-self: flex-end;width: 50%;}#sk-container-id-2 div.sk-parallel-item:last-child::after {align-self: flex-start;width: 50%;}#sk-container-id-2 div.sk-parallel-item:only-child::after {width: 0;}#sk-container-id-2 div.sk-dashed-wrapped {border: 1px dashed gray;margin: 0 0.4em 0.5em 0.4em;box-sizing: border-box;padding-bottom: 0.4em;background-color: white;}#sk-container-id-2 div.sk-label label {font-family: monospace;font-weight: bold;display: inline-block;line-height: 1.2em;}#sk-container-id-2 div.sk-label-container {text-align: center;}#sk-container-id-2 div.sk-container {/* jupyter's `normalize.less` sets `[hidden] { display: none; }` but bootstrap.min.css set `[hidden] { display: none !important; }` so we also need the `!important` here to be able to override the default hidden behavior on the sphinx rendered scikit-learn.org. See: https://github.com/scikit-learn/scikit-learn/issues/21755 */display: inline-block !important;position: relative;}#sk-container-id-2 div.sk-text-repr-fallback {display: none;}</style><div id=\"sk-container-id-2\" class=\"sk-top-container\"><div class=\"sk-text-repr-fallback\"><pre>XGBClassifier(base_score=0.5, booster=&#x27;gbtree&#x27;, callbacks=None,\n              colsample_bylevel=1, colsample_bynode=1, colsample_bytree=1,\n              early_stopping_rounds=None, enable_categorical=False,\n              eval_metric=None, gamma=0, gpu_id=-1, grow_policy=&#x27;depthwise&#x27;,\n              importance_type=None, interaction_constraints=&#x27;&#x27;,\n              learning_rate=0.300000012, max_bin=256, max_cat_to_onehot=4,\n              max_delta_step=0, max_depth=6, max_leaves=0, min_child_weight=1,\n              missing=nan, monotone_constraints=&#x27;()&#x27;, n_estimators=100,\n              n_jobs=0, num_parallel_tree=1, predictor=&#x27;auto&#x27;, random_state=0,\n              reg_alpha=0, reg_lambda=1, ...)</pre><b>In a Jupyter environment, please rerun this cell to show the HTML representation or trust the notebook. <br />On GitHub, the HTML representation is unable to render, please try loading this page with nbviewer.org.</b></div><div class=\"sk-container\" hidden><div class=\"sk-item\"><div class=\"sk-estimator sk-toggleable\"><input class=\"sk-toggleable__control sk-hidden--visually\" id=\"sk-estimator-id-2\" type=\"checkbox\" checked><label for=\"sk-estimator-id-2\" class=\"sk-toggleable__label sk-toggleable__label-arrow\">XGBClassifier</label><div class=\"sk-toggleable__content\"><pre>XGBClassifier(base_score=0.5, booster=&#x27;gbtree&#x27;, callbacks=None,\n              colsample_bylevel=1, colsample_bynode=1, colsample_bytree=1,\n              early_stopping_rounds=None, enable_categorical=False,\n              eval_metric=None, gamma=0, gpu_id=-1, grow_policy=&#x27;depthwise&#x27;,\n              importance_type=None, interaction_constraints=&#x27;&#x27;,\n              learning_rate=0.300000012, max_bin=256, max_cat_to_onehot=4,\n              max_delta_step=0, max_depth=6, max_leaves=0, min_child_weight=1,\n              missing=nan, monotone_constraints=&#x27;()&#x27;, n_estimators=100,\n              n_jobs=0, num_parallel_tree=1, predictor=&#x27;auto&#x27;, random_state=0,\n              reg_alpha=0, reg_lambda=1, ...)</pre></div></div></div></div></div>"
     },
     "execution_count": 62,
     "metadata": {},
     "output_type": "execute_result"
    }
   ],
   "source": [
    "xgb_model.fit(X_resampled, y_resampled)"
   ]
  },
  {
   "cell_type": "code",
   "execution_count": 63,
   "metadata": {
    "pycharm": {
     "name": "#%%\n"
    }
   },
   "outputs": [],
   "source": [
    "y_pred = xgb_model.predict(X_test_s)"
   ]
  },
  {
   "cell_type": "code",
   "execution_count": 64,
   "metadata": {
    "pycharm": {
     "name": "#%%\n"
    }
   },
   "outputs": [
    {
     "name": "stdout",
     "output_type": "stream",
     "text": [
      "              precision    recall  f1-score   support\n",
      "\n",
      "           0       0.91      0.99      0.95    146591\n",
      "           1       0.75      0.21      0.33     19222\n",
      "\n",
      "    accuracy                           0.90    165813\n",
      "   macro avg       0.83      0.60      0.64    165813\n",
      "weighted avg       0.89      0.90      0.88    165813\n",
      "\n"
     ]
    }
   ],
   "source": [
    "from sklearn.metrics import classification_report,confusion_matrix\n",
    "print(classification_report(y_pred, y_test))"
   ]
  },
  {
   "cell_type": "code",
   "execution_count": 65,
   "metadata": {
    "pycharm": {
     "name": "#%%\n"
    }
   },
   "outputs": [],
   "source": [
    "from xgboost import cv\n",
    "\n",
    "params = {\"objective\":\"binary:logistic\",'colsample_bytree': 0.3,'learning_rate': 0.1,\n",
    "          'max_depth': 5, 'alpha': 10}\n",
    "\n",
    "xgb_cv = cv(dtrain=data_dmatrix, params=params, nfold=3,\n",
    "            num_boost_round=50, early_stopping_rounds=10, metrics=\"auc\", as_pandas=True, seed=123)"
   ]
  },
  {
   "cell_type": "code",
   "execution_count": 66,
   "outputs": [
    {
     "data": {
      "text/plain": "    train-auc-mean  train-auc-std  test-auc-mean  test-auc-std\n0         0.582928       0.001301       0.582949      0.002688\n1         0.723365       0.054055       0.720633      0.054154\n2         0.780916       0.051400       0.780353      0.052853\n3         0.804944       0.070189       0.803866      0.069987\n4         0.810767       0.066169       0.809544      0.066661\n5         0.883711       0.018218       0.884505      0.018213\n6         0.892528       0.009460       0.892513      0.010942\n7         0.890572       0.009643       0.890458      0.011255\n8         0.892707       0.007882       0.892689      0.009001\n9         0.895465       0.006496       0.894627      0.007711\n10        0.896313       0.006813       0.895310      0.007839\n11        0.898402       0.005558       0.897500      0.006691\n12        0.901062       0.002093       0.900379      0.002480\n13        0.902747       0.002785       0.901876      0.002705\n14        0.904595       0.001482       0.903164      0.001915\n15        0.905303       0.002326       0.904171      0.003182\n16        0.904607       0.002070       0.903429      0.003325\n17        0.906287       0.001082       0.904926      0.002365",
      "text/html": "<div>\n<style scoped>\n    .dataframe tbody tr th:only-of-type {\n        vertical-align: middle;\n    }\n\n    .dataframe tbody tr th {\n        vertical-align: top;\n    }\n\n    .dataframe thead th {\n        text-align: right;\n    }\n</style>\n<table border=\"1\" class=\"dataframe\">\n  <thead>\n    <tr style=\"text-align: right;\">\n      <th></th>\n      <th>train-auc-mean</th>\n      <th>train-auc-std</th>\n      <th>test-auc-mean</th>\n      <th>test-auc-std</th>\n    </tr>\n  </thead>\n  <tbody>\n    <tr>\n      <th>0</th>\n      <td>0.582928</td>\n      <td>0.001301</td>\n      <td>0.582949</td>\n      <td>0.002688</td>\n    </tr>\n    <tr>\n      <th>1</th>\n      <td>0.723365</td>\n      <td>0.054055</td>\n      <td>0.720633</td>\n      <td>0.054154</td>\n    </tr>\n    <tr>\n      <th>2</th>\n      <td>0.780916</td>\n      <td>0.051400</td>\n      <td>0.780353</td>\n      <td>0.052853</td>\n    </tr>\n    <tr>\n      <th>3</th>\n      <td>0.804944</td>\n      <td>0.070189</td>\n      <td>0.803866</td>\n      <td>0.069987</td>\n    </tr>\n    <tr>\n      <th>4</th>\n      <td>0.810767</td>\n      <td>0.066169</td>\n      <td>0.809544</td>\n      <td>0.066661</td>\n    </tr>\n    <tr>\n      <th>5</th>\n      <td>0.883711</td>\n      <td>0.018218</td>\n      <td>0.884505</td>\n      <td>0.018213</td>\n    </tr>\n    <tr>\n      <th>6</th>\n      <td>0.892528</td>\n      <td>0.009460</td>\n      <td>0.892513</td>\n      <td>0.010942</td>\n    </tr>\n    <tr>\n      <th>7</th>\n      <td>0.890572</td>\n      <td>0.009643</td>\n      <td>0.890458</td>\n      <td>0.011255</td>\n    </tr>\n    <tr>\n      <th>8</th>\n      <td>0.892707</td>\n      <td>0.007882</td>\n      <td>0.892689</td>\n      <td>0.009001</td>\n    </tr>\n    <tr>\n      <th>9</th>\n      <td>0.895465</td>\n      <td>0.006496</td>\n      <td>0.894627</td>\n      <td>0.007711</td>\n    </tr>\n    <tr>\n      <th>10</th>\n      <td>0.896313</td>\n      <td>0.006813</td>\n      <td>0.895310</td>\n      <td>0.007839</td>\n    </tr>\n    <tr>\n      <th>11</th>\n      <td>0.898402</td>\n      <td>0.005558</td>\n      <td>0.897500</td>\n      <td>0.006691</td>\n    </tr>\n    <tr>\n      <th>12</th>\n      <td>0.901062</td>\n      <td>0.002093</td>\n      <td>0.900379</td>\n      <td>0.002480</td>\n    </tr>\n    <tr>\n      <th>13</th>\n      <td>0.902747</td>\n      <td>0.002785</td>\n      <td>0.901876</td>\n      <td>0.002705</td>\n    </tr>\n    <tr>\n      <th>14</th>\n      <td>0.904595</td>\n      <td>0.001482</td>\n      <td>0.903164</td>\n      <td>0.001915</td>\n    </tr>\n    <tr>\n      <th>15</th>\n      <td>0.905303</td>\n      <td>0.002326</td>\n      <td>0.904171</td>\n      <td>0.003182</td>\n    </tr>\n    <tr>\n      <th>16</th>\n      <td>0.904607</td>\n      <td>0.002070</td>\n      <td>0.903429</td>\n      <td>0.003325</td>\n    </tr>\n    <tr>\n      <th>17</th>\n      <td>0.906287</td>\n      <td>0.001082</td>\n      <td>0.904926</td>\n      <td>0.002365</td>\n    </tr>\n  </tbody>\n</table>\n</div>"
     },
     "execution_count": 66,
     "metadata": {},
     "output_type": "execute_result"
    }
   ],
   "source": [
    "xgb_cv"
   ],
   "metadata": {
    "collapsed": false,
    "pycharm": {
     "name": "#%%\n"
    }
   }
  },
  {
   "cell_type": "code",
   "execution_count": 67,
   "metadata": {
    "pycharm": {
     "name": "#%%\n"
    }
   },
   "outputs": [
    {
     "data": {
      "text/plain": "<Figure size 432x288 with 1 Axes>",
      "image/png": "[encoded data removed]"
     },
     "metadata": {},
     "output_type": "display_data"
    },
    {
     "data": {
      "text/plain": "<Figure size 1152x864 with 0 Axes>"
     },
     "metadata": {},
     "output_type": "display_data"
    }
   ],
   "source": [
    "xgb.plot_importance(xgb_model)\n",
    "plt.figure(figsize = (16, 12))\n",
    "plt.show()"
   ]
  },
  {
   "cell_type": "markdown",
   "source": [
    "HyperParameters"
   ],
   "metadata": {
    "collapsed": false,
    "pycharm": {
     "name": "#%% md\n"
    }
   }
  },
  {
   "cell_type": "code",
   "execution_count": 68,
   "outputs": [],
   "source": [
    "# param_grid = dict(scale_pos_weight = [1],\n",
    "#                   objective=['bunary:logistic'],\n",
    "#                   max_depth = [4,6,8],\n",
    "#                   alpha=[10],\n",
    "#                   learning_rate = [0.3,0.01],\n",
    "#                   n_estimTORS=[100])"
   ],
   "metadata": {
    "collapsed": false,
    "pycharm": {
     "name": "#%%\n"
    }
   }
  },
  {
   "cell_type": "code",
   "execution_count": 69,
   "outputs": [],
   "source": [
    "# from sklearn.model_selection import RepeatedStratifiedKFold, GridSearchCV"
   ],
   "metadata": {
    "collapsed": false,
    "pycharm": {
     "name": "#%%\n"
    }
   }
  },
  {
   "cell_type": "code",
   "execution_count": 70,
   "outputs": [],
   "source": [
    "# CV = RepeatedStratifiedKFold(n_splits=10, n_repeats=3, random_state=1)\n",
    "# grid = GridSearchCV(estimator=xgb_model, param_grid=param_grid, n_jobs=-1, cv=CV, scoring='f1', error_score='raise')"
   ],
   "metadata": {
    "collapsed": false,
    "pycharm": {
     "name": "#%%\n"
    }
   }
  },
  {
   "cell_type": "code",
   "execution_count": 72,
   "outputs": [],
   "source": [
    "# grid_result = grid.fit(X_resampled, y_resampled)"
   ],
   "metadata": {
    "collapsed": false,
    "pycharm": {
     "name": "#%%\n"
    }
   }
  },
  {
   "cell_type": "markdown",
   "source": [
    "ML - Model (Catboost)"
   ],
   "metadata": {
    "collapsed": false,
    "pycharm": {
     "name": "#%% md\n"
    }
   }
  },
  {
   "cell_type": "code",
   "execution_count": 73,
   "outputs": [],
   "source": [
    "catb = CatBoostClassifier()"
   ],
   "metadata": {
    "collapsed": false,
    "pycharm": {
     "name": "#%%\n"
    }
   }
  },
  {
   "cell_type": "code",
   "execution_count": 74,
   "outputs": [
    {
     "name": "stdout",
     "output_type": "stream",
     "text": [
      "Learning rate set to 0.143906\n",
      "0:\tlearn: 0.5801710\ttotal: 234ms\tremaining: 3m 53s\n",
      "1:\tlearn: 0.5123842\ttotal: 300ms\tremaining: 2m 29s\n",
      "2:\tlearn: 0.4685317\ttotal: 374ms\tremaining: 2m 4s\n",
      "3:\tlearn: 0.4376430\ttotal: 451ms\tremaining: 1m 52s\n",
      "4:\tlearn: 0.4183951\ttotal: 530ms\tremaining: 1m 45s\n",
      "5:\tlearn: 0.4048468\ttotal: 621ms\tremaining: 1m 42s\n",
      "6:\tlearn: 0.3961560\ttotal: 696ms\tremaining: 1m 38s\n",
      "7:\tlearn: 0.3889493\ttotal: 765ms\tremaining: 1m 34s\n",
      "8:\tlearn: 0.3840467\ttotal: 843ms\tremaining: 1m 32s\n",
      "9:\tlearn: 0.3799035\ttotal: 918ms\tremaining: 1m 30s\n",
      "10:\tlearn: 0.3768229\ttotal: 999ms\tremaining: 1m 29s\n",
      "11:\tlearn: 0.3742186\ttotal: 1.07s\tremaining: 1m 28s\n",
      "12:\tlearn: 0.3719537\ttotal: 1.14s\tremaining: 1m 26s\n",
      "13:\tlearn: 0.3701376\ttotal: 1.23s\tremaining: 1m 26s\n",
      "14:\tlearn: 0.3688639\ttotal: 1.31s\tremaining: 1m 25s\n",
      "15:\tlearn: 0.3675519\ttotal: 1.38s\tremaining: 1m 25s\n",
      "16:\tlearn: 0.3664035\ttotal: 1.45s\tremaining: 1m 23s\n",
      "17:\tlearn: 0.3652303\ttotal: 1.52s\tremaining: 1m 22s\n",
      "18:\tlearn: 0.3642053\ttotal: 1.58s\tremaining: 1m 21s\n",
      "19:\tlearn: 0.3631603\ttotal: 1.64s\tremaining: 1m 20s\n",
      "20:\tlearn: 0.3623346\ttotal: 1.7s\tremaining: 1m 19s\n",
      "21:\tlearn: 0.3615167\ttotal: 1.76s\tremaining: 1m 18s\n",
      "22:\tlearn: 0.3604934\ttotal: 1.83s\tremaining: 1m 17s\n",
      "23:\tlearn: 0.3597056\ttotal: 1.89s\tremaining: 1m 16s\n",
      "24:\tlearn: 0.3589748\ttotal: 1.95s\tremaining: 1m 16s\n",
      "25:\tlearn: 0.3579564\ttotal: 2.01s\tremaining: 1m 15s\n",
      "26:\tlearn: 0.3572264\ttotal: 2.07s\tremaining: 1m 14s\n",
      "27:\tlearn: 0.3557264\ttotal: 2.12s\tremaining: 1m 13s\n",
      "28:\tlearn: 0.3548574\ttotal: 2.19s\tremaining: 1m 13s\n",
      "29:\tlearn: 0.3543273\ttotal: 2.25s\tremaining: 1m 12s\n",
      "30:\tlearn: 0.3538099\ttotal: 2.31s\tremaining: 1m 12s\n",
      "31:\tlearn: 0.3530837\ttotal: 2.37s\tremaining: 1m 11s\n",
      "32:\tlearn: 0.3523596\ttotal: 2.43s\tremaining: 1m 11s\n",
      "33:\tlearn: 0.3518562\ttotal: 2.5s\tremaining: 1m 10s\n",
      "34:\tlearn: 0.3507943\ttotal: 2.56s\tremaining: 1m 10s\n",
      "35:\tlearn: 0.3503446\ttotal: 2.61s\tremaining: 1m 9s\n",
      "36:\tlearn: 0.3497636\ttotal: 2.68s\tremaining: 1m 9s\n",
      "37:\tlearn: 0.3492299\ttotal: 2.74s\tremaining: 1m 9s\n",
      "38:\tlearn: 0.3487278\ttotal: 2.8s\tremaining: 1m 9s\n",
      "39:\tlearn: 0.3483283\ttotal: 2.86s\tremaining: 1m 8s\n",
      "40:\tlearn: 0.3474054\ttotal: 2.94s\tremaining: 1m 8s\n",
      "41:\tlearn: 0.3470088\ttotal: 3s\tremaining: 1m 8s\n",
      "42:\tlearn: 0.3466800\ttotal: 3.05s\tremaining: 1m 7s\n",
      "43:\tlearn: 0.3457721\ttotal: 3.1s\tremaining: 1m 7s\n",
      "44:\tlearn: 0.3452513\ttotal: 3.16s\tremaining: 1m 7s\n",
      "45:\tlearn: 0.3446708\ttotal: 3.23s\tremaining: 1m 6s\n",
      "46:\tlearn: 0.3442715\ttotal: 3.29s\tremaining: 1m 6s\n",
      "47:\tlearn: 0.3439569\ttotal: 3.35s\tremaining: 1m 6s\n",
      "48:\tlearn: 0.3435806\ttotal: 3.43s\tremaining: 1m 6s\n",
      "49:\tlearn: 0.3432524\ttotal: 3.49s\tremaining: 1m 6s\n",
      "50:\tlearn: 0.3429901\ttotal: 3.55s\tremaining: 1m 6s\n",
      "51:\tlearn: 0.3424092\ttotal: 3.62s\tremaining: 1m 5s\n",
      "52:\tlearn: 0.3420237\ttotal: 3.69s\tremaining: 1m 5s\n",
      "53:\tlearn: 0.3415507\ttotal: 3.75s\tremaining: 1m 5s\n",
      "54:\tlearn: 0.3411257\ttotal: 3.82s\tremaining: 1m 5s\n",
      "55:\tlearn: 0.3407593\ttotal: 3.89s\tremaining: 1m 5s\n",
      "56:\tlearn: 0.3403221\ttotal: 3.96s\tremaining: 1m 5s\n",
      "57:\tlearn: 0.3398807\ttotal: 4.03s\tremaining: 1m 5s\n",
      "58:\tlearn: 0.3396016\ttotal: 4.09s\tremaining: 1m 5s\n",
      "59:\tlearn: 0.3389032\ttotal: 4.16s\tremaining: 1m 5s\n",
      "60:\tlearn: 0.3384140\ttotal: 4.23s\tremaining: 1m 5s\n",
      "61:\tlearn: 0.3381034\ttotal: 4.3s\tremaining: 1m 5s\n",
      "62:\tlearn: 0.3377353\ttotal: 4.37s\tremaining: 1m 5s\n",
      "63:\tlearn: 0.3373576\ttotal: 4.43s\tremaining: 1m 4s\n",
      "64:\tlearn: 0.3369791\ttotal: 4.5s\tremaining: 1m 4s\n",
      "65:\tlearn: 0.3364429\ttotal: 4.57s\tremaining: 1m 4s\n",
      "66:\tlearn: 0.3361461\ttotal: 4.64s\tremaining: 1m 4s\n",
      "67:\tlearn: 0.3357842\ttotal: 4.71s\tremaining: 1m 4s\n",
      "68:\tlearn: 0.3353101\ttotal: 4.78s\tremaining: 1m 4s\n",
      "69:\tlearn: 0.3348805\ttotal: 4.85s\tremaining: 1m 4s\n",
      "70:\tlearn: 0.3345517\ttotal: 4.92s\tremaining: 1m 4s\n",
      "71:\tlearn: 0.3341257\ttotal: 4.98s\tremaining: 1m 4s\n",
      "72:\tlearn: 0.3336979\ttotal: 5.05s\tremaining: 1m 4s\n",
      "73:\tlearn: 0.3334419\ttotal: 5.12s\tremaining: 1m 4s\n",
      "74:\tlearn: 0.3329324\ttotal: 5.18s\tremaining: 1m 3s\n",
      "75:\tlearn: 0.3325426\ttotal: 5.25s\tremaining: 1m 3s\n",
      "76:\tlearn: 0.3321604\ttotal: 5.32s\tremaining: 1m 3s\n",
      "77:\tlearn: 0.3316906\ttotal: 5.39s\tremaining: 1m 3s\n",
      "78:\tlearn: 0.3314153\ttotal: 5.46s\tremaining: 1m 3s\n",
      "79:\tlearn: 0.3309872\ttotal: 5.52s\tremaining: 1m 3s\n",
      "80:\tlearn: 0.3307096\ttotal: 5.59s\tremaining: 1m 3s\n",
      "81:\tlearn: 0.3302385\ttotal: 5.66s\tremaining: 1m 3s\n",
      "82:\tlearn: 0.3300217\ttotal: 5.73s\tremaining: 1m 3s\n",
      "83:\tlearn: 0.3295109\ttotal: 5.81s\tremaining: 1m 3s\n",
      "84:\tlearn: 0.3291633\ttotal: 5.88s\tremaining: 1m 3s\n",
      "85:\tlearn: 0.3289470\ttotal: 5.96s\tremaining: 1m 3s\n",
      "86:\tlearn: 0.3285913\ttotal: 6.02s\tremaining: 1m 3s\n",
      "87:\tlearn: 0.3283207\ttotal: 6.09s\tremaining: 1m 3s\n",
      "88:\tlearn: 0.3281015\ttotal: 6.15s\tremaining: 1m 2s\n",
      "89:\tlearn: 0.3278327\ttotal: 6.22s\tremaining: 1m 2s\n",
      "90:\tlearn: 0.3275773\ttotal: 6.29s\tremaining: 1m 2s\n",
      "91:\tlearn: 0.3272021\ttotal: 6.35s\tremaining: 1m 2s\n",
      "92:\tlearn: 0.3269932\ttotal: 6.42s\tremaining: 1m 2s\n",
      "93:\tlearn: 0.3267411\ttotal: 6.49s\tremaining: 1m 2s\n",
      "94:\tlearn: 0.3264914\ttotal: 6.55s\tremaining: 1m 2s\n",
      "95:\tlearn: 0.3261312\ttotal: 6.63s\tremaining: 1m 2s\n",
      "96:\tlearn: 0.3259150\ttotal: 6.69s\tremaining: 1m 2s\n",
      "97:\tlearn: 0.3255590\ttotal: 6.76s\tremaining: 1m 2s\n",
      "98:\tlearn: 0.3253004\ttotal: 6.83s\tremaining: 1m 2s\n",
      "99:\tlearn: 0.3248876\ttotal: 6.9s\tremaining: 1m 2s\n",
      "100:\tlearn: 0.3245012\ttotal: 6.97s\tremaining: 1m 2s\n",
      "101:\tlearn: 0.3242524\ttotal: 7.04s\tremaining: 1m 1s\n",
      "102:\tlearn: 0.3239134\ttotal: 7.11s\tremaining: 1m 1s\n",
      "103:\tlearn: 0.3237092\ttotal: 7.18s\tremaining: 1m 1s\n",
      "104:\tlearn: 0.3233280\ttotal: 7.25s\tremaining: 1m 1s\n",
      "105:\tlearn: 0.3230078\ttotal: 7.32s\tremaining: 1m 1s\n",
      "106:\tlearn: 0.3226189\ttotal: 7.39s\tremaining: 1m 1s\n",
      "107:\tlearn: 0.3223587\ttotal: 7.46s\tremaining: 1m 1s\n",
      "108:\tlearn: 0.3220179\ttotal: 7.53s\tremaining: 1m 1s\n",
      "109:\tlearn: 0.3217177\ttotal: 7.6s\tremaining: 1m 1s\n",
      "110:\tlearn: 0.3214324\ttotal: 7.67s\tremaining: 1m 1s\n",
      "111:\tlearn: 0.3211982\ttotal: 7.75s\tremaining: 1m 1s\n",
      "112:\tlearn: 0.3209813\ttotal: 7.83s\tremaining: 1m 1s\n",
      "113:\tlearn: 0.3206219\ttotal: 7.9s\tremaining: 1m 1s\n",
      "114:\tlearn: 0.3202676\ttotal: 7.98s\tremaining: 1m 1s\n",
      "115:\tlearn: 0.3200267\ttotal: 8.05s\tremaining: 1m 1s\n",
      "116:\tlearn: 0.3196464\ttotal: 8.11s\tremaining: 1m 1s\n",
      "117:\tlearn: 0.3193968\ttotal: 8.18s\tremaining: 1m 1s\n",
      "118:\tlearn: 0.3190581\ttotal: 8.25s\tremaining: 1m 1s\n",
      "119:\tlearn: 0.3186697\ttotal: 8.32s\tremaining: 1m 1s\n",
      "120:\tlearn: 0.3182914\ttotal: 8.39s\tremaining: 1m\n",
      "121:\tlearn: 0.3180159\ttotal: 8.46s\tremaining: 1m\n",
      "122:\tlearn: 0.3177965\ttotal: 8.52s\tremaining: 1m\n",
      "123:\tlearn: 0.3174518\ttotal: 8.6s\tremaining: 1m\n",
      "124:\tlearn: 0.3171170\ttotal: 8.66s\tremaining: 1m\n",
      "125:\tlearn: 0.3169337\ttotal: 8.73s\tremaining: 1m\n",
      "126:\tlearn: 0.3167520\ttotal: 8.81s\tremaining: 1m\n",
      "127:\tlearn: 0.3164746\ttotal: 8.88s\tremaining: 1m\n",
      "128:\tlearn: 0.3162628\ttotal: 8.95s\tremaining: 1m\n",
      "129:\tlearn: 0.3160630\ttotal: 9.02s\tremaining: 1m\n",
      "130:\tlearn: 0.3158305\ttotal: 9.08s\tremaining: 1m\n",
      "131:\tlearn: 0.3154866\ttotal: 9.15s\tremaining: 1m\n",
      "132:\tlearn: 0.3152138\ttotal: 9.22s\tremaining: 1m\n",
      "133:\tlearn: 0.3149205\ttotal: 9.29s\tremaining: 1m\n",
      "134:\tlearn: 0.3146332\ttotal: 9.35s\tremaining: 59.9s\n",
      "135:\tlearn: 0.3144485\ttotal: 9.42s\tremaining: 59.9s\n",
      "136:\tlearn: 0.3140747\ttotal: 9.49s\tremaining: 59.8s\n",
      "137:\tlearn: 0.3138675\ttotal: 9.56s\tremaining: 59.7s\n",
      "138:\tlearn: 0.3136548\ttotal: 9.63s\tremaining: 59.6s\n",
      "139:\tlearn: 0.3134235\ttotal: 9.69s\tremaining: 59.5s\n",
      "140:\tlearn: 0.3131321\ttotal: 9.76s\tremaining: 59.5s\n",
      "141:\tlearn: 0.3129390\ttotal: 9.83s\tremaining: 59.4s\n",
      "142:\tlearn: 0.3127840\ttotal: 9.89s\tremaining: 59.3s\n",
      "143:\tlearn: 0.3124823\ttotal: 9.95s\tremaining: 59.2s\n",
      "144:\tlearn: 0.3121075\ttotal: 10s\tremaining: 59s\n",
      "145:\tlearn: 0.3119202\ttotal: 10.1s\tremaining: 58.9s\n",
      "146:\tlearn: 0.3116728\ttotal: 10.1s\tremaining: 58.8s\n",
      "147:\tlearn: 0.3113898\ttotal: 10.2s\tremaining: 58.7s\n",
      "148:\tlearn: 0.3111543\ttotal: 10.3s\tremaining: 58.6s\n",
      "149:\tlearn: 0.3108004\ttotal: 10.3s\tremaining: 58.5s\n",
      "150:\tlearn: 0.3105161\ttotal: 10.4s\tremaining: 58.5s\n",
      "151:\tlearn: 0.3102137\ttotal: 10.5s\tremaining: 58.4s\n",
      "152:\tlearn: 0.3099861\ttotal: 10.5s\tremaining: 58.3s\n",
      "153:\tlearn: 0.3096318\ttotal: 10.6s\tremaining: 58.2s\n",
      "154:\tlearn: 0.3093487\ttotal: 10.7s\tremaining: 58.1s\n",
      "155:\tlearn: 0.3091712\ttotal: 10.7s\tremaining: 58s\n",
      "156:\tlearn: 0.3088221\ttotal: 10.8s\tremaining: 58s\n",
      "157:\tlearn: 0.3086310\ttotal: 10.9s\tremaining: 57.9s\n",
      "158:\tlearn: 0.3085298\ttotal: 10.9s\tremaining: 57.8s\n",
      "159:\tlearn: 0.3082313\ttotal: 11s\tremaining: 57.7s\n",
      "160:\tlearn: 0.3080202\ttotal: 11.1s\tremaining: 57.6s\n",
      "161:\tlearn: 0.3077384\ttotal: 11.1s\tremaining: 57.6s\n",
      "162:\tlearn: 0.3074764\ttotal: 11.2s\tremaining: 57.5s\n",
      "163:\tlearn: 0.3072123\ttotal: 11.3s\tremaining: 57.4s\n",
      "164:\tlearn: 0.3069037\ttotal: 11.3s\tremaining: 57.4s\n",
      "165:\tlearn: 0.3066663\ttotal: 11.4s\tremaining: 57.3s\n",
      "166:\tlearn: 0.3061860\ttotal: 11.5s\tremaining: 57.2s\n",
      "167:\tlearn: 0.3058270\ttotal: 11.5s\tremaining: 57.1s\n",
      "168:\tlearn: 0.3054573\ttotal: 11.6s\tremaining: 57.1s\n",
      "169:\tlearn: 0.3052581\ttotal: 11.7s\tremaining: 57s\n",
      "170:\tlearn: 0.3050544\ttotal: 11.7s\tremaining: 56.9s\n",
      "171:\tlearn: 0.3048206\ttotal: 11.8s\tremaining: 56.9s\n",
      "172:\tlearn: 0.3045272\ttotal: 11.9s\tremaining: 56.9s\n",
      "173:\tlearn: 0.3043140\ttotal: 12s\tremaining: 56.9s\n",
      "174:\tlearn: 0.3039270\ttotal: 12s\tremaining: 56.8s\n",
      "175:\tlearn: 0.3036339\ttotal: 12.1s\tremaining: 56.7s\n",
      "176:\tlearn: 0.3034363\ttotal: 12.2s\tremaining: 56.7s\n",
      "177:\tlearn: 0.3032495\ttotal: 12.3s\tremaining: 56.6s\n",
      "178:\tlearn: 0.3030758\ttotal: 12.3s\tremaining: 56.5s\n",
      "179:\tlearn: 0.3029203\ttotal: 12.4s\tremaining: 56.5s\n",
      "180:\tlearn: 0.3026096\ttotal: 12.5s\tremaining: 56.4s\n",
      "181:\tlearn: 0.3023345\ttotal: 12.5s\tremaining: 56.4s\n",
      "182:\tlearn: 0.3020510\ttotal: 12.6s\tremaining: 56.3s\n",
      "183:\tlearn: 0.3018750\ttotal: 12.7s\tremaining: 56.3s\n",
      "184:\tlearn: 0.3015261\ttotal: 12.8s\tremaining: 56.3s\n",
      "185:\tlearn: 0.3012689\ttotal: 12.9s\tremaining: 56.3s\n",
      "186:\tlearn: 0.3010504\ttotal: 12.9s\tremaining: 56.3s\n",
      "187:\tlearn: 0.3006812\ttotal: 13s\tremaining: 56.3s\n",
      "188:\tlearn: 0.3004302\ttotal: 13.1s\tremaining: 56.3s\n",
      "189:\tlearn: 0.3001617\ttotal: 13.2s\tremaining: 56.2s\n",
      "190:\tlearn: 0.2999277\ttotal: 13.3s\tremaining: 56.2s\n",
      "191:\tlearn: 0.2997521\ttotal: 13.3s\tremaining: 56.1s\n",
      "192:\tlearn: 0.2996032\ttotal: 13.4s\tremaining: 56.1s\n",
      "193:\tlearn: 0.2994306\ttotal: 13.5s\tremaining: 56.1s\n",
      "194:\tlearn: 0.2991865\ttotal: 13.6s\tremaining: 56.1s\n",
      "195:\tlearn: 0.2989788\ttotal: 13.7s\tremaining: 56s\n",
      "196:\tlearn: 0.2987469\ttotal: 13.7s\tremaining: 56s\n",
      "197:\tlearn: 0.2985206\ttotal: 13.8s\tremaining: 55.9s\n",
      "198:\tlearn: 0.2983004\ttotal: 13.9s\tremaining: 56s\n",
      "199:\tlearn: 0.2979958\ttotal: 14s\tremaining: 56s\n",
      "200:\tlearn: 0.2977017\ttotal: 14.1s\tremaining: 56.1s\n",
      "201:\tlearn: 0.2975250\ttotal: 14.2s\tremaining: 56.1s\n",
      "202:\tlearn: 0.2972872\ttotal: 14.3s\tremaining: 56.1s\n",
      "203:\tlearn: 0.2971582\ttotal: 14.4s\tremaining: 56.2s\n",
      "204:\tlearn: 0.2970410\ttotal: 14.5s\tremaining: 56.1s\n",
      "205:\tlearn: 0.2968020\ttotal: 14.6s\tremaining: 56.1s\n",
      "206:\tlearn: 0.2966296\ttotal: 14.7s\tremaining: 56.2s\n",
      "207:\tlearn: 0.2963738\ttotal: 14.8s\tremaining: 56.2s\n",
      "208:\tlearn: 0.2961903\ttotal: 14.9s\tremaining: 56.3s\n",
      "209:\tlearn: 0.2961275\ttotal: 15s\tremaining: 56.3s\n",
      "210:\tlearn: 0.2959015\ttotal: 15.1s\tremaining: 56.3s\n",
      "211:\tlearn: 0.2955257\ttotal: 15.2s\tremaining: 56.3s\n",
      "212:\tlearn: 0.2952475\ttotal: 15.3s\tremaining: 56.4s\n",
      "213:\tlearn: 0.2950628\ttotal: 15.3s\tremaining: 56.3s\n",
      "214:\tlearn: 0.2947589\ttotal: 15.4s\tremaining: 56.3s\n",
      "215:\tlearn: 0.2945856\ttotal: 15.5s\tremaining: 56.4s\n",
      "216:\tlearn: 0.2943951\ttotal: 15.6s\tremaining: 56.4s\n",
      "217:\tlearn: 0.2941281\ttotal: 15.7s\tremaining: 56.5s\n",
      "218:\tlearn: 0.2938581\ttotal: 15.8s\tremaining: 56.5s\n",
      "219:\tlearn: 0.2936709\ttotal: 15.9s\tremaining: 56.4s\n",
      "220:\tlearn: 0.2934556\ttotal: 16s\tremaining: 56.4s\n",
      "221:\tlearn: 0.2931470\ttotal: 16.1s\tremaining: 56.3s\n",
      "222:\tlearn: 0.2928666\ttotal: 16.2s\tremaining: 56.3s\n",
      "223:\tlearn: 0.2927331\ttotal: 16.2s\tremaining: 56.2s\n",
      "224:\tlearn: 0.2925403\ttotal: 16.3s\tremaining: 56.2s\n",
      "225:\tlearn: 0.2923432\ttotal: 16.4s\tremaining: 56.1s\n",
      "226:\tlearn: 0.2921134\ttotal: 16.5s\tremaining: 56.1s\n",
      "227:\tlearn: 0.2917108\ttotal: 16.6s\tremaining: 56s\n",
      "228:\tlearn: 0.2915003\ttotal: 16.6s\tremaining: 56s\n",
      "229:\tlearn: 0.2913244\ttotal: 16.7s\tremaining: 55.9s\n",
      "230:\tlearn: 0.2911023\ttotal: 16.8s\tremaining: 55.9s\n",
      "231:\tlearn: 0.2908955\ttotal: 16.9s\tremaining: 55.8s\n",
      "232:\tlearn: 0.2906540\ttotal: 16.9s\tremaining: 55.8s\n",
      "233:\tlearn: 0.2903783\ttotal: 17s\tremaining: 55.7s\n",
      "234:\tlearn: 0.2901502\ttotal: 17.1s\tremaining: 55.7s\n",
      "235:\tlearn: 0.2898457\ttotal: 17.2s\tremaining: 55.6s\n",
      "236:\tlearn: 0.2896354\ttotal: 17.3s\tremaining: 55.6s\n",
      "237:\tlearn: 0.2892500\ttotal: 17.3s\tremaining: 55.5s\n",
      "238:\tlearn: 0.2890829\ttotal: 17.4s\tremaining: 55.5s\n",
      "239:\tlearn: 0.2889403\ttotal: 17.5s\tremaining: 55.4s\n",
      "240:\tlearn: 0.2887719\ttotal: 17.6s\tremaining: 55.3s\n",
      "241:\tlearn: 0.2886186\ttotal: 17.7s\tremaining: 55.3s\n",
      "242:\tlearn: 0.2885195\ttotal: 17.7s\tremaining: 55.2s\n",
      "243:\tlearn: 0.2884187\ttotal: 17.8s\tremaining: 55.2s\n",
      "244:\tlearn: 0.2882706\ttotal: 17.9s\tremaining: 55.1s\n",
      "245:\tlearn: 0.2880916\ttotal: 18s\tremaining: 55.1s\n",
      "246:\tlearn: 0.2878780\ttotal: 18s\tremaining: 55s\n",
      "247:\tlearn: 0.2876490\ttotal: 18.1s\tremaining: 55s\n",
      "248:\tlearn: 0.2875243\ttotal: 18.2s\tremaining: 55s\n",
      "249:\tlearn: 0.2873718\ttotal: 18.3s\tremaining: 54.9s\n",
      "250:\tlearn: 0.2872550\ttotal: 18.4s\tremaining: 54.8s\n",
      "251:\tlearn: 0.2870436\ttotal: 18.5s\tremaining: 54.8s\n",
      "252:\tlearn: 0.2868621\ttotal: 18.5s\tremaining: 54.7s\n",
      "253:\tlearn: 0.2865682\ttotal: 18.6s\tremaining: 54.7s\n",
      "254:\tlearn: 0.2863319\ttotal: 18.7s\tremaining: 54.7s\n",
      "255:\tlearn: 0.2861312\ttotal: 18.8s\tremaining: 54.7s\n",
      "256:\tlearn: 0.2859722\ttotal: 18.9s\tremaining: 54.7s\n",
      "257:\tlearn: 0.2857829\ttotal: 19s\tremaining: 54.6s\n",
      "258:\tlearn: 0.2854867\ttotal: 19.1s\tremaining: 54.6s\n",
      "259:\tlearn: 0.2852218\ttotal: 19.2s\tremaining: 54.6s\n",
      "260:\tlearn: 0.2850350\ttotal: 19.2s\tremaining: 54.5s\n",
      "261:\tlearn: 0.2848289\ttotal: 19.3s\tremaining: 54.4s\n",
      "262:\tlearn: 0.2846136\ttotal: 19.4s\tremaining: 54.4s\n",
      "263:\tlearn: 0.2844156\ttotal: 19.5s\tremaining: 54.3s\n",
      "264:\tlearn: 0.2841327\ttotal: 19.6s\tremaining: 54.3s\n",
      "265:\tlearn: 0.2840236\ttotal: 19.7s\tremaining: 54.3s\n",
      "266:\tlearn: 0.2838400\ttotal: 19.7s\tremaining: 54.2s\n",
      "267:\tlearn: 0.2835197\ttotal: 19.8s\tremaining: 54.1s\n",
      "268:\tlearn: 0.2833945\ttotal: 19.9s\tremaining: 54.1s\n",
      "269:\tlearn: 0.2831226\ttotal: 20s\tremaining: 54.1s\n",
      "270:\tlearn: 0.2828789\ttotal: 20.1s\tremaining: 54.1s\n",
      "271:\tlearn: 0.2826878\ttotal: 20.2s\tremaining: 54.1s\n",
      "272:\tlearn: 0.2824046\ttotal: 20.3s\tremaining: 54s\n",
      "273:\tlearn: 0.2822530\ttotal: 20.4s\tremaining: 53.9s\n",
      "274:\tlearn: 0.2820748\ttotal: 20.4s\tremaining: 53.9s\n",
      "275:\tlearn: 0.2818049\ttotal: 20.5s\tremaining: 53.8s\n",
      "276:\tlearn: 0.2816374\ttotal: 20.6s\tremaining: 53.8s\n",
      "277:\tlearn: 0.2813158\ttotal: 20.7s\tremaining: 53.7s\n",
      "278:\tlearn: 0.2810893\ttotal: 20.8s\tremaining: 53.7s\n",
      "279:\tlearn: 0.2809622\ttotal: 20.9s\tremaining: 53.7s\n",
      "280:\tlearn: 0.2807932\ttotal: 21s\tremaining: 53.6s\n",
      "281:\tlearn: 0.2806362\ttotal: 21.1s\tremaining: 53.6s\n",
      "282:\tlearn: 0.2804881\ttotal: 21.1s\tremaining: 53.6s\n",
      "283:\tlearn: 0.2802708\ttotal: 21.2s\tremaining: 53.5s\n",
      "284:\tlearn: 0.2800050\ttotal: 21.3s\tremaining: 53.5s\n",
      "285:\tlearn: 0.2798221\ttotal: 21.4s\tremaining: 53.5s\n",
      "286:\tlearn: 0.2795842\ttotal: 21.5s\tremaining: 53.4s\n",
      "287:\tlearn: 0.2793836\ttotal: 21.6s\tremaining: 53.4s\n",
      "288:\tlearn: 0.2791851\ttotal: 21.7s\tremaining: 53.3s\n",
      "289:\tlearn: 0.2790979\ttotal: 21.8s\tremaining: 53.3s\n",
      "290:\tlearn: 0.2788807\ttotal: 21.8s\tremaining: 53.2s\n",
      "291:\tlearn: 0.2785942\ttotal: 21.9s\tremaining: 53.2s\n",
      "292:\tlearn: 0.2784881\ttotal: 22s\tremaining: 53.1s\n",
      "293:\tlearn: 0.2782440\ttotal: 22.1s\tremaining: 53s\n",
      "294:\tlearn: 0.2779945\ttotal: 22.2s\tremaining: 53s\n",
      "295:\tlearn: 0.2778090\ttotal: 22.3s\tremaining: 52.9s\n",
      "296:\tlearn: 0.2774076\ttotal: 22.3s\tremaining: 52.9s\n",
      "297:\tlearn: 0.2771792\ttotal: 22.4s\tremaining: 52.8s\n",
      "298:\tlearn: 0.2770452\ttotal: 22.5s\tremaining: 52.8s\n",
      "299:\tlearn: 0.2768884\ttotal: 22.6s\tremaining: 52.7s\n",
      "300:\tlearn: 0.2766287\ttotal: 22.7s\tremaining: 52.6s\n",
      "301:\tlearn: 0.2763898\ttotal: 22.8s\tremaining: 52.6s\n",
      "302:\tlearn: 0.2762203\ttotal: 22.8s\tremaining: 52.5s\n",
      "303:\tlearn: 0.2761327\ttotal: 22.9s\tremaining: 52.5s\n",
      "304:\tlearn: 0.2759205\ttotal: 23s\tremaining: 52.4s\n",
      "305:\tlearn: 0.2757454\ttotal: 23.1s\tremaining: 52.3s\n",
      "306:\tlearn: 0.2753831\ttotal: 23.2s\tremaining: 52.3s\n",
      "307:\tlearn: 0.2751458\ttotal: 23.3s\tremaining: 52.2s\n",
      "308:\tlearn: 0.2749279\ttotal: 23.3s\tremaining: 52.2s\n",
      "309:\tlearn: 0.2747285\ttotal: 23.4s\tremaining: 52.1s\n",
      "310:\tlearn: 0.2745547\ttotal: 23.5s\tremaining: 52s\n",
      "311:\tlearn: 0.2742770\ttotal: 23.6s\tremaining: 51.9s\n",
      "312:\tlearn: 0.2740142\ttotal: 23.6s\tremaining: 51.9s\n",
      "313:\tlearn: 0.2737789\ttotal: 23.7s\tremaining: 51.8s\n",
      "314:\tlearn: 0.2736236\ttotal: 23.8s\tremaining: 51.7s\n",
      "315:\tlearn: 0.2734467\ttotal: 23.8s\tremaining: 51.6s\n",
      "316:\tlearn: 0.2732036\ttotal: 23.9s\tremaining: 51.5s\n",
      "317:\tlearn: 0.2729953\ttotal: 24s\tremaining: 51.4s\n",
      "318:\tlearn: 0.2727880\ttotal: 24.1s\tremaining: 51.4s\n",
      "319:\tlearn: 0.2725866\ttotal: 24.1s\tremaining: 51.3s\n",
      "320:\tlearn: 0.2724236\ttotal: 24.3s\tremaining: 51.3s\n",
      "321:\tlearn: 0.2721884\ttotal: 24.3s\tremaining: 51.3s\n",
      "322:\tlearn: 0.2719190\ttotal: 24.4s\tremaining: 51.2s\n",
      "323:\tlearn: 0.2717389\ttotal: 24.5s\tremaining: 51.1s\n",
      "324:\tlearn: 0.2716023\ttotal: 24.6s\tremaining: 51s\n",
      "325:\tlearn: 0.2715068\ttotal: 24.7s\tremaining: 51s\n",
      "326:\tlearn: 0.2713585\ttotal: 24.7s\tremaining: 50.9s\n",
      "327:\tlearn: 0.2712281\ttotal: 24.8s\tremaining: 50.8s\n",
      "328:\tlearn: 0.2711172\ttotal: 24.9s\tremaining: 50.8s\n",
      "329:\tlearn: 0.2709769\ttotal: 25s\tremaining: 50.7s\n",
      "330:\tlearn: 0.2707888\ttotal: 25s\tremaining: 50.6s\n",
      "331:\tlearn: 0.2705225\ttotal: 25.1s\tremaining: 50.5s\n",
      "332:\tlearn: 0.2702633\ttotal: 25.2s\tremaining: 50.4s\n",
      "333:\tlearn: 0.2700417\ttotal: 25.2s\tremaining: 50.3s\n",
      "334:\tlearn: 0.2698658\ttotal: 25.3s\tremaining: 50.2s\n",
      "335:\tlearn: 0.2696851\ttotal: 25.4s\tremaining: 50.1s\n",
      "336:\tlearn: 0.2695297\ttotal: 25.4s\tremaining: 50.1s\n",
      "337:\tlearn: 0.2693051\ttotal: 25.5s\tremaining: 50s\n",
      "338:\tlearn: 0.2691833\ttotal: 25.6s\tremaining: 49.9s\n",
      "339:\tlearn: 0.2690564\ttotal: 25.7s\tremaining: 49.8s\n",
      "340:\tlearn: 0.2688474\ttotal: 25.7s\tremaining: 49.8s\n",
      "341:\tlearn: 0.2686349\ttotal: 25.8s\tremaining: 49.7s\n",
      "342:\tlearn: 0.2683557\ttotal: 25.9s\tremaining: 49.6s\n",
      "343:\tlearn: 0.2681042\ttotal: 26s\tremaining: 49.5s\n",
      "344:\tlearn: 0.2678717\ttotal: 26s\tremaining: 49.4s\n",
      "345:\tlearn: 0.2677037\ttotal: 26.1s\tremaining: 49.3s\n",
      "346:\tlearn: 0.2674781\ttotal: 26.2s\tremaining: 49.3s\n",
      "347:\tlearn: 0.2672441\ttotal: 26.3s\tremaining: 49.2s\n",
      "348:\tlearn: 0.2670446\ttotal: 26.3s\tremaining: 49.1s\n",
      "349:\tlearn: 0.2668157\ttotal: 26.4s\tremaining: 49s\n",
      "350:\tlearn: 0.2666853\ttotal: 26.5s\tremaining: 49s\n",
      "351:\tlearn: 0.2665528\ttotal: 26.5s\tremaining: 48.9s\n",
      "352:\tlearn: 0.2663730\ttotal: 26.6s\tremaining: 48.8s\n",
      "353:\tlearn: 0.2662225\ttotal: 26.7s\tremaining: 48.7s\n",
      "354:\tlearn: 0.2660724\ttotal: 26.7s\tremaining: 48.6s\n",
      "355:\tlearn: 0.2659263\ttotal: 26.8s\tremaining: 48.5s\n",
      "356:\tlearn: 0.2656444\ttotal: 26.9s\tremaining: 48.4s\n",
      "357:\tlearn: 0.2653441\ttotal: 26.9s\tremaining: 48.3s\n",
      "358:\tlearn: 0.2652009\ttotal: 27s\tremaining: 48.2s\n",
      "359:\tlearn: 0.2649627\ttotal: 27s\tremaining: 48.1s\n",
      "360:\tlearn: 0.2647652\ttotal: 27.1s\tremaining: 48s\n",
      "361:\tlearn: 0.2645708\ttotal: 27.2s\tremaining: 47.9s\n",
      "362:\tlearn: 0.2643794\ttotal: 27.2s\tremaining: 47.8s\n",
      "363:\tlearn: 0.2641771\ttotal: 27.3s\tremaining: 47.7s\n",
      "364:\tlearn: 0.2641031\ttotal: 27.3s\tremaining: 47.6s\n",
      "365:\tlearn: 0.2638917\ttotal: 27.4s\tremaining: 47.5s\n",
      "366:\tlearn: 0.2637391\ttotal: 27.5s\tremaining: 47.4s\n",
      "367:\tlearn: 0.2634254\ttotal: 27.5s\tremaining: 47.3s\n",
      "368:\tlearn: 0.2631322\ttotal: 27.6s\tremaining: 47.2s\n",
      "369:\tlearn: 0.2629311\ttotal: 27.7s\tremaining: 47.1s\n",
      "370:\tlearn: 0.2627851\ttotal: 27.7s\tremaining: 47s\n",
      "371:\tlearn: 0.2626389\ttotal: 27.8s\tremaining: 46.9s\n",
      "372:\tlearn: 0.2625095\ttotal: 27.9s\tremaining: 46.8s\n",
      "373:\tlearn: 0.2623450\ttotal: 27.9s\tremaining: 46.7s\n",
      "374:\tlearn: 0.2621719\ttotal: 28s\tremaining: 46.6s\n",
      "375:\tlearn: 0.2619179\ttotal: 28s\tremaining: 46.5s\n",
      "376:\tlearn: 0.2617956\ttotal: 28.1s\tremaining: 46.4s\n",
      "377:\tlearn: 0.2616309\ttotal: 28.2s\tremaining: 46.4s\n",
      "378:\tlearn: 0.2613602\ttotal: 28.3s\tremaining: 46.3s\n",
      "379:\tlearn: 0.2612043\ttotal: 28.3s\tremaining: 46.2s\n",
      "380:\tlearn: 0.2610274\ttotal: 28.4s\tremaining: 46.1s\n",
      "381:\tlearn: 0.2609160\ttotal: 28.5s\tremaining: 46s\n",
      "382:\tlearn: 0.2607268\ttotal: 28.5s\tremaining: 46s\n",
      "383:\tlearn: 0.2604889\ttotal: 28.6s\tremaining: 45.9s\n",
      "384:\tlearn: 0.2602931\ttotal: 28.7s\tremaining: 45.8s\n",
      "385:\tlearn: 0.2600275\ttotal: 28.7s\tremaining: 45.7s\n",
      "386:\tlearn: 0.2599640\ttotal: 28.8s\tremaining: 45.6s\n",
      "387:\tlearn: 0.2598488\ttotal: 28.9s\tremaining: 45.5s\n",
      "388:\tlearn: 0.2597467\ttotal: 28.9s\tremaining: 45.4s\n",
      "389:\tlearn: 0.2595400\ttotal: 29s\tremaining: 45.4s\n",
      "390:\tlearn: 0.2593865\ttotal: 29.1s\tremaining: 45.3s\n",
      "391:\tlearn: 0.2591970\ttotal: 29.1s\tremaining: 45.2s\n",
      "392:\tlearn: 0.2590180\ttotal: 29.2s\tremaining: 45.1s\n",
      "393:\tlearn: 0.2588366\ttotal: 29.3s\tremaining: 45s\n",
      "394:\tlearn: 0.2586993\ttotal: 29.4s\tremaining: 45s\n",
      "395:\tlearn: 0.2585652\ttotal: 29.4s\tremaining: 44.9s\n",
      "396:\tlearn: 0.2584462\ttotal: 29.5s\tremaining: 44.8s\n",
      "397:\tlearn: 0.2582801\ttotal: 29.6s\tremaining: 44.7s\n",
      "398:\tlearn: 0.2581154\ttotal: 29.6s\tremaining: 44.6s\n",
      "399:\tlearn: 0.2578916\ttotal: 29.7s\tremaining: 44.6s\n",
      "400:\tlearn: 0.2576696\ttotal: 29.8s\tremaining: 44.5s\n",
      "401:\tlearn: 0.2574807\ttotal: 29.9s\tremaining: 44.4s\n",
      "402:\tlearn: 0.2573105\ttotal: 29.9s\tremaining: 44.4s\n",
      "403:\tlearn: 0.2571800\ttotal: 30s\tremaining: 44.3s\n",
      "404:\tlearn: 0.2570124\ttotal: 30.1s\tremaining: 44.2s\n",
      "405:\tlearn: 0.2568379\ttotal: 30.2s\tremaining: 44.1s\n",
      "406:\tlearn: 0.2567683\ttotal: 30.2s\tremaining: 44s\n",
      "407:\tlearn: 0.2566432\ttotal: 30.3s\tremaining: 43.9s\n",
      "408:\tlearn: 0.2565096\ttotal: 30.4s\tremaining: 43.9s\n",
      "409:\tlearn: 0.2563628\ttotal: 30.4s\tremaining: 43.8s\n",
      "410:\tlearn: 0.2562585\ttotal: 30.5s\tremaining: 43.7s\n",
      "411:\tlearn: 0.2559855\ttotal: 30.6s\tremaining: 43.6s\n",
      "412:\tlearn: 0.2557611\ttotal: 30.6s\tremaining: 43.6s\n",
      "413:\tlearn: 0.2555201\ttotal: 30.7s\tremaining: 43.5s\n",
      "414:\tlearn: 0.2553830\ttotal: 30.8s\tremaining: 43.4s\n",
      "415:\tlearn: 0.2551565\ttotal: 30.9s\tremaining: 43.3s\n",
      "416:\tlearn: 0.2549586\ttotal: 30.9s\tremaining: 43.2s\n",
      "417:\tlearn: 0.2548210\ttotal: 31s\tremaining: 43.2s\n",
      "418:\tlearn: 0.2546791\ttotal: 31.1s\tremaining: 43.1s\n",
      "419:\tlearn: 0.2544992\ttotal: 31.2s\tremaining: 43s\n",
      "420:\tlearn: 0.2542815\ttotal: 31.2s\tremaining: 43s\n",
      "421:\tlearn: 0.2541397\ttotal: 31.3s\tremaining: 42.9s\n",
      "422:\tlearn: 0.2539659\ttotal: 31.4s\tremaining: 42.8s\n",
      "423:\tlearn: 0.2537904\ttotal: 31.5s\tremaining: 42.8s\n",
      "424:\tlearn: 0.2535402\ttotal: 31.5s\tremaining: 42.7s\n",
      "425:\tlearn: 0.2533880\ttotal: 31.6s\tremaining: 42.6s\n",
      "426:\tlearn: 0.2532552\ttotal: 31.7s\tremaining: 42.5s\n",
      "427:\tlearn: 0.2530861\ttotal: 31.8s\tremaining: 42.5s\n",
      "428:\tlearn: 0.2529366\ttotal: 31.8s\tremaining: 42.4s\n",
      "429:\tlearn: 0.2527017\ttotal: 31.9s\tremaining: 42.3s\n",
      "430:\tlearn: 0.2525789\ttotal: 32s\tremaining: 42.2s\n",
      "431:\tlearn: 0.2524721\ttotal: 32.1s\tremaining: 42.1s\n",
      "432:\tlearn: 0.2522862\ttotal: 32.1s\tremaining: 42.1s\n",
      "433:\tlearn: 0.2521061\ttotal: 32.2s\tremaining: 42s\n",
      "434:\tlearn: 0.2520033\ttotal: 32.3s\tremaining: 41.9s\n",
      "435:\tlearn: 0.2518309\ttotal: 32.3s\tremaining: 41.8s\n",
      "436:\tlearn: 0.2516735\ttotal: 32.4s\tremaining: 41.8s\n",
      "437:\tlearn: 0.2515230\ttotal: 32.5s\tremaining: 41.7s\n",
      "438:\tlearn: 0.2513688\ttotal: 32.6s\tremaining: 41.6s\n",
      "439:\tlearn: 0.2511945\ttotal: 32.6s\tremaining: 41.5s\n",
      "440:\tlearn: 0.2510026\ttotal: 32.7s\tremaining: 41.5s\n",
      "441:\tlearn: 0.2508694\ttotal: 32.8s\tremaining: 41.4s\n",
      "442:\tlearn: 0.2507776\ttotal: 32.9s\tremaining: 41.3s\n",
      "443:\tlearn: 0.2506604\ttotal: 32.9s\tremaining: 41.2s\n",
      "444:\tlearn: 0.2505226\ttotal: 33s\tremaining: 41.2s\n",
      "445:\tlearn: 0.2503855\ttotal: 33.1s\tremaining: 41.1s\n",
      "446:\tlearn: 0.2502029\ttotal: 33.1s\tremaining: 41s\n",
      "447:\tlearn: 0.2500904\ttotal: 33.2s\tremaining: 40.9s\n",
      "448:\tlearn: 0.2499655\ttotal: 33.3s\tremaining: 40.8s\n",
      "449:\tlearn: 0.2498339\ttotal: 33.4s\tremaining: 40.8s\n",
      "450:\tlearn: 0.2497026\ttotal: 33.4s\tremaining: 40.7s\n",
      "451:\tlearn: 0.2494688\ttotal: 33.5s\tremaining: 40.6s\n",
      "452:\tlearn: 0.2493224\ttotal: 33.6s\tremaining: 40.5s\n",
      "453:\tlearn: 0.2491251\ttotal: 33.6s\tremaining: 40.5s\n",
      "454:\tlearn: 0.2489532\ttotal: 33.7s\tremaining: 40.4s\n",
      "455:\tlearn: 0.2487910\ttotal: 33.8s\tremaining: 40.3s\n",
      "456:\tlearn: 0.2486182\ttotal: 33.9s\tremaining: 40.2s\n",
      "457:\tlearn: 0.2483775\ttotal: 33.9s\tremaining: 40.2s\n",
      "458:\tlearn: 0.2482832\ttotal: 34s\tremaining: 40.1s\n",
      "459:\tlearn: 0.2481164\ttotal: 34.1s\tremaining: 40s\n",
      "460:\tlearn: 0.2479784\ttotal: 34.1s\tremaining: 39.9s\n",
      "461:\tlearn: 0.2478254\ttotal: 34.2s\tremaining: 39.8s\n",
      "462:\tlearn: 0.2477221\ttotal: 34.3s\tremaining: 39.8s\n",
      "463:\tlearn: 0.2475867\ttotal: 34.4s\tremaining: 39.7s\n",
      "464:\tlearn: 0.2474308\ttotal: 34.4s\tremaining: 39.6s\n",
      "465:\tlearn: 0.2473077\ttotal: 34.5s\tremaining: 39.5s\n",
      "466:\tlearn: 0.2471144\ttotal: 34.6s\tremaining: 39.4s\n",
      "467:\tlearn: 0.2468474\ttotal: 34.6s\tremaining: 39.4s\n",
      "468:\tlearn: 0.2467064\ttotal: 34.7s\tremaining: 39.3s\n",
      "469:\tlearn: 0.2466278\ttotal: 34.8s\tremaining: 39.2s\n",
      "470:\tlearn: 0.2464515\ttotal: 34.8s\tremaining: 39.1s\n",
      "471:\tlearn: 0.2462751\ttotal: 34.9s\tremaining: 39.1s\n",
      "472:\tlearn: 0.2460801\ttotal: 35s\tremaining: 39s\n",
      "473:\tlearn: 0.2459432\ttotal: 35s\tremaining: 38.9s\n",
      "474:\tlearn: 0.2457940\ttotal: 35.1s\tremaining: 38.8s\n",
      "475:\tlearn: 0.2455814\ttotal: 35.2s\tremaining: 38.7s\n",
      "476:\tlearn: 0.2454508\ttotal: 35.3s\tremaining: 38.7s\n",
      "477:\tlearn: 0.2453504\ttotal: 35.3s\tremaining: 38.6s\n",
      "478:\tlearn: 0.2451478\ttotal: 35.4s\tremaining: 38.5s\n",
      "479:\tlearn: 0.2449876\ttotal: 35.5s\tremaining: 38.4s\n",
      "480:\tlearn: 0.2448543\ttotal: 35.5s\tremaining: 38.3s\n",
      "481:\tlearn: 0.2447663\ttotal: 35.6s\tremaining: 38.3s\n",
      "482:\tlearn: 0.2445515\ttotal: 35.7s\tremaining: 38.2s\n",
      "483:\tlearn: 0.2443724\ttotal: 35.7s\tremaining: 38.1s\n",
      "484:\tlearn: 0.2441703\ttotal: 35.8s\tremaining: 38s\n",
      "485:\tlearn: 0.2439900\ttotal: 35.9s\tremaining: 38s\n",
      "486:\tlearn: 0.2438726\ttotal: 36s\tremaining: 37.9s\n",
      "487:\tlearn: 0.2437478\ttotal: 36s\tremaining: 37.8s\n",
      "488:\tlearn: 0.2435950\ttotal: 36.1s\tremaining: 37.7s\n",
      "489:\tlearn: 0.2434648\ttotal: 36.2s\tremaining: 37.6s\n",
      "490:\tlearn: 0.2433686\ttotal: 36.2s\tremaining: 37.6s\n",
      "491:\tlearn: 0.2432889\ttotal: 36.3s\tremaining: 37.5s\n",
      "492:\tlearn: 0.2430855\ttotal: 36.4s\tremaining: 37.4s\n",
      "493:\tlearn: 0.2429581\ttotal: 36.5s\tremaining: 37.3s\n",
      "494:\tlearn: 0.2427354\ttotal: 36.5s\tremaining: 37.3s\n",
      "495:\tlearn: 0.2426330\ttotal: 36.6s\tremaining: 37.2s\n",
      "496:\tlearn: 0.2424997\ttotal: 36.7s\tremaining: 37.1s\n",
      "497:\tlearn: 0.2423226\ttotal: 36.7s\tremaining: 37s\n",
      "498:\tlearn: 0.2421657\ttotal: 36.8s\tremaining: 37s\n",
      "499:\tlearn: 0.2419801\ttotal: 36.9s\tremaining: 36.9s\n",
      "500:\tlearn: 0.2417210\ttotal: 37s\tremaining: 36.8s\n",
      "501:\tlearn: 0.2416214\ttotal: 37.1s\tremaining: 36.8s\n",
      "502:\tlearn: 0.2415287\ttotal: 37.1s\tremaining: 36.7s\n",
      "503:\tlearn: 0.2413743\ttotal: 37.2s\tremaining: 36.6s\n",
      "504:\tlearn: 0.2412420\ttotal: 37.3s\tremaining: 36.5s\n",
      "505:\tlearn: 0.2410971\ttotal: 37.4s\tremaining: 36.5s\n",
      "506:\tlearn: 0.2409632\ttotal: 37.5s\tremaining: 36.4s\n",
      "507:\tlearn: 0.2407836\ttotal: 37.6s\tremaining: 36.4s\n",
      "508:\tlearn: 0.2406637\ttotal: 37.6s\tremaining: 36.3s\n",
      "509:\tlearn: 0.2404778\ttotal: 37.7s\tremaining: 36.2s\n",
      "510:\tlearn: 0.2404107\ttotal: 37.8s\tremaining: 36.1s\n",
      "511:\tlearn: 0.2402748\ttotal: 37.8s\tremaining: 36.1s\n",
      "512:\tlearn: 0.2400935\ttotal: 37.9s\tremaining: 36s\n",
      "513:\tlearn: 0.2399205\ttotal: 38s\tremaining: 35.9s\n",
      "514:\tlearn: 0.2397783\ttotal: 38.1s\tremaining: 35.9s\n",
      "515:\tlearn: 0.2395652\ttotal: 38.2s\tremaining: 35.8s\n",
      "516:\tlearn: 0.2394894\ttotal: 38.2s\tremaining: 35.7s\n",
      "517:\tlearn: 0.2393845\ttotal: 38.3s\tremaining: 35.7s\n",
      "518:\tlearn: 0.2392899\ttotal: 38.4s\tremaining: 35.6s\n",
      "519:\tlearn: 0.2391759\ttotal: 38.5s\tremaining: 35.5s\n",
      "520:\tlearn: 0.2390705\ttotal: 38.6s\tremaining: 35.5s\n",
      "521:\tlearn: 0.2388639\ttotal: 38.7s\tremaining: 35.4s\n",
      "522:\tlearn: 0.2387411\ttotal: 38.7s\tremaining: 35.3s\n",
      "523:\tlearn: 0.2386166\ttotal: 38.8s\tremaining: 35.3s\n",
      "524:\tlearn: 0.2384556\ttotal: 38.9s\tremaining: 35.2s\n",
      "525:\tlearn: 0.2382993\ttotal: 39s\tremaining: 35.1s\n",
      "526:\tlearn: 0.2381792\ttotal: 39.1s\tremaining: 35.1s\n",
      "527:\tlearn: 0.2379587\ttotal: 39.2s\tremaining: 35s\n",
      "528:\tlearn: 0.2377749\ttotal: 39.2s\tremaining: 34.9s\n",
      "529:\tlearn: 0.2375653\ttotal: 39.3s\tremaining: 34.9s\n",
      "530:\tlearn: 0.2374181\ttotal: 39.4s\tremaining: 34.8s\n",
      "531:\tlearn: 0.2372029\ttotal: 39.5s\tremaining: 34.7s\n",
      "532:\tlearn: 0.2370449\ttotal: 39.6s\tremaining: 34.7s\n",
      "533:\tlearn: 0.2369389\ttotal: 39.6s\tremaining: 34.6s\n",
      "534:\tlearn: 0.2367682\ttotal: 39.7s\tremaining: 34.5s\n",
      "535:\tlearn: 0.2366306\ttotal: 39.8s\tremaining: 34.4s\n",
      "536:\tlearn: 0.2364714\ttotal: 39.9s\tremaining: 34.4s\n",
      "537:\tlearn: 0.2363516\ttotal: 39.9s\tremaining: 34.3s\n",
      "538:\tlearn: 0.2362109\ttotal: 40s\tremaining: 34.2s\n",
      "539:\tlearn: 0.2360588\ttotal: 40.1s\tremaining: 34.2s\n",
      "540:\tlearn: 0.2359148\ttotal: 40.2s\tremaining: 34.1s\n",
      "541:\tlearn: 0.2358320\ttotal: 40.3s\tremaining: 34s\n",
      "542:\tlearn: 0.2356730\ttotal: 40.3s\tremaining: 34s\n",
      "543:\tlearn: 0.2354838\ttotal: 40.4s\tremaining: 33.9s\n",
      "544:\tlearn: 0.2353803\ttotal: 40.5s\tremaining: 33.8s\n",
      "545:\tlearn: 0.2351507\ttotal: 40.6s\tremaining: 33.8s\n",
      "546:\tlearn: 0.2350229\ttotal: 40.7s\tremaining: 33.7s\n",
      "547:\tlearn: 0.2348902\ttotal: 40.8s\tremaining: 33.6s\n",
      "548:\tlearn: 0.2346519\ttotal: 40.8s\tremaining: 33.6s\n",
      "549:\tlearn: 0.2344077\ttotal: 40.9s\tremaining: 33.5s\n",
      "550:\tlearn: 0.2342573\ttotal: 41s\tremaining: 33.4s\n",
      "551:\tlearn: 0.2341080\ttotal: 41.1s\tremaining: 33.3s\n",
      "552:\tlearn: 0.2339182\ttotal: 41.2s\tremaining: 33.3s\n",
      "553:\tlearn: 0.2337642\ttotal: 41.2s\tremaining: 33.2s\n",
      "554:\tlearn: 0.2336153\ttotal: 41.3s\tremaining: 33.1s\n",
      "555:\tlearn: 0.2334971\ttotal: 41.4s\tremaining: 33.1s\n",
      "556:\tlearn: 0.2333579\ttotal: 41.5s\tremaining: 33s\n",
      "557:\tlearn: 0.2331870\ttotal: 41.6s\tremaining: 32.9s\n",
      "558:\tlearn: 0.2329385\ttotal: 41.7s\tremaining: 32.9s\n",
      "559:\tlearn: 0.2328619\ttotal: 41.7s\tremaining: 32.8s\n",
      "560:\tlearn: 0.2327484\ttotal: 41.8s\tremaining: 32.7s\n",
      "561:\tlearn: 0.2326491\ttotal: 41.9s\tremaining: 32.7s\n",
      "562:\tlearn: 0.2325526\ttotal: 42s\tremaining: 32.6s\n",
      "563:\tlearn: 0.2323739\ttotal: 42.1s\tremaining: 32.5s\n",
      "564:\tlearn: 0.2322200\ttotal: 42.1s\tremaining: 32.4s\n",
      "565:\tlearn: 0.2320892\ttotal: 42.2s\tremaining: 32.4s\n",
      "566:\tlearn: 0.2320067\ttotal: 42.3s\tremaining: 32.3s\n",
      "567:\tlearn: 0.2318909\ttotal: 42.4s\tremaining: 32.2s\n",
      "568:\tlearn: 0.2317158\ttotal: 42.4s\tremaining: 32.2s\n",
      "569:\tlearn: 0.2315774\ttotal: 42.5s\tremaining: 32.1s\n",
      "570:\tlearn: 0.2314705\ttotal: 42.6s\tremaining: 32s\n",
      "571:\tlearn: 0.2313424\ttotal: 42.7s\tremaining: 32s\n",
      "572:\tlearn: 0.2311983\ttotal: 42.8s\tremaining: 31.9s\n",
      "573:\tlearn: 0.2310704\ttotal: 42.9s\tremaining: 31.8s\n",
      "574:\tlearn: 0.2308819\ttotal: 42.9s\tremaining: 31.7s\n",
      "575:\tlearn: 0.2307109\ttotal: 43s\tremaining: 31.7s\n",
      "576:\tlearn: 0.2305657\ttotal: 43.1s\tremaining: 31.6s\n",
      "577:\tlearn: 0.2304507\ttotal: 43.2s\tremaining: 31.5s\n",
      "578:\tlearn: 0.2303175\ttotal: 43.3s\tremaining: 31.5s\n",
      "579:\tlearn: 0.2302166\ttotal: 43.4s\tremaining: 31.4s\n",
      "580:\tlearn: 0.2301016\ttotal: 43.4s\tremaining: 31.3s\n",
      "581:\tlearn: 0.2299721\ttotal: 43.5s\tremaining: 31.3s\n",
      "582:\tlearn: 0.2298440\ttotal: 43.6s\tremaining: 31.2s\n",
      "583:\tlearn: 0.2297329\ttotal: 43.7s\tremaining: 31.1s\n",
      "584:\tlearn: 0.2295348\ttotal: 43.8s\tremaining: 31s\n",
      "585:\tlearn: 0.2294231\ttotal: 43.8s\tremaining: 31s\n",
      "586:\tlearn: 0.2293055\ttotal: 43.9s\tremaining: 30.9s\n",
      "587:\tlearn: 0.2290975\ttotal: 44s\tremaining: 30.8s\n",
      "588:\tlearn: 0.2290243\ttotal: 44.1s\tremaining: 30.8s\n",
      "589:\tlearn: 0.2288773\ttotal: 44.2s\tremaining: 30.7s\n",
      "590:\tlearn: 0.2287685\ttotal: 44.2s\tremaining: 30.6s\n",
      "591:\tlearn: 0.2286082\ttotal: 44.3s\tremaining: 30.5s\n",
      "592:\tlearn: 0.2285174\ttotal: 44.4s\tremaining: 30.5s\n",
      "593:\tlearn: 0.2283620\ttotal: 44.5s\tremaining: 30.4s\n",
      "594:\tlearn: 0.2282622\ttotal: 44.5s\tremaining: 30.3s\n",
      "595:\tlearn: 0.2281045\ttotal: 44.6s\tremaining: 30.2s\n",
      "596:\tlearn: 0.2279646\ttotal: 44.7s\tremaining: 30.2s\n",
      "597:\tlearn: 0.2278353\ttotal: 44.8s\tremaining: 30.1s\n",
      "598:\tlearn: 0.2277117\ttotal: 44.9s\tremaining: 30s\n",
      "599:\tlearn: 0.2276449\ttotal: 44.9s\tremaining: 30s\n",
      "600:\tlearn: 0.2274833\ttotal: 45s\tremaining: 29.9s\n",
      "601:\tlearn: 0.2273371\ttotal: 45.1s\tremaining: 29.8s\n",
      "602:\tlearn: 0.2272074\ttotal: 45.2s\tremaining: 29.7s\n",
      "603:\tlearn: 0.2271125\ttotal: 45.2s\tremaining: 29.7s\n",
      "604:\tlearn: 0.2269843\ttotal: 45.3s\tremaining: 29.6s\n",
      "605:\tlearn: 0.2268704\ttotal: 45.4s\tremaining: 29.5s\n",
      "606:\tlearn: 0.2267001\ttotal: 45.5s\tremaining: 29.4s\n",
      "607:\tlearn: 0.2265955\ttotal: 45.6s\tremaining: 29.4s\n",
      "608:\tlearn: 0.2264715\ttotal: 45.6s\tremaining: 29.3s\n",
      "609:\tlearn: 0.2263648\ttotal: 45.7s\tremaining: 29.2s\n",
      "610:\tlearn: 0.2262295\ttotal: 45.8s\tremaining: 29.2s\n",
      "611:\tlearn: 0.2261304\ttotal: 45.9s\tremaining: 29.1s\n",
      "612:\tlearn: 0.2260693\ttotal: 46s\tremaining: 29s\n",
      "613:\tlearn: 0.2259685\ttotal: 46s\tremaining: 28.9s\n",
      "614:\tlearn: 0.2258200\ttotal: 46.1s\tremaining: 28.9s\n",
      "615:\tlearn: 0.2256962\ttotal: 46.2s\tremaining: 28.8s\n",
      "616:\tlearn: 0.2255999\ttotal: 46.3s\tremaining: 28.7s\n",
      "617:\tlearn: 0.2254763\ttotal: 46.3s\tremaining: 28.6s\n",
      "618:\tlearn: 0.2253117\ttotal: 46.4s\tremaining: 28.6s\n",
      "619:\tlearn: 0.2251964\ttotal: 46.5s\tremaining: 28.5s\n",
      "620:\tlearn: 0.2249964\ttotal: 46.6s\tremaining: 28.4s\n",
      "621:\tlearn: 0.2249034\ttotal: 46.7s\tremaining: 28.4s\n",
      "622:\tlearn: 0.2248342\ttotal: 46.7s\tremaining: 28.3s\n",
      "623:\tlearn: 0.2246918\ttotal: 46.8s\tremaining: 28.2s\n",
      "624:\tlearn: 0.2245527\ttotal: 46.9s\tremaining: 28.1s\n",
      "625:\tlearn: 0.2244712\ttotal: 47s\tremaining: 28.1s\n",
      "626:\tlearn: 0.2243776\ttotal: 47.1s\tremaining: 28s\n",
      "627:\tlearn: 0.2242428\ttotal: 47.1s\tremaining: 27.9s\n",
      "628:\tlearn: 0.2241370\ttotal: 47.2s\tremaining: 27.8s\n",
      "629:\tlearn: 0.2240129\ttotal: 47.3s\tremaining: 27.8s\n",
      "630:\tlearn: 0.2238887\ttotal: 47.4s\tremaining: 27.7s\n",
      "631:\tlearn: 0.2237505\ttotal: 47.4s\tremaining: 27.6s\n",
      "632:\tlearn: 0.2236173\ttotal: 47.5s\tremaining: 27.5s\n",
      "633:\tlearn: 0.2234462\ttotal: 47.6s\tremaining: 27.5s\n",
      "634:\tlearn: 0.2233527\ttotal: 47.6s\tremaining: 27.4s\n",
      "635:\tlearn: 0.2231936\ttotal: 47.7s\tremaining: 27.3s\n",
      "636:\tlearn: 0.2230661\ttotal: 47.8s\tremaining: 27.2s\n",
      "637:\tlearn: 0.2229880\ttotal: 47.9s\tremaining: 27.2s\n",
      "638:\tlearn: 0.2228536\ttotal: 47.9s\tremaining: 27.1s\n",
      "639:\tlearn: 0.2227544\ttotal: 48s\tremaining: 27s\n",
      "640:\tlearn: 0.2226391\ttotal: 48.1s\tremaining: 26.9s\n",
      "641:\tlearn: 0.2225118\ttotal: 48.1s\tremaining: 26.8s\n",
      "642:\tlearn: 0.2223685\ttotal: 48.2s\tremaining: 26.8s\n",
      "643:\tlearn: 0.2222705\ttotal: 48.3s\tremaining: 26.7s\n",
      "644:\tlearn: 0.2221964\ttotal: 48.4s\tremaining: 26.6s\n",
      "645:\tlearn: 0.2220516\ttotal: 48.4s\tremaining: 26.5s\n",
      "646:\tlearn: 0.2219213\ttotal: 48.5s\tremaining: 26.4s\n",
      "647:\tlearn: 0.2218228\ttotal: 48.5s\tremaining: 26.4s\n",
      "648:\tlearn: 0.2216578\ttotal: 48.6s\tremaining: 26.3s\n",
      "649:\tlearn: 0.2215957\ttotal: 48.7s\tremaining: 26.2s\n",
      "650:\tlearn: 0.2214892\ttotal: 48.7s\tremaining: 26.1s\n",
      "651:\tlearn: 0.2213438\ttotal: 48.8s\tremaining: 26s\n",
      "652:\tlearn: 0.2211675\ttotal: 48.8s\tremaining: 25.9s\n",
      "653:\tlearn: 0.2210110\ttotal: 48.9s\tremaining: 25.9s\n",
      "654:\tlearn: 0.2209068\ttotal: 49s\tremaining: 25.8s\n",
      "655:\tlearn: 0.2208465\ttotal: 49s\tremaining: 25.7s\n",
      "656:\tlearn: 0.2207641\ttotal: 49.1s\tremaining: 25.6s\n",
      "657:\tlearn: 0.2207107\ttotal: 49.1s\tremaining: 25.5s\n",
      "658:\tlearn: 0.2205031\ttotal: 49.2s\tremaining: 25.5s\n",
      "659:\tlearn: 0.2203782\ttotal: 49.3s\tremaining: 25.4s\n",
      "660:\tlearn: 0.2202401\ttotal: 49.3s\tremaining: 25.3s\n",
      "661:\tlearn: 0.2201298\ttotal: 49.4s\tremaining: 25.2s\n",
      "662:\tlearn: 0.2200599\ttotal: 49.4s\tremaining: 25.1s\n",
      "663:\tlearn: 0.2199318\ttotal: 49.5s\tremaining: 25s\n",
      "664:\tlearn: 0.2198119\ttotal: 49.6s\tremaining: 25s\n",
      "665:\tlearn: 0.2197316\ttotal: 49.6s\tremaining: 24.9s\n",
      "666:\tlearn: 0.2195937\ttotal: 49.7s\tremaining: 24.8s\n",
      "667:\tlearn: 0.2194451\ttotal: 49.8s\tremaining: 24.7s\n",
      "668:\tlearn: 0.2192754\ttotal: 49.8s\tremaining: 24.6s\n",
      "669:\tlearn: 0.2191311\ttotal: 49.9s\tremaining: 24.6s\n",
      "670:\tlearn: 0.2190300\ttotal: 49.9s\tremaining: 24.5s\n",
      "671:\tlearn: 0.2189334\ttotal: 50s\tremaining: 24.4s\n",
      "672:\tlearn: 0.2187670\ttotal: 50.1s\tremaining: 24.3s\n",
      "673:\tlearn: 0.2186553\ttotal: 50.1s\tremaining: 24.2s\n",
      "674:\tlearn: 0.2185639\ttotal: 50.2s\tremaining: 24.2s\n",
      "675:\tlearn: 0.2184591\ttotal: 50.3s\tremaining: 24.1s\n",
      "676:\tlearn: 0.2183460\ttotal: 50.3s\tremaining: 24s\n",
      "677:\tlearn: 0.2182477\ttotal: 50.4s\tremaining: 23.9s\n",
      "678:\tlearn: 0.2181212\ttotal: 50.4s\tremaining: 23.8s\n",
      "679:\tlearn: 0.2180361\ttotal: 50.5s\tremaining: 23.8s\n",
      "680:\tlearn: 0.2179292\ttotal: 50.6s\tremaining: 23.7s\n",
      "681:\tlearn: 0.2177943\ttotal: 50.6s\tremaining: 23.6s\n",
      "682:\tlearn: 0.2176591\ttotal: 50.7s\tremaining: 23.5s\n",
      "683:\tlearn: 0.2175939\ttotal: 50.7s\tremaining: 23.4s\n",
      "684:\tlearn: 0.2173946\ttotal: 50.8s\tremaining: 23.4s\n",
      "685:\tlearn: 0.2173245\ttotal: 50.9s\tremaining: 23.3s\n",
      "686:\tlearn: 0.2172531\ttotal: 50.9s\tremaining: 23.2s\n",
      "687:\tlearn: 0.2171200\ttotal: 51s\tremaining: 23.1s\n",
      "688:\tlearn: 0.2169546\ttotal: 51s\tremaining: 23s\n",
      "689:\tlearn: 0.2168526\ttotal: 51.1s\tremaining: 23s\n",
      "690:\tlearn: 0.2166917\ttotal: 51.2s\tremaining: 22.9s\n",
      "691:\tlearn: 0.2165850\ttotal: 51.2s\tremaining: 22.8s\n",
      "692:\tlearn: 0.2164092\ttotal: 51.3s\tremaining: 22.7s\n",
      "693:\tlearn: 0.2162613\ttotal: 51.4s\tremaining: 22.6s\n",
      "694:\tlearn: 0.2161585\ttotal: 51.4s\tremaining: 22.6s\n",
      "695:\tlearn: 0.2160716\ttotal: 51.5s\tremaining: 22.5s\n",
      "696:\tlearn: 0.2159928\ttotal: 51.5s\tremaining: 22.4s\n",
      "697:\tlearn: 0.2158712\ttotal: 51.6s\tremaining: 22.3s\n",
      "698:\tlearn: 0.2158006\ttotal: 51.7s\tremaining: 22.3s\n",
      "699:\tlearn: 0.2157172\ttotal: 51.7s\tremaining: 22.2s\n",
      "700:\tlearn: 0.2155606\ttotal: 51.8s\tremaining: 22.1s\n",
      "701:\tlearn: 0.2154417\ttotal: 51.9s\tremaining: 22s\n",
      "702:\tlearn: 0.2153762\ttotal: 51.9s\tremaining: 21.9s\n",
      "703:\tlearn: 0.2152579\ttotal: 52s\tremaining: 21.9s\n",
      "704:\tlearn: 0.2150963\ttotal: 52.1s\tremaining: 21.8s\n",
      "705:\tlearn: 0.2149214\ttotal: 52.1s\tremaining: 21.7s\n",
      "706:\tlearn: 0.2147803\ttotal: 52.2s\tremaining: 21.6s\n",
      "707:\tlearn: 0.2145792\ttotal: 52.3s\tremaining: 21.6s\n",
      "708:\tlearn: 0.2145108\ttotal: 52.3s\tremaining: 21.5s\n",
      "709:\tlearn: 0.2143852\ttotal: 52.4s\tremaining: 21.4s\n",
      "710:\tlearn: 0.2142759\ttotal: 52.4s\tremaining: 21.3s\n",
      "711:\tlearn: 0.2141847\ttotal: 52.6s\tremaining: 21.3s\n",
      "712:\tlearn: 0.2140475\ttotal: 52.6s\tremaining: 21.2s\n",
      "713:\tlearn: 0.2139151\ttotal: 52.7s\tremaining: 21.1s\n",
      "714:\tlearn: 0.2137775\ttotal: 52.8s\tremaining: 21s\n",
      "715:\tlearn: 0.2136842\ttotal: 52.8s\tremaining: 21s\n",
      "716:\tlearn: 0.2135467\ttotal: 52.9s\tremaining: 20.9s\n",
      "717:\tlearn: 0.2134429\ttotal: 52.9s\tremaining: 20.8s\n",
      "718:\tlearn: 0.2133089\ttotal: 53s\tremaining: 20.7s\n",
      "719:\tlearn: 0.2131532\ttotal: 53.1s\tremaining: 20.6s\n",
      "720:\tlearn: 0.2130750\ttotal: 53.1s\tremaining: 20.6s\n",
      "721:\tlearn: 0.2129872\ttotal: 53.2s\tremaining: 20.5s\n",
      "722:\tlearn: 0.2128032\ttotal: 53.3s\tremaining: 20.4s\n",
      "723:\tlearn: 0.2127043\ttotal: 53.3s\tremaining: 20.3s\n",
      "724:\tlearn: 0.2125701\ttotal: 53.4s\tremaining: 20.3s\n",
      "725:\tlearn: 0.2124463\ttotal: 53.5s\tremaining: 20.2s\n",
      "726:\tlearn: 0.2123426\ttotal: 53.5s\tremaining: 20.1s\n",
      "727:\tlearn: 0.2122085\ttotal: 53.6s\tremaining: 20s\n",
      "728:\tlearn: 0.2121065\ttotal: 53.7s\tremaining: 20s\n",
      "729:\tlearn: 0.2119920\ttotal: 53.8s\tremaining: 19.9s\n",
      "730:\tlearn: 0.2118324\ttotal: 53.8s\tremaining: 19.8s\n",
      "731:\tlearn: 0.2117261\ttotal: 53.9s\tremaining: 19.7s\n",
      "732:\tlearn: 0.2115857\ttotal: 54s\tremaining: 19.7s\n",
      "733:\tlearn: 0.2114812\ttotal: 54s\tremaining: 19.6s\n",
      "734:\tlearn: 0.2113799\ttotal: 54.1s\tremaining: 19.5s\n",
      "735:\tlearn: 0.2112331\ttotal: 54.2s\tremaining: 19.4s\n",
      "736:\tlearn: 0.2111177\ttotal: 54.2s\tremaining: 19.4s\n",
      "737:\tlearn: 0.2110562\ttotal: 54.3s\tremaining: 19.3s\n",
      "738:\tlearn: 0.2109337\ttotal: 54.4s\tremaining: 19.2s\n",
      "739:\tlearn: 0.2108649\ttotal: 54.5s\tremaining: 19.1s\n",
      "740:\tlearn: 0.2108038\ttotal: 54.5s\tremaining: 19.1s\n",
      "741:\tlearn: 0.2107272\ttotal: 54.6s\tremaining: 19s\n",
      "742:\tlearn: 0.2106249\ttotal: 54.7s\tremaining: 18.9s\n",
      "743:\tlearn: 0.2105087\ttotal: 54.7s\tremaining: 18.8s\n",
      "744:\tlearn: 0.2104356\ttotal: 54.8s\tremaining: 18.8s\n",
      "745:\tlearn: 0.2103605\ttotal: 54.9s\tremaining: 18.7s\n",
      "746:\tlearn: 0.2102569\ttotal: 54.9s\tremaining: 18.6s\n",
      "747:\tlearn: 0.2101144\ttotal: 55s\tremaining: 18.5s\n",
      "748:\tlearn: 0.2099692\ttotal: 55.1s\tremaining: 18.5s\n",
      "749:\tlearn: 0.2099018\ttotal: 55.2s\tremaining: 18.4s\n",
      "750:\tlearn: 0.2098145\ttotal: 55.2s\tremaining: 18.3s\n",
      "751:\tlearn: 0.2097175\ttotal: 55.3s\tremaining: 18.2s\n",
      "752:\tlearn: 0.2096512\ttotal: 55.4s\tremaining: 18.2s\n",
      "753:\tlearn: 0.2095524\ttotal: 55.4s\tremaining: 18.1s\n",
      "754:\tlearn: 0.2094077\ttotal: 55.5s\tremaining: 18s\n",
      "755:\tlearn: 0.2092753\ttotal: 55.6s\tremaining: 17.9s\n",
      "756:\tlearn: 0.2091731\ttotal: 55.6s\tremaining: 17.9s\n",
      "757:\tlearn: 0.2090507\ttotal: 55.7s\tremaining: 17.8s\n",
      "758:\tlearn: 0.2089555\ttotal: 55.8s\tremaining: 17.7s\n",
      "759:\tlearn: 0.2088355\ttotal: 55.8s\tremaining: 17.6s\n",
      "760:\tlearn: 0.2086807\ttotal: 55.9s\tremaining: 17.6s\n",
      "761:\tlearn: 0.2085709\ttotal: 56s\tremaining: 17.5s\n",
      "762:\tlearn: 0.2085160\ttotal: 56.1s\tremaining: 17.4s\n",
      "763:\tlearn: 0.2084100\ttotal: 56.1s\tremaining: 17.3s\n",
      "764:\tlearn: 0.2082895\ttotal: 56.2s\tremaining: 17.3s\n",
      "765:\tlearn: 0.2081440\ttotal: 56.3s\tremaining: 17.2s\n",
      "766:\tlearn: 0.2080739\ttotal: 56.3s\tremaining: 17.1s\n",
      "767:\tlearn: 0.2079744\ttotal: 56.4s\tremaining: 17s\n",
      "768:\tlearn: 0.2079057\ttotal: 56.5s\tremaining: 17s\n",
      "769:\tlearn: 0.2077772\ttotal: 56.5s\tremaining: 16.9s\n",
      "770:\tlearn: 0.2076426\ttotal: 56.6s\tremaining: 16.8s\n",
      "771:\tlearn: 0.2075595\ttotal: 56.7s\tremaining: 16.7s\n",
      "772:\tlearn: 0.2074647\ttotal: 56.7s\tremaining: 16.7s\n",
      "773:\tlearn: 0.2073235\ttotal: 56.8s\tremaining: 16.6s\n",
      "774:\tlearn: 0.2071948\ttotal: 56.9s\tremaining: 16.5s\n",
      "775:\tlearn: 0.2070594\ttotal: 57s\tremaining: 16.4s\n",
      "776:\tlearn: 0.2069966\ttotal: 57s\tremaining: 16.4s\n",
      "777:\tlearn: 0.2069477\ttotal: 57.1s\tremaining: 16.3s\n",
      "778:\tlearn: 0.2068649\ttotal: 57.2s\tremaining: 16.2s\n",
      "779:\tlearn: 0.2067836\ttotal: 57.3s\tremaining: 16.2s\n",
      "780:\tlearn: 0.2066745\ttotal: 57.3s\tremaining: 16.1s\n",
      "781:\tlearn: 0.2065160\ttotal: 57.4s\tremaining: 16s\n",
      "782:\tlearn: 0.2064550\ttotal: 57.5s\tremaining: 15.9s\n",
      "783:\tlearn: 0.2064017\ttotal: 57.5s\tremaining: 15.9s\n",
      "784:\tlearn: 0.2062731\ttotal: 57.6s\tremaining: 15.8s\n",
      "785:\tlearn: 0.2061528\ttotal: 57.7s\tremaining: 15.7s\n",
      "786:\tlearn: 0.2060144\ttotal: 57.8s\tremaining: 15.6s\n",
      "787:\tlearn: 0.2058650\ttotal: 57.8s\tremaining: 15.6s\n",
      "788:\tlearn: 0.2057353\ttotal: 57.9s\tremaining: 15.5s\n",
      "789:\tlearn: 0.2056171\ttotal: 58s\tremaining: 15.4s\n",
      "790:\tlearn: 0.2055236\ttotal: 58s\tremaining: 15.3s\n",
      "791:\tlearn: 0.2053373\ttotal: 58.1s\tremaining: 15.3s\n",
      "792:\tlearn: 0.2052516\ttotal: 58.2s\tremaining: 15.2s\n",
      "793:\tlearn: 0.2051477\ttotal: 58.3s\tremaining: 15.1s\n",
      "794:\tlearn: 0.2050692\ttotal: 58.3s\tremaining: 15s\n",
      "795:\tlearn: 0.2049940\ttotal: 58.4s\tremaining: 15s\n",
      "796:\tlearn: 0.2048987\ttotal: 58.5s\tremaining: 14.9s\n",
      "797:\tlearn: 0.2048395\ttotal: 58.5s\tremaining: 14.8s\n",
      "798:\tlearn: 0.2046900\ttotal: 58.6s\tremaining: 14.7s\n",
      "799:\tlearn: 0.2045180\ttotal: 58.7s\tremaining: 14.7s\n",
      "800:\tlearn: 0.2043634\ttotal: 58.8s\tremaining: 14.6s\n",
      "801:\tlearn: 0.2042288\ttotal: 58.8s\tremaining: 14.5s\n",
      "802:\tlearn: 0.2041051\ttotal: 58.9s\tremaining: 14.5s\n",
      "803:\tlearn: 0.2039865\ttotal: 59s\tremaining: 14.4s\n",
      "804:\tlearn: 0.2038510\ttotal: 59.1s\tremaining: 14.3s\n",
      "805:\tlearn: 0.2037550\ttotal: 59.1s\tremaining: 14.2s\n",
      "806:\tlearn: 0.2036023\ttotal: 59.2s\tremaining: 14.2s\n",
      "807:\tlearn: 0.2034776\ttotal: 59.3s\tremaining: 14.1s\n",
      "808:\tlearn: 0.2033678\ttotal: 59.3s\tremaining: 14s\n",
      "809:\tlearn: 0.2032488\ttotal: 59.4s\tremaining: 13.9s\n",
      "810:\tlearn: 0.2031327\ttotal: 59.5s\tremaining: 13.9s\n",
      "811:\tlearn: 0.2030502\ttotal: 59.5s\tremaining: 13.8s\n",
      "812:\tlearn: 0.2029447\ttotal: 59.6s\tremaining: 13.7s\n",
      "813:\tlearn: 0.2028096\ttotal: 59.7s\tremaining: 13.6s\n",
      "814:\tlearn: 0.2026729\ttotal: 59.8s\tremaining: 13.6s\n",
      "815:\tlearn: 0.2025627\ttotal: 59.8s\tremaining: 13.5s\n",
      "816:\tlearn: 0.2023857\ttotal: 59.9s\tremaining: 13.4s\n",
      "817:\tlearn: 0.2022720\ttotal: 60s\tremaining: 13.3s\n",
      "818:\tlearn: 0.2021676\ttotal: 1m\tremaining: 13.3s\n",
      "819:\tlearn: 0.2020706\ttotal: 1m\tremaining: 13.2s\n",
      "820:\tlearn: 0.2020171\ttotal: 1m\tremaining: 13.1s\n",
      "821:\tlearn: 0.2019199\ttotal: 1m\tremaining: 13s\n",
      "822:\tlearn: 0.2017792\ttotal: 1m\tremaining: 13s\n",
      "823:\tlearn: 0.2017120\ttotal: 1m\tremaining: 12.9s\n",
      "824:\tlearn: 0.2015805\ttotal: 1m\tremaining: 12.8s\n",
      "825:\tlearn: 0.2014392\ttotal: 1m\tremaining: 12.7s\n",
      "826:\tlearn: 0.2013698\ttotal: 1m\tremaining: 12.7s\n",
      "827:\tlearn: 0.2012146\ttotal: 1m\tremaining: 12.6s\n",
      "828:\tlearn: 0.2011245\ttotal: 1m\tremaining: 12.5s\n",
      "829:\tlearn: 0.2009670\ttotal: 1m\tremaining: 12.4s\n",
      "830:\tlearn: 0.2008688\ttotal: 1m\tremaining: 12.4s\n",
      "831:\tlearn: 0.2007338\ttotal: 1m\tremaining: 12.3s\n",
      "832:\tlearn: 0.2006142\ttotal: 1m\tremaining: 12.2s\n",
      "833:\tlearn: 0.2005234\ttotal: 1m 1s\tremaining: 12.2s\n",
      "834:\tlearn: 0.2004530\ttotal: 1m 1s\tremaining: 12.1s\n",
      "835:\tlearn: 0.2003146\ttotal: 1m 1s\tremaining: 12s\n",
      "836:\tlearn: 0.2001991\ttotal: 1m 1s\tremaining: 11.9s\n",
      "837:\tlearn: 0.2001051\ttotal: 1m 1s\tremaining: 11.9s\n",
      "838:\tlearn: 0.1999731\ttotal: 1m 1s\tremaining: 11.8s\n",
      "839:\tlearn: 0.1999338\ttotal: 1m 1s\tremaining: 11.7s\n",
      "840:\tlearn: 0.1998590\ttotal: 1m 1s\tremaining: 11.6s\n",
      "841:\tlearn: 0.1997996\ttotal: 1m 1s\tremaining: 11.6s\n",
      "842:\tlearn: 0.1997298\ttotal: 1m 1s\tremaining: 11.5s\n",
      "843:\tlearn: 0.1996343\ttotal: 1m 1s\tremaining: 11.4s\n",
      "844:\tlearn: 0.1995105\ttotal: 1m 1s\tremaining: 11.3s\n",
      "845:\tlearn: 0.1994535\ttotal: 1m 1s\tremaining: 11.3s\n",
      "846:\tlearn: 0.1993293\ttotal: 1m 2s\tremaining: 11.2s\n",
      "847:\tlearn: 0.1992318\ttotal: 1m 2s\tremaining: 11.1s\n",
      "848:\tlearn: 0.1990909\ttotal: 1m 2s\tremaining: 11.1s\n",
      "849:\tlearn: 0.1989918\ttotal: 1m 2s\tremaining: 11s\n",
      "850:\tlearn: 0.1989175\ttotal: 1m 2s\tremaining: 10.9s\n",
      "851:\tlearn: 0.1988097\ttotal: 1m 2s\tremaining: 10.8s\n",
      "852:\tlearn: 0.1987152\ttotal: 1m 2s\tremaining: 10.8s\n",
      "853:\tlearn: 0.1986418\ttotal: 1m 2s\tremaining: 10.7s\n",
      "854:\tlearn: 0.1985606\ttotal: 1m 2s\tremaining: 10.6s\n",
      "855:\tlearn: 0.1984611\ttotal: 1m 2s\tremaining: 10.5s\n",
      "856:\tlearn: 0.1983962\ttotal: 1m 2s\tremaining: 10.5s\n",
      "857:\tlearn: 0.1983037\ttotal: 1m 2s\tremaining: 10.4s\n",
      "858:\tlearn: 0.1981824\ttotal: 1m 2s\tremaining: 10.3s\n",
      "859:\tlearn: 0.1980549\ttotal: 1m 2s\tremaining: 10.2s\n",
      "860:\tlearn: 0.1979043\ttotal: 1m 3s\tremaining: 10.2s\n",
      "861:\tlearn: 0.1978194\ttotal: 1m 3s\tremaining: 10.1s\n",
      "862:\tlearn: 0.1977322\ttotal: 1m 3s\tremaining: 10s\n",
      "863:\tlearn: 0.1976771\ttotal: 1m 3s\tremaining: 9.96s\n",
      "864:\tlearn: 0.1975771\ttotal: 1m 3s\tremaining: 9.89s\n",
      "865:\tlearn: 0.1975072\ttotal: 1m 3s\tremaining: 9.82s\n",
      "866:\tlearn: 0.1974275\ttotal: 1m 3s\tremaining: 9.75s\n",
      "867:\tlearn: 0.1973730\ttotal: 1m 3s\tremaining: 9.68s\n",
      "868:\tlearn: 0.1972924\ttotal: 1m 3s\tremaining: 9.61s\n",
      "869:\tlearn: 0.1971917\ttotal: 1m 3s\tremaining: 9.54s\n",
      "870:\tlearn: 0.1971003\ttotal: 1m 3s\tremaining: 9.47s\n",
      "871:\tlearn: 0.1970084\ttotal: 1m 4s\tremaining: 9.4s\n",
      "872:\tlearn: 0.1969202\ttotal: 1m 4s\tremaining: 9.33s\n",
      "873:\tlearn: 0.1968639\ttotal: 1m 4s\tremaining: 9.26s\n",
      "874:\tlearn: 0.1967509\ttotal: 1m 4s\tremaining: 9.19s\n",
      "875:\tlearn: 0.1966491\ttotal: 1m 4s\tremaining: 9.12s\n",
      "876:\tlearn: 0.1965356\ttotal: 1m 4s\tremaining: 9.04s\n",
      "877:\tlearn: 0.1964204\ttotal: 1m 4s\tremaining: 8.97s\n",
      "878:\tlearn: 0.1962991\ttotal: 1m 4s\tremaining: 8.9s\n",
      "879:\tlearn: 0.1961955\ttotal: 1m 4s\tremaining: 8.83s\n",
      "880:\tlearn: 0.1960760\ttotal: 1m 4s\tremaining: 8.76s\n",
      "881:\tlearn: 0.1959685\ttotal: 1m 4s\tremaining: 8.69s\n",
      "882:\tlearn: 0.1958104\ttotal: 1m 5s\tremaining: 8.61s\n",
      "883:\tlearn: 0.1956978\ttotal: 1m 5s\tremaining: 8.54s\n",
      "884:\tlearn: 0.1955933\ttotal: 1m 5s\tremaining: 8.47s\n",
      "885:\tlearn: 0.1954869\ttotal: 1m 5s\tremaining: 8.4s\n",
      "886:\tlearn: 0.1953992\ttotal: 1m 5s\tremaining: 8.32s\n",
      "887:\tlearn: 0.1952833\ttotal: 1m 5s\tremaining: 8.25s\n",
      "888:\tlearn: 0.1952219\ttotal: 1m 5s\tremaining: 8.18s\n",
      "889:\tlearn: 0.1951110\ttotal: 1m 5s\tremaining: 8.1s\n",
      "890:\tlearn: 0.1949954\ttotal: 1m 5s\tremaining: 8.03s\n",
      "891:\tlearn: 0.1948487\ttotal: 1m 5s\tremaining: 7.96s\n",
      "892:\tlearn: 0.1948090\ttotal: 1m 5s\tremaining: 7.88s\n",
      "893:\tlearn: 0.1947037\ttotal: 1m 5s\tremaining: 7.81s\n",
      "894:\tlearn: 0.1946005\ttotal: 1m 5s\tremaining: 7.74s\n",
      "895:\tlearn: 0.1945238\ttotal: 1m 6s\tremaining: 7.67s\n",
      "896:\tlearn: 0.1944212\ttotal: 1m 6s\tremaining: 7.59s\n",
      "897:\tlearn: 0.1943015\ttotal: 1m 6s\tremaining: 7.52s\n",
      "898:\tlearn: 0.1942184\ttotal: 1m 6s\tremaining: 7.45s\n",
      "899:\tlearn: 0.1941751\ttotal: 1m 6s\tremaining: 7.38s\n",
      "900:\tlearn: 0.1940660\ttotal: 1m 6s\tremaining: 7.3s\n",
      "901:\tlearn: 0.1939870\ttotal: 1m 6s\tremaining: 7.23s\n",
      "902:\tlearn: 0.1938723\ttotal: 1m 6s\tremaining: 7.16s\n",
      "903:\tlearn: 0.1937915\ttotal: 1m 6s\tremaining: 7.09s\n",
      "904:\tlearn: 0.1937142\ttotal: 1m 6s\tremaining: 7.01s\n",
      "905:\tlearn: 0.1936544\ttotal: 1m 6s\tremaining: 6.94s\n",
      "906:\tlearn: 0.1935600\ttotal: 1m 6s\tremaining: 6.87s\n",
      "907:\tlearn: 0.1934660\ttotal: 1m 7s\tremaining: 6.79s\n",
      "908:\tlearn: 0.1933741\ttotal: 1m 7s\tremaining: 6.72s\n",
      "909:\tlearn: 0.1932439\ttotal: 1m 7s\tremaining: 6.65s\n",
      "910:\tlearn: 0.1930932\ttotal: 1m 7s\tremaining: 6.58s\n",
      "911:\tlearn: 0.1930160\ttotal: 1m 7s\tremaining: 6.5s\n",
      "912:\tlearn: 0.1928763\ttotal: 1m 7s\tremaining: 6.44s\n",
      "913:\tlearn: 0.1927678\ttotal: 1m 7s\tremaining: 6.36s\n",
      "914:\tlearn: 0.1927248\ttotal: 1m 7s\tremaining: 6.29s\n",
      "915:\tlearn: 0.1926001\ttotal: 1m 7s\tremaining: 6.22s\n",
      "916:\tlearn: 0.1925245\ttotal: 1m 7s\tremaining: 6.15s\n",
      "917:\tlearn: 0.1923491\ttotal: 1m 8s\tremaining: 6.08s\n",
      "918:\tlearn: 0.1922300\ttotal: 1m 8s\tremaining: 6.01s\n",
      "919:\tlearn: 0.1921055\ttotal: 1m 8s\tremaining: 5.94s\n",
      "920:\tlearn: 0.1919988\ttotal: 1m 8s\tremaining: 5.87s\n",
      "921:\tlearn: 0.1918792\ttotal: 1m 8s\tremaining: 5.79s\n",
      "922:\tlearn: 0.1917976\ttotal: 1m 8s\tremaining: 5.72s\n",
      "923:\tlearn: 0.1917184\ttotal: 1m 8s\tremaining: 5.65s\n",
      "924:\tlearn: 0.1915945\ttotal: 1m 8s\tremaining: 5.58s\n",
      "925:\tlearn: 0.1915274\ttotal: 1m 8s\tremaining: 5.51s\n",
      "926:\tlearn: 0.1914695\ttotal: 1m 9s\tremaining: 5.44s\n",
      "927:\tlearn: 0.1913797\ttotal: 1m 9s\tremaining: 5.37s\n",
      "928:\tlearn: 0.1912494\ttotal: 1m 9s\tremaining: 5.3s\n",
      "929:\tlearn: 0.1911155\ttotal: 1m 9s\tremaining: 5.22s\n",
      "930:\tlearn: 0.1910305\ttotal: 1m 9s\tremaining: 5.15s\n",
      "931:\tlearn: 0.1908875\ttotal: 1m 9s\tremaining: 5.07s\n",
      "932:\tlearn: 0.1907287\ttotal: 1m 9s\tremaining: 5s\n",
      "933:\tlearn: 0.1906627\ttotal: 1m 9s\tremaining: 4.92s\n",
      "934:\tlearn: 0.1905771\ttotal: 1m 9s\tremaining: 4.85s\n",
      "935:\tlearn: 0.1904233\ttotal: 1m 9s\tremaining: 4.78s\n",
      "936:\tlearn: 0.1903353\ttotal: 1m 9s\tremaining: 4.7s\n",
      "937:\tlearn: 0.1901862\ttotal: 1m 9s\tremaining: 4.63s\n",
      "938:\tlearn: 0.1901296\ttotal: 1m 10s\tremaining: 4.55s\n",
      "939:\tlearn: 0.1900130\ttotal: 1m 10s\tremaining: 4.47s\n",
      "940:\tlearn: 0.1898665\ttotal: 1m 10s\tremaining: 4.4s\n",
      "941:\tlearn: 0.1897798\ttotal: 1m 10s\tremaining: 4.33s\n",
      "942:\tlearn: 0.1897111\ttotal: 1m 10s\tremaining: 4.25s\n",
      "943:\tlearn: 0.1896394\ttotal: 1m 10s\tremaining: 4.18s\n",
      "944:\tlearn: 0.1895535\ttotal: 1m 10s\tremaining: 4.1s\n",
      "945:\tlearn: 0.1894244\ttotal: 1m 10s\tremaining: 4.03s\n",
      "946:\tlearn: 0.1893430\ttotal: 1m 10s\tremaining: 3.96s\n",
      "947:\tlearn: 0.1892860\ttotal: 1m 10s\tremaining: 3.88s\n",
      "948:\tlearn: 0.1891539\ttotal: 1m 10s\tremaining: 3.81s\n",
      "949:\tlearn: 0.1890493\ttotal: 1m 10s\tremaining: 3.73s\n",
      "950:\tlearn: 0.1889631\ttotal: 1m 11s\tremaining: 3.66s\n",
      "951:\tlearn: 0.1888948\ttotal: 1m 11s\tremaining: 3.58s\n",
      "952:\tlearn: 0.1888476\ttotal: 1m 11s\tremaining: 3.51s\n",
      "953:\tlearn: 0.1887320\ttotal: 1m 11s\tremaining: 3.43s\n",
      "954:\tlearn: 0.1886736\ttotal: 1m 11s\tremaining: 3.36s\n",
      "955:\tlearn: 0.1885888\ttotal: 1m 11s\tremaining: 3.29s\n",
      "956:\tlearn: 0.1885032\ttotal: 1m 11s\tremaining: 3.21s\n",
      "957:\tlearn: 0.1883763\ttotal: 1m 11s\tremaining: 3.14s\n",
      "958:\tlearn: 0.1882380\ttotal: 1m 11s\tremaining: 3.06s\n",
      "959:\tlearn: 0.1881596\ttotal: 1m 11s\tremaining: 2.99s\n",
      "960:\tlearn: 0.1880328\ttotal: 1m 11s\tremaining: 2.91s\n",
      "961:\tlearn: 0.1879558\ttotal: 1m 11s\tremaining: 2.84s\n",
      "962:\tlearn: 0.1878537\ttotal: 1m 11s\tremaining: 2.76s\n",
      "963:\tlearn: 0.1878107\ttotal: 1m 11s\tremaining: 2.69s\n",
      "964:\tlearn: 0.1877140\ttotal: 1m 12s\tremaining: 2.61s\n",
      "965:\tlearn: 0.1876374\ttotal: 1m 12s\tremaining: 2.54s\n",
      "966:\tlearn: 0.1875947\ttotal: 1m 12s\tremaining: 2.46s\n",
      "967:\tlearn: 0.1874891\ttotal: 1m 12s\tremaining: 2.39s\n",
      "968:\tlearn: 0.1873625\ttotal: 1m 12s\tremaining: 2.31s\n",
      "969:\tlearn: 0.1872573\ttotal: 1m 12s\tremaining: 2.24s\n",
      "970:\tlearn: 0.1871110\ttotal: 1m 12s\tremaining: 2.17s\n",
      "971:\tlearn: 0.1870144\ttotal: 1m 12s\tremaining: 2.09s\n",
      "972:\tlearn: 0.1869222\ttotal: 1m 12s\tremaining: 2.02s\n",
      "973:\tlearn: 0.1868169\ttotal: 1m 12s\tremaining: 1.94s\n",
      "974:\tlearn: 0.1866765\ttotal: 1m 12s\tremaining: 1.87s\n",
      "975:\tlearn: 0.1865919\ttotal: 1m 12s\tremaining: 1.79s\n",
      "976:\tlearn: 0.1865457\ttotal: 1m 12s\tremaining: 1.72s\n",
      "977:\tlearn: 0.1864531\ttotal: 1m 13s\tremaining: 1.64s\n",
      "978:\tlearn: 0.1863461\ttotal: 1m 13s\tremaining: 1.57s\n",
      "979:\tlearn: 0.1862339\ttotal: 1m 13s\tremaining: 1.49s\n",
      "980:\tlearn: 0.1861621\ttotal: 1m 13s\tremaining: 1.42s\n",
      "981:\tlearn: 0.1861105\ttotal: 1m 13s\tremaining: 1.34s\n",
      "982:\tlearn: 0.1860143\ttotal: 1m 13s\tremaining: 1.27s\n",
      "983:\tlearn: 0.1859016\ttotal: 1m 13s\tremaining: 1.19s\n",
      "984:\tlearn: 0.1857935\ttotal: 1m 13s\tremaining: 1.12s\n",
      "985:\tlearn: 0.1857354\ttotal: 1m 13s\tremaining: 1.04s\n",
      "986:\tlearn: 0.1856117\ttotal: 1m 13s\tremaining: 970ms\n",
      "987:\tlearn: 0.1855349\ttotal: 1m 13s\tremaining: 895ms\n",
      "988:\tlearn: 0.1854078\ttotal: 1m 13s\tremaining: 821ms\n",
      "989:\tlearn: 0.1852874\ttotal: 1m 13s\tremaining: 746ms\n",
      "990:\tlearn: 0.1852136\ttotal: 1m 13s\tremaining: 671ms\n",
      "991:\tlearn: 0.1851379\ttotal: 1m 13s\tremaining: 597ms\n",
      "992:\tlearn: 0.1850623\ttotal: 1m 14s\tremaining: 522ms\n",
      "993:\tlearn: 0.1849742\ttotal: 1m 14s\tremaining: 447ms\n",
      "994:\tlearn: 0.1849150\ttotal: 1m 14s\tremaining: 373ms\n",
      "995:\tlearn: 0.1848468\ttotal: 1m 14s\tremaining: 298ms\n",
      "996:\tlearn: 0.1847819\ttotal: 1m 14s\tremaining: 224ms\n",
      "997:\tlearn: 0.1847366\ttotal: 1m 14s\tremaining: 149ms\n",
      "998:\tlearn: 0.1846336\ttotal: 1m 14s\tremaining: 74.5ms\n",
      "999:\tlearn: 0.1845420\ttotal: 1m 14s\tremaining: 0us\n"
     ]
    },
    {
     "data": {
      "text/plain": "<catboost.core.CatBoostClassifier at 0x284604a5ca0>"
     },
     "execution_count": 74,
     "metadata": {},
     "output_type": "execute_result"
    }
   ],
   "source": [
    "catb.fit(X_resampled, y_resampled)"
   ],
   "metadata": {
    "collapsed": false,
    "pycharm": {
     "name": "#%%\n"
    }
   }
  },
  {
   "cell_type": "code",
   "execution_count": 75,
   "outputs": [],
   "source": [
    "y_cat_pred = catb.predict(X_test_s)"
   ],
   "metadata": {
    "collapsed": false,
    "pycharm": {
     "name": "#%%\n"
    }
   }
  },
  {
   "cell_type": "code",
   "execution_count": 76,
   "outputs": [
    {
     "name": "stdout",
     "output_type": "stream",
     "text": [
      "              precision    recall  f1-score   support\n",
      "\n",
      "           0       0.93      0.99      0.96    150619\n",
      "           1       0.71      0.26      0.38     15194\n",
      "\n",
      "    accuracy                           0.92    165813\n",
      "   macro avg       0.82      0.62      0.67    165813\n",
      "weighted avg       0.91      0.92      0.91    165813\n",
      "\n"
     ]
    }
   ],
   "source": [
    "print(classification_report(y_cat_pred, y_test))"
   ],
   "metadata": {
    "collapsed": false,
    "pycharm": {
     "name": "#%%\n"
    }
   }
  },
  {
   "cell_type": "markdown",
   "metadata": {
    "pycharm": {
     "name": "#%% md\n"
    }
   },
   "source": [
    "DL MODEL - SEQUENTIAL"
   ]
  },
  {
   "cell_type": "code",
   "execution_count": 77,
   "metadata": {
    "pycharm": {
     "name": "#%%\n"
    }
   },
   "outputs": [],
   "source": [
    "import tensorflow as tf\n",
    "from keras import Sequential"
   ]
  },
  {
   "cell_type": "code",
   "execution_count": 78,
   "outputs": [],
   "source": [
    "def ANN(X_train, y_train, X_test, y_test):\n",
    "    model = Sequential([\n",
    "        tf.keras.layers.Dense(26, activation='relu'),\n",
    "        tf.keras.layers.Dense(15, activation='relu'),\n",
    "        tf.keras.layers.Dense(1, activation='sigmoid')\n",
    "    ])\n",
    "    model.compile(optimizer='adam', loss='binary_crossentropy', metrics=['accuracy'])\n",
    "    model.build(input_shape=X_train.shape)\n",
    "    history = model.fit(X_train, y_train, epochs=25, batch_size=300, validation_split=0.2)\n",
    "\n",
    "    print(model.evaluate(X_test, y_test))\n",
    "\n",
    "    y_preds = model.predict(X_test)\n",
    "    y_preds = np.round(y_preds)\n",
    "\n",
    "    print(\"Classification Report: \\n\", classification_report(y_test, y_preds))\n",
    "    return history, y_preds"
   ],
   "metadata": {
    "collapsed": false,
    "pycharm": {
     "name": "#%%\n"
    }
   }
  },
  {
   "cell_type": "code",
   "execution_count": 79,
   "outputs": [
    {
     "name": "stdout",
     "output_type": "stream",
     "text": [
      "Epoch 1/25\n",
      "1282/1282 [==============================] - 11s 7ms/step - loss: 0.3756 - accuracy: 0.8310 - val_loss: 0.5565 - val_accuracy: 0.6903\n",
      "Epoch 2/25\n",
      "1282/1282 [==============================] - 7s 6ms/step - loss: 0.3510 - accuracy: 0.8423 - val_loss: 0.5442 - val_accuracy: 0.6902\n",
      "Epoch 3/25\n",
      "1282/1282 [==============================] - 9s 7ms/step - loss: 0.3478 - accuracy: 0.8434 - val_loss: 0.5412 - val_accuracy: 0.6937\n",
      "Epoch 4/25\n",
      "1282/1282 [==============================] - 9s 7ms/step - loss: 0.3455 - accuracy: 0.8437 - val_loss: 0.5596 - val_accuracy: 0.6740\n",
      "Epoch 5/25\n",
      "1282/1282 [==============================] - 9s 7ms/step - loss: 0.3436 - accuracy: 0.8441 - val_loss: 0.5129 - val_accuracy: 0.7149\n",
      "Epoch 6/25\n",
      "1282/1282 [==============================] - 7s 6ms/step - loss: 0.3423 - accuracy: 0.8445 - val_loss: 0.5236 - val_accuracy: 0.6935\n",
      "Epoch 7/25\n",
      "1282/1282 [==============================] - 8s 6ms/step - loss: 0.3409 - accuracy: 0.8451 - val_loss: 0.5033 - val_accuracy: 0.7064\n",
      "Epoch 8/25\n",
      "1282/1282 [==============================] - 7s 6ms/step - loss: 0.3397 - accuracy: 0.8453 - val_loss: 0.5224 - val_accuracy: 0.7066\n",
      "Epoch 9/25\n",
      "1282/1282 [==============================] - 8s 6ms/step - loss: 0.3386 - accuracy: 0.8457 - val_loss: 0.5177 - val_accuracy: 0.7045\n",
      "Epoch 10/25\n",
      "1282/1282 [==============================] - 7s 6ms/step - loss: 0.3378 - accuracy: 0.8462 - val_loss: 0.5078 - val_accuracy: 0.7152\n",
      "Epoch 11/25\n",
      "1282/1282 [==============================] - 8s 6ms/step - loss: 0.3369 - accuracy: 0.8467 - val_loss: 0.5359 - val_accuracy: 0.6891\n",
      "Epoch 12/25\n",
      "1282/1282 [==============================] - 7s 6ms/step - loss: 0.3363 - accuracy: 0.8467 - val_loss: 0.5040 - val_accuracy: 0.7084\n",
      "Epoch 13/25\n",
      "1282/1282 [==============================] - 8s 6ms/step - loss: 0.3357 - accuracy: 0.8474 - val_loss: 0.5188 - val_accuracy: 0.7038\n",
      "Epoch 14/25\n",
      "1282/1282 [==============================] - 7s 6ms/step - loss: 0.3351 - accuracy: 0.8476 - val_loss: 0.4760 - val_accuracy: 0.7389\n",
      "Epoch 15/25\n",
      "1282/1282 [==============================] - 8s 6ms/step - loss: 0.3347 - accuracy: 0.8475 - val_loss: 0.5219 - val_accuracy: 0.7042\n",
      "Epoch 16/25\n",
      "1282/1282 [==============================] - 7s 6ms/step - loss: 0.3342 - accuracy: 0.8480 - val_loss: 0.5223 - val_accuracy: 0.7031\n",
      "Epoch 17/25\n",
      "1282/1282 [==============================] - 8s 6ms/step - loss: 0.3339 - accuracy: 0.8481 - val_loss: 0.4909 - val_accuracy: 0.7272\n",
      "Epoch 18/25\n",
      "1282/1282 [==============================] - 7s 6ms/step - loss: 0.3334 - accuracy: 0.8480 - val_loss: 0.4938 - val_accuracy: 0.7284\n",
      "Epoch 19/25\n",
      "1282/1282 [==============================] - 8s 6ms/step - loss: 0.3330 - accuracy: 0.8486 - val_loss: 0.5005 - val_accuracy: 0.7209\n",
      "Epoch 20/25\n",
      "1282/1282 [==============================] - 7s 6ms/step - loss: 0.3326 - accuracy: 0.8486 - val_loss: 0.4885 - val_accuracy: 0.7303\n",
      "Epoch 21/25\n",
      "1282/1282 [==============================] - 8s 6ms/step - loss: 0.3324 - accuracy: 0.8485 - val_loss: 0.5171 - val_accuracy: 0.7000\n",
      "Epoch 22/25\n",
      "1282/1282 [==============================] - 7s 6ms/step - loss: 0.3320 - accuracy: 0.8488 - val_loss: 0.5147 - val_accuracy: 0.7185\n",
      "Epoch 23/25\n",
      "1282/1282 [==============================] - 8s 6ms/step - loss: 0.3318 - accuracy: 0.8487 - val_loss: 0.5140 - val_accuracy: 0.7086\n",
      "Epoch 24/25\n",
      "1282/1282 [==============================] - 7s 6ms/step - loss: 0.3315 - accuracy: 0.8488 - val_loss: 0.4920 - val_accuracy: 0.7249\n",
      "Epoch 25/25\n",
      "1282/1282 [==============================] - 8s 6ms/step - loss: 0.3312 - accuracy: 0.8491 - val_loss: 0.5381 - val_accuracy: 0.6977\n",
      "5182/5182 [==============================] - 19s 4ms/step - loss: 0.2282 - accuracy: 0.9267\n",
      "[0.22823402285575867, 0.9266704320907593]\n",
      "Classification Report: \n",
      "               precision    recall  f1-score   support\n",
      "\n",
      "           0       0.99      0.94      0.96    160304\n",
      "           1       0.26      0.67      0.38      5509\n",
      "\n",
      "    accuracy                           0.93    165813\n",
      "   macro avg       0.63      0.80      0.67    165813\n",
      "weighted avg       0.96      0.93      0.94    165813\n",
      "\n"
     ]
    }
   ],
   "source": [
    "history, y_pred = ANN(X_resampled, y_resampled , X_test_s, y_test)"
   ],
   "metadata": {
    "collapsed": false,
    "pycharm": {
     "name": "#%%\n"
    }
   }
  },
  {
   "cell_type": "code",
   "execution_count": 80,
   "outputs": [
    {
     "name": "stdout",
     "output_type": "stream",
     "text": [
      "dict_keys(['loss', 'accuracy', 'val_loss', 'val_accuracy'])\n"
     ]
    }
   ],
   "source": [
    "print(history.history.keys())"
   ],
   "metadata": {
    "collapsed": false,
    "pycharm": {
     "name": "#%%\n"
    }
   }
  },
  {
   "cell_type": "code",
   "execution_count": 81,
   "outputs": [
    {
     "data": {
      "text/plain": "<Figure size 432x288 with 1 Axes>",
      "image/png": "[encoded data removed]"
     },
     "metadata": {},
     "output_type": "display_data"
    }
   ],
   "source": [
    "plt.plot(history.history['accuracy'])\n",
    "plt.plot(history.history['val_accuracy'])\n",
    "plt.title('model accuracy')\n",
    "plt.ylabel('accuracy')\n",
    "plt.xlabel('epoch')\n",
    "plt.legend(['train', 'test'], loc='upper left')\n",
    "plt.show()"
   ],
   "metadata": {
    "collapsed": false,
    "pycharm": {
     "name": "#%%\n"
    }
   }
  },
  {
   "cell_type": "code",
   "execution_count": 82,
   "outputs": [
    {
     "data": {
      "text/plain": "<Figure size 432x288 with 1 Axes>",
      "image/png": "[encoded data removed]"
     },
     "metadata": {},
     "output_type": "display_data"
    }
   ],
   "source": [
    "\n",
    "plt.plot(history.history['loss'])\n",
    "plt.plot(history.history['val_loss'])\n",
    "plt.title('model loss')\n",
    "plt.ylabel('loss')\n",
    "plt.xlabel('epoch')\n",
    "plt.legend(['train', 'test'], loc='upper left')\n",
    "plt.show()"
   ],
   "metadata": {
    "collapsed": false,
    "pycharm": {
     "name": "#%%\n"
    }
   }
  },
  {
   "cell_type": "markdown",
   "source": [
    "Imblearn Under Sampling"
   ],
   "metadata": {
    "collapsed": false,
    "pycharm": {
     "name": "#%% md\n"
    }
   }
  },
  {
   "cell_type": "code",
   "execution_count": 83,
   "outputs": [],
   "source": [
    "from imblearn.under_sampling import RandomUnderSampler\n",
    "from collections import Counter\n",
    "from sklearn.datasets import make_classification"
   ],
   "metadata": {
    "collapsed": false,
    "pycharm": {
     "name": "#%%\n"
    }
   }
  },
  {
   "cell_type": "code",
   "execution_count": 84,
   "outputs": [
    {
     "data": {
      "text/plain": "(414532,)"
     },
     "execution_count": 84,
     "metadata": {},
     "output_type": "execute_result"
    }
   ],
   "source": [
    "y.shape"
   ],
   "metadata": {
    "collapsed": false,
    "pycharm": {
     "name": "#%%\n"
    }
   }
  },
  {
   "cell_type": "code",
   "execution_count": 85,
   "outputs": [],
   "source": [
    "X,y = make_classification(n_samples=414537,weights=[0.97], flip_y=0)"
   ],
   "metadata": {
    "collapsed": false,
    "pycharm": {
     "name": "#%%\n"
    }
   }
  },
  {
   "cell_type": "code",
   "execution_count": 86,
   "outputs": [
    {
     "name": "stdout",
     "output_type": "stream",
     "text": [
      "Counter({0: 402101, 1: 12436})\n"
     ]
    }
   ],
   "source": [
    "print(Counter(y))"
   ],
   "metadata": {
    "collapsed": false,
    "pycharm": {
     "name": "#%%\n"
    }
   }
  },
  {
   "cell_type": "code",
   "execution_count": 87,
   "outputs": [],
   "source": [
    "undersample = RandomUnderSampler(sampling_strategy='majority')"
   ],
   "metadata": {
    "collapsed": false,
    "pycharm": {
     "name": "#%%\n"
    }
   }
  },
  {
   "cell_type": "code",
   "execution_count": 88,
   "outputs": [],
   "source": [
    "X_over, y_over = undersample.fit_resample(X,y)"
   ],
   "metadata": {
    "collapsed": false,
    "pycharm": {
     "name": "#%%\n"
    }
   }
  },
  {
   "cell_type": "code",
   "execution_count": 89,
   "outputs": [
    {
     "name": "stdout",
     "output_type": "stream",
     "text": [
      "Counter({0: 12436, 1: 12436})\n"
     ]
    }
   ],
   "source": [
    "print(Counter(y_over))"
   ],
   "metadata": {
    "collapsed": false,
    "pycharm": {
     "name": "#%%\n"
    }
   }
  },
  {
   "cell_type": "markdown",
   "source": [
    "Under Sample"
   ],
   "metadata": {
    "collapsed": false,
    "pycharm": {
     "name": "#%% md\n"
    }
   }
  },
  {
   "cell_type": "code",
   "execution_count": 90,
   "outputs": [],
   "source": [
    "count_class_0, count_class_1 = df_out.DELINQUENT.value_counts()\n",
    "\n",
    "df_class_0 = df_out[df_out['DELINQUENT'] == 0]\n",
    "df_class_1 = df_out[df_out['DELINQUENT'] == 1]"
   ],
   "metadata": {
    "collapsed": false,
    "pycharm": {
     "name": "#%%\n"
    }
   }
  },
  {
   "cell_type": "code",
   "execution_count": 91,
   "outputs": [
    {
     "data": {
      "text/plain": "(400633, 20)"
     },
     "execution_count": 91,
     "metadata": {},
     "output_type": "execute_result"
    }
   ],
   "source": [
    "df_class_0.shape"
   ],
   "metadata": {
    "collapsed": false,
    "pycharm": {
     "name": "#%%\n"
    }
   }
  },
  {
   "cell_type": "code",
   "execution_count": 92,
   "outputs": [
    {
     "data": {
      "text/plain": "(13899, 20)"
     },
     "execution_count": 92,
     "metadata": {},
     "output_type": "execute_result"
    }
   ],
   "source": [
    "df_class_1.shape"
   ],
   "metadata": {
    "collapsed": false,
    "pycharm": {
     "name": "#%%\n"
    }
   }
  },
  {
   "cell_type": "code",
   "execution_count": 93,
   "outputs": [
    {
     "data": {
      "text/plain": "(400633, 13899)"
     },
     "execution_count": 93,
     "metadata": {},
     "output_type": "execute_result"
    }
   ],
   "source": [
    "count_class_0, count_class_1"
   ],
   "metadata": {
    "collapsed": false,
    "pycharm": {
     "name": "#%%\n"
    }
   }
  },
  {
   "cell_type": "code",
   "execution_count": 94,
   "outputs": [
    {
     "data": {
      "text/plain": "28.82495143535506"
     },
     "execution_count": 94,
     "metadata": {},
     "output_type": "execute_result"
    }
   ],
   "source": [
    "400638/13899"
   ],
   "metadata": {
    "collapsed": false,
    "pycharm": {
     "name": "#%%\n"
    }
   }
  },
  {
   "cell_type": "code",
   "execution_count": 95,
   "outputs": [
    {
     "data": {
      "text/plain": "13815.103448275862"
     },
     "execution_count": 95,
     "metadata": {},
     "output_type": "execute_result"
    }
   ],
   "source": [
    "400638/29"
   ],
   "metadata": {
    "collapsed": false,
    "pycharm": {
     "name": "#%%\n"
    }
   }
  },
  {
   "cell_type": "code",
   "execution_count": 96,
   "outputs": [
    {
     "data": {
      "text/plain": "(27798, 20)"
     },
     "execution_count": 96,
     "metadata": {},
     "output_type": "execute_result"
    }
   ],
   "source": [
    "df_class_0_under = df_class_0.sample(count_class_1)\n",
    "\n",
    "df_test_under = pd.concat([df_class_0_under, df_class_1], axis = 0)\n",
    "df_test_under.shape"
   ],
   "metadata": {
    "collapsed": false,
    "pycharm": {
     "name": "#%%\n"
    }
   }
  },
  {
   "cell_type": "code",
   "execution_count": 97,
   "outputs": [
    {
     "name": "stdout",
     "output_type": "stream",
     "text": [
      "Random under-sampling\n",
      "0    13899\n",
      "1    13899\n",
      "Name: DELINQUENT, dtype: int64\n"
     ]
    }
   ],
   "source": [
    "print(\"Random under-sampling\")\n",
    "print(df_test_under.DELINQUENT.value_counts())"
   ],
   "metadata": {
    "collapsed": false,
    "pycharm": {
     "name": "#%%\n"
    }
   }
  },
  {
   "cell_type": "code",
   "execution_count": 98,
   "outputs": [],
   "source": [
    "df_test_under.DELINQUENT = df_test_under.DELINQUENT.astype(np.int64)"
   ],
   "metadata": {
    "collapsed": false,
    "pycharm": {
     "name": "#%%\n"
    }
   }
  },
  {
   "cell_type": "code",
   "execution_count": 99,
   "outputs": [],
   "source": [
    "X1 = df_test_under.drop('DELINQUENT', axis = 1)\n",
    "y1 = df_test_under['DELINQUENT']"
   ],
   "metadata": {
    "collapsed": false,
    "pycharm": {
     "name": "#%%\n"
    }
   }
  },
  {
   "cell_type": "code",
   "execution_count": 100,
   "outputs": [],
   "source": [
    "X_train1, X_test1, y_train1, y_test1 = train_test_split(X1, y1, test_size=0.2, random_state=15, stratify=y1)"
   ],
   "metadata": {
    "collapsed": false,
    "pycharm": {
     "name": "#%%\n"
    }
   }
  },
  {
   "cell_type": "code",
   "execution_count": 101,
   "outputs": [
    {
     "data": {
      "text/plain": "((22238, 19), (5560, 19), (22238,), (5560,))"
     },
     "execution_count": 101,
     "metadata": {},
     "output_type": "execute_result"
    }
   ],
   "source": [
    "X_train1.shape, X_test1.shape, y_train1.shape, y_test1.shape"
   ],
   "metadata": {
    "collapsed": false,
    "pycharm": {
     "name": "#%%\n"
    }
   }
  },
  {
   "cell_type": "markdown",
   "source": [
    "XG Boost on Undersample Data"
   ],
   "metadata": {
    "collapsed": false,
    "pycharm": {
     "name": "#%% md\n"
    }
   }
  },
  {
   "cell_type": "code",
   "execution_count": 102,
   "outputs": [],
   "source": [
    "import xgboost as xgb\n",
    "from xgboost import XGBClassifier\n",
    "data_dmatrix = xgb.DMatrix(data=X,label=y)\n",
    "\n",
    "xgb_model = XGBClassifier()"
   ],
   "metadata": {
    "collapsed": false,
    "pycharm": {
     "name": "#%%\n"
    }
   }
  },
  {
   "cell_type": "code",
   "execution_count": 103,
   "outputs": [
    {
     "data": {
      "text/plain": "XGBClassifier(base_score=0.5, booster='gbtree', callbacks=None,\n              colsample_bylevel=1, colsample_bynode=1, colsample_bytree=1,\n              early_stopping_rounds=None, enable_categorical=False,\n              eval_metric=None, gamma=0, gpu_id=-1, grow_policy='depthwise',\n              importance_type=None, interaction_constraints='',\n              learning_rate=0.300000012, max_bin=256, max_cat_to_onehot=4,\n              max_delta_step=0, max_depth=6, max_leaves=0, min_child_weight=1,\n              missing=nan, monotone_constraints='()', n_estimators=100,\n              n_jobs=0, num_parallel_tree=1, predictor='auto', random_state=0,\n              reg_alpha=0, reg_lambda=1, ...)",
      "text/html": "<style>#sk-container-id-3 {color: black;background-color: white;}#sk-container-id-3 pre{padding: 0;}#sk-container-id-3 div.sk-toggleable {background-color: white;}#sk-container-id-3 label.sk-toggleable__label {cursor: pointer;display: block;width: 100%;margin-bottom: 0;padding: 0.3em;box-sizing: border-box;text-align: center;}#sk-container-id-3 label.sk-toggleable__label-arrow:before {content: \"▸\";float: left;margin-right: 0.25em;color: #696969;}#sk-container-id-3 label.sk-toggleable__label-arrow:hover:before {color: black;}#sk-container-id-3 div.sk-estimator:hover label.sk-toggleable__label-arrow:before {color: black;}#sk-container-id-3 div.sk-toggleable__content {max-height: 0;max-width: 0;overflow: hidden;text-align: left;background-color: #f0f8ff;}#sk-container-id-3 div.sk-toggleable__content pre {margin: 0.2em;color: black;border-radius: 0.25em;background-color: #f0f8ff;}#sk-container-id-3 input.sk-toggleable__control:checked~div.sk-toggleable__content {max-height: 200px;max-width: 100%;overflow: auto;}#sk-container-id-3 input.sk-toggleable__control:checked~label.sk-toggleable__label-arrow:before {content: \"▾\";}#sk-container-id-3 div.sk-estimator input.sk-toggleable__control:checked~label.sk-toggleable__label {background-color: #d4ebff;}#sk-container-id-3 div.sk-label input.sk-toggleable__control:checked~label.sk-toggleable__label {background-color: #d4ebff;}#sk-container-id-3 input.sk-hidden--visually {border: 0;clip: rect(1px 1px 1px 1px);clip: rect(1px, 1px, 1px, 1px);height: 1px;margin: -1px;overflow: hidden;padding: 0;position: absolute;width: 1px;}#sk-container-id-3 div.sk-estimator {font-family: monospace;background-color: #f0f8ff;border: 1px dotted black;border-radius: 0.25em;box-sizing: border-box;margin-bottom: 0.5em;}#sk-container-id-3 div.sk-estimator:hover {background-color: #d4ebff;}#sk-container-id-3 div.sk-parallel-item::after {content: \"\";width: 100%;border-bottom: 1px solid gray;flex-grow: 1;}#sk-container-id-3 div.sk-label:hover label.sk-toggleable__label {background-color: #d4ebff;}#sk-container-id-3 div.sk-serial::before {content: \"\";position: absolute;border-left: 1px solid gray;box-sizing: border-box;top: 0;bottom: 0;left: 50%;z-index: 0;}#sk-container-id-3 div.sk-serial {display: flex;flex-direction: column;align-items: center;background-color: white;padding-right: 0.2em;padding-left: 0.2em;position: relative;}#sk-container-id-3 div.sk-item {position: relative;z-index: 1;}#sk-container-id-3 div.sk-parallel {display: flex;align-items: stretch;justify-content: center;background-color: white;position: relative;}#sk-container-id-3 div.sk-item::before, #sk-container-id-3 div.sk-parallel-item::before {content: \"\";position: absolute;border-left: 1px solid gray;box-sizing: border-box;top: 0;bottom: 0;left: 50%;z-index: -1;}#sk-container-id-3 div.sk-parallel-item {display: flex;flex-direction: column;z-index: 1;position: relative;background-color: white;}#sk-container-id-3 div.sk-parallel-item:first-child::after {align-self: flex-end;width: 50%;}#sk-container-id-3 div.sk-parallel-item:last-child::after {align-self: flex-start;width: 50%;}#sk-container-id-3 div.sk-parallel-item:only-child::after {width: 0;}#sk-container-id-3 div.sk-dashed-wrapped {border: 1px dashed gray;margin: 0 0.4em 0.5em 0.4em;box-sizing: border-box;padding-bottom: 0.4em;background-color: white;}#sk-container-id-3 div.sk-label label {font-family: monospace;font-weight: bold;display: inline-block;line-height: 1.2em;}#sk-container-id-3 div.sk-label-container {text-align: center;}#sk-container-id-3 div.sk-container {/* jupyter's `normalize.less` sets `[hidden] { display: none; }` but bootstrap.min.css set `[hidden] { display: none !important; }` so we also need the `!important` here to be able to override the default hidden behavior on the sphinx rendered scikit-learn.org. See: https://github.com/scikit-learn/scikit-learn/issues/21755 */display: inline-block !important;position: relative;}#sk-container-id-3 div.sk-text-repr-fallback {display: none;}</style><div id=\"sk-container-id-3\" class=\"sk-top-container\"><div class=\"sk-text-repr-fallback\"><pre>XGBClassifier(base_score=0.5, booster=&#x27;gbtree&#x27;, callbacks=None,\n              colsample_bylevel=1, colsample_bynode=1, colsample_bytree=1,\n              early_stopping_rounds=None, enable_categorical=False,\n              eval_metric=None, gamma=0, gpu_id=-1, grow_policy=&#x27;depthwise&#x27;,\n              importance_type=None, interaction_constraints=&#x27;&#x27;,\n              learning_rate=0.300000012, max_bin=256, max_cat_to_onehot=4,\n              max_delta_step=0, max_depth=6, max_leaves=0, min_child_weight=1,\n              missing=nan, monotone_constraints=&#x27;()&#x27;, n_estimators=100,\n              n_jobs=0, num_parallel_tree=1, predictor=&#x27;auto&#x27;, random_state=0,\n              reg_alpha=0, reg_lambda=1, ...)</pre><b>In a Jupyter environment, please rerun this cell to show the HTML representation or trust the notebook. <br />On GitHub, the HTML representation is unable to render, please try loading this page with nbviewer.org.</b></div><div class=\"sk-container\" hidden><div class=\"sk-item\"><div class=\"sk-estimator sk-toggleable\"><input class=\"sk-toggleable__control sk-hidden--visually\" id=\"sk-estimator-id-3\" type=\"checkbox\" checked><label for=\"sk-estimator-id-3\" class=\"sk-toggleable__label sk-toggleable__label-arrow\">XGBClassifier</label><div class=\"sk-toggleable__content\"><pre>XGBClassifier(base_score=0.5, booster=&#x27;gbtree&#x27;, callbacks=None,\n              colsample_bylevel=1, colsample_bynode=1, colsample_bytree=1,\n              early_stopping_rounds=None, enable_categorical=False,\n              eval_metric=None, gamma=0, gpu_id=-1, grow_policy=&#x27;depthwise&#x27;,\n              importance_type=None, interaction_constraints=&#x27;&#x27;,\n              learning_rate=0.300000012, max_bin=256, max_cat_to_onehot=4,\n              max_delta_step=0, max_depth=6, max_leaves=0, min_child_weight=1,\n              missing=nan, monotone_constraints=&#x27;()&#x27;, n_estimators=100,\n              n_jobs=0, num_parallel_tree=1, predictor=&#x27;auto&#x27;, random_state=0,\n              reg_alpha=0, reg_lambda=1, ...)</pre></div></div></div></div></div>"
     },
     "execution_count": 103,
     "metadata": {},
     "output_type": "execute_result"
    }
   ],
   "source": [
    "xgb_model.fit(X_train1, y_train1)"
   ],
   "metadata": {
    "collapsed": false,
    "pycharm": {
     "name": "#%%\n"
    }
   }
  },
  {
   "cell_type": "code",
   "execution_count": 104,
   "outputs": [],
   "source": [
    "y_pred_xg = xgb_model.predict(X_test1)"
   ],
   "metadata": {
    "collapsed": false,
    "pycharm": {
     "name": "#%%\n"
    }
   }
  },
  {
   "cell_type": "code",
   "execution_count": 105,
   "outputs": [],
   "source": [
    "y_pred_xg1 = xgb_model.predict(X_test_s)"
   ],
   "metadata": {
    "collapsed": false,
    "pycharm": {
     "name": "#%%\n"
    }
   }
  },
  {
   "cell_type": "code",
   "execution_count": 106,
   "outputs": [
    {
     "name": "stdout",
     "output_type": "stream",
     "text": [
      "              precision    recall  f1-score   support\n",
      "\n",
      "           0       0.87      0.81      0.84      2964\n",
      "           1       0.80      0.86      0.83      2596\n",
      "\n",
      "    accuracy                           0.83      5560\n",
      "   macro avg       0.83      0.83      0.83      5560\n",
      "weighted avg       0.83      0.83      0.83      5560\n",
      "\n"
     ]
    }
   ],
   "source": [
    "from sklearn.metrics import classification_report,confusion_matrix\n",
    "print(classification_report(y_pred_xg, y_test1))"
   ],
   "metadata": {
    "collapsed": false,
    "pycharm": {
     "name": "#%%\n"
    }
   }
  },
  {
   "cell_type": "code",
   "execution_count": 107,
   "outputs": [
    {
     "name": "stdout",
     "output_type": "stream",
     "text": [
      "              precision    recall  f1-score   support\n",
      "\n",
      "           0       0.00      0.00      0.00         0\n",
      "           1       1.00      0.03      0.06    165813\n",
      "\n",
      "    accuracy                           0.03    165813\n",
      "   macro avg       0.50      0.02      0.03    165813\n",
      "weighted avg       1.00      0.03      0.06    165813\n",
      "\n"
     ]
    }
   ],
   "source": [
    "print(classification_report(y_pred_xg1, y_test))"
   ],
   "metadata": {
    "collapsed": false,
    "pycharm": {
     "name": "#%%\n"
    }
   }
  },
  {
   "cell_type": "code",
   "execution_count": 108,
   "outputs": [],
   "source": [
    "from xgboost import cv\n",
    "\n",
    "params = {\"objective\":\"binary:logistic\",'colsample_bytree': 0.3,'learning_rate': 0.1,\n",
    "          'max_depth': 5, 'alpha': 10}\n",
    "\n",
    "xgb_cv = cv(dtrain=data_dmatrix, params=params, nfold=3,\n",
    "            num_boost_round=50, early_stopping_rounds=10, metrics=\"auc\", as_pandas=True, seed=123)"
   ],
   "metadata": {
    "collapsed": false,
    "pycharm": {
     "name": "#%%\n"
    }
   }
  },
  {
   "cell_type": "code",
   "execution_count": 109,
   "outputs": [
    {
     "data": {
      "text/plain": "    train-auc-mean  train-auc-std  test-auc-mean  test-auc-std\n0         0.614059       0.001218       0.611630      0.002783\n1         0.836875       0.160375       0.835893      0.161838\n2         0.961404       0.002520       0.959798      0.005557\n3         0.961300       0.002689       0.959582      0.006453\n4         0.963039       0.003322       0.961221      0.007639\n5         0.962596       0.003834       0.960707      0.008113\n6         0.961156       0.006929       0.959308      0.011386\n7         0.964495       0.002682       0.962823      0.006937\n8         0.966967       0.001721       0.966157      0.004939\n9         0.968500       0.002074       0.967368      0.005917\n10        0.968257       0.002407       0.967147      0.006216\n11        0.968953       0.001666       0.967887      0.005427\n12        0.969951       0.000550       0.968891      0.004238\n13        0.969914       0.000909       0.968818      0.004510\n14        0.970517       0.001393       0.969342      0.004865\n15        0.971179       0.001397       0.969987      0.004631\n16        0.971168       0.001952       0.969776      0.005002\n17        0.972031       0.001731       0.970554      0.005082\n18        0.973713       0.002099       0.972220      0.004961\n19        0.974073       0.001328       0.972636      0.003966\n20        0.973886       0.001571       0.972447      0.003884\n21        0.974377       0.001487       0.972830      0.004142\n22        0.974963       0.001285       0.973479      0.003364\n23        0.975750       0.001261       0.974297      0.003397\n24        0.975597       0.001686       0.974074      0.003382\n25        0.976001       0.001704       0.974722      0.002580\n26        0.976062       0.001453       0.974798      0.002806\n27        0.975503       0.001497       0.974242      0.002929\n28        0.975747       0.001839       0.974332      0.004135\n29        0.975743       0.002215       0.974311      0.004315\n30        0.976015       0.002142       0.974580      0.004426\n31        0.976237       0.002119       0.974769      0.003851\n32        0.976449       0.002142       0.975249      0.002769\n33        0.976630       0.002313       0.975433      0.003014\n34        0.976788       0.002078       0.975609      0.002964\n35        0.977329       0.002390       0.976366      0.002691\n36        0.977466       0.001881       0.976468      0.002911\n37        0.977850       0.001823       0.976694      0.002978\n38        0.978028       0.001861       0.976837      0.003376\n39        0.978018       0.001831       0.976782      0.003343\n40        0.979291       0.000936       0.977848      0.002960\n41        0.979294       0.000931       0.977832      0.002968\n42        0.979547       0.000932       0.978073      0.002804\n43        0.979671       0.001029       0.978233      0.002606\n44        0.979941       0.000920       0.978409      0.002684\n45        0.980561       0.000475       0.978882      0.002185\n46        0.980485       0.000536       0.978737      0.002050\n47        0.980783       0.000695       0.978992      0.001972\n48        0.980964       0.000779       0.979250      0.001866\n49        0.981191       0.000745       0.979551      0.001779",
      "text/html": "<div>\n<style scoped>\n    .dataframe tbody tr th:only-of-type {\n        vertical-align: middle;\n    }\n\n    .dataframe tbody tr th {\n        vertical-align: top;\n    }\n\n    .dataframe thead th {\n        text-align: right;\n    }\n</style>\n<table border=\"1\" class=\"dataframe\">\n  <thead>\n    <tr style=\"text-align: right;\">\n      <th></th>\n      <th>train-auc-mean</th>\n      <th>train-auc-std</th>\n      <th>test-auc-mean</th>\n      <th>test-auc-std</th>\n    </tr>\n  </thead>\n  <tbody>\n    <tr>\n      <th>0</th>\n      <td>0.614059</td>\n      <td>0.001218</td>\n      <td>0.611630</td>\n      <td>0.002783</td>\n    </tr>\n    <tr>\n      <th>1</th>\n      <td>0.836875</td>\n      <td>0.160375</td>\n      <td>0.835893</td>\n      <td>0.161838</td>\n    </tr>\n    <tr>\n      <th>2</th>\n      <td>0.961404</td>\n      <td>0.002520</td>\n      <td>0.959798</td>\n      <td>0.005557</td>\n    </tr>\n    <tr>\n      <th>3</th>\n      <td>0.961300</td>\n      <td>0.002689</td>\n      <td>0.959582</td>\n      <td>0.006453</td>\n    </tr>\n    <tr>\n      <th>4</th>\n      <td>0.963039</td>\n      <td>0.003322</td>\n      <td>0.961221</td>\n      <td>0.007639</td>\n    </tr>\n    <tr>\n      <th>5</th>\n      <td>0.962596</td>\n      <td>0.003834</td>\n      <td>0.960707</td>\n      <td>0.008113</td>\n    </tr>\n    <tr>\n      <th>6</th>\n      <td>0.961156</td>\n      <td>0.006929</td>\n      <td>0.959308</td>\n      <td>0.011386</td>\n    </tr>\n    <tr>\n      <th>7</th>\n      <td>0.964495</td>\n      <td>0.002682</td>\n      <td>0.962823</td>\n      <td>0.006937</td>\n    </tr>\n    <tr>\n      <th>8</th>\n      <td>0.966967</td>\n      <td>0.001721</td>\n      <td>0.966157</td>\n      <td>0.004939</td>\n    </tr>\n    <tr>\n      <th>9</th>\n      <td>0.968500</td>\n      <td>0.002074</td>\n      <td>0.967368</td>\n      <td>0.005917</td>\n    </tr>\n    <tr>\n      <th>10</th>\n      <td>0.968257</td>\n      <td>0.002407</td>\n      <td>0.967147</td>\n      <td>0.006216</td>\n    </tr>\n    <tr>\n      <th>11</th>\n      <td>0.968953</td>\n      <td>0.001666</td>\n      <td>0.967887</td>\n      <td>0.005427</td>\n    </tr>\n    <tr>\n      <th>12</th>\n      <td>0.969951</td>\n      <td>0.000550</td>\n      <td>0.968891</td>\n      <td>0.004238</td>\n    </tr>\n    <tr>\n      <th>13</th>\n      <td>0.969914</td>\n      <td>0.000909</td>\n      <td>0.968818</td>\n      <td>0.004510</td>\n    </tr>\n    <tr>\n      <th>14</th>\n      <td>0.970517</td>\n      <td>0.001393</td>\n      <td>0.969342</td>\n      <td>0.004865</td>\n    </tr>\n    <tr>\n      <th>15</th>\n      <td>0.971179</td>\n      <td>0.001397</td>\n      <td>0.969987</td>\n      <td>0.004631</td>\n    </tr>\n    <tr>\n      <th>16</th>\n      <td>0.971168</td>\n      <td>0.001952</td>\n      <td>0.969776</td>\n      <td>0.005002</td>\n    </tr>\n    <tr>\n      <th>17</th>\n      <td>0.972031</td>\n      <td>0.001731</td>\n      <td>0.970554</td>\n      <td>0.005082</td>\n    </tr>\n    <tr>\n      <th>18</th>\n      <td>0.973713</td>\n      <td>0.002099</td>\n      <td>0.972220</td>\n      <td>0.004961</td>\n    </tr>\n    <tr>\n      <th>19</th>\n      <td>0.974073</td>\n      <td>0.001328</td>\n      <td>0.972636</td>\n      <td>0.003966</td>\n    </tr>\n    <tr>\n      <th>20</th>\n      <td>0.973886</td>\n      <td>0.001571</td>\n      <td>0.972447</td>\n      <td>0.003884</td>\n    </tr>\n    <tr>\n      <th>21</th>\n      <td>0.974377</td>\n      <td>0.001487</td>\n      <td>0.972830</td>\n      <td>0.004142</td>\n    </tr>\n    <tr>\n      <th>22</th>\n      <td>0.974963</td>\n      <td>0.001285</td>\n      <td>0.973479</td>\n      <td>0.003364</td>\n    </tr>\n    <tr>\n      <th>23</th>\n      <td>0.975750</td>\n      <td>0.001261</td>\n      <td>0.974297</td>\n      <td>0.003397</td>\n    </tr>\n    <tr>\n      <th>24</th>\n      <td>0.975597</td>\n      <td>0.001686</td>\n      <td>0.974074</td>\n      <td>0.003382</td>\n    </tr>\n    <tr>\n      <th>25</th>\n      <td>0.976001</td>\n      <td>0.001704</td>\n      <td>0.974722</td>\n      <td>0.002580</td>\n    </tr>\n    <tr>\n      <th>26</th>\n      <td>0.976062</td>\n      <td>0.001453</td>\n      <td>0.974798</td>\n      <td>0.002806</td>\n    </tr>\n    <tr>\n      <th>27</th>\n      <td>0.975503</td>\n      <td>0.001497</td>\n      <td>0.974242</td>\n      <td>0.002929</td>\n    </tr>\n    <tr>\n      <th>28</th>\n      <td>0.975747</td>\n      <td>0.001839</td>\n      <td>0.974332</td>\n      <td>0.004135</td>\n    </tr>\n    <tr>\n      <th>29</th>\n      <td>0.975743</td>\n      <td>0.002215</td>\n      <td>0.974311</td>\n      <td>0.004315</td>\n    </tr>\n    <tr>\n      <th>30</th>\n      <td>0.976015</td>\n      <td>0.002142</td>\n      <td>0.974580</td>\n      <td>0.004426</td>\n    </tr>\n    <tr>\n      <th>31</th>\n      <td>0.976237</td>\n      <td>0.002119</td>\n      <td>0.974769</td>\n      <td>0.003851</td>\n    </tr>\n    <tr>\n      <th>32</th>\n      <td>0.976449</td>\n      <td>0.002142</td>\n      <td>0.975249</td>\n      <td>0.002769</td>\n    </tr>\n    <tr>\n      <th>33</th>\n      <td>0.976630</td>\n      <td>0.002313</td>\n      <td>0.975433</td>\n      <td>0.003014</td>\n    </tr>\n    <tr>\n      <th>34</th>\n      <td>0.976788</td>\n      <td>0.002078</td>\n      <td>0.975609</td>\n      <td>0.002964</td>\n    </tr>\n    <tr>\n      <th>35</th>\n      <td>0.977329</td>\n      <td>0.002390</td>\n      <td>0.976366</td>\n      <td>0.002691</td>\n    </tr>\n    <tr>\n      <th>36</th>\n      <td>0.977466</td>\n      <td>0.001881</td>\n      <td>0.976468</td>\n      <td>0.002911</td>\n    </tr>\n    <tr>\n      <th>37</th>\n      <td>0.977850</td>\n      <td>0.001823</td>\n      <td>0.976694</td>\n      <td>0.002978</td>\n    </tr>\n    <tr>\n      <th>38</th>\n      <td>0.978028</td>\n      <td>0.001861</td>\n      <td>0.976837</td>\n      <td>0.003376</td>\n    </tr>\n    <tr>\n      <th>39</th>\n      <td>0.978018</td>\n      <td>0.001831</td>\n      <td>0.976782</td>\n      <td>0.003343</td>\n    </tr>\n    <tr>\n      <th>40</th>\n      <td>0.979291</td>\n      <td>0.000936</td>\n      <td>0.977848</td>\n      <td>0.002960</td>\n    </tr>\n    <tr>\n      <th>41</th>\n      <td>0.979294</td>\n      <td>0.000931</td>\n      <td>0.977832</td>\n      <td>0.002968</td>\n    </tr>\n    <tr>\n      <th>42</th>\n      <td>0.979547</td>\n      <td>0.000932</td>\n      <td>0.978073</td>\n      <td>0.002804</td>\n    </tr>\n    <tr>\n      <th>43</th>\n      <td>0.979671</td>\n      <td>0.001029</td>\n      <td>0.978233</td>\n      <td>0.002606</td>\n    </tr>\n    <tr>\n      <th>44</th>\n      <td>0.979941</td>\n      <td>0.000920</td>\n      <td>0.978409</td>\n      <td>0.002684</td>\n    </tr>\n    <tr>\n      <th>45</th>\n      <td>0.980561</td>\n      <td>0.000475</td>\n      <td>0.978882</td>\n      <td>0.002185</td>\n    </tr>\n    <tr>\n      <th>46</th>\n      <td>0.980485</td>\n      <td>0.000536</td>\n      <td>0.978737</td>\n      <td>0.002050</td>\n    </tr>\n    <tr>\n      <th>47</th>\n      <td>0.980783</td>\n      <td>0.000695</td>\n      <td>0.978992</td>\n      <td>0.001972</td>\n    </tr>\n    <tr>\n      <th>48</th>\n      <td>0.980964</td>\n      <td>0.000779</td>\n      <td>0.979250</td>\n      <td>0.001866</td>\n    </tr>\n    <tr>\n      <th>49</th>\n      <td>0.981191</td>\n      <td>0.000745</td>\n      <td>0.979551</td>\n      <td>0.001779</td>\n    </tr>\n  </tbody>\n</table>\n</div>"
     },
     "execution_count": 109,
     "metadata": {},
     "output_type": "execute_result"
    }
   ],
   "source": [
    "xgb_cv"
   ],
   "metadata": {
    "collapsed": false,
    "pycharm": {
     "name": "#%%\n"
    }
   }
  },
  {
   "cell_type": "markdown",
   "source": [
    "Different Classifier try and Error"
   ],
   "metadata": {
    "collapsed": false,
    "pycharm": {
     "name": "#%% md\n"
    }
   }
  },
  {
   "cell_type": "code",
   "execution_count": 110,
   "outputs": [],
   "source": [
    "from sklearn.metrics import classification_report,confusion_matrix\n",
    "from sklearn.linear_model import LogisticRegression\n",
    "from sklearn.ensemble import RandomForestClassifier\n",
    "from sklearn.naive_bayes import GaussianNB\n",
    "from sklearn.neighbors import KNeighborsClassifier"
   ],
   "metadata": {
    "collapsed": false,
    "pycharm": {
     "name": "#%%\n"
    }
   }
  },
  {
   "cell_type": "code",
   "execution_count": 111,
   "outputs": [],
   "source": [
    "from sklearn.model_selection import KFold\n",
    "kf = KFold(n_splits=3)"
   ],
   "metadata": {
    "collapsed": false,
    "pycharm": {
     "name": "#%%\n"
    }
   }
  },
  {
   "cell_type": "code",
   "execution_count": 112,
   "outputs": [],
   "source": [
    "def get_score(model, X_train, X_test, y_train, y_test):\n",
    "    model.fit(X_train, y_train)\n",
    "    y_pred = model.predict(X_test)\n",
    "    print(classification_report(y_pred, y_test))\n",
    "\n",
    "    return model.score(X_test, y_test)"
   ],
   "metadata": {
    "collapsed": false,
    "pycharm": {
     "name": "#%%\n"
    }
   }
  },
  {
   "cell_type": "code",
   "execution_count": 113,
   "outputs": [],
   "source": [
    "scores_log = []\n",
    "scores_svm = []\n",
    "scores_rf = []\n",
    "scores_nb = []\n",
    "scores_desc = []\n",
    "scores_knn = []"
   ],
   "metadata": {
    "collapsed": false,
    "pycharm": {
     "name": "#%%\n"
    }
   }
  },
  {
   "cell_type": "code",
   "execution_count": 114,
   "outputs": [
    {
     "name": "stdout",
     "output_type": "stream",
     "text": [
      "Logistic Regression Scores:\n",
      " []\n",
      "              precision    recall  f1-score   support\n",
      "\n",
      "           0       0.88      0.99      0.93    142132\n",
      "           1       0.76      0.18      0.29     23681\n",
      "\n",
      "    accuracy                           0.87    165813\n",
      "   macro avg       0.82      0.58      0.61    165813\n",
      "weighted avg       0.86      0.87      0.84    165813\n",
      "\n",
      "[0.8742076917973862]\n"
     ]
    }
   ],
   "source": [
    "print(\"Logistic Regression Scores:\\n\", scores_log)\n",
    "scores_log.append(get_score(LogisticRegression(class_weight='balanced'),X_resampled, X_test_s, y_resampled, y_test ))\n",
    "print(scores_log)"
   ],
   "metadata": {
    "collapsed": false,
    "pycharm": {
     "name": "#%%\n"
    }
   }
  },
  {
   "cell_type": "code",
   "execution_count": 115,
   "outputs": [
    {
     "name": "stdout",
     "output_type": "stream",
     "text": [
      "Random Forest Scores:\n",
      " []\n",
      "              precision    recall  f1-score   support\n",
      "\n",
      "           0       0.99      0.98      0.99    161958\n",
      "           1       0.49      0.71      0.58      3855\n",
      "\n",
      "    accuracy                           0.98    165813\n",
      "   macro avg       0.74      0.84      0.78    165813\n",
      "weighted avg       0.98      0.98      0.98    165813\n",
      "\n",
      "[0.9763468485583157]\n"
     ]
    }
   ],
   "source": [
    "print(\"Random Forest Scores:\\n\", scores_rf)\n",
    "scores_rf.append(get_score(RandomForestClassifier(class_weight='balanced'),X_resampled, X_test_s, y_resampled, y_test ))\n",
    "print(scores_rf)"
   ],
   "metadata": {
    "collapsed": false,
    "pycharm": {
     "name": "#%%\n"
    }
   }
  },
  {
   "cell_type": "code",
   "execution_count": 116,
   "outputs": [
    {
     "name": "stdout",
     "output_type": "stream",
     "text": [
      "Naive Bayes Scores:\n",
      " []\n",
      "              precision    recall  f1-score   support\n",
      "\n",
      "           0       0.89      0.99      0.94    144933\n",
      "           1       0.73      0.19      0.31     20880\n",
      "\n",
      "    accuracy                           0.89    165813\n",
      "   macro avg       0.81      0.59      0.62    165813\n",
      "weighted avg       0.87      0.89      0.86    165813\n",
      "\n",
      "[0.8893995042608239]\n"
     ]
    }
   ],
   "source": [
    "print(\"Naive Bayes Scores:\\n\", scores_nb)\n",
    "scores_nb.append(get_score(GaussianNB(), X_resampled, X_test_s, y_resampled, y_test))\n",
    "print(scores_nb)"
   ],
   "metadata": {
    "collapsed": false,
    "pycharm": {
     "name": "#%%\n"
    }
   }
  },
  {
   "cell_type": "code",
   "execution_count": 117,
   "outputs": [
    {
     "name": "stdout",
     "output_type": "stream",
     "text": [
      "Decision Tree Scores:\n",
      " [0.8893995042608239]\n",
      "              precision    recall  f1-score   support\n",
      "\n",
      "           0       0.98      0.98      0.98    160192\n",
      "           1       0.41      0.40      0.41      5621\n",
      "\n",
      "    accuracy                           0.96    165813\n",
      "   macro avg       0.70      0.69      0.69    165813\n",
      "weighted avg       0.96      0.96      0.96    165813\n",
      "\n",
      "[0.9602564334521418]\n"
     ]
    }
   ],
   "source": [
    "print(\"Decision Tree Scores:\\n\", scores_nb)\n",
    "scores_desc.append(get_score(DecisionTreeClassifier(class_weight='balanced'),X_resampled, X_test_s, y_resampled, y_test))\n",
    "print(scores_desc)"
   ],
   "metadata": {
    "collapsed": false,
    "pycharm": {
     "name": "#%%\n"
    }
   }
  },
  {
   "cell_type": "code",
   "execution_count": 118,
   "outputs": [
    {
     "name": "stdout",
     "output_type": "stream",
     "text": [
      "Knn  Scores:\n",
      " [0.8893995042608239]\n",
      "              precision    recall  f1-score   support\n",
      "\n",
      "           0       0.95      0.99      0.97    154562\n",
      "           1       0.58      0.29      0.38     11251\n",
      "\n",
      "    accuracy                           0.94    165813\n",
      "   macro avg       0.77      0.64      0.68    165813\n",
      "weighted avg       0.93      0.94      0.93    165813\n",
      "\n",
      "[0.937761212932641]\n"
     ]
    }
   ],
   "source": [
    "print(\"Knn  Scores:\\n\", scores_nb)\n",
    "scores_knn.append(get_score(KNeighborsClassifier(), X_resampled, X_test_s, y_resampled, y_test))\n",
    "print(scores_knn)"
   ],
   "metadata": {
    "collapsed": false,
    "pycharm": {
     "name": "#%%\n"
    }
   }
  },
  {
   "cell_type": "markdown",
   "source": [
    "Random Forest Grid Search"
   ],
   "metadata": {
    "collapsed": false,
    "pycharm": {
     "name": "#%% md\n"
    }
   }
  },
  {
   "cell_type": "code",
   "execution_count": 122,
   "outputs": [],
   "source": [
    "rfc=RandomForestClassifier(random_state=42)"
   ],
   "metadata": {
    "collapsed": false,
    "pycharm": {
     "name": "#%%\n"
    }
   }
  },
  {
   "cell_type": "code",
   "execution_count": 123,
   "outputs": [],
   "source": [
    "param_grid = {\n",
    "    'n_estimators':[200,500],\n",
    "    'max_features':['auto', 'sqrt', 'log2'],\n",
    "    'max_depth':[4,5,6,7,8],\n",
    "    'criterion':['gini', 'entropy']\n",
    "}"
   ],
   "metadata": {
    "collapsed": false,
    "pycharm": {
     "name": "#%%\n"
    }
   }
  },
  {
   "cell_type": "code",
   "execution_count": null,
   "outputs": [],
   "source": [
    "from sklearn.model_selection import GridSearchCV\n",
    "\n",
    "CV_rfc = GridSearchCV(estimator=rfc, param_grid=param_grid, cv= 5)\n",
    "CV_rfc.fit(X_resampled, y_resampled)"
   ],
   "metadata": {
    "collapsed": false,
    "pycharm": {
     "name": "#%%\n",
     "is_executing": true
    }
   }
  },
  {
   "cell_type": "code",
   "execution_count": null,
   "outputs": [],
   "source": [
    "CV_rfc.best_params_"
   ],
   "metadata": {
    "collapsed": false,
    "pycharm": {
     "name": "#%%\n"
    }
   }
  },
  {
   "cell_type": "code",
   "execution_count": null,
   "outputs": [],
   "source": [
    "rfc1 = RandomForestClassifier(random_state=42, max_features='auto', n_estimators=200, max_depth=8, criterion='gini')"
   ],
   "metadata": {
    "collapsed": false,
    "pycharm": {
     "name": "#%%\n"
    }
   }
  },
  {
   "cell_type": "code",
   "execution_count": null,
   "outputs": [],
   "source": [
    "rfc1.fit(X_resampled, y_resampled)"
   ],
   "metadata": {
    "collapsed": false,
    "pycharm": {
     "name": "#%%\n"
    }
   }
  },
  {
   "cell_type": "code",
   "execution_count": null,
   "outputs": [],
   "source": [
    "y_pred_grid_rf=rfc1.predict(X_test_s)"
   ],
   "metadata": {
    "collapsed": false,
    "pycharm": {
     "name": "#%%\n"
    }
   }
  },
  {
   "cell_type": "code",
   "execution_count": null,
   "outputs": [],
   "source": [
    "print(classification_report(y_pred_grid_rf, y_test))"
   ],
   "metadata": {
    "collapsed": false,
    "pycharm": {
     "name": "#%%\n"
    }
   }
  },
  {
   "cell_type": "code",
   "execution_count": null,
   "outputs": [],
   "source": [],
   "metadata": {
    "collapsed": false,
    "pycharm": {
     "name": "#%%\n"
    }
   }
  }
 ],
 "metadata": {
  "kernelspec": {
   "display_name": "Python 3 (ipykernel)",
   "language": "python",
   "name": "python3"
  },
  "language_info": {
   "codemirror_mode": {
    "name": "ipython",
    "version": 3
   },
   "file_extension": ".py",
   "mimetype": "text/x-python",
   "name": "python",
   "nbconvert_exporter": "python",
   "pygments_lexer": "ipython3",
   "version": "3.9.12"
  }
 },
 "nbformat": 4,
 "nbformat_minor": 1
}